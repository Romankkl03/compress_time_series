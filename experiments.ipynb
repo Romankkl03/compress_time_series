{
 "cells": [
  {
   "cell_type": "markdown",
   "metadata": {},
   "source": [
    "## Libraries"
   ]
  },
  {
   "cell_type": "code",
   "execution_count": 1,
   "metadata": {},
   "outputs": [
    {
     "name": "stderr",
     "output_type": "stream",
     "text": [
      "2025-05-14 23:38:26.661219: I tensorflow/core/platform/cpu_feature_guard.cc:210] This TensorFlow binary is optimized to use available CPU instructions in performance-critical operations.\n",
      "To enable the following instructions: AVX2 FMA, in other operations, rebuild TensorFlow with the appropriate compiler flags.\n"
     ]
    }
   ],
   "source": [
    "import pandas as pd\n",
    "from matplotlib import pyplot as plt\n",
    "import warnings\n",
    "import matplotlib.pyplot as plt\n",
    "import pandas as pd\n",
    "warnings.filterwarnings(\"ignore\")\n",
    "from scripts.create_nab_dataset import create_nab_data\n",
    "from scripts.create_nuts_wind_data import create_nuts_data\n",
    "from sz.SZ3.tools.pysz.pysz import SZ\n",
    "from compress.sprintz_encode import compress_sprintz, decompress_sprintz, get_compress_info_sprintz\n",
    "from compress.bypass import spatial_clustering\n",
    "from compress.general_functions import get_errors, get_geo_dict, create_geo_plot\n",
    "from compress.xor_encode import xor_compress_df, get_compress_info_xor, decompress_xor_df\n",
    "from compress.lz4_encode import LZ4_compress_df, LZ4_decompress_df, get_compress_info_lz4\n",
    "from compress.spatial_lz4 import spatial_clustering_PCA_LZ4, spatial_lz4_decompress, get_compress_info_spatial_PCA_LZ4\n",
    "from compress.spatial_xor import spatial_clustering_xor, spatial_XOR_decompress, get_compress_info_spatial_xor\n",
    "from compress.spatial_sprintz import spatial_clustering_sprintz, spatial_sprintz_decompress, get_compress_info_spatial_sprintz\n",
    "from compress.sz3_encode import compress_sz3_df, decompress_sz3, get_compress_info_sz3, compress_sz3_all\n",
    "from compress.cnn_encode import compress_cnn_sz3, decomress_cnn_sz3, get_compress_info_cnn_sz3, compress_cnn_cluster"
   ]
  },
  {
   "cell_type": "markdown",
   "metadata": {},
   "source": [
    "## Params"
   ]
  },
  {
   "cell_type": "code",
   "execution_count": 2,
   "metadata": {},
   "outputs": [],
   "source": [
    "table_params = [{\n",
    "                'selector': 'caption',\n",
    "                'props': [\n",
    "                    ('color', 'Blue'),\n",
    "                    ('font-size', '16pt'),\n",
    "                    ('font-weight', 'bold'),\n",
    "                    ('text-align', 'center'),\n",
    "                    ('caption-side', 'top'),\n",
    "                    ('padding', '10px')\n",
    "                ]\n",
    "            },\n",
    "            {\n",
    "                'selector': 'th',\n",
    "                'props': [('font-size', '14pt')]\n",
    "            }]"
   ]
  },
  {
   "cell_type": "code",
   "execution_count": 3,
   "metadata": {},
   "outputs": [],
   "source": [
    "time_dict = {}\n",
    "mem_dict = {}"
   ]
  },
  {
   "cell_type": "markdown",
   "metadata": {},
   "source": [
    "## Data"
   ]
  },
  {
   "cell_type": "markdown",
   "metadata": {},
   "source": [
    "### Download dataset"
   ]
  },
  {
   "cell_type": "code",
   "execution_count": 4,
   "metadata": {},
   "outputs": [
    {
     "data": {
      "text/html": [
       "<div>\n",
       "<style scoped>\n",
       "    .dataframe tbody tr th:only-of-type {\n",
       "        vertical-align: middle;\n",
       "    }\n",
       "\n",
       "    .dataframe tbody tr th {\n",
       "        vertical-align: top;\n",
       "    }\n",
       "\n",
       "    .dataframe thead th {\n",
       "        text-align: right;\n",
       "    }\n",
       "</style>\n",
       "<table border=\"1\" class=\"dataframe\">\n",
       "  <thead>\n",
       "    <tr style=\"text-align: right;\">\n",
       "      <th></th>\n",
       "      <th>sensor_1</th>\n",
       "      <th>sensor_2</th>\n",
       "      <th>sensor_3</th>\n",
       "      <th>sensor_4</th>\n",
       "      <th>sensor_5</th>\n",
       "    </tr>\n",
       "  </thead>\n",
       "  <tbody>\n",
       "    <tr>\n",
       "      <th>280</th>\n",
       "      <td>86</td>\n",
       "      <td>82</td>\n",
       "      <td>81</td>\n",
       "      <td>76</td>\n",
       "      <td>96</td>\n",
       "    </tr>\n",
       "    <tr>\n",
       "      <th>2</th>\n",
       "      <td>86</td>\n",
       "      <td>93</td>\n",
       "      <td>69</td>\n",
       "      <td>88</td>\n",
       "      <td>71</td>\n",
       "    </tr>\n",
       "  </tbody>\n",
       "</table>\n",
       "</div>"
      ],
      "text/plain": [
       "     sensor_1  sensor_2  sensor_3  sensor_4  sensor_5\n",
       "280        86        82        81        76        96\n",
       "2          86        93        69        88        71"
      ]
     },
     "execution_count": 4,
     "metadata": {},
     "output_type": "execute_result"
    }
   ],
   "source": [
    "df_speed = create_nab_data()\n",
    "df_speed.sample(2)"
   ]
  },
  {
   "cell_type": "code",
   "execution_count": 14,
   "metadata": {},
   "outputs": [],
   "source": [
    "country = \"CZ\""
   ]
  },
  {
   "cell_type": "code",
   "execution_count": 15,
   "metadata": {},
   "outputs": [],
   "source": [
    "df_wind, wind_geo_dict= create_nuts_data(country=country)"
   ]
  },
  {
   "cell_type": "code",
   "execution_count": 16,
   "metadata": {},
   "outputs": [
    {
     "data": {
      "text/plain": [
       "{'sensor_0': ['sensor_0',\n",
       "  'sensor_2',\n",
       "  'sensor_1',\n",
       "  'sensor_6',\n",
       "  'sensor_4',\n",
       "  'sensor_3'],\n",
       " 'sensor_7': ['sensor_7', 'sensor_5']}"
      ]
     },
     "execution_count": 16,
     "metadata": {},
     "output_type": "execute_result"
    }
   ],
   "source": [
    "spatial_clustering(df_wind, wind_geo_dict, 0.9)"
   ]
  },
  {
   "cell_type": "code",
   "execution_count": 2,
   "metadata": {},
   "outputs": [
    {
     "data": {
      "image/png": "[encoded data removed]",
      "text/plain": [
       "<Figure size 800x600 with 1 Axes>"
      ]
     },
     "metadata": {},
     "output_type": "display_data"
    }
   ],
   "source": [
    "df_wind = pd.read_csv(\"/Users/roman/Desktop/диплом/final_repo/compress_time_series/data/PL_wind.csv\")\n",
    "with open('/Users/roman/Desktop/диплом/final_repo/compress_time_series/nuts_data/geo_dicts/geodict_PL.yaml', 'r') as file:\n",
    "    wind_geo_dict = yaml.safe_load(file)\n",
    "create_geo_plot(wind_geo_dict)"
   ]
  },
  {
   "cell_type": "code",
   "execution_count": 25,
   "metadata": {},
   "outputs": [
    {
     "data": {
      "text/html": [
       "<div>\n",
       "<style scoped>\n",
       "    .dataframe tbody tr th:only-of-type {\n",
       "        vertical-align: middle;\n",
       "    }\n",
       "\n",
       "    .dataframe tbody tr th {\n",
       "        vertical-align: top;\n",
       "    }\n",
       "\n",
       "    .dataframe thead th {\n",
       "        text-align: right;\n",
       "    }\n",
       "</style>\n",
       "<table border=\"1\" class=\"dataframe\">\n",
       "  <thead>\n",
       "    <tr style=\"text-align: right;\">\n",
       "      <th></th>\n",
       "      <th>sensor_0</th>\n",
       "      <th>sensor_1</th>\n",
       "      <th>sensor_2</th>\n",
       "      <th>sensor_3</th>\n",
       "      <th>sensor_4</th>\n",
       "      <th>sensor_5</th>\n",
       "      <th>sensor_6</th>\n",
       "      <th>sensor_7</th>\n",
       "      <th>sensor_8</th>\n",
       "      <th>sensor_9</th>\n",
       "    </tr>\n",
       "  </thead>\n",
       "  <tbody>\n",
       "    <tr>\n",
       "      <th>0</th>\n",
       "      <td>0.00000</td>\n",
       "      <td>0.00000</td>\n",
       "      <td>0.00000</td>\n",
       "      <td>0.00000</td>\n",
       "      <td>0.00000</td>\n",
       "      <td>0.00000</td>\n",
       "      <td>0.00000</td>\n",
       "      <td>0.00000</td>\n",
       "      <td>0.00000</td>\n",
       "      <td>0.00000</td>\n",
       "    </tr>\n",
       "    <tr>\n",
       "      <th>1</th>\n",
       "      <td>0.06962</td>\n",
       "      <td>0.07138</td>\n",
       "      <td>0.04796</td>\n",
       "      <td>0.11252</td>\n",
       "      <td>0.05728</td>\n",
       "      <td>0.07686</td>\n",
       "      <td>0.05632</td>\n",
       "      <td>0.07469</td>\n",
       "      <td>0.03566</td>\n",
       "      <td>0.06522</td>\n",
       "    </tr>\n",
       "    <tr>\n",
       "      <th>2</th>\n",
       "      <td>0.10733</td>\n",
       "      <td>0.19506</td>\n",
       "      <td>0.12553</td>\n",
       "      <td>0.25549</td>\n",
       "      <td>0.19520</td>\n",
       "      <td>0.12189</td>\n",
       "      <td>0.06159</td>\n",
       "      <td>0.31064</td>\n",
       "      <td>0.09881</td>\n",
       "      <td>0.10075</td>\n",
       "    </tr>\n",
       "    <tr>\n",
       "      <th>3</th>\n",
       "      <td>0.09444</td>\n",
       "      <td>0.14037</td>\n",
       "      <td>0.14486</td>\n",
       "      <td>0.31576</td>\n",
       "      <td>0.23952</td>\n",
       "      <td>0.12935</td>\n",
       "      <td>0.04471</td>\n",
       "      <td>0.33948</td>\n",
       "      <td>0.08219</td>\n",
       "      <td>0.08663</td>\n",
       "    </tr>\n",
       "    <tr>\n",
       "      <th>4</th>\n",
       "      <td>0.12580</td>\n",
       "      <td>0.18716</td>\n",
       "      <td>0.19604</td>\n",
       "      <td>0.36298</td>\n",
       "      <td>0.31140</td>\n",
       "      <td>0.16321</td>\n",
       "      <td>0.04709</td>\n",
       "      <td>0.43146</td>\n",
       "      <td>0.12101</td>\n",
       "      <td>0.11639</td>\n",
       "    </tr>\n",
       "    <tr>\n",
       "      <th>...</th>\n",
       "      <td>...</td>\n",
       "      <td>...</td>\n",
       "      <td>...</td>\n",
       "      <td>...</td>\n",
       "      <td>...</td>\n",
       "      <td>...</td>\n",
       "      <td>...</td>\n",
       "      <td>...</td>\n",
       "      <td>...</td>\n",
       "      <td>...</td>\n",
       "    </tr>\n",
       "    <tr>\n",
       "      <th>5366</th>\n",
       "      <td>0.06609</td>\n",
       "      <td>0.17061</td>\n",
       "      <td>0.25076</td>\n",
       "      <td>0.16414</td>\n",
       "      <td>0.38098</td>\n",
       "      <td>0.16567</td>\n",
       "      <td>0.06964</td>\n",
       "      <td>0.40356</td>\n",
       "      <td>0.30052</td>\n",
       "      <td>0.24612</td>\n",
       "    </tr>\n",
       "    <tr>\n",
       "      <th>5367</th>\n",
       "      <td>0.07632</td>\n",
       "      <td>0.20133</td>\n",
       "      <td>0.27852</td>\n",
       "      <td>0.10975</td>\n",
       "      <td>0.43838</td>\n",
       "      <td>0.10716</td>\n",
       "      <td>0.07526</td>\n",
       "      <td>0.36628</td>\n",
       "      <td>0.48596</td>\n",
       "      <td>0.21578</td>\n",
       "    </tr>\n",
       "    <tr>\n",
       "      <th>5368</th>\n",
       "      <td>0.08920</td>\n",
       "      <td>0.31771</td>\n",
       "      <td>0.42352</td>\n",
       "      <td>0.09497</td>\n",
       "      <td>0.49461</td>\n",
       "      <td>0.15705</td>\n",
       "      <td>0.06736</td>\n",
       "      <td>0.41356</td>\n",
       "      <td>0.42799</td>\n",
       "      <td>0.16867</td>\n",
       "    </tr>\n",
       "    <tr>\n",
       "      <th>5369</th>\n",
       "      <td>0.07758</td>\n",
       "      <td>0.39027</td>\n",
       "      <td>0.37400</td>\n",
       "      <td>0.14037</td>\n",
       "      <td>0.50364</td>\n",
       "      <td>0.10005</td>\n",
       "      <td>0.05671</td>\n",
       "      <td>0.44181</td>\n",
       "      <td>0.20345</td>\n",
       "      <td>0.10669</td>\n",
       "    </tr>\n",
       "    <tr>\n",
       "      <th>5370</th>\n",
       "      <td>0.04486</td>\n",
       "      <td>0.29388</td>\n",
       "      <td>0.15245</td>\n",
       "      <td>0.12093</td>\n",
       "      <td>0.36438</td>\n",
       "      <td>0.08322</td>\n",
       "      <td>0.05006</td>\n",
       "      <td>0.42344</td>\n",
       "      <td>0.13118</td>\n",
       "      <td>0.06090</td>\n",
       "    </tr>\n",
       "  </tbody>\n",
       "</table>\n",
       "<p>5371 rows × 10 columns</p>\n",
       "</div>"
      ],
      "text/plain": [
       "      sensor_0  sensor_1  sensor_2  sensor_3  sensor_4  sensor_5  sensor_6  \\\n",
       "0      0.00000   0.00000   0.00000   0.00000   0.00000   0.00000   0.00000   \n",
       "1      0.06962   0.07138   0.04796   0.11252   0.05728   0.07686   0.05632   \n",
       "2      0.10733   0.19506   0.12553   0.25549   0.19520   0.12189   0.06159   \n",
       "3      0.09444   0.14037   0.14486   0.31576   0.23952   0.12935   0.04471   \n",
       "4      0.12580   0.18716   0.19604   0.36298   0.31140   0.16321   0.04709   \n",
       "...        ...       ...       ...       ...       ...       ...       ...   \n",
       "5366   0.06609   0.17061   0.25076   0.16414   0.38098   0.16567   0.06964   \n",
       "5367   0.07632   0.20133   0.27852   0.10975   0.43838   0.10716   0.07526   \n",
       "5368   0.08920   0.31771   0.42352   0.09497   0.49461   0.15705   0.06736   \n",
       "5369   0.07758   0.39027   0.37400   0.14037   0.50364   0.10005   0.05671   \n",
       "5370   0.04486   0.29388   0.15245   0.12093   0.36438   0.08322   0.05006   \n",
       "\n",
       "      sensor_7  sensor_8  sensor_9  \n",
       "0      0.00000   0.00000   0.00000  \n",
       "1      0.07469   0.03566   0.06522  \n",
       "2      0.31064   0.09881   0.10075  \n",
       "3      0.33948   0.08219   0.08663  \n",
       "4      0.43146   0.12101   0.11639  \n",
       "...        ...       ...       ...  \n",
       "5366   0.40356   0.30052   0.24612  \n",
       "5367   0.36628   0.48596   0.21578  \n",
       "5368   0.41356   0.42799   0.16867  \n",
       "5369   0.44181   0.20345   0.10669  \n",
       "5370   0.42344   0.13118   0.06090  \n",
       "\n",
       "[5371 rows x 10 columns]"
      ]
     },
     "execution_count": 25,
     "metadata": {},
     "output_type": "execute_result"
    }
   ],
   "source": [
    "df_wind"
   ]
  },
  {
   "cell_type": "markdown",
   "metadata": {},
   "source": [
    "### Creating wind Dataset"
   ]
  },
  {
   "cell_type": "markdown",
   "metadata": {},
   "source": [
    "Возьмем данные о первых шести ветренных вышек."
   ]
  },
  {
   "cell_type": "code",
   "execution_count": null,
   "metadata": {},
   "outputs": [],
   "source": [
    "df_wind = df_wind_init[['AT', 'BE', 'BG', 'CH', 'CZ', 'DE']]\n",
    "df_wind = df_wind.head(10000)"
   ]
  },
  {
   "cell_type": "markdown",
   "metadata": {},
   "source": [
    "Видим, что данные ненулевые через определенные промежутки времени. Это связано с тем, что отсутствует непрерывность замеров данных. Оставим только те строки, где есть хотя бы одно ненулевое значение."
   ]
  },
  {
   "cell_type": "code",
   "execution_count": null,
   "metadata": {},
   "outputs": [],
   "source": [
    "df_wind = df_wind_init[['AT', 'BE', 'BG', 'CH', 'CZ', 'DE']]\n",
    "df_wind = df_wind.head(10000)\n",
    "df_wind = df_wind.loc[(\n",
    "    df_wind[['AT', 'BE', 'BG', 'CH', 'CZ', 'DE']] != 0).any(axis=1)].reset_index(drop=True)\n",
    "df_wind.columns = [f'sensor_{i}' for i in range(df_wind.shape[1])]\n",
    "df_wind.info()"
   ]
  },
  {
   "cell_type": "code",
   "execution_count": 84,
   "metadata": {},
   "outputs": [],
   "source": [
    "#df_wind.to_csv('data/wind_df.csv', index=False) # save test dataframe"
   ]
  },
  {
   "cell_type": "markdown",
   "metadata": {},
   "source": [
    "## Geo data"
   ]
  },
  {
   "cell_type": "markdown",
   "metadata": {},
   "source": [
    "### For NAB"
   ]
  },
  {
   "cell_type": "code",
   "execution_count": 14,
   "metadata": {},
   "outputs": [
    {
     "name": "stdout",
     "output_type": "stream",
     "text": [
      "sensor_0: [5.451348270088634, 1.7047174420658484]\n",
      "sensor_1: [2.2354050645555255, 2.949514252466155]\n",
      "sensor_2: [0.5211043017535166, 0.33879616762233744]\n",
      "sensor_3: [2.671678823552793, 4.665453458494551]\n",
      "sensor_4: [1.8181230272782525, 2.8155922206299904]\n"
     ]
    },
    {
     "data": {
      "image/png": "[encoded data removed]",
      "text/plain": [
       "<Figure size 800x600 with 1 Axes>"
      ]
     },
     "metadata": {},
     "output_type": "display_data"
    }
   ],
   "source": [
    "speed_geo_dict = get_geo_dict(df_speed)\n",
    "create_geo_plot(speed_geo_dict)"
   ]
  },
  {
   "cell_type": "markdown",
   "metadata": {},
   "source": [
    "### For wind"
   ]
  },
  {
   "cell_type": "code",
   "execution_count": 15,
   "metadata": {},
   "outputs": [],
   "source": [
    "# with open(GEO_PATH / 'wind_geo_dict.yaml', 'r') as file:\n",
    "#     wind_geo_dict = yaml.safe_load(file)\n",
    "# create_geo_plot(wind_geo_dict)"
   ]
  },
  {
   "cell_type": "code",
   "execution_count": 16,
   "metadata": {},
   "outputs": [],
   "source": [
    "# with open(\"/Users/roman/Desktop/диплом/final_repo/compress_time_series/geo_dicts/geodict_AT.yaml\", 'r') as file:\n",
    "#     wind_geo_dict = yaml.safe_load(file)"
   ]
  },
  {
   "cell_type": "code",
   "execution_count": 7,
   "metadata": {},
   "outputs": [
    {
     "data": {
      "image/png": "[encoded data removed]",
      "text/plain": [
       "<Figure size 800x600 with 1 Axes>"
      ]
     },
     "metadata": {},
     "output_type": "display_data"
    }
   ],
   "source": [
    "# wind_geo_dict = {column_mapping[key]: value for key, value in wind_geo_dict.items()}\n",
    "create_geo_plot(wind_geo_dict)"
   ]
  },
  {
   "cell_type": "markdown",
   "metadata": {},
   "source": [
    "## Data analisys"
   ]
  },
  {
   "cell_type": "markdown",
   "metadata": {},
   "source": [
    "NAB Dataset"
   ]
  },
  {
   "cell_type": "code",
   "execution_count": 18,
   "metadata": {},
   "outputs": [
    {
     "data": {
      "text/html": [
       "<div>\n",
       "<style scoped>\n",
       "    .dataframe tbody tr th:only-of-type {\n",
       "        vertical-align: middle;\n",
       "    }\n",
       "\n",
       "    .dataframe tbody tr th {\n",
       "        vertical-align: top;\n",
       "    }\n",
       "\n",
       "    .dataframe thead th {\n",
       "        text-align: right;\n",
       "    }\n",
       "</style>\n",
       "<table border=\"1\" class=\"dataframe\">\n",
       "  <thead>\n",
       "    <tr style=\"text-align: right;\">\n",
       "      <th></th>\n",
       "      <th>sensor_1</th>\n",
       "      <th>sensor_2</th>\n",
       "      <th>sensor_3</th>\n",
       "      <th>sensor_4</th>\n",
       "      <th>sensor_5</th>\n",
       "    </tr>\n",
       "  </thead>\n",
       "  <tbody>\n",
       "    <tr>\n",
       "      <th>count</th>\n",
       "      <td>500.000000</td>\n",
       "      <td>500.000000</td>\n",
       "      <td>500.000000</td>\n",
       "      <td>500.000000</td>\n",
       "      <td>500.000000</td>\n",
       "    </tr>\n",
       "    <tr>\n",
       "      <th>mean</th>\n",
       "      <td>82.126000</td>\n",
       "      <td>81.538000</td>\n",
       "      <td>81.862000</td>\n",
       "      <td>81.786000</td>\n",
       "      <td>82.222000</td>\n",
       "    </tr>\n",
       "    <tr>\n",
       "      <th>std</th>\n",
       "      <td>8.404963</td>\n",
       "      <td>9.247897</td>\n",
       "      <td>8.155488</td>\n",
       "      <td>8.913085</td>\n",
       "      <td>8.983659</td>\n",
       "    </tr>\n",
       "    <tr>\n",
       "      <th>min</th>\n",
       "      <td>43.000000</td>\n",
       "      <td>28.000000</td>\n",
       "      <td>53.000000</td>\n",
       "      <td>29.000000</td>\n",
       "      <td>20.000000</td>\n",
       "    </tr>\n",
       "    <tr>\n",
       "      <th>25%</th>\n",
       "      <td>77.000000</td>\n",
       "      <td>76.000000</td>\n",
       "      <td>77.000000</td>\n",
       "      <td>76.000000</td>\n",
       "      <td>77.000000</td>\n",
       "    </tr>\n",
       "    <tr>\n",
       "      <th>50%</th>\n",
       "      <td>83.000000</td>\n",
       "      <td>82.000000</td>\n",
       "      <td>82.000000</td>\n",
       "      <td>82.000000</td>\n",
       "      <td>83.000000</td>\n",
       "    </tr>\n",
       "    <tr>\n",
       "      <th>75%</th>\n",
       "      <td>87.000000</td>\n",
       "      <td>88.000000</td>\n",
       "      <td>87.000000</td>\n",
       "      <td>88.000000</td>\n",
       "      <td>88.000000</td>\n",
       "    </tr>\n",
       "    <tr>\n",
       "      <th>max</th>\n",
       "      <td>109.000000</td>\n",
       "      <td>103.000000</td>\n",
       "      <td>106.000000</td>\n",
       "      <td>106.000000</td>\n",
       "      <td>105.000000</td>\n",
       "    </tr>\n",
       "  </tbody>\n",
       "</table>\n",
       "</div>"
      ],
      "text/plain": [
       "         sensor_1    sensor_2    sensor_3    sensor_4    sensor_5\n",
       "count  500.000000  500.000000  500.000000  500.000000  500.000000\n",
       "mean    82.126000   81.538000   81.862000   81.786000   82.222000\n",
       "std      8.404963    9.247897    8.155488    8.913085    8.983659\n",
       "min     43.000000   28.000000   53.000000   29.000000   20.000000\n",
       "25%     77.000000   76.000000   77.000000   76.000000   77.000000\n",
       "50%     83.000000   82.000000   82.000000   82.000000   83.000000\n",
       "75%     87.000000   88.000000   87.000000   88.000000   88.000000\n",
       "max    109.000000  103.000000  106.000000  106.000000  105.000000"
      ]
     },
     "execution_count": 18,
     "metadata": {},
     "output_type": "execute_result"
    }
   ],
   "source": [
    "df_speed.describe()"
   ]
  },
  {
   "cell_type": "code",
   "execution_count": 19,
   "metadata": {},
   "outputs": [
    {
     "data": {
      "text/html": [
       "<style type=\"text/css\">\n",
       "#T_558b0 caption {\n",
       "  color: Blue;\n",
       "  font-size: 16pt;\n",
       "  font-weight: bold;\n",
       "  text-align: center;\n",
       "  caption-side: top;\n",
       "  padding: 10px;\n",
       "}\n",
       "#T_558b0 th {\n",
       "  font-size: 14pt;\n",
       "}\n",
       "#T_558b0_row0_col0, #T_558b0_row1_col1, #T_558b0_row2_col2, #T_558b0_row3_col3, #T_558b0_row4_col4 {\n",
       "  background-color: #b40426;\n",
       "  color: #f1f1f1;\n",
       "  font-size: 14pt;\n",
       "}\n",
       "#T_558b0_row0_col1, #T_558b0_row0_col3, #T_558b0_row0_col4, #T_558b0_row4_col0, #T_558b0_row4_col2 {\n",
       "  background-color: #3b4cc0;\n",
       "  color: #f1f1f1;\n",
       "  font-size: 14pt;\n",
       "}\n",
       "#T_558b0_row0_col2 {\n",
       "  background-color: #465ecf;\n",
       "  color: #f1f1f1;\n",
       "  font-size: 14pt;\n",
       "}\n",
       "#T_558b0_row1_col0 {\n",
       "  background-color: #5977e3;\n",
       "  color: #f1f1f1;\n",
       "  font-size: 14pt;\n",
       "}\n",
       "#T_558b0_row1_col2 {\n",
       "  background-color: #5f7fe8;\n",
       "  color: #f1f1f1;\n",
       "  font-size: 14pt;\n",
       "}\n",
       "#T_558b0_row1_col3 {\n",
       "  background-color: #5875e1;\n",
       "  color: #f1f1f1;\n",
       "  font-size: 14pt;\n",
       "}\n",
       "#T_558b0_row1_col4 {\n",
       "  background-color: #6788ee;\n",
       "  color: #f1f1f1;\n",
       "  font-size: 14pt;\n",
       "}\n",
       "#T_558b0_row2_col0 {\n",
       "  background-color: #485fd1;\n",
       "  color: #f1f1f1;\n",
       "  font-size: 14pt;\n",
       "}\n",
       "#T_558b0_row2_col1 {\n",
       "  background-color: #4358cb;\n",
       "  color: #f1f1f1;\n",
       "  font-size: 14pt;\n",
       "}\n",
       "#T_558b0_row2_col3 {\n",
       "  background-color: #81a4fb;\n",
       "  color: #f1f1f1;\n",
       "  font-size: 14pt;\n",
       "}\n",
       "#T_558b0_row2_col4 {\n",
       "  background-color: #3c4ec2;\n",
       "  color: #f1f1f1;\n",
       "  font-size: 14pt;\n",
       "}\n",
       "#T_558b0_row3_col0 {\n",
       "  background-color: #455cce;\n",
       "  color: #f1f1f1;\n",
       "  font-size: 14pt;\n",
       "}\n",
       "#T_558b0_row3_col1 {\n",
       "  background-color: #445acc;\n",
       "  color: #f1f1f1;\n",
       "  font-size: 14pt;\n",
       "}\n",
       "#T_558b0_row3_col2 {\n",
       "  background-color: #89acfd;\n",
       "  color: #000000;\n",
       "  font-size: 14pt;\n",
       "}\n",
       "#T_558b0_row3_col4 {\n",
       "  background-color: #84a7fc;\n",
       "  color: #f1f1f1;\n",
       "  font-size: 14pt;\n",
       "}\n",
       "#T_558b0_row4_col1 {\n",
       "  background-color: #4961d2;\n",
       "  color: #f1f1f1;\n",
       "  font-size: 14pt;\n",
       "}\n",
       "#T_558b0_row4_col3 {\n",
       "  background-color: #7a9df8;\n",
       "  color: #f1f1f1;\n",
       "  font-size: 14pt;\n",
       "}\n",
       "</style>\n",
       "<table id=\"T_558b0\">\n",
       "  <caption>Correlation matrix of NAB Dataset</caption>\n",
       "  <thead>\n",
       "    <tr>\n",
       "      <th class=\"blank level0\" >&nbsp;</th>\n",
       "      <th id=\"T_558b0_level0_col0\" class=\"col_heading level0 col0\" >sensor_1</th>\n",
       "      <th id=\"T_558b0_level0_col1\" class=\"col_heading level0 col1\" >sensor_2</th>\n",
       "      <th id=\"T_558b0_level0_col2\" class=\"col_heading level0 col2\" >sensor_3</th>\n",
       "      <th id=\"T_558b0_level0_col3\" class=\"col_heading level0 col3\" >sensor_4</th>\n",
       "      <th id=\"T_558b0_level0_col4\" class=\"col_heading level0 col4\" >sensor_5</th>\n",
       "    </tr>\n",
       "  </thead>\n",
       "  <tbody>\n",
       "    <tr>\n",
       "      <th id=\"T_558b0_level0_row0\" class=\"row_heading level0 row0\" >sensor_1</th>\n",
       "      <td id=\"T_558b0_row0_col0\" class=\"data row0 col0\" >1.000000</td>\n",
       "      <td id=\"T_558b0_row0_col1\" class=\"data row0 col1\" >0.216599</td>\n",
       "      <td id=\"T_558b0_row0_col2\" class=\"data row0 col2\" >0.170231</td>\n",
       "      <td id=\"T_558b0_row0_col3\" class=\"data row0 col3\" >0.160731</td>\n",
       "      <td id=\"T_558b0_row0_col4\" class=\"data row0 col4\" >0.129970</td>\n",
       "    </tr>\n",
       "    <tr>\n",
       "      <th id=\"T_558b0_level0_row1\" class=\"row_heading level0 row1\" >sensor_2</th>\n",
       "      <td id=\"T_558b0_row1_col0\" class=\"data row1 col0\" >0.216599</td>\n",
       "      <td id=\"T_558b0_row1_col1\" class=\"data row1 col1\" >1.000000</td>\n",
       "      <td id=\"T_558b0_row1_col2\" class=\"data row1 col2\" >0.238876</td>\n",
       "      <td id=\"T_558b0_row1_col3\" class=\"data row1 col3\" >0.241704</td>\n",
       "      <td id=\"T_558b0_row1_col4\" class=\"data row1 col4\" >0.254247</td>\n",
       "    </tr>\n",
       "    <tr>\n",
       "      <th id=\"T_558b0_level0_row2\" class=\"row_heading level0 row2\" >sensor_3</th>\n",
       "      <td id=\"T_558b0_row2_col0\" class=\"data row2 col0\" >0.170231</td>\n",
       "      <td id=\"T_558b0_row2_col1\" class=\"data row2 col1\" >0.238876</td>\n",
       "      <td id=\"T_558b0_row2_col2\" class=\"data row2 col2\" >1.000000</td>\n",
       "      <td id=\"T_558b0_row2_col3\" class=\"data row2 col3\" >0.342827</td>\n",
       "      <td id=\"T_558b0_row2_col4\" class=\"data row2 col4\" >0.135786</td>\n",
       "    </tr>\n",
       "    <tr>\n",
       "      <th id=\"T_558b0_level0_row3\" class=\"row_heading level0 row3\" >sensor_4</th>\n",
       "      <td id=\"T_558b0_row3_col0\" class=\"data row3 col0\" >0.160731</td>\n",
       "      <td id=\"T_558b0_row3_col1\" class=\"data row3 col1\" >0.241704</td>\n",
       "      <td id=\"T_558b0_row3_col2\" class=\"data row3 col2\" >0.342827</td>\n",
       "      <td id=\"T_558b0_row3_col3\" class=\"data row3 col3\" >1.000000</td>\n",
       "      <td id=\"T_558b0_row3_col4\" class=\"data row3 col4\" >0.326703</td>\n",
       "    </tr>\n",
       "    <tr>\n",
       "      <th id=\"T_558b0_level0_row4\" class=\"row_heading level0 row4\" >sensor_5</th>\n",
       "      <td id=\"T_558b0_row4_col0\" class=\"data row4 col0\" >0.129970</td>\n",
       "      <td id=\"T_558b0_row4_col1\" class=\"data row4 col1\" >0.254247</td>\n",
       "      <td id=\"T_558b0_row4_col2\" class=\"data row4 col2\" >0.135786</td>\n",
       "      <td id=\"T_558b0_row4_col3\" class=\"data row4 col3\" >0.326703</td>\n",
       "      <td id=\"T_558b0_row4_col4\" class=\"data row4 col4\" >1.000000</td>\n",
       "    </tr>\n",
       "  </tbody>\n",
       "</table>\n"
      ],
      "text/plain": [
       "<pandas.io.formats.style.Styler at 0x7fc3692d8700>"
      ]
     },
     "metadata": {},
     "output_type": "display_data"
    }
   ],
   "source": [
    "corr_wind = df_speed.corr()\n",
    "styled_corr = corr_wind.style.set_caption(\"Correlation matrix of NAB Dataset\") \\\n",
    "                                  .background_gradient(cmap='coolwarm') \\\n",
    "                                  .set_properties(**{'font-size': '14pt'}) \\\n",
    "                                  .set_table_styles(table_params)\n",
    "display(styled_corr)"
   ]
  },
  {
   "cell_type": "markdown",
   "metadata": {},
   "source": [
    "Для датасета NAB явно видно, что столбцы не коррелируют. Рассмотрим датасет Emhires."
   ]
  },
  {
   "cell_type": "code",
   "execution_count": 20,
   "metadata": {},
   "outputs": [
    {
     "data": {
      "text/html": [
       "<div>\n",
       "<style scoped>\n",
       "    .dataframe tbody tr th:only-of-type {\n",
       "        vertical-align: middle;\n",
       "    }\n",
       "\n",
       "    .dataframe tbody tr th {\n",
       "        vertical-align: top;\n",
       "    }\n",
       "\n",
       "    .dataframe thead th {\n",
       "        text-align: right;\n",
       "    }\n",
       "</style>\n",
       "<table border=\"1\" class=\"dataframe\">\n",
       "  <thead>\n",
       "    <tr style=\"text-align: right;\">\n",
       "      <th></th>\n",
       "      <th>sensor_0</th>\n",
       "      <th>sensor_1</th>\n",
       "      <th>sensor_2</th>\n",
       "      <th>sensor_3</th>\n",
       "      <th>sensor_4</th>\n",
       "      <th>sensor_5</th>\n",
       "      <th>sensor_6</th>\n",
       "      <th>sensor_7</th>\n",
       "      <th>sensor_8</th>\n",
       "    </tr>\n",
       "  </thead>\n",
       "  <tbody>\n",
       "    <tr>\n",
       "      <th>count</th>\n",
       "      <td>5371.000000</td>\n",
       "      <td>5371.000000</td>\n",
       "      <td>5371.000000</td>\n",
       "      <td>5371.000000</td>\n",
       "      <td>5371.000000</td>\n",
       "      <td>5371.000000</td>\n",
       "      <td>5371.000000</td>\n",
       "      <td>5371.000000</td>\n",
       "      <td>5371.000000</td>\n",
       "    </tr>\n",
       "    <tr>\n",
       "      <th>mean</th>\n",
       "      <td>0.265716</td>\n",
       "      <td>0.267080</td>\n",
       "      <td>0.247389</td>\n",
       "      <td>0.253213</td>\n",
       "      <td>0.230925</td>\n",
       "      <td>0.244525</td>\n",
       "      <td>0.243961</td>\n",
       "      <td>0.276073</td>\n",
       "      <td>0.259227</td>\n",
       "    </tr>\n",
       "    <tr>\n",
       "      <th>std</th>\n",
       "      <td>0.235079</td>\n",
       "      <td>0.213836</td>\n",
       "      <td>0.202249</td>\n",
       "      <td>0.217297</td>\n",
       "      <td>0.210958</td>\n",
       "      <td>0.217217</td>\n",
       "      <td>0.205805</td>\n",
       "      <td>0.221870</td>\n",
       "      <td>0.243024</td>\n",
       "    </tr>\n",
       "    <tr>\n",
       "      <th>min</th>\n",
       "      <td>0.000000</td>\n",
       "      <td>0.000000</td>\n",
       "      <td>0.000000</td>\n",
       "      <td>0.000000</td>\n",
       "      <td>0.000000</td>\n",
       "      <td>0.000000</td>\n",
       "      <td>0.000000</td>\n",
       "      <td>0.000000</td>\n",
       "      <td>0.000000</td>\n",
       "    </tr>\n",
       "    <tr>\n",
       "      <th>25%</th>\n",
       "      <td>0.062530</td>\n",
       "      <td>0.081885</td>\n",
       "      <td>0.081005</td>\n",
       "      <td>0.070430</td>\n",
       "      <td>0.059225</td>\n",
       "      <td>0.062395</td>\n",
       "      <td>0.072910</td>\n",
       "      <td>0.082700</td>\n",
       "      <td>0.053590</td>\n",
       "    </tr>\n",
       "    <tr>\n",
       "      <th>50%</th>\n",
       "      <td>0.193040</td>\n",
       "      <td>0.220700</td>\n",
       "      <td>0.198660</td>\n",
       "      <td>0.194500</td>\n",
       "      <td>0.166260</td>\n",
       "      <td>0.181300</td>\n",
       "      <td>0.189010</td>\n",
       "      <td>0.226820</td>\n",
       "      <td>0.175640</td>\n",
       "    </tr>\n",
       "    <tr>\n",
       "      <th>75%</th>\n",
       "      <td>0.432655</td>\n",
       "      <td>0.412725</td>\n",
       "      <td>0.371660</td>\n",
       "      <td>0.394085</td>\n",
       "      <td>0.352675</td>\n",
       "      <td>0.387110</td>\n",
       "      <td>0.377465</td>\n",
       "      <td>0.433580</td>\n",
       "      <td>0.427095</td>\n",
       "    </tr>\n",
       "    <tr>\n",
       "      <th>max</th>\n",
       "      <td>0.885610</td>\n",
       "      <td>0.899280</td>\n",
       "      <td>0.852360</td>\n",
       "      <td>0.877830</td>\n",
       "      <td>0.846630</td>\n",
       "      <td>0.860740</td>\n",
       "      <td>0.842230</td>\n",
       "      <td>0.887110</td>\n",
       "      <td>0.889540</td>\n",
       "    </tr>\n",
       "  </tbody>\n",
       "</table>\n",
       "</div>"
      ],
      "text/plain": [
       "          sensor_0     sensor_1     sensor_2     sensor_3     sensor_4  \\\n",
       "count  5371.000000  5371.000000  5371.000000  5371.000000  5371.000000   \n",
       "mean      0.265716     0.267080     0.247389     0.253213     0.230925   \n",
       "std       0.235079     0.213836     0.202249     0.217297     0.210958   \n",
       "min       0.000000     0.000000     0.000000     0.000000     0.000000   \n",
       "25%       0.062530     0.081885     0.081005     0.070430     0.059225   \n",
       "50%       0.193040     0.220700     0.198660     0.194500     0.166260   \n",
       "75%       0.432655     0.412725     0.371660     0.394085     0.352675   \n",
       "max       0.885610     0.899280     0.852360     0.877830     0.846630   \n",
       "\n",
       "          sensor_5     sensor_6     sensor_7     sensor_8  \n",
       "count  5371.000000  5371.000000  5371.000000  5371.000000  \n",
       "mean      0.244525     0.243961     0.276073     0.259227  \n",
       "std       0.217217     0.205805     0.221870     0.243024  \n",
       "min       0.000000     0.000000     0.000000     0.000000  \n",
       "25%       0.062395     0.072910     0.082700     0.053590  \n",
       "50%       0.181300     0.189010     0.226820     0.175640  \n",
       "75%       0.387110     0.377465     0.433580     0.427095  \n",
       "max       0.860740     0.842230     0.887110     0.889540  "
      ]
     },
     "execution_count": 20,
     "metadata": {},
     "output_type": "execute_result"
    }
   ],
   "source": [
    "df_wind.describe()"
   ]
  },
  {
   "cell_type": "code",
   "execution_count": 20,
   "metadata": {},
   "outputs": [
    {
     "data": {
      "text/html": [
       "<style type=\"text/css\">\n",
       "#T_c3fc2 caption {\n",
       "  color: Blue;\n",
       "  font-size: 16pt;\n",
       "  font-weight: bold;\n",
       "  text-align: center;\n",
       "  caption-side: top;\n",
       "  padding: 10px;\n",
       "}\n",
       "#T_c3fc2 th {\n",
       "  font-size: 14pt;\n",
       "}\n",
       "#T_c3fc2_row0_col0, #T_c3fc2_row1_col1, #T_c3fc2_row2_col2, #T_c3fc2_row3_col3, #T_c3fc2_row4_col4, #T_c3fc2_row5_col5, #T_c3fc2_row6_col6, #T_c3fc2_row7_col7 {\n",
       "  background-color: #b40426;\n",
       "  color: #f1f1f1;\n",
       "  font-size: 14pt;\n",
       "}\n",
       "#T_c3fc2_row0_col1 {\n",
       "  background-color: #f7b79b;\n",
       "  color: #000000;\n",
       "  font-size: 14pt;\n",
       "}\n",
       "#T_c3fc2_row0_col2 {\n",
       "  background-color: #e36c55;\n",
       "  color: #f1f1f1;\n",
       "  font-size: 14pt;\n",
       "}\n",
       "#T_c3fc2_row0_col3 {\n",
       "  background-color: #bcd2f7;\n",
       "  color: #000000;\n",
       "  font-size: 14pt;\n",
       "}\n",
       "#T_c3fc2_row0_col4, #T_c3fc2_row4_col6 {\n",
       "  background-color: #dfdbd9;\n",
       "  color: #000000;\n",
       "  font-size: 14pt;\n",
       "}\n",
       "#T_c3fc2_row0_col5 {\n",
       "  background-color: #82a6fb;\n",
       "  color: #f1f1f1;\n",
       "  font-size: 14pt;\n",
       "}\n",
       "#T_c3fc2_row0_col6 {\n",
       "  background-color: #f7a889;\n",
       "  color: #000000;\n",
       "  font-size: 14pt;\n",
       "}\n",
       "#T_c3fc2_row0_col7 {\n",
       "  background-color: #8db0fe;\n",
       "  color: #000000;\n",
       "  font-size: 14pt;\n",
       "}\n",
       "#T_c3fc2_row1_col0 {\n",
       "  background-color: #f7ba9f;\n",
       "  color: #000000;\n",
       "  font-size: 14pt;\n",
       "}\n",
       "#T_c3fc2_row1_col2 {\n",
       "  background-color: #e1dad6;\n",
       "  color: #000000;\n",
       "  font-size: 14pt;\n",
       "}\n",
       "#T_c3fc2_row1_col3 {\n",
       "  background-color: #aac7fd;\n",
       "  color: #000000;\n",
       "  font-size: 14pt;\n",
       "}\n",
       "#T_c3fc2_row1_col4 {\n",
       "  background-color: #4b64d5;\n",
       "  color: #f1f1f1;\n",
       "  font-size: 14pt;\n",
       "}\n",
       "#T_c3fc2_row1_col5 {\n",
       "  background-color: #779af7;\n",
       "  color: #f1f1f1;\n",
       "  font-size: 14pt;\n",
       "}\n",
       "#T_c3fc2_row1_col6 {\n",
       "  background-color: #eed0c0;\n",
       "  color: #000000;\n",
       "  font-size: 14pt;\n",
       "}\n",
       "#T_c3fc2_row1_col7 {\n",
       "  background-color: #6b8df0;\n",
       "  color: #f1f1f1;\n",
       "  font-size: 14pt;\n",
       "}\n",
       "#T_c3fc2_row2_col0 {\n",
       "  background-color: #ec7f63;\n",
       "  color: #f1f1f1;\n",
       "  font-size: 14pt;\n",
       "}\n",
       "#T_c3fc2_row2_col1, #T_c3fc2_row3_col1 {\n",
       "  background-color: #c6d6f1;\n",
       "  color: #000000;\n",
       "  font-size: 14pt;\n",
       "}\n",
       "#T_c3fc2_row2_col3 {\n",
       "  background-color: #536edd;\n",
       "  color: #f1f1f1;\n",
       "  font-size: 14pt;\n",
       "}\n",
       "#T_c3fc2_row2_col4, #T_c3fc2_row7_col2, #T_c3fc2_row7_col6 {\n",
       "  background-color: #7295f4;\n",
       "  color: #f1f1f1;\n",
       "  font-size: 14pt;\n",
       "}\n",
       "#T_c3fc2_row2_col5, #T_c3fc2_row2_col7 {\n",
       "  background-color: #4257c9;\n",
       "  color: #f1f1f1;\n",
       "  font-size: 14pt;\n",
       "}\n",
       "#T_c3fc2_row2_col6 {\n",
       "  background-color: #e8d6cc;\n",
       "  color: #000000;\n",
       "  font-size: 14pt;\n",
       "}\n",
       "#T_c3fc2_row3_col0 {\n",
       "  background-color: #cfdaea;\n",
       "  color: #000000;\n",
       "  font-size: 14pt;\n",
       "}\n",
       "#T_c3fc2_row3_col2 {\n",
       "  background-color: #abc8fd;\n",
       "  color: #000000;\n",
       "  font-size: 14pt;\n",
       "}\n",
       "#T_c3fc2_row3_col4 {\n",
       "  background-color: #b6cefa;\n",
       "  color: #000000;\n",
       "  font-size: 14pt;\n",
       "}\n",
       "#T_c3fc2_row3_col5 {\n",
       "  background-color: #d1dae9;\n",
       "  color: #000000;\n",
       "  font-size: 14pt;\n",
       "}\n",
       "#T_c3fc2_row3_col6 {\n",
       "  background-color: #9ebeff;\n",
       "  color: #000000;\n",
       "  font-size: 14pt;\n",
       "}\n",
       "#T_c3fc2_row3_col7 {\n",
       "  background-color: #f7b396;\n",
       "  color: #000000;\n",
       "  font-size: 14pt;\n",
       "}\n",
       "#T_c3fc2_row4_col0 {\n",
       "  background-color: #f6bea4;\n",
       "  color: #000000;\n",
       "  font-size: 14pt;\n",
       "}\n",
       "#T_c3fc2_row4_col1 {\n",
       "  background-color: #afcafc;\n",
       "  color: #000000;\n",
       "  font-size: 14pt;\n",
       "}\n",
       "#T_c3fc2_row4_col2 {\n",
       "  background-color: #e3d9d3;\n",
       "  color: #000000;\n",
       "  font-size: 14pt;\n",
       "}\n",
       "#T_c3fc2_row4_col3 {\n",
       "  background-color: #dbdcde;\n",
       "  color: #000000;\n",
       "  font-size: 14pt;\n",
       "}\n",
       "#T_c3fc2_row4_col5 {\n",
       "  background-color: #ccd9ed;\n",
       "  color: #000000;\n",
       "  font-size: 14pt;\n",
       "}\n",
       "#T_c3fc2_row4_col7 {\n",
       "  background-color: #ead4c8;\n",
       "  color: #000000;\n",
       "  font-size: 14pt;\n",
       "}\n",
       "#T_c3fc2_row5_col0, #T_c3fc2_row5_col1, #T_c3fc2_row5_col2, #T_c3fc2_row5_col4, #T_c3fc2_row5_col6, #T_c3fc2_row6_col3, #T_c3fc2_row6_col5, #T_c3fc2_row6_col7 {\n",
       "  background-color: #3b4cc0;\n",
       "  color: #f1f1f1;\n",
       "  font-size: 14pt;\n",
       "}\n",
       "#T_c3fc2_row5_col3 {\n",
       "  background-color: #84a7fc;\n",
       "  color: #f1f1f1;\n",
       "  font-size: 14pt;\n",
       "}\n",
       "#T_c3fc2_row5_col7 {\n",
       "  background-color: #f59c7d;\n",
       "  color: #000000;\n",
       "  font-size: 14pt;\n",
       "}\n",
       "#T_c3fc2_row6_col0 {\n",
       "  background-color: #f5c2aa;\n",
       "  color: #000000;\n",
       "  font-size: 14pt;\n",
       "}\n",
       "#T_c3fc2_row6_col1 {\n",
       "  background-color: #d6dce4;\n",
       "  color: #000000;\n",
       "  font-size: 14pt;\n",
       "}\n",
       "#T_c3fc2_row6_col2 {\n",
       "  background-color: #e5d8d1;\n",
       "  color: #000000;\n",
       "  font-size: 14pt;\n",
       "}\n",
       "#T_c3fc2_row6_col4 {\n",
       "  background-color: #6282ea;\n",
       "  color: #f1f1f1;\n",
       "  font-size: 14pt;\n",
       "}\n",
       "#T_c3fc2_row7_col0 {\n",
       "  background-color: #7ea1fa;\n",
       "  color: #f1f1f1;\n",
       "  font-size: 14pt;\n",
       "}\n",
       "#T_c3fc2_row7_col1 {\n",
       "  background-color: #6687ed;\n",
       "  color: #f1f1f1;\n",
       "  font-size: 14pt;\n",
       "}\n",
       "#T_c3fc2_row7_col3 {\n",
       "  background-color: #f5c4ac;\n",
       "  color: #000000;\n",
       "  font-size: 14pt;\n",
       "}\n",
       "#T_c3fc2_row7_col4 {\n",
       "  background-color: #aec9fc;\n",
       "  color: #000000;\n",
       "  font-size: 14pt;\n",
       "}\n",
       "#T_c3fc2_row7_col5 {\n",
       "  background-color: #f08a6c;\n",
       "  color: #f1f1f1;\n",
       "  font-size: 14pt;\n",
       "}\n",
       "</style>\n",
       "<table id=\"T_c3fc2\">\n",
       "  <caption>Correlation matrix of Emhires Dataset</caption>\n",
       "  <thead>\n",
       "    <tr>\n",
       "      <th class=\"blank level0\" >&nbsp;</th>\n",
       "      <th id=\"T_c3fc2_level0_col0\" class=\"col_heading level0 col0\" >sensor_0</th>\n",
       "      <th id=\"T_c3fc2_level0_col1\" class=\"col_heading level0 col1\" >sensor_1</th>\n",
       "      <th id=\"T_c3fc2_level0_col2\" class=\"col_heading level0 col2\" >sensor_2</th>\n",
       "      <th id=\"T_c3fc2_level0_col3\" class=\"col_heading level0 col3\" >sensor_3</th>\n",
       "      <th id=\"T_c3fc2_level0_col4\" class=\"col_heading level0 col4\" >sensor_4</th>\n",
       "      <th id=\"T_c3fc2_level0_col5\" class=\"col_heading level0 col5\" >sensor_5</th>\n",
       "      <th id=\"T_c3fc2_level0_col6\" class=\"col_heading level0 col6\" >sensor_6</th>\n",
       "      <th id=\"T_c3fc2_level0_col7\" class=\"col_heading level0 col7\" >sensor_7</th>\n",
       "    </tr>\n",
       "  </thead>\n",
       "  <tbody>\n",
       "    <tr>\n",
       "      <th id=\"T_c3fc2_level0_row0\" class=\"row_heading level0 row0\" >sensor_0</th>\n",
       "      <td id=\"T_c3fc2_row0_col0\" class=\"data row0 col0\" >1.000000</td>\n",
       "      <td id=\"T_c3fc2_row0_col1\" class=\"data row0 col1\" >0.947092</td>\n",
       "      <td id=\"T_c3fc2_row0_col2\" class=\"data row0 col2\" >0.970650</td>\n",
       "      <td id=\"T_c3fc2_row0_col3\" class=\"data row0 col3\" >0.914669</td>\n",
       "      <td id=\"T_c3fc2_row0_col4\" class=\"data row0 col4\" >0.945220</td>\n",
       "      <td id=\"T_c3fc2_row0_col5\" class=\"data row0 col5\" >0.844699</td>\n",
       "      <td id=\"T_c3fc2_row0_col6\" class=\"data row0 col6\" >0.942943</td>\n",
       "      <td id=\"T_c3fc2_row0_col7\" class=\"data row0 col7\" >0.877107</td>\n",
       "    </tr>\n",
       "    <tr>\n",
       "      <th id=\"T_c3fc2_level0_row1\" class=\"row_heading level0 row1\" >sensor_1</th>\n",
       "      <td id=\"T_c3fc2_row1_col0\" class=\"data row1 col0\" >0.947092</td>\n",
       "      <td id=\"T_c3fc2_row1_col1\" class=\"data row1 col1\" >1.000000</td>\n",
       "      <td id=\"T_c3fc2_row1_col2\" class=\"data row1 col2\" >0.906447</td>\n",
       "      <td id=\"T_c3fc2_row1_col3\" class=\"data row1 col3\" >0.906855</td>\n",
       "      <td id=\"T_c3fc2_row1_col4\" class=\"data row1 col4\" >0.894900</td>\n",
       "      <td id=\"T_c3fc2_row1_col5\" class=\"data row1 col5\" >0.838885</td>\n",
       "      <td id=\"T_c3fc2_row1_col6\" class=\"data row1 col6\" >0.915576</td>\n",
       "      <td id=\"T_c3fc2_row1_col7\" class=\"data row1 col7\" >0.861167</td>\n",
       "    </tr>\n",
       "    <tr>\n",
       "      <th id=\"T_c3fc2_level0_row2\" class=\"row_heading level0 row2\" >sensor_2</th>\n",
       "      <td id=\"T_c3fc2_row2_col0\" class=\"data row2 col0\" >0.970650</td>\n",
       "      <td id=\"T_c3fc2_row2_col1\" class=\"data row2 col1\" >0.906447</td>\n",
       "      <td id=\"T_c3fc2_row2_col2\" class=\"data row2 col2\" >1.000000</td>\n",
       "      <td id=\"T_c3fc2_row2_col3\" class=\"data row2 col3\" >0.871721</td>\n",
       "      <td id=\"T_c3fc2_row2_col4\" class=\"data row2 col4\" >0.907614</td>\n",
       "      <td id=\"T_c3fc2_row2_col5\" class=\"data row2 col5\" >0.805719</td>\n",
       "      <td id=\"T_c3fc2_row2_col6\" class=\"data row2 col6\" >0.909532</td>\n",
       "      <td id=\"T_c3fc2_row2_col7\" class=\"data row2 col7\" >0.839774</td>\n",
       "    </tr>\n",
       "    <tr>\n",
       "      <th id=\"T_c3fc2_level0_row3\" class=\"row_heading level0 row3\" >sensor_3</th>\n",
       "      <td id=\"T_c3fc2_row3_col0\" class=\"data row3 col0\" >0.914669</td>\n",
       "      <td id=\"T_c3fc2_row3_col1\" class=\"data row3 col1\" >0.906855</td>\n",
       "      <td id=\"T_c3fc2_row3_col2\" class=\"data row3 col2\" >0.871721</td>\n",
       "      <td id=\"T_c3fc2_row3_col3\" class=\"data row3 col3\" >1.000000</td>\n",
       "      <td id=\"T_c3fc2_row3_col4\" class=\"data row3 col4\" >0.929427</td>\n",
       "      <td id=\"T_c3fc2_row3_col5\" class=\"data row3 col5\" >0.891841</td>\n",
       "      <td id=\"T_c3fc2_row3_col6\" class=\"data row3 col6\" >0.860315</td>\n",
       "      <td id=\"T_c3fc2_row3_col7\" class=\"data row3 col7\" >0.947725</td>\n",
       "    </tr>\n",
       "    <tr>\n",
       "      <th id=\"T_c3fc2_level0_row4\" class=\"row_heading level0 row4\" >sensor_4</th>\n",
       "      <td id=\"T_c3fc2_row4_col0\" class=\"data row4 col0\" >0.945220</td>\n",
       "      <td id=\"T_c3fc2_row4_col1\" class=\"data row4 col1\" >0.894900</td>\n",
       "      <td id=\"T_c3fc2_row4_col2\" class=\"data row4 col2\" >0.907614</td>\n",
       "      <td id=\"T_c3fc2_row4_col3\" class=\"data row4 col3\" >0.929427</td>\n",
       "      <td id=\"T_c3fc2_row4_col4\" class=\"data row4 col4\" >1.000000</td>\n",
       "      <td id=\"T_c3fc2_row4_col5\" class=\"data row4 col5\" >0.888410</td>\n",
       "      <td id=\"T_c3fc2_row4_col6\" class=\"data row4 col6\" >0.902604</td>\n",
       "      <td id=\"T_c3fc2_row4_col7\" class=\"data row4 col7\" >0.926815</td>\n",
       "    </tr>\n",
       "    <tr>\n",
       "      <th id=\"T_c3fc2_level0_row5\" class=\"row_heading level0 row5\" >sensor_5</th>\n",
       "      <td id=\"T_c3fc2_row5_col0\" class=\"data row5 col0\" >0.844699</td>\n",
       "      <td id=\"T_c3fc2_row5_col1\" class=\"data row5 col1\" >0.838885</td>\n",
       "      <td id=\"T_c3fc2_row5_col2\" class=\"data row5 col2\" >0.805719</td>\n",
       "      <td id=\"T_c3fc2_row5_col3\" class=\"data row5 col3\" >0.891841</td>\n",
       "      <td id=\"T_c3fc2_row5_col4\" class=\"data row5 col4\" >0.888410</td>\n",
       "      <td id=\"T_c3fc2_row5_col5\" class=\"data row5 col5\" >1.000000</td>\n",
       "      <td id=\"T_c3fc2_row5_col6\" class=\"data row5 col6\" >0.800930</td>\n",
       "      <td id=\"T_c3fc2_row5_col7\" class=\"data row5 col7\" >0.957938</td>\n",
       "    </tr>\n",
       "    <tr>\n",
       "      <th id=\"T_c3fc2_level0_row6\" class=\"row_heading level0 row6\" >sensor_6</th>\n",
       "      <td id=\"T_c3fc2_row6_col0\" class=\"data row6 col0\" >0.942943</td>\n",
       "      <td id=\"T_c3fc2_row6_col1\" class=\"data row6 col1\" >0.915576</td>\n",
       "      <td id=\"T_c3fc2_row6_col2\" class=\"data row6 col2\" >0.909532</td>\n",
       "      <td id=\"T_c3fc2_row6_col3\" class=\"data row6 col3\" >0.860315</td>\n",
       "      <td id=\"T_c3fc2_row6_col4\" class=\"data row6 col4\" >0.902604</td>\n",
       "      <td id=\"T_c3fc2_row6_col5\" class=\"data row6 col5\" >0.800930</td>\n",
       "      <td id=\"T_c3fc2_row6_col6\" class=\"data row6 col6\" >1.000000</td>\n",
       "      <td id=\"T_c3fc2_row6_col7\" class=\"data row6 col7\" >0.835641</td>\n",
       "    </tr>\n",
       "    <tr>\n",
       "      <th id=\"T_c3fc2_level0_row7\" class=\"row_heading level0 row7\" >sensor_7</th>\n",
       "      <td id=\"T_c3fc2_row7_col0\" class=\"data row7 col0\" >0.877107</td>\n",
       "      <td id=\"T_c3fc2_row7_col1\" class=\"data row7 col1\" >0.861167</td>\n",
       "      <td id=\"T_c3fc2_row7_col2\" class=\"data row7 col2\" >0.839774</td>\n",
       "      <td id=\"T_c3fc2_row7_col3\" class=\"data row7 col3\" >0.947725</td>\n",
       "      <td id=\"T_c3fc2_row7_col4\" class=\"data row7 col4\" >0.926815</td>\n",
       "      <td id=\"T_c3fc2_row7_col5\" class=\"data row7 col5\" >0.957938</td>\n",
       "      <td id=\"T_c3fc2_row7_col6\" class=\"data row7 col6\" >0.835641</td>\n",
       "      <td id=\"T_c3fc2_row7_col7\" class=\"data row7 col7\" >1.000000</td>\n",
       "    </tr>\n",
       "  </tbody>\n",
       "</table>\n"
      ],
      "text/plain": [
       "<pandas.io.formats.style.Styler at 0x7fe345a19100>"
      ]
     },
     "metadata": {},
     "output_type": "display_data"
    }
   ],
   "source": [
    "corr_wind = df_wind.corr()\n",
    "styled_corr_wind = corr_wind.style.set_caption(\"Correlation matrix of Emhires Dataset\") \\\n",
    "                                  .background_gradient(cmap='coolwarm') \\\n",
    "                                  .set_properties(**{'font-size': '14pt'}) \\\n",
    "                                  .set_table_styles(table_params)\n",
    "\n",
    "# Отображение матрицы корреляции\n",
    "display(styled_corr_wind)"
   ]
  },
  {
   "cell_type": "code",
   "execution_count": 22,
   "metadata": {},
   "outputs": [
    {
     "data": {
      "image/png": "[encoded data removed]",
      "text/plain": [
       "<Figure size 1000x500 with 1 Axes>"
      ]
     },
     "metadata": {},
     "output_type": "display_data"
    }
   ],
   "source": [
    "rolling_mean = df_wind.sensor_0.rolling(window=64).mean()\n",
    "\n",
    "plt.figure(figsize=(10,5))\n",
    "plt.plot(df_wind.sensor_0.values, label=\"Оригинальный ряд\", alpha=0.5)\n",
    "plt.plot(rolling_mean, label=\"Скользящее среднее (window=20)\", linewidth=2)\n",
    "plt.legend()\n",
    "plt.show()"
   ]
  },
  {
   "cell_type": "markdown",
   "metadata": {},
   "source": [
    "Проверка на кластеризацию обходом."
   ]
  },
  {
   "cell_type": "code",
   "execution_count": 23,
   "metadata": {},
   "outputs": [],
   "source": [
    "# df_wind = df_wind.drop('sensor_3', axis=1)\n"
   ]
  },
  {
   "cell_type": "code",
   "execution_count": 24,
   "metadata": {},
   "outputs": [],
   "source": [
    "# wind_geo_dict = {'sensor_0': [4811443.447812709, 2735881.8286318835],\n",
    "#  'sensor_1': [4747661.491811581, 2811955.513262155],\n",
    "#  'sensor_2': [4794553.595084494, 2808800.3912897566],\n",
    "#  'sensor_4': [4700355.9007669855, 2696835.3360548764],\n",
    "#  'sensor_5': [4616056.5232700575, 2788264.2776017035],\n",
    "#  'sensor_6': [4553948.223125471, 2702041.9954760773],\n",
    "#  'sensor_7': [4434859.487515252, 2677011.4190844786],\n",
    "#  'sensor_8': [4312985.411272273, 2680861.6217874517]}"
   ]
  },
  {
   "cell_type": "code",
   "execution_count": 25,
   "metadata": {},
   "outputs": [],
   "source": [
    "# wind_geo_dict = {'sensor_0': [4811443.447812709, 2735881.8286318835],\n",
    "#     'sensor_2': [4747661.491811581, 2811955.513262155],\n",
    "#     'sensor_8': [4794553.595084494, 2808800.3912897566],\n",
    "#     'sensor_1': [4620361.293102544, 2637005.7297918326],\n",
    "#     'sensor_5': [4700355.9007669855, 2696835.3360548764],\n",
    "#     'sensor_4': [4553948.223125471, 2702041.9954760773],\n",
    "#     'sensor_6': [4434859.487515252, 2677011.4190844786],\n",
    "#     'sensor_7': [4312985.411272273, 2680861.6217874517]}"
   ]
  },
  {
   "cell_type": "code",
   "execution_count": 26,
   "metadata": {},
   "outputs": [
    {
     "name": "stdout",
     "output_type": "stream",
     "text": [
      "<class 'pandas.core.frame.DataFrame'>\n",
      "RangeIndex: 5371 entries, 0 to 5370\n",
      "Data columns (total 9 columns):\n",
      " #   Column    Non-Null Count  Dtype  \n",
      "---  ------    --------------  -----  \n",
      " 0   sensor_0  5371 non-null   float64\n",
      " 1   sensor_1  5371 non-null   float64\n",
      " 2   sensor_2  5371 non-null   float64\n",
      " 3   sensor_3  5371 non-null   float64\n",
      " 4   sensor_4  5371 non-null   float64\n",
      " 5   sensor_5  5371 non-null   float64\n",
      " 6   sensor_6  5371 non-null   float64\n",
      " 7   sensor_7  5371 non-null   float64\n",
      " 8   sensor_8  5371 non-null   float64\n",
      "dtypes: float64(9)\n",
      "memory usage: 377.8 KB\n"
     ]
    }
   ],
   "source": [
    "df_wind.info()"
   ]
  },
  {
   "cell_type": "code",
   "execution_count": 13,
   "metadata": {},
   "outputs": [
    {
     "data": {
      "text/plain": [
       "{'sensor_0': ['sensor_0',\n",
       "  'sensor_2',\n",
       "  'sensor_1',\n",
       "  'sensor_6',\n",
       "  'sensor_4',\n",
       "  'sensor_3'],\n",
       " 'sensor_7': ['sensor_7', 'sensor_5']}"
      ]
     },
     "execution_count": 13,
     "metadata": {},
     "output_type": "execute_result"
    }
   ],
   "source": [
    "spatial_clustering(df_wind, wind_geo_dict, 0.9)"
   ]
  },
  {
   "cell_type": "markdown",
   "metadata": {},
   "source": [
    "## Sprintz"
   ]
  },
  {
   "cell_type": "code",
   "execution_count": 28,
   "metadata": {},
   "outputs": [],
   "source": [
    "speed_sprintz_res = compress_sprintz(df=df_speed, chunk_size=8)"
   ]
  },
  {
   "cell_type": "code",
   "execution_count": 29,
   "metadata": {},
   "outputs": [
    {
     "name": "stdout",
     "output_type": "stream",
     "text": [
      "Данные совпадают после декодирования: True\n"
     ]
    }
   ],
   "source": [
    "# Check for equals decodind and original data\n",
    "decode_res = decompress_sprintz(speed_sprintz_res, num_cols = 5, chunk_size=7)\n",
    "decode_res.columns = df_speed.columns\n",
    "print('Данные совпадают после декодирования:', df_speed.equals(decode_res))"
   ]
  },
  {
   "cell_type": "code",
   "execution_count": null,
   "metadata": {},
   "outputs": [
    {
     "name": "stdout",
     "output_type": "stream",
     "text": [
      "Размер исходных данных: 2179 байт \n",
      "\n",
      "Размер сжатых данных: 1973 байт \n",
      "\n",
      "Коэффициент сжатия: 1.104\n"
     ]
    }
   ],
   "source": [
    "comp = get_compress_info_sprintz(df_speed, speed_sprintz_res)"
   ]
  },
  {
   "cell_type": "code",
   "execution_count": 31,
   "metadata": {},
   "outputs": [],
   "source": [
    "# #Рассмотрим количество используемой оперативной памяти и среднее время сжатия\n",
    "# print('Compress: \\n')\n",
    "# baseline = memory_usage(-1, interval=0.1, timeout=1)[0]\n",
    "# mem_usage = memory_usage(lambda: compress_sprintz(df=df_speed, chunk_size=8), interval=0.0001)\n",
    "# mem_dict['sprintz_enc'] = max(mem_usage) - baseline\n",
    "# time_dict['sprintz_enc'] = %timeit -o compress_sprintz(df=df_speed, chunk_size=8)\n",
    "# print('\\n')\n",
    "# #Рассмотрим количество используемой оперативной памяти и среднее время декодирования\n",
    "# print('Decompress: \\n')\n",
    "# baseline = memory_usage(-1, interval=0.1, timeout=1)[0]\n",
    "# mem_usage = memory_usage(lambda: decompress_sprintz(speed_sprintz_res, num_cols = 5, chunk_size=7), interval=0.0001)\n",
    "# mem_dict['sprintz_dec'] = max(mem_usage) - baseline\n",
    "# time_dict['sprintz_dec'] = %timeit -o decompress_sprintz(speed_sprintz_res, num_cols = 5, chunk_size=7)"
   ]
  },
  {
   "cell_type": "markdown",
   "metadata": {},
   "source": [
    "## XOR"
   ]
  },
  {
   "cell_type": "code",
   "execution_count": 8,
   "metadata": {},
   "outputs": [
    {
     "name": "stdout",
     "output_type": "stream",
     "text": [
      "Данные совпадают после декодирования: True\n"
     ]
    }
   ],
   "source": [
    "compressed_df = xor_compress_df(df_wind)\n",
    "decompressed_df = decompress_xor_df(compressed_df)\n",
    "decompressed_df.columns = [f'sensor_{i}' for i in range(df_wind.shape[1])]\n",
    "print('Данные совпадают после декодирования:', decompressed_df.equals(df_wind))"
   ]
  },
  {
   "cell_type": "code",
   "execution_count": 9,
   "metadata": {},
   "outputs": [
    {
     "name": "stdout",
     "output_type": "stream",
     "text": [
      "Размер исходных данных: 429680 байт \n",
      "\n",
      "Размер сжатых XOR данных: 425357 байт \n",
      "\n",
      "Коэффициент сжатия: 1.01\n"
     ]
    }
   ],
   "source": [
    "comp = get_compress_info_xor(df_wind, compressed_df)"
   ]
  },
  {
   "cell_type": "code",
   "execution_count": 10,
   "metadata": {},
   "outputs": [],
   "source": [
    "# #Рассмотрим количество используемой оперативной памяти и среднее время сжатия\n",
    "# print('Compress: \\n')\n",
    "# time_dict['xor_enc'] = %timeit -o xor_compress_df(df_wind)\n",
    "# print('\\n')\n",
    "# baseline = memory_usage(-1, interval=0.1, timeout=1)[0]\n",
    "# mem_usage = memory_usage(lambda: xor_compress_df(df_wind), interval=0.0001)\n",
    "# mem_dict['xor_enc'] = max(mem_usage) - baseline\n",
    "# #Рассмотрим количество используемой оперативной памяти и среднее время декодирования\n",
    "# print('Decompress: \\n')\n",
    "# time_dict['xor_dec'] = %timeit -o decompress_xor_df(compressed_df)\n",
    "# baseline = memory_usage(-1, interval=0.1, timeout=1)[0]\n",
    "# mem_usage = memory_usage(lambda: decompress_xor_df(compressed_df), interval=0.0001)\n",
    "# mem_dict['xor_dec'] = max(mem_usage) - baseline"
   ]
  },
  {
   "cell_type": "markdown",
   "metadata": {},
   "source": [
    "## LZ4"
   ]
  },
  {
   "cell_type": "code",
   "execution_count": 26,
   "metadata": {},
   "outputs": [],
   "source": [
    "compressed_df = LZ4_compress_df(df_wind)"
   ]
  },
  {
   "cell_type": "code",
   "execution_count": 27,
   "metadata": {},
   "outputs": [
    {
     "name": "stdout",
     "output_type": "stream",
     "text": [
      "Данные совпадают после декодирования: True\n"
     ]
    }
   ],
   "source": [
    "decompressed_df = LZ4_decompress_df(compressed_df)\n",
    "print('Данные совпадают после декодирования:', decompressed_df.equals(df_wind))"
   ]
  },
  {
   "cell_type": "code",
   "execution_count": 28,
   "metadata": {},
   "outputs": [
    {
     "name": "stdout",
     "output_type": "stream",
     "text": [
      "Размер исходных данных: 429680 байт \n",
      "\n",
      "Размер сжатых данных: 309404 байт \n",
      "\n",
      "Коэффициент сжатия: 1.389\n"
     ]
    }
   ],
   "source": [
    "comp = get_compress_info_lz4(df_wind, compressed_df)"
   ]
  },
  {
   "cell_type": "code",
   "execution_count": 14,
   "metadata": {},
   "outputs": [],
   "source": [
    "# #Рассмотрим количество используемой оперативной памяти и среднее время сжатия\n",
    "# print('Compress: \\n')\n",
    "# baseline = memory_usage(-1, interval=0.1, timeout=1)[0]\n",
    "# mem_usage = memory_usage(lambda: LZ4_compress_df(df_wind), interval=0.00001)\n",
    "# mem_dict['LZ4_enc'] = max(mem_usage) - baseline\n",
    "# time_dict['LZ4_enc'] = %timeit -o LZ4_compress_df(df_wind)\n",
    "# print('\\n')\n",
    "# #Рассмотрим количество используемой оперативной памяти и среднее время декодирования\n",
    "# print('Decompress: \\n')\n",
    "# baseline = memory_usage(-1, interval=0.1, timeout=1)[0]\n",
    "# mem_usage = memory_usage(lambda: LZ4_decompress_df(compressed_df), interval=0.00001)\n",
    "# mem_dict['LZ4_dec'] = max(mem_usage) - baseline\n",
    "# time_dict['LZ4_dec'] = %timeit -o LZ4_decompress_df(compressed_df)"
   ]
  },
  {
   "cell_type": "markdown",
   "metadata": {},
   "source": [
    "## Spatial + XOR"
   ]
  },
  {
   "cell_type": "code",
   "execution_count": 29,
   "metadata": {},
   "outputs": [],
   "source": [
    "df = df_wind.round(15).copy()"
   ]
  },
  {
   "cell_type": "code",
   "execution_count": 30,
   "metadata": {},
   "outputs": [
    {
     "name": "stdout",
     "output_type": "stream",
     "text": [
      "Check for decode: True\n"
     ]
    }
   ],
   "source": [
    "res = spatial_clustering_xor(df, wind_geo_dict, 0.87)\n",
    "decompressed_df = spatial_XOR_decompress(res)\n",
    "print('Check for decode:', decompressed_df.equals(df))"
   ]
  },
  {
   "cell_type": "code",
   "execution_count": 31,
   "metadata": {},
   "outputs": [
    {
     "name": "stdout",
     "output_type": "stream",
     "text": [
      "Размер исходных данных: 429680 байт \n",
      "\n",
      "Размер сжатых данных: 435240.75 байт \n",
      "\n",
      "Коэффициент сжатия: 0.987\n"
     ]
    }
   ],
   "source": [
    "comp = get_compress_info_spatial_xor(df, res)"
   ]
  },
  {
   "cell_type": "code",
   "execution_count": 32,
   "metadata": {},
   "outputs": [],
   "source": [
    "# #Рассмотрим количество используемой оперативной памяти и среднее время сжатия\n",
    "# print('Compress: \\n')\n",
    "# baseline = memory_usage(-1, interval=0.1, timeout=1)[0]\n",
    "# mem_usage = memory_usage(lambda: spatial_clustering_xor(df, wind_geo_dict), interval=0.00001)\n",
    "# mem_dict['spatial_xor_enc'] = max(mem_usage) - baseline\n",
    "# time_dict['spatial_xor_enc'] = %timeit -o spatial_clustering_xor(df, wind_geo_dict)\n",
    "# print('\\n')\n",
    "# #Рассмотрим количество используемой оперативной памяти и среднее время декодирования\n",
    "# print('Decompress: \\n')\n",
    "# baseline = memory_usage(-1, interval=0.1, timeout=1)[0]\n",
    "# mem_usage = memory_usage(lambda: spatial_XOR_decompress(res), interval=0.00001)\n",
    "# mem_dict['spatial_xor_dec'] = max(mem_usage) - baseline\n",
    "# time_dict['spatial_xor_dec'] = %timeit -o spatial_XOR_decompress(res)"
   ]
  },
  {
   "cell_type": "markdown",
   "metadata": {},
   "source": [
    "## Spatial + Sprintz"
   ]
  },
  {
   "cell_type": "code",
   "execution_count": 33,
   "metadata": {},
   "outputs": [],
   "source": [
    "df = df_wind*100\n",
    "df = df.astype(int)"
   ]
  },
  {
   "cell_type": "code",
   "execution_count": 34,
   "metadata": {},
   "outputs": [],
   "source": [
    "res = spatial_clustering_sprintz(df.copy(), wind_geo_dict, 0.87)"
   ]
  },
  {
   "cell_type": "code",
   "execution_count": 35,
   "metadata": {},
   "outputs": [
    {
     "ename": "KeyError",
     "evalue": "'sensor_1'",
     "output_type": "error",
     "traceback": [
      "\u001b[0;31m---------------------------------------------------------------------------\u001b[0m",
      "\u001b[0;31mKeyError\u001b[0m                                  Traceback (most recent call last)",
      "Cell \u001b[0;32mIn[35], line 3\u001b[0m\n\u001b[1;32m      1\u001b[0m clust_dict \u001b[38;5;241m=\u001b[39m spatial_clustering(\n\u001b[1;32m      2\u001b[0m     df, wind_geo_dict, \u001b[38;5;241m0.87\u001b[39m)\n\u001b[0;32m----> 3\u001b[0m decode_res \u001b[38;5;241m=\u001b[39m \u001b[43mspatial_sprintz_decompress\u001b[49m\u001b[43m(\u001b[49m\u001b[43mres\u001b[49m\u001b[43m,\u001b[49m\n\u001b[1;32m      4\u001b[0m \u001b[43m                                        \u001b[49m\u001b[43mclust_dict\u001b[49m\u001b[43m)\u001b[49m\n\u001b[1;32m      5\u001b[0m \u001b[38;5;28mprint\u001b[39m(\u001b[38;5;124m'\u001b[39m\u001b[38;5;124mДанные совпадают после декодирования:\u001b[39m\u001b[38;5;124m'\u001b[39m, df\u001b[38;5;241m.\u001b[39mequals(decode_res))\n",
      "File \u001b[0;32m~/Desktop/диплом/final_repo/compress_time_series/compress/spatial_sprintz.py:61\u001b[0m, in \u001b[0;36mspatial_sprintz_decompress\u001b[0;34m(enc_dict, clust_dict)\u001b[0m\n\u001b[1;32m     59\u001b[0m res \u001b[38;5;241m=\u001b[39m pd\u001b[38;5;241m.\u001b[39mDataFrame()\n\u001b[1;32m     60\u001b[0m \u001b[38;5;28;01mfor\u001b[39;00m key \u001b[38;5;129;01min\u001b[39;00m enc_dict\u001b[38;5;241m.\u001b[39mkeys():\n\u001b[0;32m---> 61\u001b[0m     \u001b[38;5;28;01mif\u001b[39;00m \u001b[38;5;28mlen\u001b[39m(\u001b[43mclust_dict\u001b[49m\u001b[43m[\u001b[49m\u001b[43mkey\u001b[49m\u001b[43m]\u001b[49m) \u001b[38;5;241m==\u001b[39m \u001b[38;5;241m1\u001b[39m:\n\u001b[1;32m     62\u001b[0m         res_lz\u001b[38;5;241m.\u001b[39mappend(lz4_decode(enc_dict[key][\u001b[38;5;241m0\u001b[39m]))\n\u001b[1;32m     63\u001b[0m         cols_lz\u001b[38;5;241m.\u001b[39mappend(key)\n",
      "\u001b[0;31mKeyError\u001b[0m: 'sensor_1'"
     ]
    }
   ],
   "source": [
    "clust_dict = spatial_clustering(\n",
    "    df, wind_geo_dict, 0.87)\n",
    "decode_res = spatial_sprintz_decompress(res,\n",
    "                                        clust_dict)\n",
    "print('Данные совпадают после декодирования:', df.equals(decode_res))"
   ]
  },
  {
   "cell_type": "code",
   "execution_count": null,
   "metadata": {},
   "outputs": [
    {
     "data": {
      "text/html": [
       "<div>\n",
       "<style scoped>\n",
       "    .dataframe tbody tr th:only-of-type {\n",
       "        vertical-align: middle;\n",
       "    }\n",
       "\n",
       "    .dataframe tbody tr th {\n",
       "        vertical-align: top;\n",
       "    }\n",
       "\n",
       "    .dataframe thead th {\n",
       "        text-align: right;\n",
       "    }\n",
       "</style>\n",
       "<table border=\"1\" class=\"dataframe\">\n",
       "  <thead>\n",
       "    <tr style=\"text-align: right;\">\n",
       "      <th></th>\n",
       "      <th>sensor_0</th>\n",
       "      <th>sensor_1</th>\n",
       "      <th>sensor_2</th>\n",
       "      <th>sensor_3</th>\n",
       "      <th>sensor_4</th>\n",
       "      <th>sensor_5</th>\n",
       "      <th>sensor_6</th>\n",
       "      <th>sensor_7</th>\n",
       "    </tr>\n",
       "  </thead>\n",
       "  <tbody>\n",
       "    <tr>\n",
       "      <th>0</th>\n",
       "      <td>2</td>\n",
       "      <td>4</td>\n",
       "      <td>2</td>\n",
       "      <td>8</td>\n",
       "      <td>10</td>\n",
       "      <td>13</td>\n",
       "      <td>5</td>\n",
       "      <td>15</td>\n",
       "    </tr>\n",
       "    <tr>\n",
       "      <th>1</th>\n",
       "      <td>-1</td>\n",
       "      <td>-3</td>\n",
       "      <td>-12</td>\n",
       "      <td>3</td>\n",
       "      <td>3</td>\n",
       "      <td>21</td>\n",
       "      <td>1</td>\n",
       "      <td>13</td>\n",
       "    </tr>\n",
       "    <tr>\n",
       "      <th>2</th>\n",
       "      <td>3</td>\n",
       "      <td>0</td>\n",
       "      <td>-12</td>\n",
       "      <td>8</td>\n",
       "      <td>11</td>\n",
       "      <td>26</td>\n",
       "      <td>0</td>\n",
       "      <td>23</td>\n",
       "    </tr>\n",
       "    <tr>\n",
       "      <th>3</th>\n",
       "      <td>4</td>\n",
       "      <td>-5</td>\n",
       "      <td>-14</td>\n",
       "      <td>11</td>\n",
       "      <td>6</td>\n",
       "      <td>30</td>\n",
       "      <td>2</td>\n",
       "      <td>30</td>\n",
       "    </tr>\n",
       "    <tr>\n",
       "      <th>4</th>\n",
       "      <td>13</td>\n",
       "      <td>-2</td>\n",
       "      <td>17</td>\n",
       "      <td>24</td>\n",
       "      <td>5</td>\n",
       "      <td>28</td>\n",
       "      <td>17</td>\n",
       "      <td>30</td>\n",
       "    </tr>\n",
       "    <tr>\n",
       "      <th>...</th>\n",
       "      <td>...</td>\n",
       "      <td>...</td>\n",
       "      <td>...</td>\n",
       "      <td>...</td>\n",
       "      <td>...</td>\n",
       "      <td>...</td>\n",
       "      <td>...</td>\n",
       "      <td>...</td>\n",
       "    </tr>\n",
       "    <tr>\n",
       "      <th>5366</th>\n",
       "      <td>7</td>\n",
       "      <td>-5</td>\n",
       "      <td>-11</td>\n",
       "      <td>7</td>\n",
       "      <td>7</td>\n",
       "      <td>1</td>\n",
       "      <td>-6</td>\n",
       "      <td>14</td>\n",
       "    </tr>\n",
       "    <tr>\n",
       "      <th>5367</th>\n",
       "      <td>6</td>\n",
       "      <td>-6</td>\n",
       "      <td>-12</td>\n",
       "      <td>6</td>\n",
       "      <td>6</td>\n",
       "      <td>3</td>\n",
       "      <td>-2</td>\n",
       "      <td>13</td>\n",
       "    </tr>\n",
       "    <tr>\n",
       "      <th>5368</th>\n",
       "      <td>3</td>\n",
       "      <td>3</td>\n",
       "      <td>3</td>\n",
       "      <td>3</td>\n",
       "      <td>2</td>\n",
       "      <td>7</td>\n",
       "      <td>3</td>\n",
       "      <td>3</td>\n",
       "    </tr>\n",
       "    <tr>\n",
       "      <th>5369</th>\n",
       "      <td>3</td>\n",
       "      <td>3</td>\n",
       "      <td>4</td>\n",
       "      <td>3</td>\n",
       "      <td>2</td>\n",
       "      <td>8</td>\n",
       "      <td>3</td>\n",
       "      <td>3</td>\n",
       "    </tr>\n",
       "    <tr>\n",
       "      <th>5370</th>\n",
       "      <td>0</td>\n",
       "      <td>0</td>\n",
       "      <td>2</td>\n",
       "      <td>0</td>\n",
       "      <td>-1</td>\n",
       "      <td>7</td>\n",
       "      <td>1</td>\n",
       "      <td>2</td>\n",
       "    </tr>\n",
       "  </tbody>\n",
       "</table>\n",
       "<p>5371 rows × 8 columns</p>\n",
       "</div>"
      ],
      "text/plain": [
       "      sensor_0  sensor_1  sensor_2  sensor_3  sensor_4  sensor_5  sensor_6  \\\n",
       "0            2         4         2         8        10        13         5   \n",
       "1           -1        -3       -12         3         3        21         1   \n",
       "2            3         0       -12         8        11        26         0   \n",
       "3            4        -5       -14        11         6        30         2   \n",
       "4           13        -2        17        24         5        28        17   \n",
       "...        ...       ...       ...       ...       ...       ...       ...   \n",
       "5366         7        -5       -11         7         7         1        -6   \n",
       "5367         6        -6       -12         6         6         3        -2   \n",
       "5368         3         3         3         3         2         7         3   \n",
       "5369         3         3         4         3         2         8         3   \n",
       "5370         0         0         2         0        -1         7         1   \n",
       "\n",
       "      sensor_7  \n",
       "0           15  \n",
       "1           13  \n",
       "2           23  \n",
       "3           30  \n",
       "4           30  \n",
       "...        ...  \n",
       "5366        14  \n",
       "5367        13  \n",
       "5368         3  \n",
       "5369         3  \n",
       "5370         2  \n",
       "\n",
       "[5371 rows x 8 columns]"
      ]
     },
     "execution_count": 127,
     "metadata": {},
     "output_type": "execute_result"
    }
   ],
   "source": [
    "decode_res"
   ]
  },
  {
   "cell_type": "code",
   "execution_count": 128,
   "metadata": {},
   "outputs": [
    {
     "name": "stdout",
     "output_type": "stream",
     "text": [
      "Размер исходных данных: 23080 байт \n",
      "\n",
      "Размер сжатых данных: 38003 байт \n",
      "\n",
      "Коэффициент сжатия: 0.607\n"
     ]
    }
   ],
   "source": [
    "get_compress_info_spatial_sprintz(df, res)"
   ]
  },
  {
   "cell_type": "code",
   "execution_count": 129,
   "metadata": {},
   "outputs": [],
   "source": [
    "# #Рассмотрим количество используемой оперативной памяти и среднее время сжатия\n",
    "# print('Compress: \\n')\n",
    "# baseline = memory_usage(-1, interval=0.1, timeout=1)[0]\n",
    "# mem_usage = memory_usage(lambda: spatial_clustering_sprintz(df.copy(), wind_geo_dict, 0.84), interval=0.00001)\n",
    "# mem_dict['spatial_sprintz_enc'] = max(mem_usage) - baseline\n",
    "# time_dict['spatial_sprintz_enc'] = %timeit -o spatial_clustering_sprintz(df.copy(), wind_geo_dict, 0.84)\n",
    "# print('\\n')\n",
    "# #Рассмотрим количество используемой оперативной памяти и среднее время декодирования\n",
    "# print('Decompress: \\n')\n",
    "# baseline = memory_usage(-1, interval=0.1, timeout=1)[0]\n",
    "# mem_usage = memory_usage(lambda: spatial_sprintz_decompress(res, clust_dict), interval=0.00001)\n",
    "# mem_dict['spatial_sprintz_dec'] = max(mem_usage) - baseline\n",
    "# time_dict['spatial_sprintz_dec'] = %timeit -o spatial_sprintz_decompress(res, clust_dict)"
   ]
  },
  {
   "cell_type": "markdown",
   "metadata": {},
   "source": [
    "## Spatial + PCA + LZ4"
   ]
  },
  {
   "cell_type": "code",
   "execution_count": 4,
   "metadata": {},
   "outputs": [],
   "source": [
    "import yaml"
   ]
  },
  {
   "cell_type": "code",
   "execution_count": 6,
   "metadata": {},
   "outputs": [],
   "source": [
    "df_wind = pd.read_csv(\"/Users/roman/Desktop/диплом/final_repo/compress_time_series/data/CZ_wind.csv\")\n",
    "with open('/Users/roman/Desktop/диплом/final_repo/compress_time_series/nuts_data/geo_dicts/geodict_CZ.yaml', 'r') as file:\n",
    "    wind_geo_dict = yaml.safe_load(file)"
   ]
  },
  {
   "cell_type": "code",
   "execution_count": 14,
   "metadata": {},
   "outputs": [
    {
     "data": {
      "text/plain": [
       "{'sensor_0': ['sensor_0',\n",
       "  'sensor_2',\n",
       "  'sensor_1',\n",
       "  'sensor_6',\n",
       "  'sensor_4',\n",
       "  'sensor_3',\n",
       "  'sensor_7'],\n",
       " 'sensor_5': ['sensor_5']}"
      ]
     },
     "execution_count": 14,
     "metadata": {},
     "output_type": "execute_result"
    }
   ],
   "source": [
    "corr = 0.87\n",
    "spatial_clustering(df_wind, wind_geo_dict, corr)"
   ]
  },
  {
   "cell_type": "code",
   "execution_count": 15,
   "metadata": {},
   "outputs": [],
   "source": [
    "res = spatial_clustering_PCA_LZ4(df_wind, wind_geo_dict,corr)"
   ]
  },
  {
   "cell_type": "code",
   "execution_count": 16,
   "metadata": {},
   "outputs": [
    {
     "name": "stdout",
     "output_type": "stream",
     "text": [
      "Размер исходных данных: 343744 байт \n",
      "\n",
      "Размер сжатых данных: 161027 байт \n",
      "\n",
      "Коэффициент сжатия: 2.135\n"
     ]
    }
   ],
   "source": [
    "comp = get_compress_info_spatial_PCA_LZ4(df_wind, res)"
   ]
  },
  {
   "cell_type": "code",
   "execution_count": 17,
   "metadata": {},
   "outputs": [
    {
     "name": "stdout",
     "output_type": "stream",
     "text": [
      "MSE: 0.001209 \n",
      "\n",
      "MAPE: 18.01 %\n"
     ]
    }
   ],
   "source": [
    "clusters = spatial_clustering(df_wind, wind_geo_dict, corr)\n",
    "dec_res = spatial_lz4_decompress(res, clusters)\n",
    "mse, mape = get_errors(df_wind, dec_res)"
   ]
  },
  {
   "cell_type": "code",
   "execution_count": null,
   "metadata": {},
   "outputs": [],
   "source": [
    "# #Рассмотрим количество используемой оперативной памяти и среднее время сжатия\n",
    "# print('Compress: \\n')\n",
    "# baseline = memory_usage(-1, interval=0.1, timeout=1)[0]\n",
    "# mem_usage = memory_usage(lambda: spatial_clustering_PCA_LZ4(df_wind, wind_geo_dict), interval=0.00001)\n",
    "# mem_dict['PCA_enc'] = max(mem_usage) - baseline\n",
    "# time_dict['PCA_enc'] = %timeit -o spatial_clustering_PCA_LZ4(df_wind, wind_geo_dict)\n",
    "# print('\\n')\n",
    "# #Рассмотрим количество используемой оперативной памяти и среднее время декодирования\n",
    "# print('Decompress: \\n')\n",
    "# baseline = memory_usage(-1, interval=0.1, timeout=1)[0]\n",
    "# mem_usage = memory_usage(lambda: spatial_lz4_decompress(res, clusters), interval=0.00001)\n",
    "# mem_dict['PCA_dec'] = max(mem_usage) - baseline\n",
    "# time_dict['PCA_dec'] = %timeit -o spatial_lz4_decompress(res, clusters)"
   ]
  },
  {
   "cell_type": "markdown",
   "metadata": {},
   "source": [
    "## SZ3"
   ]
  },
  {
   "cell_type": "code",
   "execution_count": 40,
   "metadata": {},
   "outputs": [],
   "source": [
    "data_enc = compress_sz3_df(df_wind, 0.03)"
   ]
  },
  {
   "cell_type": "code",
   "execution_count": 41,
   "metadata": {},
   "outputs": [
    {
     "name": "stdout",
     "output_type": "stream",
     "text": [
      "Размер исходных данных: 429680 байт \n",
      "\n",
      "Размер сжатых данных: 22980 байт \n",
      "\n",
      "Коэффициент сжатия: 18.698\n"
     ]
    }
   ],
   "source": [
    "comp = get_compress_info_sz3(df_wind, data_enc)"
   ]
  },
  {
   "cell_type": "code",
   "execution_count": 42,
   "metadata": {},
   "outputs": [
    {
     "name": "stdout",
     "output_type": "stream",
     "text": [
      "MSE: 0.000279 \n",
      "\n",
      "MAPE: 23.63 %\n"
     ]
    },
    {
     "data": {
      "text/plain": [
       "(0.000279, 23.63)"
      ]
     },
     "execution_count": 42,
     "metadata": {},
     "output_type": "execute_result"
    }
   ],
   "source": [
    "data = df_wind.values.transpose()\n",
    "shape = [d.shape for d in data]\n",
    "type = data[0].dtype\n",
    "data_dec = decompress_sz3(data_enc, shape, type)\n",
    "get_errors(df_wind, data_dec)"
   ]
  },
  {
   "cell_type": "code",
   "execution_count": null,
   "metadata": {},
   "outputs": [],
   "source": [
    "# data = df_wind[['sensor_2', 'sensor_5', 'sensor_8']].iloc[:64].values.transpose()\n",
    "# shape = [d.shape for d in data]\n",
    "# type = data[0].dtype\n",
    "# data_dec = decompress_sz3(data_enc, shape, type)\n",
    "# get_errors(df_wind[['sensor_2', 'sensor_5', 'sensor_8']].iloc[:64], data_dec)"
   ]
  },
  {
   "cell_type": "code",
   "execution_count": 57,
   "metadata": {},
   "outputs": [],
   "source": [
    "# #Рассмотрим количество используемой оперативной памяти и среднее время сжатия\n",
    "# print('Compress: \\n')\n",
    "# baseline = memory_usage(-1, interval=0.1, timeout=1)[0]\n",
    "# mem_usage = memory_usage(lambda: compress_sz3_df(df_wind), interval=0.00001)\n",
    "# mem_dict['SZ3_enc'] = max(mem_usage) - baseline\n",
    "# time_dict['SZ3_enc'] = %timeit -o compress_sz3_df(df_wind)\n",
    "# print('\\n')\n",
    "# #Рассмотрим количество используемой оперативной памяти и среднее время декодирования\n",
    "# print('Decompress: \\n')\n",
    "# baseline = memory_usage(-1, interval=0.1, timeout=1)[0]\n",
    "# mem_usage = memory_usage(lambda: decompress_sz3(data_enc, shape, type), interval=0.00001)\n",
    "# mem_dict['SZ3_dec'] = max(mem_usage) - baseline\n",
    "# time_dict['SZ3_dec'] = %timeit -o decompress_sz3(data_enc, shape, type)"
   ]
  },
  {
   "cell_type": "code",
   "execution_count": 58,
   "metadata": {},
   "outputs": [],
   "source": [
    "# from sz.SZ3.tools.pysz.pysz import SZ\n",
    "# from compress.general_functions import get_float_bytes\n",
    "# import sys\n",
    "\n",
    "# lib_extension = {\n",
    "#         \"darwin\": \"libSZ3c.dylib\",  # macOS\n",
    "#         \"win32\": \"SZ3c.dll\",  # Windows\n",
    "#     }.get(sys.platform, \"libSZ3c.so\")  # Linux (по умолчанию)\n",
    "# sz = SZ(f\"/usr/local/lib/{lib_extension}\")\n"
   ]
  },
  {
   "cell_type": "code",
   "execution_count": 59,
   "metadata": {},
   "outputs": [],
   "source": [
    "# data = df_wind.values.transpose()\n",
    "# data_cmpr, _ = sz.compress(data, eb_mode=1, eb_pwr=0, eb_rel=0.003, eb_abs=0)\n",
    "# data_dec = sz.decompress(data_cmpr, data.shape, data[0].dtype)\n",
    "# dec_df = pd.DataFrame(data_dec).transpose()\n",
    "# dec_df.columns = [f\"sensor_{i}\" for i in range(dec_df.shape[1])] \n",
    "# get_errors(df_wind, dec_df)"
   ]
  },
  {
   "cell_type": "code",
   "execution_count": 60,
   "metadata": {},
   "outputs": [],
   "source": [
    "# data = df_wind_1.values.transpose()\n",
    "# data_cmpr, _ = sz.compress(data, eb_mode=1, eb_pwr=0, eb_rel=0.03, eb_abs=0)\n",
    "# data_dec = sz.decompress(data_cmpr, data.shape, data[0].dtype)\n",
    "# dec_df = pd.DataFrame(data_dec).transpose()\n",
    "# dec_df.columns = [f\"sensor_{i}\" for i in range(dec_df.shape[1])] \n",
    "# get_errors(df_wind_1, dec_df)"
   ]
  },
  {
   "cell_type": "code",
   "execution_count": 70,
   "metadata": {},
   "outputs": [],
   "source": [
    "# compress whole data\n",
    "data = df_wind.values.transpose()\n",
    "data_enc = compress_sz3_all(df_wind, 0.03)"
   ]
  },
  {
   "cell_type": "code",
   "execution_count": null,
   "metadata": {},
   "outputs": [
    {
     "name": "stdout",
     "output_type": "stream",
     "text": [
      "Размер исходных данных: 429680 байт \n",
      "\n",
      "Размер сжатых данных: 17635 байт \n",
      "\n",
      "Коэффициент сжатия: 24.365\n"
     ]
    }
   ],
   "source": [
    "comp = get_compress_info_sz3(df_wind, data_enc)"
   ]
  },
  {
   "cell_type": "code",
   "execution_count": 72,
   "metadata": {},
   "outputs": [
    {
     "name": "stdout",
     "output_type": "stream",
     "text": [
      "MSE: 0.000263 \n",
      "\n",
      "MAPE: 41.7 %\n"
     ]
    }
   ],
   "source": [
    "data_dec = decompress_sz3(data_enc, data.shape, data.dtype)\n",
    "get_errors(df_wind, data_dec)"
   ]
  },
  {
   "cell_type": "markdown",
   "metadata": {},
   "source": [
    "## SZ3 + Conv"
   ]
  },
  {
   "cell_type": "markdown",
   "metadata": {},
   "source": [
    "### Main sensor data."
   ]
  },
  {
   "cell_type": "markdown",
   "metadata": {},
   "source": [
    "Сожмем данные только одного кластера с помощью CNN и SZ3. Используем для сжатия модели алгоритм zstd."
   ]
  },
  {
   "cell_type": "code",
   "execution_count": null,
   "metadata": {},
   "outputs": [
    {
     "name": "stdout",
     "output_type": "stream",
     "text": [
      "Время обучения: 278.73 секунд\n",
      "INFO:tensorflow:Assets written to: saved_model/assets\n"
     ]
    },
    {
     "name": "stderr",
     "output_type": "stream",
     "text": [
      "INFO:tensorflow:Assets written to: saved_model/assets\n"
     ]
    },
    {
     "name": "stdout",
     "output_type": "stream",
     "text": [
      "Saved artifact at 'saved_model'. The following endpoints are available:\n",
      "\n",
      "* Endpoint 'serve'\n",
      "  args_0 (POSITIONAL_ONLY): TensorSpec(shape=(None, 64, 1), dtype=tf.float32, name='keras_tensor_30')\n",
      "Output Type:\n",
      "  TensorSpec(shape=(None, 1), dtype=tf.float32, name=None)\n",
      "Captures:\n",
      "  140385869854848: TensorSpec(shape=(), dtype=tf.resource, name=None)\n",
      "  140385869432784: TensorSpec(shape=(), dtype=tf.resource, name=None)\n",
      "  140385870012080: TensorSpec(shape=(), dtype=tf.resource, name=None)\n",
      "  140385887452672: TensorSpec(shape=(), dtype=tf.resource, name=None)\n",
      "  140385887451264: TensorSpec(shape=(), dtype=tf.resource, name=None)\n",
      "  140385887452320: TensorSpec(shape=(), dtype=tf.resource, name=None)\n",
      "  140385888030208: TensorSpec(shape=(), dtype=tf.resource, name=None)\n",
      "  140385887824880: TensorSpec(shape=(), dtype=tf.resource, name=None)\n",
      "  140385887822592: TensorSpec(shape=(), dtype=tf.resource, name=None)\n",
      "Size of compressed model (bytes): 7782\n"
     ]
    },
    {
     "name": "stderr",
     "output_type": "stream",
     "text": [
      "W0000 00:00:1747244562.699754 2776956 tf_tfl_flatbuffer_helpers.cc:390] Ignored output_format.\n",
      "W0000 00:00:1747244562.699773 2776956 tf_tfl_flatbuffer_helpers.cc:393] Ignored drop_control_dependency.\n",
      "2025-05-14 20:42:42.700057: I tensorflow/cc/saved_model/reader.cc:83] Reading SavedModel from: saved_model\n",
      "2025-05-14 20:42:42.701427: I tensorflow/cc/saved_model/reader.cc:51] Reading meta graph with tags { serve }\n",
      "2025-05-14 20:42:42.701440: I tensorflow/cc/saved_model/reader.cc:146] Reading SavedModel debug info (if present) from: saved_model\n",
      "2025-05-14 20:42:42.720836: I tensorflow/cc/saved_model/loader.cc:234] Restoring SavedModel bundle.\n",
      "2025-05-14 20:42:42.781027: I tensorflow/cc/saved_model/loader.cc:218] Running initialization op on SavedModel bundle at path: saved_model\n",
      "2025-05-14 20:42:42.802762: I tensorflow/cc/saved_model/loader.cc:317] SavedModel load for tags { serve }; Status: success: OK. Took 102706 microseconds.\n"
     ]
    }
   ],
   "source": [
    "cluster_enc = {}\n",
    "cluster_sensors = ['sensor_7', 'sensor_3']  #выделяем коррелирующие сенсоры\n",
    "cluster_enc[tuple(cluster_sensors)] = compress_cnn_cluster(df_wind[cluster_sensors], use_dwt=False,\n",
    "                                                           window_size=64, num_epochs=200, extra_layer=True,\n",
    "                                                           conv_filter=3, plot_flag=False,\n",
    "                                                           er_abs_sz3=0.03,  model_compress=\"zstd\")"
   ]
  },
  {
   "cell_type": "code",
   "execution_count": 16,
   "metadata": {},
   "outputs": [
    {
     "name": "stdout",
     "output_type": "stream",
     "text": [
      "Сжатия кластера \n",
      "\n",
      "Размер исходных данных: 85936 байт \n",
      "\n",
      "Размер сжатых данных: 10344 байт \n",
      "\n",
      "Коэффициент сжатия: 8.308\n"
     ]
    },
    {
     "data": {
      "text/plain": [
       "8.308"
      ]
     },
     "execution_count": 16,
     "metadata": {},
     "output_type": "execute_result"
    }
   ],
   "source": [
    "print('Сжатия кластера \\n')\n",
    "get_compress_info_cnn_sz3(df_wind[cluster_sensors], cluster_enc)"
   ]
  },
  {
   "cell_type": "code",
   "execution_count": 12,
   "metadata": {},
   "outputs": [
    {
     "name": "stdout",
     "output_type": "stream",
     "text": [
      "[0.         0.08625    0.045      ... 0.05444588 0.04201174 0.05749461] \n",
      "\n",
      "[0.         0.0525     0.09       ... 0.08088043 0.05207883 0.08040491] \n",
      "\n",
      "[0.         0.065625   0.1125     ... 0.05506963 0.04470624 0.05847077] \n",
      "\n"
     ]
    },
    {
     "name": "stderr",
     "output_type": "stream",
     "text": [
      "INFO: Created TensorFlow Lite XNNPACK delegate for CPU.\n"
     ]
    }
   ],
   "source": [
    "dec_cluster_df = decomress_cnn_sz3(cluster_enc, (5371,), use_dwt=False, model_compress=\"zstd\")\n",
    "dec_cluster_df = dec_cluster_df.sort_index(axis=1)"
   ]
  },
  {
   "cell_type": "code",
   "execution_count": 13,
   "metadata": {},
   "outputs": [
    {
     "name": "stdout",
     "output_type": "stream",
     "text": [
      "MSE: 0.006015 \n",
      "\n",
      "MAPE: 63.88 %\n"
     ]
    },
    {
     "data": {
      "text/plain": [
       "(0.006015, 63.88)"
      ]
     },
     "execution_count": 13,
     "metadata": {},
     "output_type": "execute_result"
    }
   ],
   "source": [
    "get_errors(df_wind[cluster_sensors].sort_index(axis=1), dec_cluster_df)"
   ]
  },
  {
   "cell_type": "code",
   "execution_count": 20,
   "metadata": {},
   "outputs": [],
   "source": [
    "# cluster_enc_zstd = {}\n",
    "# cluster_enc_lz4 = {}\n",
    "# cluster_enc_zstd[tuple(cluster_sensors)] = compress_cnn_cluster(df_wind[cluster_sensors], use_dwt=False, window_size=64, num_epochs=70, \n",
    "#                                                            plot_flag=False, model_compress=\"zstd\")\n",
    "# cluster_enc_lz4[tuple(cluster_sensors)] = compress_cnn_cluster(df_wind[cluster_sensors], use_dwt=False, window_size=64, num_epochs=70, \n",
    "#                                                            plot_flag=False, model_compress=\"lz4\")\n",
    "\n",
    "# #Рассмотрим количество используемой оперативной памяти и среднее время сжатия\n",
    "# print('Compress: \\n')\n",
    "# baseline = memory_usage(-1, interval=0.1, timeout=1)[0]\n",
    "# mem_usage = memory_usage(lambda: compress_cnn_cluster(df_wind[cluster_sensors], use_dwt=False,\n",
    "#                                                       window_size=64, num_epochs=70, plot_flag=False,\n",
    "#                                                       model_compress=\"zstd\"), interval=1)\n",
    "# mem_dict['SZ3_CNN_ZSTD_enc'] = max(mem_usage) - baseline\n",
    "# time_dict['SZ3_CNN_ZSTD_enc'] = %timeit -o compress_cnn_cluster(df_wind[cluster_sensors], use_dwt=False, window_size=64, num_epochs=70, plot_flag=False, model_compress=\"zstd\")\n",
    "# baseline = memory_usage(-1, interval=0.1, timeout=1)[0]\n",
    "# mem_usage = memory_usage(lambda: compress_cnn_cluster(df_wind[cluster_sensors], use_dwt=False,\n",
    "#                                                       window_size=64, num_epochs=70,\n",
    "#                                                       plot_flag=False, model_compress=\"lz4\"), interval=1)\n",
    "# mem_dict['SZ3_CNN_LZ4_enc'] = max(mem_usage) - baseline\n",
    "# time_dict['SZ3_CNN_LZ4_enc'] = %timeit -o compress_cnn_cluster(df_wind[cluster_sensors], use_dwt=False, window_size=64, num_epochs=70, plot_flag=False, model_compress=\"lz4\")\n",
    "# print('\\n')\n",
    "# #Рассмотрим количество используемой оперативной памяти и среднее время декодирования\n",
    "# print('Decompress: \\n')\n",
    "# baseline = memory_usage(-1, interval=0.1, timeout=1)[0]\n",
    "# mem_usage = memory_usage(lambda: decomress_cnn_sz3(cluster_enc_zstd, (5371,),\n",
    "#                                                    use_dwt=False, model_compress=\"zstd\"), interval=1)\n",
    "# mem_dict['SZ3_CNN_ZSTD_dec'] = max(mem_usage) - baseline\n",
    "# time_dict['SZ3_CNN_ZSTD_dec'] = %timeit -o decomress_cnn_sz3(cluster_enc_zstd, (5371,), use_dwt=False, model_compress=\"zstd\")\n",
    "# baseline = memory_usage(-1, interval=0.1, timeout=1)[0]\n",
    "# mem_usage = memory_usage(lambda: decomress_cnn_sz3(cluster_enc_lz4, (5371,),\n",
    "#                                                    use_dwt=False, model_compress=\"lz4\"), interval=1)\n",
    "# mem_dict['SZ3_CNN_LZ4_dec'] = max(mem_usage) - baseline\n",
    "# time_dict['SZ3_CNN_LZ4_dec'] = %timeit -o decomress_cnn_sz3(cluster_enc_lz4, (5371,), use_dwt=False, model_compress=\"lz4\")"
   ]
  },
  {
   "cell_type": "markdown",
   "metadata": {},
   "source": [
    "Теперь сожмем все данные."
   ]
  },
  {
   "cell_type": "code",
   "execution_count": 14,
   "metadata": {},
   "outputs": [
    {
     "name": "stdout",
     "output_type": "stream",
     "text": [
      "['sensor_6', 'sensor_9', 'sensor_5', 'sensor_2', 'sensor_1', 'sensor_8', 'sensor_3', 'sensor_7', 'sensor_4']\n",
      "clust: ['sensor_0']\n",
      "it, sen: sensor_0 sensor_6\n",
      "clust: ['sensor_0', 'sensor_6']\n",
      "it, sen: sensor_0 sensor_9\n",
      "clust: ['sensor_0', 'sensor_6', 'sensor_9']\n",
      "it, sen: sensor_0 sensor_5\n",
      "clust: ['sensor_0', 'sensor_6', 'sensor_9', 'sensor_5']\n",
      "it, sen: sensor_0 sensor_2\n",
      "Sensors in cluster: ['sensor_0', 'sensor_6', 'sensor_9', 'sensor_5'] \n",
      "\n",
      "Время обучения: 57.77 секунд\n",
      "INFO:tensorflow:Assets written to: saved_model/assets\n"
     ]
    },
    {
     "name": "stderr",
     "output_type": "stream",
     "text": [
      "INFO:tensorflow:Assets written to: saved_model/assets\n"
     ]
    },
    {
     "name": "stdout",
     "output_type": "stream",
     "text": [
      "Saved artifact at 'saved_model'. The following endpoints are available:\n",
      "\n",
      "* Endpoint 'serve'\n",
      "  args_0 (POSITIONAL_ONLY): TensorSpec(shape=(None, 64, 1), dtype=tf.float32, name='keras_tensor_12')\n",
      "Output Type:\n",
      "  TensorSpec(shape=(None, 3), dtype=tf.float32, name=None)\n",
      "Captures:\n",
      "  140385751185008: TensorSpec(shape=(), dtype=tf.resource, name=None)\n",
      "  140385822718608: TensorSpec(shape=(), dtype=tf.resource, name=None)\n",
      "  140385751140128: TensorSpec(shape=(), dtype=tf.resource, name=None)\n",
      "  140385818362272: TensorSpec(shape=(), dtype=tf.resource, name=None)\n",
      "  140385751081200: TensorSpec(shape=(), dtype=tf.resource, name=None)\n",
      "  140385826875872: TensorSpec(shape=(), dtype=tf.resource, name=None)\n",
      "  140385826874464: TensorSpec(shape=(), dtype=tf.resource, name=None)\n",
      "  140385826877104: TensorSpec(shape=(), dtype=tf.resource, name=None)\n",
      "  140385785851216: TensorSpec(shape=(), dtype=tf.resource, name=None)\n"
     ]
    },
    {
     "name": "stderr",
     "output_type": "stream",
     "text": [
      "W0000 00:00:1747244124.202601 2776956 tf_tfl_flatbuffer_helpers.cc:390] Ignored output_format.\n",
      "W0000 00:00:1747244124.202631 2776956 tf_tfl_flatbuffer_helpers.cc:393] Ignored drop_control_dependency.\n",
      "2025-05-14 20:35:24.203137: I tensorflow/cc/saved_model/reader.cc:83] Reading SavedModel from: saved_model\n",
      "2025-05-14 20:35:24.204528: I tensorflow/cc/saved_model/reader.cc:51] Reading meta graph with tags { serve }\n",
      "2025-05-14 20:35:24.204543: I tensorflow/cc/saved_model/reader.cc:146] Reading SavedModel debug info (if present) from: saved_model\n",
      "2025-05-14 20:35:24.224243: I tensorflow/cc/saved_model/loader.cc:234] Restoring SavedModel bundle.\n",
      "2025-05-14 20:35:24.284045: I tensorflow/cc/saved_model/loader.cc:218] Running initialization op on SavedModel bundle at path: saved_model\n",
      "2025-05-14 20:35:24.305994: I tensorflow/cc/saved_model/loader.cc:317] SavedModel load for tags { serve }; Status: success: OK. Took 102859 microseconds.\n"
     ]
    },
    {
     "name": "stdout",
     "output_type": "stream",
     "text": [
      "Size of compressed model (bytes): 9050\n",
      "['sensor_1', 'sensor_8', 'sensor_4', 'sensor_7', 'sensor_3']\n",
      "clust: ['sensor_2']\n",
      "it, sen: sensor_2 sensor_1\n",
      "clust: ['sensor_2', 'sensor_1']\n",
      "it, sen: sensor_2 sensor_8\n",
      "clust: ['sensor_2', 'sensor_1', 'sensor_8']\n",
      "it, sen: sensor_2 sensor_4\n",
      "clust: ['sensor_2', 'sensor_1', 'sensor_8', 'sensor_4']\n",
      "it, sen: sensor_2 sensor_7\n",
      "Sensors in cluster: ['sensor_2', 'sensor_1', 'sensor_8', 'sensor_4'] \n",
      "\n",
      "Время обучения: 58.29 секунд\n",
      "INFO:tensorflow:Assets written to: saved_model/assets\n"
     ]
    },
    {
     "name": "stderr",
     "output_type": "stream",
     "text": [
      "INFO:tensorflow:Assets written to: saved_model/assets\n"
     ]
    },
    {
     "name": "stdout",
     "output_type": "stream",
     "text": [
      "Saved artifact at 'saved_model'. The following endpoints are available:\n",
      "\n",
      "* Endpoint 'serve'\n",
      "  args_0 (POSITIONAL_ONLY): TensorSpec(shape=(None, 64, 1), dtype=tf.float32, name='keras_tensor_18')\n",
      "Output Type:\n",
      "  TensorSpec(shape=(None, 3), dtype=tf.float32, name=None)\n",
      "Captures:\n",
      "  140385795024144: TensorSpec(shape=(), dtype=tf.resource, name=None)\n",
      "  140385793994416: TensorSpec(shape=(), dtype=tf.resource, name=None)\n",
      "  140385793993536: TensorSpec(shape=(), dtype=tf.resource, name=None)\n",
      "  140385785929568: TensorSpec(shape=(), dtype=tf.resource, name=None)\n",
      "  140385794805824: TensorSpec(shape=(), dtype=tf.resource, name=None)\n",
      "  140385786514240: TensorSpec(shape=(), dtype=tf.resource, name=None)\n",
      "  140385794910336: TensorSpec(shape=(), dtype=tf.resource, name=None)\n",
      "  140385794910160: TensorSpec(shape=(), dtype=tf.resource, name=None)\n",
      "  140385794511264: TensorSpec(shape=(), dtype=tf.resource, name=None)\n"
     ]
    },
    {
     "name": "stderr",
     "output_type": "stream",
     "text": [
      "W0000 00:00:1747244183.442910 2776956 tf_tfl_flatbuffer_helpers.cc:390] Ignored output_format.\n",
      "W0000 00:00:1747244183.442928 2776956 tf_tfl_flatbuffer_helpers.cc:393] Ignored drop_control_dependency.\n",
      "2025-05-14 20:36:23.443229: I tensorflow/cc/saved_model/reader.cc:83] Reading SavedModel from: saved_model\n",
      "2025-05-14 20:36:23.444944: I tensorflow/cc/saved_model/reader.cc:51] Reading meta graph with tags { serve }\n",
      "2025-05-14 20:36:23.444963: I tensorflow/cc/saved_model/reader.cc:146] Reading SavedModel debug info (if present) from: saved_model\n",
      "2025-05-14 20:36:23.464393: I tensorflow/cc/saved_model/loader.cc:234] Restoring SavedModel bundle.\n",
      "2025-05-14 20:36:23.522956: I tensorflow/cc/saved_model/loader.cc:218] Running initialization op on SavedModel bundle at path: saved_model\n",
      "2025-05-14 20:36:23.544397: I tensorflow/cc/saved_model/loader.cc:317] SavedModel load for tags { serve }; Status: success: OK. Took 101169 microseconds.\n"
     ]
    },
    {
     "name": "stdout",
     "output_type": "stream",
     "text": [
      "Size of compressed model (bytes): 9091\n",
      "['sensor_3']\n",
      "clust: ['sensor_7']\n",
      "it, sen: sensor_7 sensor_3\n",
      "last cluster: ['sensor_7', 'sensor_3']\n",
      "Время обучения: 53.89 секунд\n",
      "INFO:tensorflow:Assets written to: saved_model/assets\n"
     ]
    },
    {
     "name": "stderr",
     "output_type": "stream",
     "text": [
      "INFO:tensorflow:Assets written to: saved_model/assets\n"
     ]
    },
    {
     "name": "stdout",
     "output_type": "stream",
     "text": [
      "Saved artifact at 'saved_model'. The following endpoints are available:\n",
      "\n",
      "* Endpoint 'serve'\n",
      "  args_0 (POSITIONAL_ONLY): TensorSpec(shape=(None, 64, 1), dtype=tf.float32, name='keras_tensor_24')\n",
      "Output Type:\n",
      "  TensorSpec(shape=(None, 1), dtype=tf.float32, name=None)\n",
      "Captures:\n",
      "  140385795017888: TensorSpec(shape=(), dtype=tf.resource, name=None)\n",
      "  140385854027200: TensorSpec(shape=(), dtype=tf.resource, name=None)\n",
      "  140385854026144: TensorSpec(shape=(), dtype=tf.resource, name=None)\n",
      "  140385854029664: TensorSpec(shape=(), dtype=tf.resource, name=None)\n",
      "  140385854043232: TensorSpec(shape=(), dtype=tf.resource, name=None)\n",
      "  140385854044816: TensorSpec(shape=(), dtype=tf.resource, name=None)\n",
      "  140385854043936: TensorSpec(shape=(), dtype=tf.resource, name=None)\n",
      "  140385854120704: TensorSpec(shape=(), dtype=tf.resource, name=None)\n",
      "  140385854121056: TensorSpec(shape=(), dtype=tf.resource, name=None)\n"
     ]
    },
    {
     "name": "stderr",
     "output_type": "stream",
     "text": [
      "W0000 00:00:1747244238.262609 2776956 tf_tfl_flatbuffer_helpers.cc:390] Ignored output_format.\n",
      "W0000 00:00:1747244238.262627 2776956 tf_tfl_flatbuffer_helpers.cc:393] Ignored drop_control_dependency.\n"
     ]
    },
    {
     "name": "stdout",
     "output_type": "stream",
     "text": [
      "Size of compressed model (bytes): 9044\n"
     ]
    },
    {
     "name": "stderr",
     "output_type": "stream",
     "text": [
      "2025-05-14 20:37:18.262913: I tensorflow/cc/saved_model/reader.cc:83] Reading SavedModel from: saved_model\n",
      "2025-05-14 20:37:18.264460: I tensorflow/cc/saved_model/reader.cc:51] Reading meta graph with tags { serve }\n",
      "2025-05-14 20:37:18.264475: I tensorflow/cc/saved_model/reader.cc:146] Reading SavedModel debug info (if present) from: saved_model\n",
      "2025-05-14 20:37:18.283159: I tensorflow/cc/saved_model/loader.cc:234] Restoring SavedModel bundle.\n",
      "2025-05-14 20:37:18.343295: I tensorflow/cc/saved_model/loader.cc:218] Running initialization op on SavedModel bundle at path: saved_model\n",
      "2025-05-14 20:37:18.365053: I tensorflow/cc/saved_model/loader.cc:317] SavedModel load for tags { serve }; Status: success: OK. Took 102139 microseconds.\n"
     ]
    }
   ],
   "source": [
    "# Используем LZ4 для сжатия.\n",
    "enc_df = compress_cnn_sz3(df_wind,\n",
    "                          wind_geo_dict,\n",
    "                          cor_lvl=0.87,\n",
    "                          use_dwt=False,\n",
    "                          window_size=64,\n",
    "                          num_epochs=40,\n",
    "                          extra_layer=True,\n",
    "                          conv_filter=3,\n",
    "                          plot_flag=False,\n",
    "                          er_abs_sz3=0.03,\n",
    "                          model_compress=\"lz4\")"
   ]
  },
  {
   "cell_type": "code",
   "execution_count": 49,
   "metadata": {},
   "outputs": [
    {
     "name": "stdout",
     "output_type": "stream",
     "text": [
      "Размер исходных данных: 429680 байт \n",
      "\n",
      "Размер сжатых данных: 36412 байт \n",
      "\n",
      "Коэффициент сжатия: 11.801\n"
     ]
    },
    {
     "data": {
      "text/plain": [
       "11.801"
      ]
     },
     "execution_count": 49,
     "metadata": {},
     "output_type": "execute_result"
    }
   ],
   "source": [
    "get_compress_info_cnn_sz3(df_wind, enc_df)"
   ]
  },
  {
   "cell_type": "code",
   "execution_count": 41,
   "metadata": {},
   "outputs": [
    {
     "name": "stdout",
     "output_type": "stream",
     "text": [
      "['sensor_6', 'sensor_9', 'sensor_5', 'sensor_2', 'sensor_1', 'sensor_8', 'sensor_3', 'sensor_7', 'sensor_4']\n",
      "clust: ['sensor_0']\n",
      "it, sen: sensor_0 sensor_6\n",
      "clust: ['sensor_0', 'sensor_6']\n",
      "it, sen: sensor_0 sensor_9\n",
      "clust: ['sensor_0', 'sensor_6', 'sensor_9']\n",
      "it, sen: sensor_0 sensor_5\n",
      "clust: ['sensor_0', 'sensor_6', 'sensor_9', 'sensor_5']\n",
      "it, sen: sensor_0 sensor_2\n",
      "Sensors in cluster: ['sensor_0', 'sensor_6', 'sensor_9', 'sensor_5'] \n",
      "\n",
      "Время обучения: 258.97 секунд\n",
      "INFO:tensorflow:Assets written to: saved_model/assets\n"
     ]
    },
    {
     "name": "stderr",
     "output_type": "stream",
     "text": [
      "INFO:tensorflow:Assets written to: saved_model/assets\n"
     ]
    },
    {
     "name": "stdout",
     "output_type": "stream",
     "text": [
      "Saved artifact at 'saved_model'. The following endpoints are available:\n",
      "\n",
      "* Endpoint 'serve'\n",
      "  args_0 (POSITIONAL_ONLY): TensorSpec(shape=(None, 64, 1), dtype=tf.float32, name='keras_tensor_156')\n",
      "Output Type:\n",
      "  TensorSpec(shape=(None, 3), dtype=tf.float32, name=None)\n",
      "Captures:\n",
      "  140384949931344: TensorSpec(shape=(), dtype=tf.resource, name=None)\n",
      "  140384949929056: TensorSpec(shape=(), dtype=tf.resource, name=None)\n",
      "  140384949931168: TensorSpec(shape=(), dtype=tf.resource, name=None)\n",
      "  140384949930112: TensorSpec(shape=(), dtype=tf.resource, name=None)\n",
      "  140384950019520: TensorSpec(shape=(), dtype=tf.resource, name=None)\n",
      "  140384950019872: TensorSpec(shape=(), dtype=tf.resource, name=None)\n",
      "  140384950019344: TensorSpec(shape=(), dtype=tf.resource, name=None)\n",
      "  140384951211456: TensorSpec(shape=(), dtype=tf.resource, name=None)\n",
      "  140384951211280: TensorSpec(shape=(), dtype=tf.resource, name=None)\n"
     ]
    },
    {
     "name": "stderr",
     "output_type": "stream",
     "text": [
      "W0000 00:00:1747027758.093673 1986181 tf_tfl_flatbuffer_helpers.cc:390] Ignored output_format.\n",
      "W0000 00:00:1747027758.093691 1986181 tf_tfl_flatbuffer_helpers.cc:393] Ignored drop_control_dependency.\n",
      "2025-05-12 08:29:18.093997: I tensorflow/cc/saved_model/reader.cc:83] Reading SavedModel from: saved_model\n",
      "2025-05-12 08:29:18.095386: I tensorflow/cc/saved_model/reader.cc:51] Reading meta graph with tags { serve }\n",
      "2025-05-12 08:29:18.095404: I tensorflow/cc/saved_model/reader.cc:146] Reading SavedModel debug info (if present) from: saved_model\n",
      "2025-05-12 08:29:18.113906: I tensorflow/cc/saved_model/loader.cc:234] Restoring SavedModel bundle.\n",
      "2025-05-12 08:29:18.173275: I tensorflow/cc/saved_model/loader.cc:218] Running initialization op on SavedModel bundle at path: saved_model\n",
      "2025-05-12 08:29:18.194748: I tensorflow/cc/saved_model/loader.cc:317] SavedModel load for tags { serve }; Status: success: OK. Took 100751 microseconds.\n"
     ]
    },
    {
     "name": "stdout",
     "output_type": "stream",
     "text": [
      "Size of compressed model (bytes): 7795\n",
      "['sensor_1', 'sensor_8', 'sensor_4', 'sensor_7', 'sensor_3']\n",
      "clust: ['sensor_2']\n",
      "it, sen: sensor_2 sensor_1\n",
      "clust: ['sensor_2', 'sensor_1']\n",
      "it, sen: sensor_2 sensor_8\n",
      "clust: ['sensor_2', 'sensor_1', 'sensor_8']\n",
      "it, sen: sensor_2 sensor_4\n",
      "clust: ['sensor_2', 'sensor_1', 'sensor_8', 'sensor_4']\n",
      "it, sen: sensor_2 sensor_7\n",
      "Sensors in cluster: ['sensor_2', 'sensor_1', 'sensor_8', 'sensor_4'] \n",
      "\n",
      "Время обучения: 255.88 секунд\n",
      "INFO:tensorflow:Assets written to: saved_model/assets\n"
     ]
    },
    {
     "name": "stderr",
     "output_type": "stream",
     "text": [
      "INFO:tensorflow:Assets written to: saved_model/assets\n"
     ]
    },
    {
     "name": "stdout",
     "output_type": "stream",
     "text": [
      "Saved artifact at 'saved_model'. The following endpoints are available:\n",
      "\n",
      "* Endpoint 'serve'\n",
      "  args_0 (POSITIONAL_ONLY): TensorSpec(shape=(None, 64, 1), dtype=tf.float32, name='keras_tensor_162')\n",
      "Output Type:\n",
      "  TensorSpec(shape=(None, 3), dtype=tf.float32, name=None)\n",
      "Captures:\n",
      "  140384960164080: TensorSpec(shape=(), dtype=tf.resource, name=None)\n",
      "  140384949999920: TensorSpec(shape=(), dtype=tf.resource, name=None)\n",
      "  140384959957120: TensorSpec(shape=(), dtype=tf.resource, name=None)\n",
      "  140384959921488: TensorSpec(shape=(), dtype=tf.resource, name=None)\n",
      "  140384960209312: TensorSpec(shape=(), dtype=tf.resource, name=None)\n",
      "  140384960287312: TensorSpec(shape=(), dtype=tf.resource, name=None)\n",
      "  140384960287488: TensorSpec(shape=(), dtype=tf.resource, name=None)\n",
      "  140384960287136: TensorSpec(shape=(), dtype=tf.resource, name=None)\n",
      "  140384960258464: TensorSpec(shape=(), dtype=tf.resource, name=None)\n"
     ]
    },
    {
     "name": "stderr",
     "output_type": "stream",
     "text": [
      "W0000 00:00:1747028014.926930 1986181 tf_tfl_flatbuffer_helpers.cc:390] Ignored output_format.\n",
      "W0000 00:00:1747028014.926953 1986181 tf_tfl_flatbuffer_helpers.cc:393] Ignored drop_control_dependency.\n",
      "2025-05-12 08:33:34.927240: I tensorflow/cc/saved_model/reader.cc:83] Reading SavedModel from: saved_model\n",
      "2025-05-12 08:33:34.928733: I tensorflow/cc/saved_model/reader.cc:51] Reading meta graph with tags { serve }\n",
      "2025-05-12 08:33:34.928747: I tensorflow/cc/saved_model/reader.cc:146] Reading SavedModel debug info (if present) from: saved_model\n",
      "2025-05-12 08:33:34.948174: I tensorflow/cc/saved_model/loader.cc:234] Restoring SavedModel bundle.\n",
      "2025-05-12 08:33:35.007862: I tensorflow/cc/saved_model/loader.cc:218] Running initialization op on SavedModel bundle at path: saved_model\n",
      "2025-05-12 08:33:35.028651: I tensorflow/cc/saved_model/loader.cc:317] SavedModel load for tags { serve }; Status: success: OK. Took 101411 microseconds.\n"
     ]
    },
    {
     "name": "stdout",
     "output_type": "stream",
     "text": [
      "Size of compressed model (bytes): 7798\n",
      "['sensor_3']\n",
      "clust: ['sensor_7']\n",
      "it, sen: sensor_7 sensor_3\n",
      "last cluster: ['sensor_7', 'sensor_3']\n",
      "Время обучения: 261.90 секунд\n",
      "INFO:tensorflow:Assets written to: saved_model/assets\n"
     ]
    },
    {
     "name": "stderr",
     "output_type": "stream",
     "text": [
      "INFO:tensorflow:Assets written to: saved_model/assets\n"
     ]
    },
    {
     "name": "stdout",
     "output_type": "stream",
     "text": [
      "Saved artifact at 'saved_model'. The following endpoints are available:\n",
      "\n",
      "* Endpoint 'serve'\n",
      "  args_0 (POSITIONAL_ONLY): TensorSpec(shape=(None, 64, 1), dtype=tf.float32, name='keras_tensor_168')\n",
      "Output Type:\n",
      "  TensorSpec(shape=(None, 1), dtype=tf.float32, name=None)\n",
      "Captures:\n",
      "  140384979449632: TensorSpec(shape=(), dtype=tf.resource, name=None)\n",
      "  140384979451216: TensorSpec(shape=(), dtype=tf.resource, name=None)\n",
      "  140384979448576: TensorSpec(shape=(), dtype=tf.resource, name=None)\n",
      "  140384979476720: TensorSpec(shape=(), dtype=tf.resource, name=None)\n",
      "  140384979478304: TensorSpec(shape=(), dtype=tf.resource, name=None)\n",
      "  140384979554720: TensorSpec(shape=(), dtype=tf.resource, name=None)\n",
      "  140384979554896: TensorSpec(shape=(), dtype=tf.resource, name=None)\n",
      "  140384979554544: TensorSpec(shape=(), dtype=tf.resource, name=None)\n",
      "  140384979564320: TensorSpec(shape=(), dtype=tf.resource, name=None)\n",
      "Size of compressed model (bytes): 7767\n"
     ]
    },
    {
     "name": "stderr",
     "output_type": "stream",
     "text": [
      "W0000 00:00:1747028277.775273 1986181 tf_tfl_flatbuffer_helpers.cc:390] Ignored output_format.\n",
      "W0000 00:00:1747028277.775291 1986181 tf_tfl_flatbuffer_helpers.cc:393] Ignored drop_control_dependency.\n",
      "2025-05-12 08:37:57.775613: I tensorflow/cc/saved_model/reader.cc:83] Reading SavedModel from: saved_model\n",
      "2025-05-12 08:37:57.776980: I tensorflow/cc/saved_model/reader.cc:51] Reading meta graph with tags { serve }\n",
      "2025-05-12 08:37:57.776995: I tensorflow/cc/saved_model/reader.cc:146] Reading SavedModel debug info (if present) from: saved_model\n",
      "2025-05-12 08:37:57.795705: I tensorflow/cc/saved_model/loader.cc:234] Restoring SavedModel bundle.\n",
      "2025-05-12 08:37:57.853724: I tensorflow/cc/saved_model/loader.cc:218] Running initialization op on SavedModel bundle at path: saved_model\n",
      "2025-05-12 08:37:57.875522: I tensorflow/cc/saved_model/loader.cc:317] SavedModel load for tags { serve }; Status: success: OK. Took 99910 microseconds.\n"
     ]
    }
   ],
   "source": [
    "enc_df = compress_cnn_sz3(df_wind,\n",
    "                          wind_geo_dict,\n",
    "                          cor_lvl=0.87,\n",
    "                          use_dwt=False,\n",
    "                          window_size=64,\n",
    "                          num_epochs=200,\n",
    "                          extra_layer=True,\n",
    "                          conv_filter=3,\n",
    "                          plot_flag=False,\n",
    "                          er_abs_sz3=0.03,\n",
    "                          model_compress=\"zstd\")"
   ]
  },
  {
   "cell_type": "code",
   "execution_count": 42,
   "metadata": {},
   "outputs": [
    {
     "name": "stdout",
     "output_type": "stream",
     "text": [
      "Размер исходных данных: 429680 байт \n",
      "\n",
      "Размер сжатых данных: 32471 байт \n",
      "\n",
      "Коэффициент сжатия: 13.233\n"
     ]
    },
    {
     "data": {
      "text/plain": [
       "13.233"
      ]
     },
     "execution_count": 42,
     "metadata": {},
     "output_type": "execute_result"
    }
   ],
   "source": [
    "get_compress_info_cnn_sz3(df_wind, enc_df)"
   ]
  },
  {
   "cell_type": "code",
   "execution_count": 43,
   "metadata": {},
   "outputs": [
    {
     "name": "stdout",
     "output_type": "stream",
     "text": [
      "[0.         0.08625    0.045      ... 0.0879953  0.02664699 0.04418186] \n",
      "\n",
      "[0.         0.0525     0.09       ... 0.0984615  0.03651817 0.06291115] \n",
      "\n",
      "[0.         0.065625   0.1125     ... 0.09749465 0.03222555 0.05163482] \n",
      "\n",
      "[0.         0.06375    0.195      ... 0.42629611 0.43175125 0.30069396] \n",
      "\n",
      "[0.         0.0525     0.09       ... 0.40324944 0.36587253 0.29813614] \n",
      "\n",
      "[0.         0.07125    0.225      ... 0.3866871  0.33416626 0.26067394] \n",
      "\n",
      "[0.         0.0975     0.27       ... 0.35248905 0.15847607 0.18758596] \n",
      "\n"
     ]
    }
   ],
   "source": [
    "dec_df = decomress_cnn_sz3(enc_df, (5371,), use_dwt=False)\n",
    "dec_df = dec_df.sort_index(axis=1)"
   ]
  },
  {
   "cell_type": "code",
   "execution_count": 44,
   "metadata": {},
   "outputs": [
    {
     "name": "stdout",
     "output_type": "stream",
     "text": [
      "<class 'pandas.core.frame.DataFrame'>\n",
      "RangeIndex: 5371 entries, 0 to 5370\n",
      "Data columns (total 10 columns):\n",
      " #   Column    Non-Null Count  Dtype  \n",
      "---  ------    --------------  -----  \n",
      " 0   sensor_0  5371 non-null   float64\n",
      " 1   sensor_1  5371 non-null   float64\n",
      " 2   sensor_2  5371 non-null   float64\n",
      " 3   sensor_3  5371 non-null   float64\n",
      " 4   sensor_4  5371 non-null   float64\n",
      " 5   sensor_5  5371 non-null   float64\n",
      " 6   sensor_6  5371 non-null   float64\n",
      " 7   sensor_7  5371 non-null   float64\n",
      " 8   sensor_8  5371 non-null   float64\n",
      " 9   sensor_9  5371 non-null   float64\n",
      "dtypes: float64(10)\n",
      "memory usage: 419.7 KB\n"
     ]
    }
   ],
   "source": [
    "dec_df.info()"
   ]
  },
  {
   "cell_type": "code",
   "execution_count": 45,
   "metadata": {},
   "outputs": [
    {
     "name": "stdout",
     "output_type": "stream",
     "text": [
      "MSE: 0.005313 \n",
      "\n",
      "MAPE: 61.24 %\n"
     ]
    },
    {
     "data": {
      "text/plain": [
       "(0.005313, 61.24)"
      ]
     },
     "execution_count": 45,
     "metadata": {},
     "output_type": "execute_result"
    }
   ],
   "source": [
    "get_errors(df_wind, dec_df)"
   ]
  },
  {
   "cell_type": "markdown",
   "metadata": {},
   "source": [
    "### Добавление DWT."
   ]
  },
  {
   "cell_type": "markdown",
   "metadata": {},
   "source": [
    "Теперь будем использовать модель, выделяя дополнительные признаки - коэффициенты DWT."
   ]
  },
  {
   "cell_type": "markdown",
   "metadata": {},
   "source": [
    "Сожмем данные только кластера с помощью CNN и SZ3."
   ]
  },
  {
   "cell_type": "code",
   "execution_count": 46,
   "metadata": {},
   "outputs": [
    {
     "data": {
      "image/png": "[encoded data removed]",
      "text/plain": [
       "<Figure size 1000x500 with 1 Axes>"
      ]
     },
     "metadata": {},
     "output_type": "display_data"
    },
    {
     "name": "stdout",
     "output_type": "stream",
     "text": [
      "INFO:tensorflow:Assets written to: saved_model/assets\n"
     ]
    },
    {
     "name": "stderr",
     "output_type": "stream",
     "text": [
      "INFO:tensorflow:Assets written to: saved_model/assets\n"
     ]
    },
    {
     "name": "stdout",
     "output_type": "stream",
     "text": [
      "Saved artifact at 'saved_model'. The following endpoints are available:\n",
      "\n",
      "* Endpoint 'serve'\n",
      "  args_0 (POSITIONAL_ONLY): List[TensorSpec(shape=(None, 64, 1), dtype=tf.float32, name='seq_input'), TensorSpec(shape=(None, 77), dtype=tf.float32, name='dwt_input')]\n",
      "Output Type:\n",
      "  TensorSpec(shape=(None, 3), dtype=tf.float32, name=None)\n",
      "Captures:\n",
      "  140650363990256: TensorSpec(shape=(), dtype=tf.resource, name=None)\n",
      "  140650363990960: TensorSpec(shape=(), dtype=tf.resource, name=None)\n",
      "  140650363990080: TensorSpec(shape=(), dtype=tf.resource, name=None)\n",
      "  140650363860768: TensorSpec(shape=(), dtype=tf.resource, name=None)\n",
      "  140650363861296: TensorSpec(shape=(), dtype=tf.resource, name=None)\n",
      "  140650363958368: TensorSpec(shape=(), dtype=tf.resource, name=None)\n",
      "  140650363958016: TensorSpec(shape=(), dtype=tf.resource, name=None)\n",
      "  140650363960128: TensorSpec(shape=(), dtype=tf.resource, name=None)\n",
      "  140650363959600: TensorSpec(shape=(), dtype=tf.resource, name=None)\n",
      "Size of compressed model (bytes): 10334\n"
     ]
    },
    {
     "name": "stderr",
     "output_type": "stream",
     "text": [
      "W0000 00:00:1746942918.584585 1685803 tf_tfl_flatbuffer_helpers.cc:390] Ignored output_format.\n",
      "W0000 00:00:1746942918.584645 1685803 tf_tfl_flatbuffer_helpers.cc:393] Ignored drop_control_dependency.\n",
      "2025-05-11 08:55:18.585195: I tensorflow/cc/saved_model/reader.cc:83] Reading SavedModel from: saved_model\n",
      "2025-05-11 08:55:18.587494: I tensorflow/cc/saved_model/reader.cc:51] Reading meta graph with tags { serve }\n",
      "2025-05-11 08:55:18.587515: I tensorflow/cc/saved_model/reader.cc:146] Reading SavedModel debug info (if present) from: saved_model\n",
      "2025-05-11 08:55:18.610114: I tensorflow/cc/saved_model/loader.cc:234] Restoring SavedModel bundle.\n",
      "2025-05-11 08:55:18.682041: I tensorflow/cc/saved_model/loader.cc:218] Running initialization op on SavedModel bundle at path: saved_model\n",
      "2025-05-11 08:55:18.705649: I tensorflow/cc/saved_model/loader.cc:317] SavedModel load for tags { serve }; Status: success: OK. Took 120487 microseconds.\n"
     ]
    }
   ],
   "source": [
    "cluster_enc = {}\n",
    "cluster_sensors = ['sensor_0', 'sensor_2', 'sensor_1', 'sensor_6'] #выделяем коррелирующие сенсоры\n",
    "cluster_enc[tuple(cluster_sensors)] = compress_cnn_cluster(df_wind[cluster_sensors], use_dwt=True,\n",
    "                                                           window_size=64, num_epochs=350, conv_filter=3, plot_flag=True,\n",
    "                                                           er_abs_sz3=0.03,  model_compress=\"zstd\")"
   ]
  },
  {
   "cell_type": "code",
   "execution_count": 47,
   "metadata": {},
   "outputs": [
    {
     "name": "stdout",
     "output_type": "stream",
     "text": [
      "Сжатия кластера \n",
      "\n",
      "Размер исходных данных: 171872 байт \n",
      "\n",
      "Размер сжатых данных: 13643 байт \n",
      "\n",
      "Коэффициент сжатия: 12.598\n"
     ]
    }
   ],
   "source": [
    "print('Сжатия кластера \\n')\n",
    "get_compress_info_cnn_sz3(df_wind[cluster_sensors], cluster_enc)"
   ]
  },
  {
   "cell_type": "code",
   "execution_count": 48,
   "metadata": {},
   "outputs": [
    {
     "name": "stdout",
     "output_type": "stream",
     "text": [
      "[0.         0.05707031 0.06515625 ... 0.02588383 0.15667096 0.13106911] \n",
      "\n",
      "[0.06       0.08378906 0.10078125 ... 0.03902733 0.18678077 0.15011126] \n",
      "\n",
      "[0.06       0.09011719 0.12796875 ... 0.03354609 0.17022765 0.13841486] \n",
      "\n"
     ]
    }
   ],
   "source": [
    "dec_cluster_df = decomress_cnn_sz3(cluster_enc, (5371,), use_dwt=True)\n",
    "dec_cluster_df = dec_cluster_df.sort_index(axis=1)"
   ]
  },
  {
   "cell_type": "code",
   "execution_count": 49,
   "metadata": {},
   "outputs": [
    {
     "name": "stdout",
     "output_type": "stream",
     "text": [
      "MSE: 0.005985 \n",
      "\n",
      "MAPE: 76.53 %\n"
     ]
    }
   ],
   "source": [
    "get_errors(df_wind[cluster_sensors], dec_cluster_df)"
   ]
  },
  {
   "cell_type": "markdown",
   "metadata": {},
   "source": [
    "Теперь сожмем все данные."
   ]
  },
  {
   "cell_type": "code",
   "execution_count": 46,
   "metadata": {},
   "outputs": [
    {
     "name": "stdout",
     "output_type": "stream",
     "text": [
      "['sensor_6', 'sensor_9', 'sensor_5', 'sensor_2', 'sensor_1', 'sensor_8', 'sensor_3', 'sensor_7', 'sensor_4']\n",
      "clust: ['sensor_0']\n",
      "it, sen: sensor_0 sensor_6\n",
      "clust: ['sensor_0', 'sensor_6']\n",
      "it, sen: sensor_0 sensor_9\n",
      "clust: ['sensor_0', 'sensor_6', 'sensor_9']\n",
      "it, sen: sensor_0 sensor_5\n",
      "clust: ['sensor_0', 'sensor_6', 'sensor_9', 'sensor_5']\n",
      "it, sen: sensor_0 sensor_2\n",
      "Sensors in cluster: ['sensor_0', 'sensor_6', 'sensor_9', 'sensor_5'] \n",
      "\n",
      "INFO:tensorflow:Assets written to: saved_model/assets\n"
     ]
    },
    {
     "name": "stderr",
     "output_type": "stream",
     "text": [
      "INFO:tensorflow:Assets written to: saved_model/assets\n"
     ]
    },
    {
     "name": "stdout",
     "output_type": "stream",
     "text": [
      "Saved artifact at 'saved_model'. The following endpoints are available:\n",
      "\n",
      "* Endpoint 'serve'\n",
      "  args_0 (POSITIONAL_ONLY): List[TensorSpec(shape=(None, 64, 1), dtype=tf.float32, name='seq_input'), TensorSpec(shape=(None, 77), dtype=tf.float32, name='dwt_input')]\n",
      "Output Type:\n",
      "  TensorSpec(shape=(None, 3), dtype=tf.float32, name=None)\n",
      "Captures:\n",
      "  140385020549248: TensorSpec(shape=(), dtype=tf.resource, name=None)\n",
      "  140385021395888: TensorSpec(shape=(), dtype=tf.resource, name=None)\n",
      "  140385021395712: TensorSpec(shape=(), dtype=tf.resource, name=None)\n",
      "  140385021433104: TensorSpec(shape=(), dtype=tf.resource, name=None)\n",
      "  140385021433456: TensorSpec(shape=(), dtype=tf.resource, name=None)\n",
      "  140385008583600: TensorSpec(shape=(), dtype=tf.resource, name=None)\n",
      "  140385008583248: TensorSpec(shape=(), dtype=tf.resource, name=None)\n",
      "  140385008586416: TensorSpec(shape=(), dtype=tf.resource, name=None)\n",
      "  140385008740480: TensorSpec(shape=(), dtype=tf.resource, name=None)\n"
     ]
    },
    {
     "name": "stderr",
     "output_type": "stream",
     "text": [
      "W0000 00:00:1747031168.871100 1986181 tf_tfl_flatbuffer_helpers.cc:390] Ignored output_format.\n",
      "W0000 00:00:1747031168.871129 1986181 tf_tfl_flatbuffer_helpers.cc:393] Ignored drop_control_dependency.\n",
      "2025-05-12 09:26:08.871533: I tensorflow/cc/saved_model/reader.cc:83] Reading SavedModel from: saved_model\n",
      "2025-05-12 09:26:08.873216: I tensorflow/cc/saved_model/reader.cc:51] Reading meta graph with tags { serve }\n",
      "2025-05-12 09:26:08.873231: I tensorflow/cc/saved_model/reader.cc:146] Reading SavedModel debug info (if present) from: saved_model\n",
      "2025-05-12 09:26:08.893127: I tensorflow/cc/saved_model/loader.cc:234] Restoring SavedModel bundle.\n",
      "2025-05-12 09:26:08.952155: I tensorflow/cc/saved_model/loader.cc:218] Running initialization op on SavedModel bundle at path: saved_model\n",
      "2025-05-12 09:26:08.973387: I tensorflow/cc/saved_model/loader.cc:317] SavedModel load for tags { serve }; Status: success: OK. Took 101864 microseconds.\n"
     ]
    },
    {
     "name": "stdout",
     "output_type": "stream",
     "text": [
      "Size of compressed model (bytes): 11794\n",
      "['sensor_1', 'sensor_8', 'sensor_4', 'sensor_7', 'sensor_3']\n",
      "clust: ['sensor_2']\n",
      "it, sen: sensor_2 sensor_1\n",
      "clust: ['sensor_2', 'sensor_1']\n",
      "it, sen: sensor_2 sensor_8\n",
      "clust: ['sensor_2', 'sensor_1', 'sensor_8']\n",
      "it, sen: sensor_2 sensor_4\n",
      "clust: ['sensor_2', 'sensor_1', 'sensor_8', 'sensor_4']\n",
      "it, sen: sensor_2 sensor_7\n",
      "Sensors in cluster: ['sensor_2', 'sensor_1', 'sensor_8', 'sensor_4'] \n",
      "\n",
      "INFO:tensorflow:Assets written to: saved_model/assets\n"
     ]
    },
    {
     "name": "stderr",
     "output_type": "stream",
     "text": [
      "INFO:tensorflow:Assets written to: saved_model/assets\n"
     ]
    },
    {
     "name": "stdout",
     "output_type": "stream",
     "text": [
      "Saved artifact at 'saved_model'. The following endpoints are available:\n",
      "\n",
      "* Endpoint 'serve'\n",
      "  args_0 (POSITIONAL_ONLY): List[TensorSpec(shape=(None, 64, 1), dtype=tf.float32, name='seq_input'), TensorSpec(shape=(None, 77), dtype=tf.float32, name='dwt_input')]\n",
      "Output Type:\n",
      "  TensorSpec(shape=(None, 3), dtype=tf.float32, name=None)\n",
      "Captures:\n",
      "  140385032043152: TensorSpec(shape=(), dtype=tf.resource, name=None)\n",
      "  140385032043680: TensorSpec(shape=(), dtype=tf.resource, name=None)\n",
      "  140385032047776: TensorSpec(shape=(), dtype=tf.resource, name=None)\n",
      "  140385032156256: TensorSpec(shape=(), dtype=tf.resource, name=None)\n",
      "  140385032156432: TensorSpec(shape=(), dtype=tf.resource, name=None)\n",
      "  140385032156784: TensorSpec(shape=(), dtype=tf.resource, name=None)\n",
      "  140385032156080: TensorSpec(shape=(), dtype=tf.resource, name=None)\n",
      "  140385032157488: TensorSpec(shape=(), dtype=tf.resource, name=None)\n",
      "  140385032157312: TensorSpec(shape=(), dtype=tf.resource, name=None)\n"
     ]
    },
    {
     "name": "stderr",
     "output_type": "stream",
     "text": [
      "W0000 00:00:1747031223.192690 1986181 tf_tfl_flatbuffer_helpers.cc:390] Ignored output_format.\n",
      "W0000 00:00:1747031223.192708 1986181 tf_tfl_flatbuffer_helpers.cc:393] Ignored drop_control_dependency.\n",
      "2025-05-12 09:27:03.193037: I tensorflow/cc/saved_model/reader.cc:83] Reading SavedModel from: saved_model\n",
      "2025-05-12 09:27:03.194506: I tensorflow/cc/saved_model/reader.cc:51] Reading meta graph with tags { serve }\n",
      "2025-05-12 09:27:03.194521: I tensorflow/cc/saved_model/reader.cc:146] Reading SavedModel debug info (if present) from: saved_model\n",
      "2025-05-12 09:27:03.213558: I tensorflow/cc/saved_model/loader.cc:234] Restoring SavedModel bundle.\n",
      "2025-05-12 09:27:03.272397: I tensorflow/cc/saved_model/loader.cc:218] Running initialization op on SavedModel bundle at path: saved_model\n",
      "2025-05-12 09:27:03.295086: I tensorflow/cc/saved_model/loader.cc:317] SavedModel load for tags { serve }; Status: success: OK. Took 102050 microseconds.\n"
     ]
    },
    {
     "name": "stdout",
     "output_type": "stream",
     "text": [
      "Size of compressed model (bytes): 11813\n",
      "['sensor_3']\n",
      "clust: ['sensor_7']\n",
      "it, sen: sensor_7 sensor_3\n",
      "last cluster: ['sensor_7', 'sensor_3']\n",
      "INFO:tensorflow:Assets written to: saved_model/assets\n"
     ]
    },
    {
     "name": "stderr",
     "output_type": "stream",
     "text": [
      "INFO:tensorflow:Assets written to: saved_model/assets\n"
     ]
    },
    {
     "name": "stdout",
     "output_type": "stream",
     "text": [
      "Saved artifact at 'saved_model'. The following endpoints are available:\n",
      "\n",
      "* Endpoint 'serve'\n",
      "  args_0 (POSITIONAL_ONLY): List[TensorSpec(shape=(None, 64, 1), dtype=tf.float32, name='seq_input'), TensorSpec(shape=(None, 77), dtype=tf.float32, name='dwt_input')]\n",
      "Output Type:\n",
      "  TensorSpec(shape=(None, 1), dtype=tf.float32, name=None)\n",
      "Captures:\n",
      "  140385078132976: TensorSpec(shape=(), dtype=tf.resource, name=None)\n",
      "  140385078132800: TensorSpec(shape=(), dtype=tf.resource, name=None)\n",
      "  140385078133328: TensorSpec(shape=(), dtype=tf.resource, name=None)\n",
      "  140385078084000: TensorSpec(shape=(), dtype=tf.resource, name=None)\n",
      "  140385078084352: TensorSpec(shape=(), dtype=tf.resource, name=None)\n",
      "  140385078085408: TensorSpec(shape=(), dtype=tf.resource, name=None)\n",
      "  140385078087344: TensorSpec(shape=(), dtype=tf.resource, name=None)\n",
      "  140385085132464: TensorSpec(shape=(), dtype=tf.resource, name=None)\n",
      "  140385078646032: TensorSpec(shape=(), dtype=tf.resource, name=None)\n",
      "Size of compressed model (bytes): 11729\n"
     ]
    },
    {
     "name": "stderr",
     "output_type": "stream",
     "text": [
      "W0000 00:00:1747031278.063418 1986181 tf_tfl_flatbuffer_helpers.cc:390] Ignored output_format.\n",
      "W0000 00:00:1747031278.063437 1986181 tf_tfl_flatbuffer_helpers.cc:393] Ignored drop_control_dependency.\n",
      "2025-05-12 09:27:58.063732: I tensorflow/cc/saved_model/reader.cc:83] Reading SavedModel from: saved_model\n",
      "2025-05-12 09:27:58.065299: I tensorflow/cc/saved_model/reader.cc:51] Reading meta graph with tags { serve }\n",
      "2025-05-12 09:27:58.065318: I tensorflow/cc/saved_model/reader.cc:146] Reading SavedModel debug info (if present) from: saved_model\n",
      "2025-05-12 09:27:58.083790: I tensorflow/cc/saved_model/loader.cc:234] Restoring SavedModel bundle.\n",
      "2025-05-12 09:27:58.144837: I tensorflow/cc/saved_model/loader.cc:218] Running initialization op on SavedModel bundle at path: saved_model\n",
      "2025-05-12 09:27:58.167187: I tensorflow/cc/saved_model/loader.cc:317] SavedModel load for tags { serve }; Status: success: OK. Took 103456 microseconds.\n"
     ]
    }
   ],
   "source": [
    "#lz4 model compression\n",
    "enc_df = compress_cnn_sz3(df_wind,\n",
    "                          wind_geo_dict,\n",
    "                          cor_lvl=0.87,\n",
    "                          use_dwt=True,\n",
    "                          window_size=64,\n",
    "                          num_epochs=40,\n",
    "                          conv_filter=3,\n",
    "                          plot_flag=False,\n",
    "                          er_abs_sz3=0.03,\n",
    "                          model_compress=\"lz4\")"
   ]
  },
  {
   "cell_type": "code",
   "execution_count": 47,
   "metadata": {},
   "outputs": [
    {
     "name": "stdout",
     "output_type": "stream",
     "text": [
      "Размер исходных данных: 429680 байт \n",
      "\n",
      "Размер сжатых данных: 44447 байт \n",
      "\n",
      "Коэффициент сжатия: 9.667\n"
     ]
    },
    {
     "data": {
      "text/plain": [
       "9.667"
      ]
     },
     "execution_count": 47,
     "metadata": {},
     "output_type": "execute_result"
    }
   ],
   "source": [
    "get_compress_info_cnn_sz3(df_wind, enc_df)"
   ]
  },
  {
   "cell_type": "code",
   "execution_count": 37,
   "metadata": {},
   "outputs": [
    {
     "name": "stdout",
     "output_type": "stream",
     "text": [
      "['sensor_6', 'sensor_9', 'sensor_5', 'sensor_2', 'sensor_1', 'sensor_8', 'sensor_3', 'sensor_7', 'sensor_4']\n",
      "clust: ['sensor_0']\n",
      "it, sen: sensor_0 sensor_6\n",
      "clust: ['sensor_0', 'sensor_6']\n",
      "it, sen: sensor_0 sensor_9\n",
      "clust: ['sensor_0', 'sensor_6', 'sensor_9']\n",
      "it, sen: sensor_0 sensor_5\n",
      "clust: ['sensor_0', 'sensor_6', 'sensor_9', 'sensor_5']\n",
      "it, sen: sensor_0 sensor_2\n",
      "Sensors in cluster: ['sensor_0', 'sensor_6', 'sensor_9', 'sensor_5'] \n",
      "\n",
      "INFO:tensorflow:Assets written to: saved_model/assets\n"
     ]
    },
    {
     "name": "stderr",
     "output_type": "stream",
     "text": [
      "INFO:tensorflow:Assets written to: saved_model/assets\n"
     ]
    },
    {
     "name": "stdout",
     "output_type": "stream",
     "text": [
      "Saved artifact at 'saved_model'. The following endpoints are available:\n",
      "\n",
      "* Endpoint 'serve'\n",
      "  args_0 (POSITIONAL_ONLY): List[TensorSpec(shape=(None, 64, 1), dtype=tf.float32, name='seq_input'), TensorSpec(shape=(None, 77), dtype=tf.float32, name='dwt_input')]\n",
      "Output Type:\n",
      "  TensorSpec(shape=(None, 3), dtype=tf.float32, name=None)\n",
      "Captures:\n",
      "  140384911697872: TensorSpec(shape=(), dtype=tf.resource, name=None)\n",
      "  140384911696112: TensorSpec(shape=(), dtype=tf.resource, name=None)\n",
      "  140384911699808: TensorSpec(shape=(), dtype=tf.resource, name=None)\n",
      "  140384925452768: TensorSpec(shape=(), dtype=tf.resource, name=None)\n",
      "  140384925452592: TensorSpec(shape=(), dtype=tf.resource, name=None)\n",
      "  140384925454000: TensorSpec(shape=(), dtype=tf.resource, name=None)\n",
      "  140384925452944: TensorSpec(shape=(), dtype=tf.resource, name=None)\n",
      "  140384925505488: TensorSpec(shape=(), dtype=tf.resource, name=None)\n",
      "  140384925504960: TensorSpec(shape=(), dtype=tf.resource, name=None)\n"
     ]
    },
    {
     "name": "stderr",
     "output_type": "stream",
     "text": [
      "W0000 00:00:1747026779.809312 1986181 tf_tfl_flatbuffer_helpers.cc:390] Ignored output_format.\n",
      "W0000 00:00:1747026779.809343 1986181 tf_tfl_flatbuffer_helpers.cc:393] Ignored drop_control_dependency.\n",
      "2025-05-12 08:12:59.809793: I tensorflow/cc/saved_model/reader.cc:83] Reading SavedModel from: saved_model\n",
      "2025-05-12 08:12:59.811886: I tensorflow/cc/saved_model/reader.cc:51] Reading meta graph with tags { serve }\n",
      "2025-05-12 08:12:59.811905: I tensorflow/cc/saved_model/reader.cc:146] Reading SavedModel debug info (if present) from: saved_model\n",
      "2025-05-12 08:12:59.831670: I tensorflow/cc/saved_model/loader.cc:234] Restoring SavedModel bundle.\n",
      "2025-05-12 08:12:59.892056: I tensorflow/cc/saved_model/loader.cc:218] Running initialization op on SavedModel bundle at path: saved_model\n",
      "2025-05-12 08:12:59.914271: I tensorflow/cc/saved_model/loader.cc:317] SavedModel load for tags { serve }; Status: success: OK. Took 104490 microseconds.\n"
     ]
    },
    {
     "name": "stdout",
     "output_type": "stream",
     "text": [
      "Size of compressed model (bytes): 10307\n",
      "['sensor_1', 'sensor_8', 'sensor_4', 'sensor_7', 'sensor_3']\n",
      "clust: ['sensor_2']\n",
      "it, sen: sensor_2 sensor_1\n",
      "clust: ['sensor_2', 'sensor_1']\n",
      "it, sen: sensor_2 sensor_8\n",
      "clust: ['sensor_2', 'sensor_1', 'sensor_8']\n",
      "it, sen: sensor_2 sensor_4\n",
      "clust: ['sensor_2', 'sensor_1', 'sensor_8', 'sensor_4']\n",
      "it, sen: sensor_2 sensor_7\n",
      "Sensors in cluster: ['sensor_2', 'sensor_1', 'sensor_8', 'sensor_4'] \n",
      "\n",
      "INFO:tensorflow:Assets written to: saved_model/assets\n"
     ]
    },
    {
     "name": "stderr",
     "output_type": "stream",
     "text": [
      "INFO:tensorflow:Assets written to: saved_model/assets\n"
     ]
    },
    {
     "name": "stdout",
     "output_type": "stream",
     "text": [
      "Saved artifact at 'saved_model'. The following endpoints are available:\n",
      "\n",
      "* Endpoint 'serve'\n",
      "  args_0 (POSITIONAL_ONLY): List[TensorSpec(shape=(None, 64, 1), dtype=tf.float32, name='seq_input'), TensorSpec(shape=(None, 77), dtype=tf.float32, name='dwt_input')]\n",
      "Output Type:\n",
      "  TensorSpec(shape=(None, 3), dtype=tf.float32, name=None)\n",
      "Captures:\n",
      "  140384899934336: TensorSpec(shape=(), dtype=tf.resource, name=None)\n",
      "  140384899955344: TensorSpec(shape=(), dtype=tf.resource, name=None)\n",
      "  140384899954288: TensorSpec(shape=(), dtype=tf.resource, name=None)\n",
      "  140384900055808: TensorSpec(shape=(), dtype=tf.resource, name=None)\n",
      "  140384900055984: TensorSpec(shape=(), dtype=tf.resource, name=None)\n",
      "  140384900056336: TensorSpec(shape=(), dtype=tf.resource, name=None)\n",
      "  140384900055632: TensorSpec(shape=(), dtype=tf.resource, name=None)\n",
      "  140384900057040: TensorSpec(shape=(), dtype=tf.resource, name=None)\n",
      "  140384900056864: TensorSpec(shape=(), dtype=tf.resource, name=None)\n"
     ]
    },
    {
     "name": "stderr",
     "output_type": "stream",
     "text": [
      "W0000 00:00:1747027113.884822 1986181 tf_tfl_flatbuffer_helpers.cc:390] Ignored output_format.\n",
      "W0000 00:00:1747027113.884840 1986181 tf_tfl_flatbuffer_helpers.cc:393] Ignored drop_control_dependency.\n",
      "2025-05-12 08:18:33.885134: I tensorflow/cc/saved_model/reader.cc:83] Reading SavedModel from: saved_model\n",
      "2025-05-12 08:18:33.886577: I tensorflow/cc/saved_model/reader.cc:51] Reading meta graph with tags { serve }\n",
      "2025-05-12 08:18:33.886591: I tensorflow/cc/saved_model/reader.cc:146] Reading SavedModel debug info (if present) from: saved_model\n",
      "2025-05-12 08:18:33.905600: I tensorflow/cc/saved_model/loader.cc:234] Restoring SavedModel bundle.\n",
      "2025-05-12 08:18:33.966123: I tensorflow/cc/saved_model/loader.cc:218] Running initialization op on SavedModel bundle at path: saved_model\n",
      "2025-05-12 08:18:33.988268: I tensorflow/cc/saved_model/loader.cc:317] SavedModel load for tags { serve }; Status: success: OK. Took 103136 microseconds.\n"
     ]
    },
    {
     "name": "stdout",
     "output_type": "stream",
     "text": [
      "Size of compressed model (bytes): 10267\n",
      "['sensor_3']\n",
      "clust: ['sensor_7']\n",
      "it, sen: sensor_7 sensor_3\n",
      "last cluster: ['sensor_7', 'sensor_3']\n",
      "INFO:tensorflow:Assets written to: saved_model/assets\n"
     ]
    },
    {
     "name": "stderr",
     "output_type": "stream",
     "text": [
      "INFO:tensorflow:Assets written to: saved_model/assets\n"
     ]
    },
    {
     "name": "stdout",
     "output_type": "stream",
     "text": [
      "Saved artifact at 'saved_model'. The following endpoints are available:\n",
      "\n",
      "* Endpoint 'serve'\n",
      "  args_0 (POSITIONAL_ONLY): List[TensorSpec(shape=(None, 64, 1), dtype=tf.float32, name='seq_input'), TensorSpec(shape=(None, 77), dtype=tf.float32, name='dwt_input')]\n",
      "Output Type:\n",
      "  TensorSpec(shape=(None, 1), dtype=tf.float32, name=None)\n",
      "Captures:\n",
      "  140385573740208: TensorSpec(shape=(), dtype=tf.resource, name=None)\n",
      "  140385573738800: TensorSpec(shape=(), dtype=tf.resource, name=None)\n",
      "  140385573740032: TensorSpec(shape=(), dtype=tf.resource, name=None)\n",
      "  140385568300720: TensorSpec(shape=(), dtype=tf.resource, name=None)\n",
      "  140385568215984: TensorSpec(shape=(), dtype=tf.resource, name=None)\n",
      "  140385572224688: TensorSpec(shape=(), dtype=tf.resource, name=None)\n",
      "  140385538881136: TensorSpec(shape=(), dtype=tf.resource, name=None)\n",
      "  140385538882720: TensorSpec(shape=(), dtype=tf.resource, name=None)\n",
      "  140385538880960: TensorSpec(shape=(), dtype=tf.resource, name=None)\n",
      "Size of compressed model (bytes): 10214\n"
     ]
    },
    {
     "name": "stderr",
     "output_type": "stream",
     "text": [
      "W0000 00:00:1747027449.202120 1986181 tf_tfl_flatbuffer_helpers.cc:390] Ignored output_format.\n",
      "W0000 00:00:1747027449.202136 1986181 tf_tfl_flatbuffer_helpers.cc:393] Ignored drop_control_dependency.\n",
      "2025-05-12 08:24:09.202424: I tensorflow/cc/saved_model/reader.cc:83] Reading SavedModel from: saved_model\n",
      "2025-05-12 08:24:09.203855: I tensorflow/cc/saved_model/reader.cc:51] Reading meta graph with tags { serve }\n",
      "2025-05-12 08:24:09.203870: I tensorflow/cc/saved_model/reader.cc:146] Reading SavedModel debug info (if present) from: saved_model\n",
      "2025-05-12 08:24:09.222436: I tensorflow/cc/saved_model/loader.cc:234] Restoring SavedModel bundle.\n",
      "2025-05-12 08:24:09.282438: I tensorflow/cc/saved_model/loader.cc:218] Running initialization op on SavedModel bundle at path: saved_model\n",
      "2025-05-12 08:24:09.304226: I tensorflow/cc/saved_model/loader.cc:317] SavedModel load for tags { serve }; Status: success: OK. Took 101800 microseconds.\n"
     ]
    }
   ],
   "source": [
    "#zstd model compression\n",
    "enc_df = compress_cnn_sz3(df_wind,\n",
    "                          wind_geo_dict,\n",
    "                          cor_lvl=0.87,\n",
    "                          use_dwt=True,\n",
    "                          window_size=64,\n",
    "                          num_epochs=250,\n",
    "                          conv_filter=3,\n",
    "                          plot_flag=False,\n",
    "                          er_abs_sz3=0.03,\n",
    "                          model_compress=\"zstd\")"
   ]
  },
  {
   "cell_type": "code",
   "execution_count": 38,
   "metadata": {},
   "outputs": [
    {
     "name": "stdout",
     "output_type": "stream",
     "text": [
      "Размер исходных данных: 429680 байт \n",
      "\n",
      "Размер сжатых данных: 39899 байт \n",
      "\n",
      "Коэффициент сжатия: 10.769\n"
     ]
    },
    {
     "data": {
      "text/plain": [
       "10.769"
      ]
     },
     "execution_count": 38,
     "metadata": {},
     "output_type": "execute_result"
    }
   ],
   "source": [
    "get_compress_info_cnn_sz3(df_wind, enc_df)"
   ]
  },
  {
   "cell_type": "code",
   "execution_count": 39,
   "metadata": {},
   "outputs": [
    {
     "name": "stdout",
     "output_type": "stream",
     "text": [
      "[0.         0.08625    0.045      ... 0.17483762 0.09292442 0.13183622] \n",
      "\n",
      "[0.         0.0525     0.09       ... 0.18826917 0.10249983 0.14112498] \n",
      "\n",
      "[0.         0.065625   0.1125     ... 0.1805364  0.09968077 0.13961458] \n",
      "\n",
      "[0.         0.06375    0.195      ... 0.33816993 0.37126908 0.24073459] \n",
      "\n",
      "[0.         0.0525     0.09       ... 0.36457416 0.39828444 0.28940096] \n",
      "\n",
      "[0.         0.07125    0.225      ... 0.31161356 0.33561993 0.24280573] \n",
      "\n",
      "[0.         0.0975     0.27       ... 0.16759109 0.1528623  0.23267841] \n",
      "\n"
     ]
    }
   ],
   "source": [
    "dec_df = decomress_cnn_sz3(enc_df, (5371,), use_dwt=True, model_compress=\"zstd\")\n",
    "dec_df = dec_df.sort_index(axis=1)"
   ]
  },
  {
   "cell_type": "code",
   "execution_count": 40,
   "metadata": {},
   "outputs": [
    {
     "name": "stdout",
     "output_type": "stream",
     "text": [
      "MSE: 0.005521 \n",
      "\n",
      "MAPE: 62.09 %\n"
     ]
    },
    {
     "data": {
      "text/plain": [
       "(0.005521, 62.09)"
      ]
     },
     "execution_count": 40,
     "metadata": {},
     "output_type": "execute_result"
    }
   ],
   "source": [
    "get_errors(df_wind, dec_df)"
   ]
  },
  {
   "cell_type": "markdown",
   "metadata": {},
   "source": [
    "## Time and memory usage"
   ]
  },
  {
   "cell_type": "code",
   "execution_count": 71,
   "metadata": {},
   "outputs": [
    {
     "data": {
      "text/html": [
       "<div>\n",
       "<style scoped>\n",
       "    .dataframe tbody tr th:only-of-type {\n",
       "        vertical-align: middle;\n",
       "    }\n",
       "\n",
       "    .dataframe tbody tr th {\n",
       "        vertical-align: top;\n",
       "    }\n",
       "\n",
       "    .dataframe thead th {\n",
       "        text-align: right;\n",
       "    }\n",
       "</style>\n",
       "<table border=\"1\" class=\"dataframe\">\n",
       "  <thead>\n",
       "    <tr style=\"text-align: right;\">\n",
       "      <th></th>\n",
       "      <th>Method</th>\n",
       "      <th>Mean (s)</th>\n",
       "      <th>Std Dev (s)</th>\n",
       "    </tr>\n",
       "  </thead>\n",
       "  <tbody>\n",
       "    <tr>\n",
       "      <th>0</th>\n",
       "      <td>sprintz_enc</td>\n",
       "      <td>0.207376</td>\n",
       "      <td>0.026185</td>\n",
       "    </tr>\n",
       "    <tr>\n",
       "      <th>1</th>\n",
       "      <td>sprintz_dec</td>\n",
       "      <td>0.109163</td>\n",
       "      <td>0.017483</td>\n",
       "    </tr>\n",
       "    <tr>\n",
       "      <th>2</th>\n",
       "      <td>xor_enc</td>\n",
       "      <td>0.171229</td>\n",
       "      <td>0.006939</td>\n",
       "    </tr>\n",
       "    <tr>\n",
       "      <th>3</th>\n",
       "      <td>LZ4_enc</td>\n",
       "      <td>0.000871</td>\n",
       "      <td>0.000078</td>\n",
       "    </tr>\n",
       "    <tr>\n",
       "      <th>4</th>\n",
       "      <td>LZ4_dec</td>\n",
       "      <td>0.000362</td>\n",
       "      <td>0.000001</td>\n",
       "    </tr>\n",
       "    <tr>\n",
       "      <th>5</th>\n",
       "      <td>spatial_xor_enc</td>\n",
       "      <td>0.147704</td>\n",
       "      <td>0.008136</td>\n",
       "    </tr>\n",
       "    <tr>\n",
       "      <th>6</th>\n",
       "      <td>spatial_xor_dec</td>\n",
       "      <td>0.265852</td>\n",
       "      <td>0.008654</td>\n",
       "    </tr>\n",
       "    <tr>\n",
       "      <th>7</th>\n",
       "      <td>spatial_sprintz_enc</td>\n",
       "      <td>2.287905</td>\n",
       "      <td>0.241062</td>\n",
       "    </tr>\n",
       "    <tr>\n",
       "      <th>8</th>\n",
       "      <td>spatial_sprintz_dec</td>\n",
       "      <td>1.277833</td>\n",
       "      <td>0.234049</td>\n",
       "    </tr>\n",
       "    <tr>\n",
       "      <th>9</th>\n",
       "      <td>PCA_enc</td>\n",
       "      <td>0.007192</td>\n",
       "      <td>0.001103</td>\n",
       "    </tr>\n",
       "    <tr>\n",
       "      <th>10</th>\n",
       "      <td>PCA_dec</td>\n",
       "      <td>0.078560</td>\n",
       "      <td>0.007566</td>\n",
       "    </tr>\n",
       "    <tr>\n",
       "      <th>11</th>\n",
       "      <td>SZ3_enc</td>\n",
       "      <td>0.007063</td>\n",
       "      <td>0.000741</td>\n",
       "    </tr>\n",
       "    <tr>\n",
       "      <th>12</th>\n",
       "      <td>SZ3_dec</td>\n",
       "      <td>0.096495</td>\n",
       "      <td>0.011026</td>\n",
       "    </tr>\n",
       "    <tr>\n",
       "      <th>13</th>\n",
       "      <td>SZ3_CNN_ZSTD_enc</td>\n",
       "      <td>39.358457</td>\n",
       "      <td>4.676428</td>\n",
       "    </tr>\n",
       "    <tr>\n",
       "      <th>14</th>\n",
       "      <td>SZ3_CNN_LZ4_enc</td>\n",
       "      <td>38.352982</td>\n",
       "      <td>1.167004</td>\n",
       "    </tr>\n",
       "    <tr>\n",
       "      <th>15</th>\n",
       "      <td>SZ3_CNN_ZSTD_dec</td>\n",
       "      <td>0.078025</td>\n",
       "      <td>0.000403</td>\n",
       "    </tr>\n",
       "    <tr>\n",
       "      <th>16</th>\n",
       "      <td>SZ3_CNN_LZ4_dec</td>\n",
       "      <td>0.078679</td>\n",
       "      <td>0.000563</td>\n",
       "    </tr>\n",
       "  </tbody>\n",
       "</table>\n",
       "</div>"
      ],
      "text/plain": [
       "                 Method   Mean (s)  Std Dev (s)\n",
       "0           sprintz_enc   0.207376     0.026185\n",
       "1           sprintz_dec   0.109163     0.017483\n",
       "2               xor_enc   0.171229     0.006939\n",
       "3               LZ4_enc   0.000871     0.000078\n",
       "4               LZ4_dec   0.000362     0.000001\n",
       "5       spatial_xor_enc   0.147704     0.008136\n",
       "6       spatial_xor_dec   0.265852     0.008654\n",
       "7   spatial_sprintz_enc   2.287905     0.241062\n",
       "8   spatial_sprintz_dec   1.277833     0.234049\n",
       "9               PCA_enc   0.007192     0.001103\n",
       "10              PCA_dec   0.078560     0.007566\n",
       "11              SZ3_enc   0.007063     0.000741\n",
       "12              SZ3_dec   0.096495     0.011026\n",
       "13     SZ3_CNN_ZSTD_enc  39.358457     4.676428\n",
       "14      SZ3_CNN_LZ4_enc  38.352982     1.167004\n",
       "15     SZ3_CNN_ZSTD_dec   0.078025     0.000403\n",
       "16      SZ3_CNN_LZ4_dec   0.078679     0.000563"
      ]
     },
     "execution_count": 71,
     "metadata": {},
     "output_type": "execute_result"
    }
   ],
   "source": [
    "rows = []\n",
    "for key, value in time_dict.items():\n",
    "    mean = value.average\n",
    "    std_dev = value.stdev\n",
    "    rows.append({'Method': key, 'Mean (s)': mean, 'Std Dev (s)': std_dev})\n",
    "time_df = pd.DataFrame(rows)\n",
    "time_df.to_excel(\"time_usage.xlsx\", index=False)\n",
    "time_df"
   ]
  },
  {
   "cell_type": "code",
   "execution_count": 72,
   "metadata": {},
   "outputs": [
    {
     "data": {
      "text/html": [
       "<div>\n",
       "<style scoped>\n",
       "    .dataframe tbody tr th:only-of-type {\n",
       "        vertical-align: middle;\n",
       "    }\n",
       "\n",
       "    .dataframe tbody tr th {\n",
       "        vertical-align: top;\n",
       "    }\n",
       "\n",
       "    .dataframe thead th {\n",
       "        text-align: right;\n",
       "    }\n",
       "</style>\n",
       "<table border=\"1\" class=\"dataframe\">\n",
       "  <thead>\n",
       "    <tr style=\"text-align: right;\">\n",
       "      <th></th>\n",
       "      <th>Method</th>\n",
       "      <th>Memory Usage (MB)</th>\n",
       "    </tr>\n",
       "  </thead>\n",
       "  <tbody>\n",
       "    <tr>\n",
       "      <th>0</th>\n",
       "      <td>sprintz_enc</td>\n",
       "      <td>-2.968750</td>\n",
       "    </tr>\n",
       "    <tr>\n",
       "      <th>1</th>\n",
       "      <td>sprintz_dec</td>\n",
       "      <td>0.042969</td>\n",
       "    </tr>\n",
       "    <tr>\n",
       "      <th>2</th>\n",
       "      <td>xor_enc</td>\n",
       "      <td>0.000000</td>\n",
       "    </tr>\n",
       "    <tr>\n",
       "      <th>3</th>\n",
       "      <td>xor_dec</td>\n",
       "      <td>0.007812</td>\n",
       "    </tr>\n",
       "    <tr>\n",
       "      <th>4</th>\n",
       "      <td>LZ4_enc</td>\n",
       "      <td>0.000000</td>\n",
       "    </tr>\n",
       "    <tr>\n",
       "      <th>5</th>\n",
       "      <td>LZ4_dec</td>\n",
       "      <td>0.000000</td>\n",
       "    </tr>\n",
       "    <tr>\n",
       "      <th>6</th>\n",
       "      <td>spatial_xor_enc</td>\n",
       "      <td>1.890625</td>\n",
       "    </tr>\n",
       "    <tr>\n",
       "      <th>7</th>\n",
       "      <td>spatial_xor_dec</td>\n",
       "      <td>0.085938</td>\n",
       "    </tr>\n",
       "    <tr>\n",
       "      <th>8</th>\n",
       "      <td>spatial_sprintz_enc</td>\n",
       "      <td>0.066406</td>\n",
       "    </tr>\n",
       "    <tr>\n",
       "      <th>9</th>\n",
       "      <td>spatial_sprintz_dec</td>\n",
       "      <td>0.261719</td>\n",
       "    </tr>\n",
       "    <tr>\n",
       "      <th>10</th>\n",
       "      <td>PCA_enc</td>\n",
       "      <td>0.875000</td>\n",
       "    </tr>\n",
       "    <tr>\n",
       "      <th>11</th>\n",
       "      <td>PCA_dec</td>\n",
       "      <td>0.000000</td>\n",
       "    </tr>\n",
       "    <tr>\n",
       "      <th>12</th>\n",
       "      <td>SZ3_enc</td>\n",
       "      <td>0.027344</td>\n",
       "    </tr>\n",
       "    <tr>\n",
       "      <th>13</th>\n",
       "      <td>SZ3_dec</td>\n",
       "      <td>0.175781</td>\n",
       "    </tr>\n",
       "    <tr>\n",
       "      <th>14</th>\n",
       "      <td>SZ3_CNN_ZSTD_enc</td>\n",
       "      <td>21.222656</td>\n",
       "    </tr>\n",
       "    <tr>\n",
       "      <th>15</th>\n",
       "      <td>SZ3_CNN_LZ4_enc</td>\n",
       "      <td>232.335938</td>\n",
       "    </tr>\n",
       "    <tr>\n",
       "      <th>16</th>\n",
       "      <td>SZ3_CNN_ZSTD_dec</td>\n",
       "      <td>6.734375</td>\n",
       "    </tr>\n",
       "    <tr>\n",
       "      <th>17</th>\n",
       "      <td>SZ3_CNN_LZ4_dec</td>\n",
       "      <td>-1.750000</td>\n",
       "    </tr>\n",
       "  </tbody>\n",
       "</table>\n",
       "</div>"
      ],
      "text/plain": [
       "                 Method  Memory Usage (MB)\n",
       "0           sprintz_enc          -2.968750\n",
       "1           sprintz_dec           0.042969\n",
       "2               xor_enc           0.000000\n",
       "3               xor_dec           0.007812\n",
       "4               LZ4_enc           0.000000\n",
       "5               LZ4_dec           0.000000\n",
       "6       spatial_xor_enc           1.890625\n",
       "7       spatial_xor_dec           0.085938\n",
       "8   spatial_sprintz_enc           0.066406\n",
       "9   spatial_sprintz_dec           0.261719\n",
       "10              PCA_enc           0.875000\n",
       "11              PCA_dec           0.000000\n",
       "12              SZ3_enc           0.027344\n",
       "13              SZ3_dec           0.175781\n",
       "14     SZ3_CNN_ZSTD_enc          21.222656\n",
       "15      SZ3_CNN_LZ4_enc         232.335938\n",
       "16     SZ3_CNN_ZSTD_dec           6.734375\n",
       "17      SZ3_CNN_LZ4_dec          -1.750000"
      ]
     },
     "execution_count": 72,
     "metadata": {},
     "output_type": "execute_result"
    }
   ],
   "source": [
    "mem_df = pd.DataFrame(list(mem_dict.items()), columns=['Method', 'Memory Usage (MB)'])\n",
    "mem_df.to_excel(\"mem_usage.xlsx\", index=False)\n",
    "mem_df"
   ]
  },
  {
   "cell_type": "markdown",
   "metadata": {},
   "source": [
    "## Other"
   ]
  },
  {
   "cell_type": "code",
   "execution_count": null,
   "metadata": {},
   "outputs": [],
   "source": [
    "def create_geo_plot_(d: dict):\n",
    "    # Извлекаем координаты\n",
    "    x_coords = [coord[0] for coord in d.values()]  # Координаты X\n",
    "    y_coords = [coord[1] for coord in d.values()]  # Координаты Y\n",
    "    labels = list(d.keys())  # Метки (названия сенсоров)\n",
    "\n",
    "    # Нормализация координат для улучшения визуализации\n",
    "    x_min, x_max = min(x_coords), max(x_coords)\n",
    "    y_min, y_max = min(y_coords), max(y_coords)\n",
    "    x_coords_norm = [(x - x_min) / (x_max - x_min) for x in x_coords]\n",
    "    y_coords_norm = [(y - y_min) / (y_max - y_min) for y in y_coords]\n",
    "\n",
    "    # Построение графика\n",
    "    plt.figure(figsize=(8, 6))\n",
    "    plt.scatter(x_coords_norm, y_coords_norm, color='blue', s=100)  # Точки на плоскости\n",
    "\n",
    "    # Добавляем подписи к точкам\n",
    "    for i, label in enumerate(labels):\n",
    "        plt.text(x_coords_norm[i] + 0.01, y_coords_norm[i] + 0.01, label, fontsize=10)\n",
    "\n",
    "    # Настройка графика\n",
    "    plt.title('Координаты сенсоров на плоскости (нормализованные)')\n",
    "    plt.xlabel('X (нормализованный)')\n",
    "    plt.ylabel('Y (нормализованный)')\n",
    "    plt.grid(True)\n",
    "    plt.axhline(0, color='black', linewidth=0.5)  # Линия X=0\n",
    "    plt.axvline(0, color='black', linewidth=0.5)  # Линия Y=0\n",
    "    plt.show()"
   ]
  }
 ],
 "metadata": {
  "kernelspec": {
   "display_name": ".venv",
   "language": "python",
   "name": "python3"
  },
  "language_info": {
   "codemirror_mode": {
    "name": "ipython",
    "version": 3
   },
   "file_extension": ".py",
   "mimetype": "text/x-python",
   "name": "python",
   "nbconvert_exporter": "python",
   "pygments_lexer": "ipython3",
   "version": "3.9.5"
  }
 },
 "nbformat": 4,
 "nbformat_minor": 2
}
