{
 "cells": [
  {
   "cell_type": "markdown",
   "metadata": {},
   "source": [
    "## Импорт библиотек и необходимые параметры"
   ]
  },
  {
   "cell_type": "code",
   "execution_count": null,
   "metadata": {},
   "outputs": [],
   "source": [
    "import pandas as pd\n",
    "from matplotlib import pyplot as plt\n",
    "import warnings\n",
    "import matplotlib.pyplot as plt\n",
    "warnings.filterwarnings(\"ignore\")\n",
    "from scripts.create_nab_dataset import create_nab_data\n",
    "from scripts.create_country_df import get_country_df\n",
    "from compress.sprintz_encode import compress_sprintz, decompress_sprintz, get_compress_info_sprintz\n",
    "from compress.bypass import spatial_clustering\n",
    "from compress.general_functions import get_errors, get_geo_dict, create_geo_plot\n",
    "from compress.xor_encode import xor_compress_df, get_compress_info_xor, decompress_xor_df\n",
    "from compress.lz4_encode import LZ4_compress_df, LZ4_decompress_df, get_compress_info_lz4\n",
    "from compress.spatial_lz4 import spatial_clustering_PCA_LZ4, spatial_lz4_decompress, get_compress_info_spatial_PCA_LZ4\n",
    "from compress.spatial_xor import spatial_clustering_xor, spatial_XOR_decompress, get_compress_info_spatial_xor\n",
    "from compress.spatial_sprintz import spatial_clustering_sprintz, spatial_sprintz_decompress, get_compress_info_spatial_sprintz\n",
    "from compress.sz3_encode import compress_sz3_df, decompress_sz3, get_compress_info_sz3, compress_sz3_all\n",
    "from compress.cnn_encode import compress_cnn_sz3, decomress_cnn_sz3, get_compress_info_cnn_sz3, compress_cnn_cluster"
   ]
  },
  {
   "cell_type": "code",
   "execution_count": 2,
   "metadata": {},
   "outputs": [],
   "source": [
    "table_params = [{\n",
    "                'selector': 'caption',\n",
    "                'props': [\n",
    "                    ('color', 'Blue'),\n",
    "                    ('font-size', '16pt'),\n",
    "                    ('font-weight', 'bold'),\n",
    "                    ('text-align', 'center'),\n",
    "                    ('caption-side', 'top'),\n",
    "                    ('padding', '10px')\n",
    "                ]\n",
    "            },\n",
    "            {\n",
    "                'selector': 'th',\n",
    "                'props': [('font-size', '14pt')]\n",
    "            }]"
   ]
  },
  {
   "cell_type": "markdown",
   "metadata": {},
   "source": [
    "## Загрузка тестовых данных"
   ]
  },
  {
   "cell_type": "markdown",
   "metadata": {},
   "source": [
    "Создание датасета NAB."
   ]
  },
  {
   "cell_type": "code",
   "execution_count": 4,
   "metadata": {},
   "outputs": [
    {
     "data": {
      "text/html": [
       "<div>\n",
       "<style scoped>\n",
       "    .dataframe tbody tr th:only-of-type {\n",
       "        vertical-align: middle;\n",
       "    }\n",
       "\n",
       "    .dataframe tbody tr th {\n",
       "        vertical-align: top;\n",
       "    }\n",
       "\n",
       "    .dataframe thead th {\n",
       "        text-align: right;\n",
       "    }\n",
       "</style>\n",
       "<table border=\"1\" class=\"dataframe\">\n",
       "  <thead>\n",
       "    <tr style=\"text-align: right;\">\n",
       "      <th></th>\n",
       "      <th>sensor_1</th>\n",
       "      <th>sensor_2</th>\n",
       "      <th>sensor_3</th>\n",
       "      <th>sensor_4</th>\n",
       "      <th>sensor_5</th>\n",
       "    </tr>\n",
       "  </thead>\n",
       "  <tbody>\n",
       "    <tr>\n",
       "      <th>276</th>\n",
       "      <td>86</td>\n",
       "      <td>92</td>\n",
       "      <td>81</td>\n",
       "      <td>91</td>\n",
       "      <td>85</td>\n",
       "    </tr>\n",
       "    <tr>\n",
       "      <th>32</th>\n",
       "      <td>69</td>\n",
       "      <td>91</td>\n",
       "      <td>97</td>\n",
       "      <td>94</td>\n",
       "      <td>96</td>\n",
       "    </tr>\n",
       "  </tbody>\n",
       "</table>\n",
       "</div>"
      ],
      "text/plain": [
       "     sensor_1  sensor_2  sensor_3  sensor_4  sensor_5\n",
       "276        86        92        81        91        85\n",
       "32         69        91        97        94        96"
      ]
     },
     "execution_count": 4,
     "metadata": {},
     "output_type": "execute_result"
    }
   ],
   "source": [
    "df_speed = create_nab_data()\n",
    "df_speed.sample(2)"
   ]
  },
  {
   "cell_type": "markdown",
   "metadata": {},
   "source": [
    "Создание датасета country_df и загрузка его геоданных."
   ]
  },
  {
   "cell_type": "code",
   "execution_count": 5,
   "metadata": {},
   "outputs": [
    {
     "data": {
      "text/html": [
       "<div>\n",
       "<style scoped>\n",
       "    .dataframe tbody tr th:only-of-type {\n",
       "        vertical-align: middle;\n",
       "    }\n",
       "\n",
       "    .dataframe tbody tr th {\n",
       "        vertical-align: top;\n",
       "    }\n",
       "\n",
       "    .dataframe thead th {\n",
       "        text-align: right;\n",
       "    }\n",
       "</style>\n",
       "<table border=\"1\" class=\"dataframe\">\n",
       "  <thead>\n",
       "    <tr style=\"text-align: right;\">\n",
       "      <th></th>\n",
       "      <th>sensor_0</th>\n",
       "      <th>sensor_1</th>\n",
       "      <th>sensor_2</th>\n",
       "      <th>sensor_3</th>\n",
       "      <th>sensor_4</th>\n",
       "      <th>sensor_5</th>\n",
       "    </tr>\n",
       "  </thead>\n",
       "  <tbody>\n",
       "    <tr>\n",
       "      <th>3276</th>\n",
       "      <td>0.433566</td>\n",
       "      <td>0.372340</td>\n",
       "      <td>0.674759</td>\n",
       "      <td>0.600892</td>\n",
       "      <td>0.330922</td>\n",
       "      <td>0.288530</td>\n",
       "    </tr>\n",
       "    <tr>\n",
       "      <th>1674</th>\n",
       "      <td>0.401399</td>\n",
       "      <td>0.319432</td>\n",
       "      <td>0.497202</td>\n",
       "      <td>0.357267</td>\n",
       "      <td>0.438800</td>\n",
       "      <td>0.326397</td>\n",
       "    </tr>\n",
       "  </tbody>\n",
       "</table>\n",
       "</div>"
      ],
      "text/plain": [
       "      sensor_0  sensor_1  sensor_2  sensor_3  sensor_4  sensor_5\n",
       "3276  0.433566  0.372340  0.674759  0.600892  0.330922  0.288530\n",
       "1674  0.401399  0.319432  0.497202  0.357267  0.438800  0.326397"
      ]
     },
     "execution_count": 5,
     "metadata": {},
     "output_type": "execute_result"
    }
   ],
   "source": [
    "df_wind, wind_geo_dict= get_country_df()\n",
    "df_wind.sample(2)"
   ]
  },
  {
   "cell_type": "markdown",
   "metadata": {},
   "source": [
    "## Геоданные"
   ]
  },
  {
   "cell_type": "markdown",
   "metadata": {},
   "source": [
    "Реализована функция get_geo_dict, для создания словаря со случайными значениями."
   ]
  },
  {
   "cell_type": "code",
   "execution_count": 6,
   "metadata": {},
   "outputs": [
    {
     "name": "stdout",
     "output_type": "stream",
     "text": [
      "sensor_0: [2.4365216711741304, 1.179891201834797]\n",
      "sensor_1: [2.1216869503795213, 5.083246952091311]\n",
      "sensor_2: [5.828487169956302, 0.387565612401372]\n",
      "sensor_3: [2.694752895643201, 2.370577461751891]\n",
      "sensor_4: [5.3321381249992115, 4.009741017037938]\n"
     ]
    },
    {
     "data": {
      "image/png": "[encoded data removed]",
      "text/plain": [
       "<Figure size 800x600 with 1 Axes>"
      ]
     },
     "metadata": {},
     "output_type": "display_data"
    }
   ],
   "source": [
    "speed_geo_dict = get_geo_dict(df_speed)\n",
    "create_geo_plot(speed_geo_dict)"
   ]
  },
  {
   "cell_type": "markdown",
   "metadata": {},
   "source": [
    "## Анализ тестовых данных"
   ]
  },
  {
   "cell_type": "markdown",
   "metadata": {},
   "source": [
    "### NAB dataset"
   ]
  },
  {
   "cell_type": "code",
   "execution_count": 7,
   "metadata": {},
   "outputs": [
    {
     "data": {
      "text/html": [
       "<div>\n",
       "<style scoped>\n",
       "    .dataframe tbody tr th:only-of-type {\n",
       "        vertical-align: middle;\n",
       "    }\n",
       "\n",
       "    .dataframe tbody tr th {\n",
       "        vertical-align: top;\n",
       "    }\n",
       "\n",
       "    .dataframe thead th {\n",
       "        text-align: right;\n",
       "    }\n",
       "</style>\n",
       "<table border=\"1\" class=\"dataframe\">\n",
       "  <thead>\n",
       "    <tr style=\"text-align: right;\">\n",
       "      <th></th>\n",
       "      <th>sensor_1</th>\n",
       "      <th>sensor_2</th>\n",
       "      <th>sensor_3</th>\n",
       "      <th>sensor_4</th>\n",
       "      <th>sensor_5</th>\n",
       "    </tr>\n",
       "  </thead>\n",
       "  <tbody>\n",
       "    <tr>\n",
       "      <th>count</th>\n",
       "      <td>500.000000</td>\n",
       "      <td>500.000000</td>\n",
       "      <td>500.000000</td>\n",
       "      <td>500.000000</td>\n",
       "      <td>500.000000</td>\n",
       "    </tr>\n",
       "    <tr>\n",
       "      <th>mean</th>\n",
       "      <td>82.126000</td>\n",
       "      <td>81.538000</td>\n",
       "      <td>81.862000</td>\n",
       "      <td>81.786000</td>\n",
       "      <td>82.222000</td>\n",
       "    </tr>\n",
       "    <tr>\n",
       "      <th>std</th>\n",
       "      <td>8.404963</td>\n",
       "      <td>9.247897</td>\n",
       "      <td>8.155488</td>\n",
       "      <td>8.913085</td>\n",
       "      <td>8.983659</td>\n",
       "    </tr>\n",
       "    <tr>\n",
       "      <th>min</th>\n",
       "      <td>43.000000</td>\n",
       "      <td>28.000000</td>\n",
       "      <td>53.000000</td>\n",
       "      <td>29.000000</td>\n",
       "      <td>20.000000</td>\n",
       "    </tr>\n",
       "    <tr>\n",
       "      <th>25%</th>\n",
       "      <td>77.000000</td>\n",
       "      <td>76.000000</td>\n",
       "      <td>77.000000</td>\n",
       "      <td>76.000000</td>\n",
       "      <td>77.000000</td>\n",
       "    </tr>\n",
       "    <tr>\n",
       "      <th>50%</th>\n",
       "      <td>83.000000</td>\n",
       "      <td>82.000000</td>\n",
       "      <td>82.000000</td>\n",
       "      <td>82.000000</td>\n",
       "      <td>83.000000</td>\n",
       "    </tr>\n",
       "    <tr>\n",
       "      <th>75%</th>\n",
       "      <td>87.000000</td>\n",
       "      <td>88.000000</td>\n",
       "      <td>87.000000</td>\n",
       "      <td>88.000000</td>\n",
       "      <td>88.000000</td>\n",
       "    </tr>\n",
       "    <tr>\n",
       "      <th>max</th>\n",
       "      <td>109.000000</td>\n",
       "      <td>103.000000</td>\n",
       "      <td>106.000000</td>\n",
       "      <td>106.000000</td>\n",
       "      <td>105.000000</td>\n",
       "    </tr>\n",
       "  </tbody>\n",
       "</table>\n",
       "</div>"
      ],
      "text/plain": [
       "         sensor_1    sensor_2    sensor_3    sensor_4    sensor_5\n",
       "count  500.000000  500.000000  500.000000  500.000000  500.000000\n",
       "mean    82.126000   81.538000   81.862000   81.786000   82.222000\n",
       "std      8.404963    9.247897    8.155488    8.913085    8.983659\n",
       "min     43.000000   28.000000   53.000000   29.000000   20.000000\n",
       "25%     77.000000   76.000000   77.000000   76.000000   77.000000\n",
       "50%     83.000000   82.000000   82.000000   82.000000   83.000000\n",
       "75%     87.000000   88.000000   87.000000   88.000000   88.000000\n",
       "max    109.000000  103.000000  106.000000  106.000000  105.000000"
      ]
     },
     "execution_count": 7,
     "metadata": {},
     "output_type": "execute_result"
    }
   ],
   "source": [
    "df_speed.describe()"
   ]
  },
  {
   "cell_type": "markdown",
   "metadata": {},
   "source": [
    "Все значения положительны и не больше 106."
   ]
  },
  {
   "cell_type": "code",
   "execution_count": 8,
   "metadata": {},
   "outputs": [
    {
     "data": {
      "text/html": [
       "<style type=\"text/css\">\n",
       "#T_e7b2f caption {\n",
       "  color: Blue;\n",
       "  font-size: 16pt;\n",
       "  font-weight: bold;\n",
       "  text-align: center;\n",
       "  caption-side: top;\n",
       "  padding: 10px;\n",
       "}\n",
       "#T_e7b2f th {\n",
       "  font-size: 14pt;\n",
       "}\n",
       "#T_e7b2f_row0_col0, #T_e7b2f_row1_col1, #T_e7b2f_row2_col2, #T_e7b2f_row3_col3, #T_e7b2f_row4_col4 {\n",
       "  background-color: #b40426;\n",
       "  color: #f1f1f1;\n",
       "  font-size: 14pt;\n",
       "}\n",
       "#T_e7b2f_row0_col1, #T_e7b2f_row0_col3, #T_e7b2f_row0_col4, #T_e7b2f_row4_col0, #T_e7b2f_row4_col2 {\n",
       "  background-color: #3b4cc0;\n",
       "  color: #f1f1f1;\n",
       "  font-size: 14pt;\n",
       "}\n",
       "#T_e7b2f_row0_col2 {\n",
       "  background-color: #465ecf;\n",
       "  color: #f1f1f1;\n",
       "  font-size: 14pt;\n",
       "}\n",
       "#T_e7b2f_row1_col0 {\n",
       "  background-color: #5977e3;\n",
       "  color: #f1f1f1;\n",
       "  font-size: 14pt;\n",
       "}\n",
       "#T_e7b2f_row1_col2 {\n",
       "  background-color: #5f7fe8;\n",
       "  color: #f1f1f1;\n",
       "  font-size: 14pt;\n",
       "}\n",
       "#T_e7b2f_row1_col3 {\n",
       "  background-color: #5875e1;\n",
       "  color: #f1f1f1;\n",
       "  font-size: 14pt;\n",
       "}\n",
       "#T_e7b2f_row1_col4 {\n",
       "  background-color: #6788ee;\n",
       "  color: #f1f1f1;\n",
       "  font-size: 14pt;\n",
       "}\n",
       "#T_e7b2f_row2_col0 {\n",
       "  background-color: #485fd1;\n",
       "  color: #f1f1f1;\n",
       "  font-size: 14pt;\n",
       "}\n",
       "#T_e7b2f_row2_col1 {\n",
       "  background-color: #4358cb;\n",
       "  color: #f1f1f1;\n",
       "  font-size: 14pt;\n",
       "}\n",
       "#T_e7b2f_row2_col3 {\n",
       "  background-color: #81a4fb;\n",
       "  color: #f1f1f1;\n",
       "  font-size: 14pt;\n",
       "}\n",
       "#T_e7b2f_row2_col4 {\n",
       "  background-color: #3c4ec2;\n",
       "  color: #f1f1f1;\n",
       "  font-size: 14pt;\n",
       "}\n",
       "#T_e7b2f_row3_col0 {\n",
       "  background-color: #455cce;\n",
       "  color: #f1f1f1;\n",
       "  font-size: 14pt;\n",
       "}\n",
       "#T_e7b2f_row3_col1 {\n",
       "  background-color: #445acc;\n",
       "  color: #f1f1f1;\n",
       "  font-size: 14pt;\n",
       "}\n",
       "#T_e7b2f_row3_col2 {\n",
       "  background-color: #89acfd;\n",
       "  color: #000000;\n",
       "  font-size: 14pt;\n",
       "}\n",
       "#T_e7b2f_row3_col4 {\n",
       "  background-color: #84a7fc;\n",
       "  color: #f1f1f1;\n",
       "  font-size: 14pt;\n",
       "}\n",
       "#T_e7b2f_row4_col1 {\n",
       "  background-color: #4961d2;\n",
       "  color: #f1f1f1;\n",
       "  font-size: 14pt;\n",
       "}\n",
       "#T_e7b2f_row4_col3 {\n",
       "  background-color: #7a9df8;\n",
       "  color: #f1f1f1;\n",
       "  font-size: 14pt;\n",
       "}\n",
       "</style>\n",
       "<table id=\"T_e7b2f\">\n",
       "  <caption>Correlation matrix of NAB Dataset</caption>\n",
       "  <thead>\n",
       "    <tr>\n",
       "      <th class=\"blank level0\" >&nbsp;</th>\n",
       "      <th id=\"T_e7b2f_level0_col0\" class=\"col_heading level0 col0\" >sensor_1</th>\n",
       "      <th id=\"T_e7b2f_level0_col1\" class=\"col_heading level0 col1\" >sensor_2</th>\n",
       "      <th id=\"T_e7b2f_level0_col2\" class=\"col_heading level0 col2\" >sensor_3</th>\n",
       "      <th id=\"T_e7b2f_level0_col3\" class=\"col_heading level0 col3\" >sensor_4</th>\n",
       "      <th id=\"T_e7b2f_level0_col4\" class=\"col_heading level0 col4\" >sensor_5</th>\n",
       "    </tr>\n",
       "  </thead>\n",
       "  <tbody>\n",
       "    <tr>\n",
       "      <th id=\"T_e7b2f_level0_row0\" class=\"row_heading level0 row0\" >sensor_1</th>\n",
       "      <td id=\"T_e7b2f_row0_col0\" class=\"data row0 col0\" >1.000000</td>\n",
       "      <td id=\"T_e7b2f_row0_col1\" class=\"data row0 col1\" >0.216599</td>\n",
       "      <td id=\"T_e7b2f_row0_col2\" class=\"data row0 col2\" >0.170231</td>\n",
       "      <td id=\"T_e7b2f_row0_col3\" class=\"data row0 col3\" >0.160731</td>\n",
       "      <td id=\"T_e7b2f_row0_col4\" class=\"data row0 col4\" >0.129970</td>\n",
       "    </tr>\n",
       "    <tr>\n",
       "      <th id=\"T_e7b2f_level0_row1\" class=\"row_heading level0 row1\" >sensor_2</th>\n",
       "      <td id=\"T_e7b2f_row1_col0\" class=\"data row1 col0\" >0.216599</td>\n",
       "      <td id=\"T_e7b2f_row1_col1\" class=\"data row1 col1\" >1.000000</td>\n",
       "      <td id=\"T_e7b2f_row1_col2\" class=\"data row1 col2\" >0.238876</td>\n",
       "      <td id=\"T_e7b2f_row1_col3\" class=\"data row1 col3\" >0.241704</td>\n",
       "      <td id=\"T_e7b2f_row1_col4\" class=\"data row1 col4\" >0.254247</td>\n",
       "    </tr>\n",
       "    <tr>\n",
       "      <th id=\"T_e7b2f_level0_row2\" class=\"row_heading level0 row2\" >sensor_3</th>\n",
       "      <td id=\"T_e7b2f_row2_col0\" class=\"data row2 col0\" >0.170231</td>\n",
       "      <td id=\"T_e7b2f_row2_col1\" class=\"data row2 col1\" >0.238876</td>\n",
       "      <td id=\"T_e7b2f_row2_col2\" class=\"data row2 col2\" >1.000000</td>\n",
       "      <td id=\"T_e7b2f_row2_col3\" class=\"data row2 col3\" >0.342827</td>\n",
       "      <td id=\"T_e7b2f_row2_col4\" class=\"data row2 col4\" >0.135786</td>\n",
       "    </tr>\n",
       "    <tr>\n",
       "      <th id=\"T_e7b2f_level0_row3\" class=\"row_heading level0 row3\" >sensor_4</th>\n",
       "      <td id=\"T_e7b2f_row3_col0\" class=\"data row3 col0\" >0.160731</td>\n",
       "      <td id=\"T_e7b2f_row3_col1\" class=\"data row3 col1\" >0.241704</td>\n",
       "      <td id=\"T_e7b2f_row3_col2\" class=\"data row3 col2\" >0.342827</td>\n",
       "      <td id=\"T_e7b2f_row3_col3\" class=\"data row3 col3\" >1.000000</td>\n",
       "      <td id=\"T_e7b2f_row3_col4\" class=\"data row3 col4\" >0.326703</td>\n",
       "    </tr>\n",
       "    <tr>\n",
       "      <th id=\"T_e7b2f_level0_row4\" class=\"row_heading level0 row4\" >sensor_5</th>\n",
       "      <td id=\"T_e7b2f_row4_col0\" class=\"data row4 col0\" >0.129970</td>\n",
       "      <td id=\"T_e7b2f_row4_col1\" class=\"data row4 col1\" >0.254247</td>\n",
       "      <td id=\"T_e7b2f_row4_col2\" class=\"data row4 col2\" >0.135786</td>\n",
       "      <td id=\"T_e7b2f_row4_col3\" class=\"data row4 col3\" >0.326703</td>\n",
       "      <td id=\"T_e7b2f_row4_col4\" class=\"data row4 col4\" >1.000000</td>\n",
       "    </tr>\n",
       "  </tbody>\n",
       "</table>\n"
      ],
      "text/plain": [
       "<pandas.io.formats.style.Styler at 0x7ff5c748fdc0>"
      ]
     },
     "metadata": {},
     "output_type": "display_data"
    }
   ],
   "source": [
    "corr_wind = df_speed.corr()\n",
    "styled_corr = corr_wind.style.set_caption(\"Correlation matrix of NAB Dataset\") \\\n",
    "                                  .background_gradient(cmap='coolwarm') \\\n",
    "                                  .set_properties(**{'font-size': '14pt'}) \\\n",
    "                                  .set_table_styles(table_params)\n",
    "display(styled_corr)"
   ]
  },
  {
   "cell_type": "markdown",
   "metadata": {},
   "source": [
    "Для датасета NAB явно видно, что столбцы не коррелируют. Рассмотрим датасет Emhires."
   ]
  },
  {
   "cell_type": "markdown",
   "metadata": {},
   "source": [
    "### Emhires dataset"
   ]
  },
  {
   "cell_type": "code",
   "execution_count": 9,
   "metadata": {},
   "outputs": [
    {
     "data": {
      "text/html": [
       "<div>\n",
       "<style scoped>\n",
       "    .dataframe tbody tr th:only-of-type {\n",
       "        vertical-align: middle;\n",
       "    }\n",
       "\n",
       "    .dataframe tbody tr th {\n",
       "        vertical-align: top;\n",
       "    }\n",
       "\n",
       "    .dataframe thead th {\n",
       "        text-align: right;\n",
       "    }\n",
       "</style>\n",
       "<table border=\"1\" class=\"dataframe\">\n",
       "  <thead>\n",
       "    <tr style=\"text-align: right;\">\n",
       "      <th></th>\n",
       "      <th>sensor_0</th>\n",
       "      <th>sensor_1</th>\n",
       "      <th>sensor_2</th>\n",
       "      <th>sensor_3</th>\n",
       "      <th>sensor_4</th>\n",
       "      <th>sensor_5</th>\n",
       "    </tr>\n",
       "  </thead>\n",
       "  <tbody>\n",
       "    <tr>\n",
       "      <th>count</th>\n",
       "      <td>5371.000000</td>\n",
       "      <td>5371.000000</td>\n",
       "      <td>5371.000000</td>\n",
       "      <td>5371.000000</td>\n",
       "      <td>5371.000000</td>\n",
       "      <td>5371.000000</td>\n",
       "    </tr>\n",
       "    <tr>\n",
       "      <th>mean</th>\n",
       "      <td>0.227920</td>\n",
       "      <td>0.200216</td>\n",
       "      <td>0.250895</td>\n",
       "      <td>0.226237</td>\n",
       "      <td>0.210789</td>\n",
       "      <td>0.170282</td>\n",
       "    </tr>\n",
       "    <tr>\n",
       "      <th>std</th>\n",
       "      <td>0.183147</td>\n",
       "      <td>0.194221</td>\n",
       "      <td>0.228161</td>\n",
       "      <td>0.186192</td>\n",
       "      <td>0.204030</td>\n",
       "      <td>0.158362</td>\n",
       "    </tr>\n",
       "    <tr>\n",
       "      <th>min</th>\n",
       "      <td>0.000000</td>\n",
       "      <td>0.000000</td>\n",
       "      <td>0.000000</td>\n",
       "      <td>0.000000</td>\n",
       "      <td>0.000000</td>\n",
       "      <td>0.000000</td>\n",
       "    </tr>\n",
       "    <tr>\n",
       "      <th>25%</th>\n",
       "      <td>0.071329</td>\n",
       "      <td>0.035002</td>\n",
       "      <td>0.043961</td>\n",
       "      <td>0.067200</td>\n",
       "      <td>0.037736</td>\n",
       "      <td>0.035301</td>\n",
       "    </tr>\n",
       "    <tr>\n",
       "      <th>50%</th>\n",
       "      <td>0.186014</td>\n",
       "      <td>0.139327</td>\n",
       "      <td>0.182703</td>\n",
       "      <td>0.176465</td>\n",
       "      <td>0.142235</td>\n",
       "      <td>0.121945</td>\n",
       "    </tr>\n",
       "    <tr>\n",
       "      <th>75%</th>\n",
       "      <td>0.370629</td>\n",
       "      <td>0.323170</td>\n",
       "      <td>0.428663</td>\n",
       "      <td>0.364866</td>\n",
       "      <td>0.348337</td>\n",
       "      <td>0.278338</td>\n",
       "    </tr>\n",
       "    <tr>\n",
       "      <th>max</th>\n",
       "      <td>0.683916</td>\n",
       "      <td>0.783491</td>\n",
       "      <td>0.871451</td>\n",
       "      <td>0.709350</td>\n",
       "      <td>0.791937</td>\n",
       "      <td>0.655671</td>\n",
       "    </tr>\n",
       "  </tbody>\n",
       "</table>\n",
       "</div>"
      ],
      "text/plain": [
       "          sensor_0     sensor_1     sensor_2     sensor_3     sensor_4  \\\n",
       "count  5371.000000  5371.000000  5371.000000  5371.000000  5371.000000   \n",
       "mean      0.227920     0.200216     0.250895     0.226237     0.210789   \n",
       "std       0.183147     0.194221     0.228161     0.186192     0.204030   \n",
       "min       0.000000     0.000000     0.000000     0.000000     0.000000   \n",
       "25%       0.071329     0.035002     0.043961     0.067200     0.037736   \n",
       "50%       0.186014     0.139327     0.182703     0.176465     0.142235   \n",
       "75%       0.370629     0.323170     0.428663     0.364866     0.348337   \n",
       "max       0.683916     0.783491     0.871451     0.709350     0.791937   \n",
       "\n",
       "          sensor_5  \n",
       "count  5371.000000  \n",
       "mean      0.170282  \n",
       "std       0.158362  \n",
       "min       0.000000  \n",
       "25%       0.035301  \n",
       "50%       0.121945  \n",
       "75%       0.278338  \n",
       "max       0.655671  "
      ]
     },
     "execution_count": 9,
     "metadata": {},
     "output_type": "execute_result"
    }
   ],
   "source": [
    "df_wind.describe()"
   ]
  },
  {
   "cell_type": "markdown",
   "metadata": {},
   "source": [
    "Все значения неотрицательны и в промежутке от 0 до 1."
   ]
  },
  {
   "cell_type": "code",
   "execution_count": 10,
   "metadata": {},
   "outputs": [
    {
     "data": {
      "text/html": [
       "<style type=\"text/css\">\n",
       "#T_30a29 caption {\n",
       "  color: Blue;\n",
       "  font-size: 16pt;\n",
       "  font-weight: bold;\n",
       "  text-align: center;\n",
       "  caption-side: top;\n",
       "  padding: 10px;\n",
       "}\n",
       "#T_30a29 th {\n",
       "  font-size: 14pt;\n",
       "}\n",
       "#T_30a29_row0_col0, #T_30a29_row1_col1, #T_30a29_row2_col2, #T_30a29_row3_col3, #T_30a29_row4_col4, #T_30a29_row5_col5 {\n",
       "  background-color: #b40426;\n",
       "  color: #f1f1f1;\n",
       "  font-size: 14pt;\n",
       "}\n",
       "#T_30a29_row0_col1 {\n",
       "  background-color: #adc9fd;\n",
       "  color: #000000;\n",
       "  font-size: 14pt;\n",
       "}\n",
       "#T_30a29_row0_col2 {\n",
       "  background-color: #bfd3f6;\n",
       "  color: #000000;\n",
       "  font-size: 14pt;\n",
       "}\n",
       "#T_30a29_row0_col3 {\n",
       "  background-color: #f3c8b2;\n",
       "  color: #000000;\n",
       "  font-size: 14pt;\n",
       "}\n",
       "#T_30a29_row0_col4 {\n",
       "  background-color: #f7b194;\n",
       "  color: #000000;\n",
       "  font-size: 14pt;\n",
       "}\n",
       "#T_30a29_row0_col5, #T_30a29_row3_col0 {\n",
       "  background-color: #e7d7ce;\n",
       "  color: #000000;\n",
       "  font-size: 14pt;\n",
       "}\n",
       "#T_30a29_row1_col0, #T_30a29_row1_col2, #T_30a29_row2_col1, #T_30a29_row2_col3, #T_30a29_row2_col4, #T_30a29_row2_col5 {\n",
       "  background-color: #3b4cc0;\n",
       "  color: #f1f1f1;\n",
       "  font-size: 14pt;\n",
       "}\n",
       "#T_30a29_row1_col3 {\n",
       "  background-color: #88abfd;\n",
       "  color: #000000;\n",
       "  font-size: 14pt;\n",
       "}\n",
       "#T_30a29_row1_col4 {\n",
       "  background-color: #4e68d8;\n",
       "  color: #f1f1f1;\n",
       "  font-size: 14pt;\n",
       "}\n",
       "#T_30a29_row1_col5 {\n",
       "  background-color: #f1ccb8;\n",
       "  color: #000000;\n",
       "  font-size: 14pt;\n",
       "}\n",
       "#T_30a29_row2_col0 {\n",
       "  background-color: #536edd;\n",
       "  color: #f1f1f1;\n",
       "  font-size: 14pt;\n",
       "}\n",
       "#T_30a29_row3_col1 {\n",
       "  background-color: #c3d5f4;\n",
       "  color: #000000;\n",
       "  font-size: 14pt;\n",
       "}\n",
       "#T_30a29_row3_col2 {\n",
       "  background-color: #84a7fc;\n",
       "  color: #f1f1f1;\n",
       "  font-size: 14pt;\n",
       "}\n",
       "#T_30a29_row3_col4 {\n",
       "  background-color: #96b7ff;\n",
       "  color: #000000;\n",
       "  font-size: 14pt;\n",
       "}\n",
       "#T_30a29_row3_col5 {\n",
       "  background-color: #e3d9d3;\n",
       "  color: #000000;\n",
       "  font-size: 14pt;\n",
       "}\n",
       "#T_30a29_row4_col0 {\n",
       "  background-color: #f7b497;\n",
       "  color: #000000;\n",
       "  font-size: 14pt;\n",
       "}\n",
       "#T_30a29_row4_col1, #T_30a29_row4_col3 {\n",
       "  background-color: #b6cefa;\n",
       "  color: #000000;\n",
       "  font-size: 14pt;\n",
       "}\n",
       "#T_30a29_row4_col2 {\n",
       "  background-color: #a7c5fe;\n",
       "  color: #000000;\n",
       "  font-size: 14pt;\n",
       "}\n",
       "#T_30a29_row4_col5 {\n",
       "  background-color: #f7ba9f;\n",
       "  color: #000000;\n",
       "  font-size: 14pt;\n",
       "}\n",
       "#T_30a29_row5_col0 {\n",
       "  background-color: #dbdcde;\n",
       "  color: #000000;\n",
       "  font-size: 14pt;\n",
       "}\n",
       "#T_30a29_row5_col1 {\n",
       "  background-color: #f7aa8c;\n",
       "  color: #000000;\n",
       "  font-size: 14pt;\n",
       "}\n",
       "#T_30a29_row5_col2 {\n",
       "  background-color: #94b6ff;\n",
       "  color: #000000;\n",
       "  font-size: 14pt;\n",
       "}\n",
       "#T_30a29_row5_col3 {\n",
       "  background-color: #ead4c8;\n",
       "  color: #000000;\n",
       "  font-size: 14pt;\n",
       "}\n",
       "#T_30a29_row5_col4 {\n",
       "  background-color: #f5c2aa;\n",
       "  color: #000000;\n",
       "  font-size: 14pt;\n",
       "}\n",
       "</style>\n",
       "<table id=\"T_30a29\">\n",
       "  <caption>Correlation matrix of Emhires Dataset</caption>\n",
       "  <thead>\n",
       "    <tr>\n",
       "      <th class=\"blank level0\" >&nbsp;</th>\n",
       "      <th id=\"T_30a29_level0_col0\" class=\"col_heading level0 col0\" >sensor_0</th>\n",
       "      <th id=\"T_30a29_level0_col1\" class=\"col_heading level0 col1\" >sensor_1</th>\n",
       "      <th id=\"T_30a29_level0_col2\" class=\"col_heading level0 col2\" >sensor_2</th>\n",
       "      <th id=\"T_30a29_level0_col3\" class=\"col_heading level0 col3\" >sensor_3</th>\n",
       "      <th id=\"T_30a29_level0_col4\" class=\"col_heading level0 col4\" >sensor_4</th>\n",
       "      <th id=\"T_30a29_level0_col5\" class=\"col_heading level0 col5\" >sensor_5</th>\n",
       "    </tr>\n",
       "  </thead>\n",
       "  <tbody>\n",
       "    <tr>\n",
       "      <th id=\"T_30a29_level0_row0\" class=\"row_heading level0 row0\" >sensor_0</th>\n",
       "      <td id=\"T_30a29_row0_col0\" class=\"data row0 col0\" >1.000000</td>\n",
       "      <td id=\"T_30a29_row0_col1\" class=\"data row0 col1\" >0.692844</td>\n",
       "      <td id=\"T_30a29_row0_col2\" class=\"data row0 col2\" >0.718031</td>\n",
       "      <td id=\"T_30a29_row0_col3\" class=\"data row0 col3\" >0.858738</td>\n",
       "      <td id=\"T_30a29_row0_col4\" class=\"data row0 col4\" >0.901123</td>\n",
       "      <td id=\"T_30a29_row0_col5\" class=\"data row0 col5\" >0.844601</td>\n",
       "    </tr>\n",
       "    <tr>\n",
       "      <th id=\"T_30a29_level0_row1\" class=\"row_heading level0 row1\" >sensor_1</th>\n",
       "      <td id=\"T_30a29_row1_col0\" class=\"data row1 col0\" >0.692844</td>\n",
       "      <td id=\"T_30a29_row1_col1\" class=\"data row1 col1\" >1.000000</td>\n",
       "      <td id=\"T_30a29_row1_col2\" class=\"data row1 col2\" >0.533855</td>\n",
       "      <td id=\"T_30a29_row1_col3\" class=\"data row1 col3\" >0.723919</td>\n",
       "      <td id=\"T_30a29_row1_col4\" class=\"data row1 col4\" >0.705373</td>\n",
       "      <td id=\"T_30a29_row1_col5\" class=\"data row1 col5\" >0.862921</td>\n",
       "    </tr>\n",
       "    <tr>\n",
       "      <th id=\"T_30a29_level0_row2\" class=\"row_heading level0 row2\" >sensor_2</th>\n",
       "      <td id=\"T_30a29_row2_col0\" class=\"data row2 col0\" >0.718031</td>\n",
       "      <td id=\"T_30a29_row2_col1\" class=\"data row2 col1\" >0.533855</td>\n",
       "      <td id=\"T_30a29_row2_col2\" class=\"data row2 col2\" >1.000000</td>\n",
       "      <td id=\"T_30a29_row2_col3\" class=\"data row2 col3\" >0.637662</td>\n",
       "      <td id=\"T_30a29_row2_col4\" class=\"data row2 col4\" >0.685302</td>\n",
       "      <td id=\"T_30a29_row2_col5\" class=\"data row2 col5\" >0.661292</td>\n",
       "    </tr>\n",
       "    <tr>\n",
       "      <th id=\"T_30a29_level0_row3\" class=\"row_heading level0 row3\" >sensor_3</th>\n",
       "      <td id=\"T_30a29_row3_col0\" class=\"data row3 col0\" >0.858738</td>\n",
       "      <td id=\"T_30a29_row3_col1\" class=\"data row3 col1\" >0.723919</td>\n",
       "      <td id=\"T_30a29_row3_col2\" class=\"data row3 col2\" >0.637662</td>\n",
       "      <td id=\"T_30a29_row3_col3\" class=\"data row3 col3\" >1.000000</td>\n",
       "      <td id=\"T_30a29_row3_col4\" class=\"data row3 col4\" >0.772007</td>\n",
       "      <td id=\"T_30a29_row3_col5\" class=\"data row3 col5\" >0.839008</td>\n",
       "    </tr>\n",
       "    <tr>\n",
       "      <th id=\"T_30a29_level0_row4\" class=\"row_heading level0 row4\" >sensor_4</th>\n",
       "      <td id=\"T_30a29_row4_col0\" class=\"data row4 col0\" >0.901123</td>\n",
       "      <td id=\"T_30a29_row4_col1\" class=\"data row4 col1\" >0.705373</td>\n",
       "      <td id=\"T_30a29_row4_col2\" class=\"data row4 col2\" >0.685302</td>\n",
       "      <td id=\"T_30a29_row4_col3\" class=\"data row4 col3\" >0.772007</td>\n",
       "      <td id=\"T_30a29_row4_col4\" class=\"data row4 col4\" >1.000000</td>\n",
       "      <td id=\"T_30a29_row4_col5\" class=\"data row4 col5\" >0.884198</td>\n",
       "    </tr>\n",
       "    <tr>\n",
       "      <th id=\"T_30a29_level0_row5\" class=\"row_heading level0 row5\" >sensor_5</th>\n",
       "      <td id=\"T_30a29_row5_col0\" class=\"data row5 col0\" >0.844601</td>\n",
       "      <td id=\"T_30a29_row5_col1\" class=\"data row5 col1\" >0.862921</td>\n",
       "      <td id=\"T_30a29_row5_col2\" class=\"data row5 col2\" >0.661292</td>\n",
       "      <td id=\"T_30a29_row5_col3\" class=\"data row5 col3\" >0.839008</td>\n",
       "      <td id=\"T_30a29_row5_col4\" class=\"data row5 col4\" >0.884198</td>\n",
       "      <td id=\"T_30a29_row5_col5\" class=\"data row5 col5\" >1.000000</td>\n",
       "    </tr>\n",
       "  </tbody>\n",
       "</table>\n"
      ],
      "text/plain": [
       "<pandas.io.formats.style.Styler at 0x7ff5c748f6a0>"
      ]
     },
     "metadata": {},
     "output_type": "display_data"
    }
   ],
   "source": [
    "corr_wind = df_wind.corr()\n",
    "styled_corr_wind = corr_wind.style.set_caption(\"Correlation matrix of Emhires Dataset\") \\\n",
    "                                  .background_gradient(cmap='coolwarm') \\\n",
    "                                  .set_properties(**{'font-size': '14pt'}) \\\n",
    "                                  .set_table_styles(table_params)\n",
    "\n",
    "# Отображение матрицы корреляции\n",
    "display(styled_corr_wind)"
   ]
  },
  {
   "cell_type": "markdown",
   "metadata": {},
   "source": [
    "Видим, что некоторые ряды имеют сильную корреляцию больше 0.84."
   ]
  },
  {
   "cell_type": "code",
   "execution_count": 11,
   "metadata": {},
   "outputs": [
    {
     "data": {
      "image/png": "[encoded data removed]",
      "text/plain": [
       "<Figure size 1000x500 with 1 Axes>"
      ]
     },
     "metadata": {},
     "output_type": "display_data"
    }
   ],
   "source": [
    "rolling_mean = df_wind.sensor_0.rolling(window=64).mean()\n",
    "plt.figure(figsize=(10,5))\n",
    "plt.plot(df_wind.sensor_0.values, label=\"Оригинальный ряд\", alpha=0.5)\n",
    "plt.plot(rolling_mean, label=\"Скользящее среднее (window=20)\", linewidth=2)\n",
    "plt.legend()\n",
    "plt.title(\"Сравнение значений ряда со скользящим средним\")\n",
    "plt.show()"
   ]
  },
  {
   "cell_type": "markdown",
   "metadata": {},
   "source": [
    "Видим, что среднее крайне отличается от реальных значений, что может говорить от резких перепадах и шуме."
   ]
  },
  {
   "cell_type": "markdown",
   "metadata": {},
   "source": [
    "Расположение сенсоров датасета country_df на плоскости."
   ]
  },
  {
   "cell_type": "code",
   "execution_count": 12,
   "metadata": {},
   "outputs": [
    {
     "data": {
      "image/png": "[encoded data removed]",
      "text/plain": [
       "<Figure size 800x600 with 1 Axes>"
      ]
     },
     "metadata": {},
     "output_type": "display_data"
    }
   ],
   "source": [
    "create_geo_plot(wind_geo_dict)"
   ]
  },
  {
   "cell_type": "markdown",
   "metadata": {},
   "source": [
    "Проверка на кластеризацию обходом."
   ]
  },
  {
   "cell_type": "code",
   "execution_count": 13,
   "metadata": {},
   "outputs": [
    {
     "data": {
      "text/plain": [
       "{'sensor_0': ['sensor_0', 'sensor_4', 'sensor_3', 'sensor_5'],\n",
       " 'sensor_1': ['sensor_1'],\n",
       " 'sensor_2': ['sensor_2']}"
      ]
     },
     "execution_count": 13,
     "metadata": {},
     "output_type": "execute_result"
    }
   ],
   "source": [
    "spatial_clustering(df_wind, wind_geo_dict, 0.84)"
   ]
  },
  {
   "cell_type": "markdown",
   "metadata": {},
   "source": [
    "## Sprintz"
   ]
  },
  {
   "cell_type": "markdown",
   "metadata": {},
   "source": [
    "Сожмем и декодируем данные при помощи Sprintz. Используем датасет NAB."
   ]
  },
  {
   "cell_type": "code",
   "execution_count": 14,
   "metadata": {},
   "outputs": [],
   "source": [
    "speed_sprintz_res = compress_sprintz(df=df_speed, chunk_size=8)"
   ]
  },
  {
   "cell_type": "code",
   "execution_count": 15,
   "metadata": {},
   "outputs": [
    {
     "name": "stdout",
     "output_type": "stream",
     "text": [
      "Данные совпадают после декодирования: True\n"
     ]
    }
   ],
   "source": [
    "# Check for equals decodind and original data\n",
    "decode_res = decompress_sprintz(speed_sprintz_res, num_cols = 5, chunk_size=7)\n",
    "decode_res.columns = df_speed.columns\n",
    "print('Данные совпадают после декодирования:', df_speed.equals(decode_res))"
   ]
  },
  {
   "cell_type": "code",
   "execution_count": 16,
   "metadata": {},
   "outputs": [
    {
     "name": "stdout",
     "output_type": "stream",
     "text": [
      "Размер исходных данных: 2179 байт \n",
      "\n",
      "Размер сжатых данных: 1973 байт \n",
      "\n",
      "Коэффициент сжатия: 1.104\n"
     ]
    }
   ],
   "source": [
    "comp = get_compress_info_sprintz(df_speed, speed_sprintz_res)"
   ]
  },
  {
   "cell_type": "markdown",
   "metadata": {},
   "source": [
    "## XOR"
   ]
  },
  {
   "cell_type": "markdown",
   "metadata": {},
   "source": [
    "Сожмем и декодируем данные с помощью XOR-сжатия."
   ]
  },
  {
   "cell_type": "code",
   "execution_count": 17,
   "metadata": {},
   "outputs": [
    {
     "name": "stdout",
     "output_type": "stream",
     "text": [
      "Данные совпадают после декодирования: True\n"
     ]
    }
   ],
   "source": [
    "compressed_df = xor_compress_df(df_wind)\n",
    "decompressed_df = decompress_xor_df(compressed_df)\n",
    "decompressed_df.columns = [f'sensor_{i}' for i in range(df_wind.shape[1])]\n",
    "print('Данные совпадают после декодирования:', decompressed_df.equals(df_wind))"
   ]
  },
  {
   "cell_type": "code",
   "execution_count": 18,
   "metadata": {},
   "outputs": [
    {
     "name": "stdout",
     "output_type": "stream",
     "text": [
      "Размер исходных данных: 257808 байт \n",
      "\n",
      "Размер сжатых XOR данных: 249461 байт \n",
      "\n",
      "Коэффициент сжатия: 1.033\n"
     ]
    }
   ],
   "source": [
    "comp = get_compress_info_xor(df_wind, compressed_df)"
   ]
  },
  {
   "cell_type": "markdown",
   "metadata": {},
   "source": [
    "## LZ4"
   ]
  },
  {
   "cell_type": "markdown",
   "metadata": {},
   "source": [
    "Сожмем и декодируем данные с помощью LZ4."
   ]
  },
  {
   "cell_type": "code",
   "execution_count": 19,
   "metadata": {},
   "outputs": [],
   "source": [
    "compressed_df = LZ4_compress_df(df_wind)"
   ]
  },
  {
   "cell_type": "code",
   "execution_count": 20,
   "metadata": {},
   "outputs": [
    {
     "name": "stdout",
     "output_type": "stream",
     "text": [
      "Данные совпадают после декодирования: True\n"
     ]
    }
   ],
   "source": [
    "decompressed_df = LZ4_decompress_df(compressed_df)\n",
    "print('Данные совпадают после декодирования:', decompressed_df.equals(df_wind))"
   ]
  },
  {
   "cell_type": "code",
   "execution_count": 21,
   "metadata": {},
   "outputs": [
    {
     "name": "stdout",
     "output_type": "stream",
     "text": [
      "Размер исходных данных: 257808 байт \n",
      "\n",
      "Размер сжатых данных: 191643 байт \n",
      "\n",
      "Коэффициент сжатия: 1.345\n"
     ]
    }
   ],
   "source": [
    "comp = get_compress_info_lz4(df_wind, compressed_df)"
   ]
  },
  {
   "cell_type": "markdown",
   "metadata": {},
   "source": [
    "## Spatial + XOR"
   ]
  },
  {
   "cell_type": "markdown",
   "metadata": {},
   "source": [
    "Сожмем и декодируем данные с помощью обходы и последующего XOR-сжатия. Необходимо сократить количество знаков после запятой в датасете country_df до 15."
   ]
  },
  {
   "cell_type": "code",
   "execution_count": 22,
   "metadata": {},
   "outputs": [],
   "source": [
    "df = df_wind.round(15).copy()"
   ]
  },
  {
   "cell_type": "code",
   "execution_count": 23,
   "metadata": {},
   "outputs": [
    {
     "name": "stdout",
     "output_type": "stream",
     "text": [
      "Check for decode: True\n"
     ]
    }
   ],
   "source": [
    "res = spatial_clustering_xor(df, wind_geo_dict, 0.84)\n",
    "decompressed_df = spatial_XOR_decompress(res)\n",
    "print('Check for decode:', decompressed_df.equals(df))"
   ]
  },
  {
   "cell_type": "code",
   "execution_count": 24,
   "metadata": {},
   "outputs": [
    {
     "name": "stdout",
     "output_type": "stream",
     "text": [
      "Размер исходных данных: 257808 байт \n",
      "\n",
      "Размер сжатых данных: 255656.625 байт \n",
      "\n",
      "Коэффициент сжатия: 1.008\n"
     ]
    }
   ],
   "source": [
    "comp = get_compress_info_spatial_xor(df, res)"
   ]
  },
  {
   "cell_type": "markdown",
   "metadata": {},
   "source": [
    "## Spatial + Sprintz"
   ]
  },
  {
   "cell_type": "markdown",
   "metadata": {},
   "source": [
    "Сожмем и декодируем данные с помощью обхода и Sprintz. Для данного алгоритма используем датасет country_df, так как ряды в датасете коррелируют, что необходимо для обхода. Кроме того, приведем данные к целым числам."
   ]
  },
  {
   "cell_type": "code",
   "execution_count": 25,
   "metadata": {},
   "outputs": [],
   "source": [
    "df = df_wind*100\n",
    "df = df.astype(int)"
   ]
  },
  {
   "cell_type": "code",
   "execution_count": 26,
   "metadata": {},
   "outputs": [],
   "source": [
    "res = spatial_clustering_sprintz(df.copy(), wind_geo_dict, 0.84)"
   ]
  },
  {
   "cell_type": "code",
   "execution_count": 27,
   "metadata": {},
   "outputs": [
    {
     "name": "stdout",
     "output_type": "stream",
     "text": [
      "Данные совпадают после декодирования: True\n"
     ]
    }
   ],
   "source": [
    "clust_dict = spatial_clustering(\n",
    "    df, wind_geo_dict, 0.84)\n",
    "decode_res = spatial_sprintz_decompress(res,\n",
    "                                        clust_dict)\n",
    "print('Данные совпадают после декодирования:', df.equals(decode_res))"
   ]
  },
  {
   "cell_type": "code",
   "execution_count": 28,
   "metadata": {},
   "outputs": [
    {
     "name": "stdout",
     "output_type": "stream",
     "text": [
      "Размер исходных данных: 16428 байт \n",
      "\n",
      "Размер сжатых данных: 42420 байт \n",
      "\n",
      "Коэффициент сжатия: 0.387\n"
     ]
    }
   ],
   "source": [
    "comp = get_compress_info_spatial_sprintz(df, res)"
   ]
  },
  {
   "cell_type": "markdown",
   "metadata": {},
   "source": [
    "## Spatial + PCA"
   ]
  },
  {
   "cell_type": "markdown",
   "metadata": {},
   "source": [
    "Сожмем и декодируем данные с помощью PCA."
   ]
  },
  {
   "cell_type": "code",
   "execution_count": 29,
   "metadata": {},
   "outputs": [],
   "source": [
    "res = spatial_clustering_PCA_LZ4(df_wind, wind_geo_dict,0.84)"
   ]
  },
  {
   "cell_type": "code",
   "execution_count": 30,
   "metadata": {},
   "outputs": [
    {
     "name": "stdout",
     "output_type": "stream",
     "text": [
      "Размер исходных данных: 257808 байт \n",
      "\n",
      "Размер сжатых данных: 148768 байт \n",
      "\n",
      "Коэффициент сжатия: 1.733\n"
     ]
    }
   ],
   "source": [
    "comp = get_compress_info_spatial_PCA_LZ4(df_wind, res)"
   ]
  },
  {
   "cell_type": "code",
   "execution_count": 31,
   "metadata": {},
   "outputs": [
    {
     "name": "stdout",
     "output_type": "stream",
     "text": [
      "MSE: 0.001079 \n",
      "\n",
      "MAPE: 13.78 % \n",
      "\n"
     ]
    }
   ],
   "source": [
    "clusters = spatial_clustering(df_wind, wind_geo_dict, 0.84)\n",
    "dec_res = spatial_lz4_decompress(res, clusters)\n",
    "mse, mape = get_errors(df_wind, dec_res)"
   ]
  },
  {
   "cell_type": "markdown",
   "metadata": {},
   "source": [
    "## SZ3"
   ]
  },
  {
   "cell_type": "markdown",
   "metadata": {},
   "source": [
    "Сожмем и декодируем данные с помощью SZ3 раздельно, как если бы каждый сенсор сжимал данные сам."
   ]
  },
  {
   "cell_type": "code",
   "execution_count": 32,
   "metadata": {},
   "outputs": [],
   "source": [
    "data_enc = compress_sz3_df(df_wind, 0.03)"
   ]
  },
  {
   "cell_type": "code",
   "execution_count": 33,
   "metadata": {},
   "outputs": [
    {
     "name": "stdout",
     "output_type": "stream",
     "text": [
      "Размер исходных данных: 257808 байт \n",
      "\n",
      "Размер сжатых данных: 12635 байт \n",
      "\n",
      "Коэффициент сжатия: 20.404\n"
     ]
    }
   ],
   "source": [
    "comp = get_compress_info_sz3(df_wind, data_enc)"
   ]
  },
  {
   "cell_type": "code",
   "execution_count": 34,
   "metadata": {},
   "outputs": [
    {
     "name": "stdout",
     "output_type": "stream",
     "text": [
      "MSE: 0.000271 \n",
      "\n",
      "MAPE: 20.64 % \n",
      "\n"
     ]
    },
    {
     "data": {
      "text/plain": [
       "(0.000271, 20.64)"
      ]
     },
     "execution_count": 34,
     "metadata": {},
     "output_type": "execute_result"
    }
   ],
   "source": [
    "data = df_wind.values.transpose()\n",
    "shape = [d.shape for d in data]\n",
    "type = data[0].dtype\n",
    "data_dec = decompress_sz3(data_enc, shape, type)\n",
    "get_errors(df_wind, data_dec)"
   ]
  },
  {
   "cell_type": "markdown",
   "metadata": {},
   "source": [
    "Сожмем и декодируем данные сразу целиком, чтобы убедиться, что коэффициент сжатия SZ3 зависит от размера входных данных."
   ]
  },
  {
   "cell_type": "code",
   "execution_count": 35,
   "metadata": {},
   "outputs": [],
   "source": [
    "# compress whole data\n",
    "data = df_wind.values.transpose()\n",
    "data_enc = compress_sz3_all(df_wind, 0.03)"
   ]
  },
  {
   "cell_type": "code",
   "execution_count": 36,
   "metadata": {},
   "outputs": [
    {
     "name": "stdout",
     "output_type": "stream",
     "text": [
      "Размер исходных данных: 257808 байт \n",
      "\n",
      "Размер сжатых данных: 11523 байт \n",
      "\n",
      "Коэффициент сжатия: 22.373\n"
     ]
    }
   ],
   "source": [
    "comp = get_compress_info_sz3(df_wind, data_enc)"
   ]
  },
  {
   "cell_type": "code",
   "execution_count": 37,
   "metadata": {},
   "outputs": [
    {
     "name": "stdout",
     "output_type": "stream",
     "text": [
      "MSE: 0.000263 \n",
      "\n",
      "MAPE: 22.64 % \n",
      "\n"
     ]
    },
    {
     "data": {
      "text/plain": [
       "(0.000263, 22.64)"
      ]
     },
     "execution_count": 37,
     "metadata": {},
     "output_type": "execute_result"
    }
   ],
   "source": [
    "data_dec = decompress_sz3(data_enc, data.shape, data.dtype)\n",
    "get_errors(df_wind, data_dec)"
   ]
  },
  {
   "cell_type": "markdown",
   "metadata": {},
   "source": [
    "## SZ3 + CNN"
   ]
  },
  {
   "cell_type": "markdown",
   "metadata": {},
   "source": [
    "### Без DWT-признаков"
   ]
  },
  {
   "cell_type": "markdown",
   "metadata": {},
   "source": [
    "Сожмем данные только одного кластера с помощью CNN. Используем для сжатия модели алгоритм zstd. Рассмотрим функцию потерь на большом количестве эпох и качество восстановления."
   ]
  },
  {
   "cell_type": "code",
   "execution_count": 38,
   "metadata": {},
   "outputs": [
    {
     "name": "stdout",
     "output_type": "stream",
     "text": [
      "Время обучения: 354.63 секунд\n"
     ]
    },
    {
     "data": {
      "image/png": "[encoded data removed]",
      "text/plain": [
       "<Figure size 1000x500 with 1 Axes>"
      ]
     },
     "metadata": {},
     "output_type": "display_data"
    },
    {
     "name": "stdout",
     "output_type": "stream",
     "text": [
      "Size of compressed model (bytes): 3624\n"
     ]
    }
   ],
   "source": [
    "cluster_enc = {}\n",
    "cluster_sensors = ['sensor_0', 'sensor_4', 'sensor_3', 'sensor_5'] #выделяем коррелирующие сенсоры кластера\n",
    "cluster_enc[tuple(cluster_sensors)] = compress_cnn_cluster(df_wind[cluster_sensors], use_dwt=False,\n",
    "                                                           window_size=64, num_epochs=250, extra_layer=False,\n",
    "                                                           conv_filter=2, plot_flag=True,\n",
    "                                                           er_abs_sz3=0.03,  model_compress=\"zstd\")"
   ]
  },
  {
   "cell_type": "code",
   "execution_count": 39,
   "metadata": {},
   "outputs": [
    {
     "name": "stdout",
     "output_type": "stream",
     "text": [
      "Сжатия кластера \n",
      "\n",
      "Размер исходных данных: 171872 байт \n",
      "\n",
      "Размер сжатых данных: 6706 байт \n",
      "\n",
      "Коэффициент сжатия: 25.63\n"
     ]
    }
   ],
   "source": [
    "print('Сжатия кластера \\n')\n",
    "comp = get_compress_info_cnn_sz3(df_wind[cluster_sensors], cluster_enc)"
   ]
  },
  {
   "cell_type": "code",
   "execution_count": 40,
   "metadata": {},
   "outputs": [],
   "source": [
    "dec_cluster_df = decomress_cnn_sz3(cluster_enc, (5371,), use_dwt=False, model_compress=\"zstd\")\n",
    "dec_cluster_df = dec_cluster_df.sort_index(axis=1)"
   ]
  },
  {
   "cell_type": "code",
   "execution_count": 41,
   "metadata": {},
   "outputs": [
    {
     "name": "stdout",
     "output_type": "stream",
     "text": [
      "MSE: 0.006469 \n",
      "\n",
      "MAPE: 45.91 % \n",
      "\n"
     ]
    }
   ],
   "source": [
    "mse, mape = get_errors(df_wind[cluster_sensors].sort_index(axis=1), dec_cluster_df)"
   ]
  },
  {
   "cell_type": "markdown",
   "metadata": {},
   "source": [
    "Теперь сожмем все данные."
   ]
  },
  {
   "cell_type": "markdown",
   "metadata": {},
   "source": [
    "Используем lz4 для сжатия модели."
   ]
  },
  {
   "cell_type": "code",
   "execution_count": 42,
   "metadata": {},
   "outputs": [
    {
     "name": "stdout",
     "output_type": "stream",
     "text": [
      "Время обучения: 108.88 секунд\n",
      "Size of compressed model (bytes): 4515\n"
     ]
    }
   ],
   "source": [
    "# Используем LZ4 для сжатия.\n",
    "enc_df = compress_cnn_sz3(df_wind,\n",
    "                          wind_geo_dict,\n",
    "                          cor_lvl=0.84,\n",
    "                          use_dwt=False,\n",
    "                          window_size=64,\n",
    "                          num_epochs=70,\n",
    "                          extra_layer=False,\n",
    "                          conv_filter=2,\n",
    "                          plot_flag=False,\n",
    "                          er_abs_sz3=0.03,\n",
    "                          model_compress=\"lz4\")"
   ]
  },
  {
   "cell_type": "code",
   "execution_count": 43,
   "metadata": {},
   "outputs": [
    {
     "name": "stdout",
     "output_type": "stream",
     "text": [
      "Размер исходных данных: 257808 байт \n",
      "\n",
      "Размер сжатых данных: 12009 байт \n",
      "\n",
      "Коэффициент сжатия: 21.468\n"
     ]
    }
   ],
   "source": [
    "comp = get_compress_info_cnn_sz3(df_wind, enc_df)"
   ]
  },
  {
   "cell_type": "markdown",
   "metadata": {},
   "source": [
    "Используем ZSTD для сжатия модели.ё"
   ]
  },
  {
   "cell_type": "code",
   "execution_count": 44,
   "metadata": {},
   "outputs": [
    {
     "name": "stdout",
     "output_type": "stream",
     "text": [
      "Время обучения: 115.02 секунд\n",
      "Size of compressed model (bytes): 3654\n"
     ]
    }
   ],
   "source": [
    "enc_df = compress_cnn_sz3(df_wind,\n",
    "                          wind_geo_dict,\n",
    "                          cor_lvl=0.84,\n",
    "                          use_dwt=False,\n",
    "                          window_size=64,\n",
    "                          num_epochs=70,\n",
    "                          extra_layer=False,\n",
    "                          conv_filter=2,\n",
    "                          plot_flag=False,\n",
    "                          er_abs_sz3=0.03,\n",
    "                          model_compress=\"zstd\")"
   ]
  },
  {
   "cell_type": "code",
   "execution_count": 45,
   "metadata": {},
   "outputs": [
    {
     "name": "stdout",
     "output_type": "stream",
     "text": [
      "Размер исходных данных: 257808 байт \n",
      "\n",
      "Размер сжатых данных: 11148 байт \n",
      "\n",
      "Коэффициент сжатия: 23.126\n"
     ]
    }
   ],
   "source": [
    "comp = get_compress_info_cnn_sz3(df_wind, enc_df)"
   ]
  },
  {
   "cell_type": "code",
   "execution_count": 46,
   "metadata": {},
   "outputs": [],
   "source": [
    "dec_df = decomress_cnn_sz3(enc_df, (5371,), use_dwt=False)\n",
    "dec_df = dec_df.sort_index(axis=1)"
   ]
  },
  {
   "cell_type": "code",
   "execution_count": 47,
   "metadata": {},
   "outputs": [
    {
     "name": "stdout",
     "output_type": "stream",
     "text": [
      "MSE: 0.004198 \n",
      "\n",
      "MAPE: 36.48 % \n",
      "\n"
     ]
    }
   ],
   "source": [
    "mse, mape = get_errors(df_wind, dec_df)"
   ]
  },
  {
   "cell_type": "markdown",
   "metadata": {},
   "source": [
    "### С DWT-признаками"
   ]
  },
  {
   "cell_type": "markdown",
   "metadata": {},
   "source": [
    "Теперь будем использовать модель, выделяя дополнительные признаки DWT преобразования."
   ]
  },
  {
   "cell_type": "markdown",
   "metadata": {},
   "source": [
    "Рассмотрим изменения функции потерь при обучении."
   ]
  },
  {
   "cell_type": "code",
   "execution_count": 48,
   "metadata": {},
   "outputs": [
    {
     "data": {
      "image/png": "[encoded data removed]",
      "text/plain": [
       "<Figure size 1000x500 with 1 Axes>"
      ]
     },
     "metadata": {},
     "output_type": "display_data"
    },
    {
     "name": "stdout",
     "output_type": "stream",
     "text": [
      "Size of compressed model (bytes): 10272\n"
     ]
    }
   ],
   "source": [
    "cluster_enc = {}\n",
    "cluster_sensors = ['sensor_0', 'sensor_4', 'sensor_3', 'sensor_5'] #выделяем коррелирующие сенсоры\n",
    "cluster_enc[tuple(cluster_sensors)] = compress_cnn_cluster(df_wind[cluster_sensors], use_dwt=True,\n",
    "                                                           window_size=64, num_epochs=250, conv_filter=3, plot_flag=True,\n",
    "                                                           er_abs_sz3=0.03,  model_compress=\"zstd\")"
   ]
  },
  {
   "cell_type": "code",
   "execution_count": 49,
   "metadata": {},
   "outputs": [
    {
     "name": "stdout",
     "output_type": "stream",
     "text": [
      "Сжатия кластера \n",
      "\n",
      "Размер исходных данных: 171872 байт \n",
      "\n",
      "Размер сжатых данных: 13354 байт \n",
      "\n",
      "Коэффициент сжатия: 12.87\n"
     ]
    }
   ],
   "source": [
    "print('Сжатия кластера \\n')\n",
    "comp = get_compress_info_cnn_sz3(df_wind[cluster_sensors], cluster_enc)"
   ]
  },
  {
   "cell_type": "code",
   "execution_count": 50,
   "metadata": {},
   "outputs": [],
   "source": [
    "dec_cluster_df = decomress_cnn_sz3(cluster_enc, (5371,), use_dwt=True)\n",
    "dec_cluster_df = dec_cluster_df.sort_index(axis=1)"
   ]
  },
  {
   "cell_type": "code",
   "execution_count": 51,
   "metadata": {},
   "outputs": [
    {
     "name": "stdout",
     "output_type": "stream",
     "text": [
      "MSE: 0.006438 \n",
      "\n",
      "MAPE: 44.81 % \n",
      "\n"
     ]
    }
   ],
   "source": [
    "mse, mape = get_errors(df_wind[cluster_sensors], dec_cluster_df)"
   ]
  },
  {
   "cell_type": "markdown",
   "metadata": {},
   "source": [
    "Теперь сожмем все данные."
   ]
  },
  {
   "cell_type": "markdown",
   "metadata": {},
   "source": [
    "Применим lz4 для сжатия модели."
   ]
  },
  {
   "cell_type": "code",
   "execution_count": 52,
   "metadata": {},
   "outputs": [
    {
     "name": "stdout",
     "output_type": "stream",
     "text": [
      "Size of compressed model (bytes): 11787\n"
     ]
    }
   ],
   "source": [
    "#lz4 model compression\n",
    "enc_df = compress_cnn_sz3(df_wind,\n",
    "                          wind_geo_dict,\n",
    "                          cor_lvl=0.84,\n",
    "                          use_dwt=True,\n",
    "                          window_size=64,\n",
    "                          num_epochs=100,\n",
    "                          conv_filter=3,\n",
    "                          plot_flag=False,\n",
    "                          er_abs_sz3=0.03,\n",
    "                          model_compress=\"lz4\")"
   ]
  },
  {
   "cell_type": "code",
   "execution_count": 53,
   "metadata": {},
   "outputs": [
    {
     "name": "stdout",
     "output_type": "stream",
     "text": [
      "Размер исходных данных: 257808 байт \n",
      "\n",
      "Размер сжатых данных: 19281 байт \n",
      "\n",
      "Коэффициент сжатия: 13.371\n"
     ]
    }
   ],
   "source": [
    "comp = get_compress_info_cnn_sz3(df_wind, enc_df)"
   ]
  },
  {
   "cell_type": "markdown",
   "metadata": {},
   "source": [
    "Применим ZSTD для сжатия модели."
   ]
  },
  {
   "cell_type": "code",
   "execution_count": 55,
   "metadata": {},
   "outputs": [
    {
     "name": "stdout",
     "output_type": "stream",
     "text": [
      "Size of compressed model (bytes): 10266\n"
     ]
    }
   ],
   "source": [
    "#zstd model compression\n",
    "enc_df = compress_cnn_sz3(df_wind,\n",
    "                          wind_geo_dict,\n",
    "                          cor_lvl=0.84,\n",
    "                          use_dwt=True,\n",
    "                          window_size=64,\n",
    "                          num_epochs=100,\n",
    "                          conv_filter=3,\n",
    "                          plot_flag=False,\n",
    "                          er_abs_sz3=0.03,\n",
    "                          model_compress=\"zstd\")"
   ]
  },
  {
   "cell_type": "code",
   "execution_count": 56,
   "metadata": {},
   "outputs": [
    {
     "name": "stdout",
     "output_type": "stream",
     "text": [
      "Размер исходных данных: 257808 байт \n",
      "\n",
      "Размер сжатых данных: 17760 байт \n",
      "\n",
      "Коэффициент сжатия: 14.516\n"
     ]
    }
   ],
   "source": [
    "comp = get_compress_info_cnn_sz3(df_wind, enc_df)"
   ]
  },
  {
   "cell_type": "code",
   "execution_count": 57,
   "metadata": {},
   "outputs": [],
   "source": [
    "dec_df = decomress_cnn_sz3(enc_df, (5371,), use_dwt=True, model_compress=\"zstd\")\n",
    "dec_df = dec_df.sort_index(axis=1)"
   ]
  },
  {
   "cell_type": "code",
   "execution_count": 58,
   "metadata": {},
   "outputs": [
    {
     "name": "stdout",
     "output_type": "stream",
     "text": [
      "MSE: 0.003772 \n",
      "\n",
      "MAPE: 34.54 % \n",
      "\n"
     ]
    }
   ],
   "source": [
    "mse, mape = get_errors(df_wind, dec_df)"
   ]
  }
 ],
 "metadata": {
  "kernelspec": {
   "display_name": ".venv",
   "language": "python",
   "name": "python3"
  },
  "language_info": {
   "codemirror_mode": {
    "name": "ipython",
    "version": 3
   },
   "file_extension": ".py",
   "mimetype": "text/x-python",
   "name": "python",
   "nbconvert_exporter": "python",
   "pygments_lexer": "ipython3",
   "version": "3.9.5"
  }
 },
 "nbformat": 4,
 "nbformat_minor": 2
}
