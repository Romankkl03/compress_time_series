{
 "cells": [
  {
   "cell_type": "markdown",
   "metadata": {},
   "source": [
    "## Libraries"
   ]
  },
  {
   "cell_type": "code",
   "execution_count": 63,
   "metadata": {},
   "outputs": [],
   "source": [
    "import pandas as pd\n",
    "from matplotlib import pyplot as plt\n",
    "import numpy as np\n",
    "import warnings\n",
    "import yaml\n",
    "import matplotlib.pyplot as plt\n",
    "import pandas as pd\n",
    "warnings.filterwarnings(\"ignore\")\n",
    "import seaborn as sns\n",
    "from settings import (\n",
    "    SPEED_DATA_PATH,\n",
    "    WIND_DATA_PATH, \n",
    "    GEO_PATH\n",
    ")\n",
    "from sz.SZ3.tools.pysz.pysz import SZ\n",
    "from compress.sprintz_encode import compress_sprintz, decompress_sprintz, get_compress_info_sprintz\n",
    "from compress.bypass import spatial_clustering\n",
    "from compress.general_functions import get_errors, get_geo_dict, create_geo_plot\n",
    "from compress.xor_encode import xor_compress_df, get_compress_info_xor, decompress_xor_df\n",
    "from compress.lz4_encode import LZ4_compress_df, LZ4_decompress_df, get_compress_info_lz4\n",
    "from compress.spatial_lz4 import spatial_clustering_PCA_LZ4, spatial_lz4_decompress, get_compress_info_spatial_PCA_LZ4, lz4_one\n",
    "from compress.spatial_xor import spatial_clustering_xor, spatial_XOR_decompress, get_compress_info_spatial_xor\n",
    "from compress.spatial_sprintz import spatial_clustering_sprintz, spatial_sprintz_decompress, get_compress_info_spatial_sprintz\n",
    "from compress.sz3_encode import compress_sz3_df, decompress_sz3, get_compress_info_sz3, compress_sz3_all\n",
    "from compress.cnn_encode import compress_cnn_sz3, decomress_cnn_sz3, get_compress_info_cnn_sz3, compress_cnn_cluster\n",
    "from memory_profiler import memory_usage"
   ]
  },
  {
   "cell_type": "markdown",
   "metadata": {},
   "source": [
    "## Params"
   ]
  },
  {
   "cell_type": "code",
   "execution_count": 64,
   "metadata": {},
   "outputs": [],
   "source": [
    "table_params = [{\n",
    "                'selector': 'caption',\n",
    "                'props': [\n",
    "                    ('color', 'Blue'),\n",
    "                    ('font-size', '16pt'),\n",
    "                    ('font-weight', 'bold'),\n",
    "                    ('text-align', 'center'),\n",
    "                    ('caption-side', 'top'),\n",
    "                    ('padding', '10px')\n",
    "                ]\n",
    "            },\n",
    "            {\n",
    "                'selector': 'th',\n",
    "                'props': [('font-size', '14pt')]\n",
    "            }]"
   ]
  },
  {
   "cell_type": "code",
   "execution_count": 65,
   "metadata": {},
   "outputs": [],
   "source": [
    "time_dict = {}\n",
    "mem_dict = {}"
   ]
  },
  {
   "cell_type": "markdown",
   "metadata": {},
   "source": [
    "## Data"
   ]
  },
  {
   "cell_type": "markdown",
   "metadata": {},
   "source": [
    "### Download dataset"
   ]
  },
  {
   "cell_type": "code",
   "execution_count": 66,
   "metadata": {},
   "outputs": [
    {
     "name": "stdout",
     "output_type": "stream",
     "text": [
      "<class 'pandas.core.frame.DataFrame'>\n",
      "DatetimeIndex: 2500 entries, 2015-08-31 18:22:00 to 2015-09-17 16:24:00\n",
      "Data columns (total 1 columns):\n",
      " #   Column  Non-Null Count  Dtype\n",
      "---  ------  --------------  -----\n",
      " 0   value   2500 non-null   int64\n",
      "dtypes: int64(1)\n",
      "memory usage: 39.1 KB\n"
     ]
    }
   ],
   "source": [
    "# int time series\n",
    "speed_init = pd.read_csv(SPEED_DATA_PATH, parse_dates=[0], index_col=[0])# данные заполненности дорог\n",
    "speed_init.info()"
   ]
  },
  {
   "cell_type": "code",
   "execution_count": 67,
   "metadata": {},
   "outputs": [
    {
     "name": "stdout",
     "output_type": "stream",
     "text": [
      "DataFrame shape: (500, 5)\n"
     ]
    },
    {
     "data": {
      "text/html": [
       "<div>\n",
       "<style scoped>\n",
       "    .dataframe tbody tr th:only-of-type {\n",
       "        vertical-align: middle;\n",
       "    }\n",
       "\n",
       "    .dataframe tbody tr th {\n",
       "        vertical-align: top;\n",
       "    }\n",
       "\n",
       "    .dataframe thead th {\n",
       "        text-align: right;\n",
       "    }\n",
       "</style>\n",
       "<table border=\"1\" class=\"dataframe\">\n",
       "  <thead>\n",
       "    <tr style=\"text-align: right;\">\n",
       "      <th></th>\n",
       "      <th>sensor_1</th>\n",
       "      <th>sensor_2</th>\n",
       "      <th>sensor_3</th>\n",
       "      <th>sensor_4</th>\n",
       "      <th>sensor_5</th>\n",
       "    </tr>\n",
       "  </thead>\n",
       "  <tbody>\n",
       "    <tr>\n",
       "      <th>0</th>\n",
       "      <td>90</td>\n",
       "      <td>80</td>\n",
       "      <td>84</td>\n",
       "      <td>94</td>\n",
       "      <td>90</td>\n",
       "    </tr>\n",
       "    <tr>\n",
       "      <th>1</th>\n",
       "      <td>91</td>\n",
       "      <td>62</td>\n",
       "      <td>96</td>\n",
       "      <td>75</td>\n",
       "      <td>84</td>\n",
       "    </tr>\n",
       "    <tr>\n",
       "      <th>2</th>\n",
       "      <td>86</td>\n",
       "      <td>93</td>\n",
       "      <td>69</td>\n",
       "      <td>88</td>\n",
       "      <td>71</td>\n",
       "    </tr>\n",
       "    <tr>\n",
       "      <th>3</th>\n",
       "      <td>74</td>\n",
       "      <td>68</td>\n",
       "      <td>88</td>\n",
       "      <td>71</td>\n",
       "      <td>87</td>\n",
       "    </tr>\n",
       "    <tr>\n",
       "      <th>4</th>\n",
       "      <td>82</td>\n",
       "      <td>68</td>\n",
       "      <td>73</td>\n",
       "      <td>69</td>\n",
       "      <td>57</td>\n",
       "    </tr>\n",
       "  </tbody>\n",
       "</table>\n",
       "</div>"
      ],
      "text/plain": [
       "   sensor_1  sensor_2  sensor_3  sensor_4  sensor_5\n",
       "0        90        80        84        94        90\n",
       "1        91        62        96        75        84\n",
       "2        86        93        69        88        71\n",
       "3        74        68        88        71        87\n",
       "4        82        68        73        69        57"
      ]
     },
     "execution_count": 67,
     "metadata": {},
     "output_type": "execute_result"
    }
   ],
   "source": [
    "speed_init['index'] = np.arange(speed_init.shape[0])\n",
    "sensor_data = {}\n",
    "\n",
    "for i in range(5):\n",
    "    sensor_data[f'sensor_{i+1}'] = speed_init.loc[speed_init['index'] % 5 == i,\n",
    "                                             ['value']]['value'].to_list()\n",
    "\n",
    "df_speed = pd.DataFrame(sensor_data)\n",
    "print('DataFrame shape:', df_speed.shape)\n",
    "df_speed.head()"
   ]
  },
  {
   "cell_type": "code",
   "execution_count": 68,
   "metadata": {},
   "outputs": [
    {
     "data": {
      "text/html": [
       "<div>\n",
       "<style scoped>\n",
       "    .dataframe tbody tr th:only-of-type {\n",
       "        vertical-align: middle;\n",
       "    }\n",
       "\n",
       "    .dataframe tbody tr th {\n",
       "        vertical-align: top;\n",
       "    }\n",
       "\n",
       "    .dataframe thead th {\n",
       "        text-align: right;\n",
       "    }\n",
       "</style>\n",
       "<table border=\"1\" class=\"dataframe\">\n",
       "  <thead>\n",
       "    <tr style=\"text-align: right;\">\n",
       "      <th></th>\n",
       "      <th>sensor_1</th>\n",
       "      <th>sensor_2</th>\n",
       "      <th>sensor_3</th>\n",
       "      <th>sensor_4</th>\n",
       "      <th>sensor_5</th>\n",
       "    </tr>\n",
       "  </thead>\n",
       "  <tbody>\n",
       "    <tr>\n",
       "      <th>count</th>\n",
       "      <td>500.000000</td>\n",
       "      <td>500.000000</td>\n",
       "      <td>500.000000</td>\n",
       "      <td>500.000000</td>\n",
       "      <td>500.000000</td>\n",
       "    </tr>\n",
       "    <tr>\n",
       "      <th>mean</th>\n",
       "      <td>82.126000</td>\n",
       "      <td>81.538000</td>\n",
       "      <td>81.862000</td>\n",
       "      <td>81.786000</td>\n",
       "      <td>82.222000</td>\n",
       "    </tr>\n",
       "    <tr>\n",
       "      <th>std</th>\n",
       "      <td>8.404963</td>\n",
       "      <td>9.247897</td>\n",
       "      <td>8.155488</td>\n",
       "      <td>8.913085</td>\n",
       "      <td>8.983659</td>\n",
       "    </tr>\n",
       "    <tr>\n",
       "      <th>min</th>\n",
       "      <td>43.000000</td>\n",
       "      <td>28.000000</td>\n",
       "      <td>53.000000</td>\n",
       "      <td>29.000000</td>\n",
       "      <td>20.000000</td>\n",
       "    </tr>\n",
       "    <tr>\n",
       "      <th>25%</th>\n",
       "      <td>77.000000</td>\n",
       "      <td>76.000000</td>\n",
       "      <td>77.000000</td>\n",
       "      <td>76.000000</td>\n",
       "      <td>77.000000</td>\n",
       "    </tr>\n",
       "    <tr>\n",
       "      <th>50%</th>\n",
       "      <td>83.000000</td>\n",
       "      <td>82.000000</td>\n",
       "      <td>82.000000</td>\n",
       "      <td>82.000000</td>\n",
       "      <td>83.000000</td>\n",
       "    </tr>\n",
       "    <tr>\n",
       "      <th>75%</th>\n",
       "      <td>87.000000</td>\n",
       "      <td>88.000000</td>\n",
       "      <td>87.000000</td>\n",
       "      <td>88.000000</td>\n",
       "      <td>88.000000</td>\n",
       "    </tr>\n",
       "    <tr>\n",
       "      <th>max</th>\n",
       "      <td>109.000000</td>\n",
       "      <td>103.000000</td>\n",
       "      <td>106.000000</td>\n",
       "      <td>106.000000</td>\n",
       "      <td>105.000000</td>\n",
       "    </tr>\n",
       "  </tbody>\n",
       "</table>\n",
       "</div>"
      ],
      "text/plain": [
       "         sensor_1    sensor_2    sensor_3    sensor_4    sensor_5\n",
       "count  500.000000  500.000000  500.000000  500.000000  500.000000\n",
       "mean    82.126000   81.538000   81.862000   81.786000   82.222000\n",
       "std      8.404963    9.247897    8.155488    8.913085    8.983659\n",
       "min     43.000000   28.000000   53.000000   29.000000   20.000000\n",
       "25%     77.000000   76.000000   77.000000   76.000000   77.000000\n",
       "50%     83.000000   82.000000   82.000000   82.000000   83.000000\n",
       "75%     87.000000   88.000000   87.000000   88.000000   88.000000\n",
       "max    109.000000  103.000000  106.000000  106.000000  105.000000"
      ]
     },
     "execution_count": 68,
     "metadata": {},
     "output_type": "execute_result"
    }
   ],
   "source": [
    "df_speed.describe()"
   ]
  },
  {
   "cell_type": "code",
   "execution_count": 69,
   "metadata": {},
   "outputs": [
    {
     "name": "stdout",
     "output_type": "stream",
     "text": [
      "<class 'pandas.core.frame.DataFrame'>\n",
      "RangeIndex: 5371 entries, 0 to 5370\n",
      "Data columns (total 6 columns):\n",
      " #   Column    Non-Null Count  Dtype  \n",
      "---  ------    --------------  -----  \n",
      " 0   sensor_0  5371 non-null   float64\n",
      " 1   sensor_1  5371 non-null   float64\n",
      " 2   sensor_2  5371 non-null   float64\n",
      " 3   sensor_3  5371 non-null   float64\n",
      " 4   sensor_4  5371 non-null   float64\n",
      " 5   sensor_5  5371 non-null   float64\n",
      "dtypes: float64(6)\n",
      "memory usage: 251.9 KB\n"
     ]
    }
   ],
   "source": [
    "df_wind = pd.read_csv(WIND_DATA_PATH)\n",
    "df_wind.info()"
   ]
  },
  {
   "cell_type": "code",
   "execution_count": 70,
   "metadata": {},
   "outputs": [
    {
     "data": {
      "text/html": [
       "<div>\n",
       "<style scoped>\n",
       "    .dataframe tbody tr th:only-of-type {\n",
       "        vertical-align: middle;\n",
       "    }\n",
       "\n",
       "    .dataframe tbody tr th {\n",
       "        vertical-align: top;\n",
       "    }\n",
       "\n",
       "    .dataframe thead th {\n",
       "        text-align: right;\n",
       "    }\n",
       "</style>\n",
       "<table border=\"1\" class=\"dataframe\">\n",
       "  <thead>\n",
       "    <tr style=\"text-align: right;\">\n",
       "      <th></th>\n",
       "      <th>sensor_0</th>\n",
       "      <th>sensor_1</th>\n",
       "      <th>sensor_2</th>\n",
       "      <th>sensor_3</th>\n",
       "      <th>sensor_4</th>\n",
       "      <th>sensor_5</th>\n",
       "    </tr>\n",
       "  </thead>\n",
       "  <tbody>\n",
       "    <tr>\n",
       "      <th>count</th>\n",
       "      <td>5371.000000</td>\n",
       "      <td>5371.000000</td>\n",
       "      <td>5371.000000</td>\n",
       "      <td>5371.000000</td>\n",
       "      <td>5371.000000</td>\n",
       "      <td>5371.000000</td>\n",
       "    </tr>\n",
       "    <tr>\n",
       "      <th>mean</th>\n",
       "      <td>0.227920</td>\n",
       "      <td>0.200216</td>\n",
       "      <td>0.250895</td>\n",
       "      <td>0.226237</td>\n",
       "      <td>0.210789</td>\n",
       "      <td>0.170282</td>\n",
       "    </tr>\n",
       "    <tr>\n",
       "      <th>std</th>\n",
       "      <td>0.183147</td>\n",
       "      <td>0.194221</td>\n",
       "      <td>0.228161</td>\n",
       "      <td>0.186192</td>\n",
       "      <td>0.204030</td>\n",
       "      <td>0.158362</td>\n",
       "    </tr>\n",
       "    <tr>\n",
       "      <th>min</th>\n",
       "      <td>0.000000</td>\n",
       "      <td>0.000000</td>\n",
       "      <td>0.000000</td>\n",
       "      <td>0.000000</td>\n",
       "      <td>0.000000</td>\n",
       "      <td>0.000000</td>\n",
       "    </tr>\n",
       "    <tr>\n",
       "      <th>25%</th>\n",
       "      <td>0.071329</td>\n",
       "      <td>0.035002</td>\n",
       "      <td>0.043961</td>\n",
       "      <td>0.067200</td>\n",
       "      <td>0.037736</td>\n",
       "      <td>0.035301</td>\n",
       "    </tr>\n",
       "    <tr>\n",
       "      <th>50%</th>\n",
       "      <td>0.186014</td>\n",
       "      <td>0.139327</td>\n",
       "      <td>0.182703</td>\n",
       "      <td>0.176465</td>\n",
       "      <td>0.142235</td>\n",
       "      <td>0.121945</td>\n",
       "    </tr>\n",
       "    <tr>\n",
       "      <th>75%</th>\n",
       "      <td>0.370629</td>\n",
       "      <td>0.323170</td>\n",
       "      <td>0.428663</td>\n",
       "      <td>0.364866</td>\n",
       "      <td>0.348337</td>\n",
       "      <td>0.278338</td>\n",
       "    </tr>\n",
       "    <tr>\n",
       "      <th>max</th>\n",
       "      <td>0.683916</td>\n",
       "      <td>0.783491</td>\n",
       "      <td>0.871451</td>\n",
       "      <td>0.709350</td>\n",
       "      <td>0.791937</td>\n",
       "      <td>0.655671</td>\n",
       "    </tr>\n",
       "  </tbody>\n",
       "</table>\n",
       "</div>"
      ],
      "text/plain": [
       "          sensor_0     sensor_1     sensor_2     sensor_3     sensor_4  \\\n",
       "count  5371.000000  5371.000000  5371.000000  5371.000000  5371.000000   \n",
       "mean      0.227920     0.200216     0.250895     0.226237     0.210789   \n",
       "std       0.183147     0.194221     0.228161     0.186192     0.204030   \n",
       "min       0.000000     0.000000     0.000000     0.000000     0.000000   \n",
       "25%       0.071329     0.035002     0.043961     0.067200     0.037736   \n",
       "50%       0.186014     0.139327     0.182703     0.176465     0.142235   \n",
       "75%       0.370629     0.323170     0.428663     0.364866     0.348337   \n",
       "max       0.683916     0.783491     0.871451     0.709350     0.791937   \n",
       "\n",
       "          sensor_5  \n",
       "count  5371.000000  \n",
       "mean      0.170282  \n",
       "std       0.158362  \n",
       "min       0.000000  \n",
       "25%       0.035301  \n",
       "50%       0.121945  \n",
       "75%       0.278338  \n",
       "max       0.655671  "
      ]
     },
     "execution_count": 70,
     "metadata": {},
     "output_type": "execute_result"
    }
   ],
   "source": [
    "df_wind.describe()"
   ]
  },
  {
   "cell_type": "markdown",
   "metadata": {},
   "source": [
    "### Creating wind Dataset"
   ]
  },
  {
   "cell_type": "markdown",
   "metadata": {},
   "source": [
    "Возьмем данные о первых шести ветренных вышек."
   ]
  },
  {
   "cell_type": "code",
   "execution_count": 71,
   "metadata": {},
   "outputs": [],
   "source": [
    "# df_wind = df_wind_init[['AT', 'BE', 'BG', 'CH', 'CZ', 'DE']]\n",
    "# df_wind = df_wind.head(10000)"
   ]
  },
  {
   "cell_type": "markdown",
   "metadata": {},
   "source": [
    "Видим, что данные ненулевые через определенные промежутки времени. Это связано с тем, что отсутствует непрерывность замеров данных. Оставим только те строки, где есть хотя бы одно ненулевое значение."
   ]
  },
  {
   "cell_type": "code",
   "execution_count": 72,
   "metadata": {},
   "outputs": [],
   "source": [
    "# Ensure the correct columns are used\n",
    "# df_wind = df_wind.loc[(\n",
    "#     df_wind[['AT', 'BE', 'BG', 'CH', 'CZ', 'DE']] != 0).any(axis=1)].reset_index(drop=True)\n",
    "# df_wind.columns = [f'sensor_{i}' for i in range(df_wind.shape[1])]\n",
    "# df_wind.info()"
   ]
  },
  {
   "cell_type": "code",
   "execution_count": 73,
   "metadata": {},
   "outputs": [],
   "source": [
    "#df_wind.to_csv('data/wind_df.csv', index=False) # save test dataframe"
   ]
  },
  {
   "cell_type": "markdown",
   "metadata": {},
   "source": [
    "## Data analisys"
   ]
  },
  {
   "cell_type": "code",
   "execution_count": 74,
   "metadata": {},
   "outputs": [
    {
     "data": {
      "text/html": [
       "<style type=\"text/css\">\n",
       "#T_2b172 caption {\n",
       "  color: Blue;\n",
       "  font-size: 16pt;\n",
       "  font-weight: bold;\n",
       "  text-align: center;\n",
       "  caption-side: top;\n",
       "  padding: 10px;\n",
       "}\n",
       "#T_2b172 th {\n",
       "  font-size: 14pt;\n",
       "}\n",
       "#T_2b172_row0_col0, #T_2b172_row1_col1, #T_2b172_row2_col2, #T_2b172_row3_col3, #T_2b172_row4_col4, #T_2b172_row5_col5 {\n",
       "  background-color: #b40426;\n",
       "  color: #f1f1f1;\n",
       "  font-size: 14pt;\n",
       "}\n",
       "#T_2b172_row0_col1 {\n",
       "  background-color: #adc9fd;\n",
       "  color: #000000;\n",
       "  font-size: 14pt;\n",
       "}\n",
       "#T_2b172_row0_col2 {\n",
       "  background-color: #bfd3f6;\n",
       "  color: #000000;\n",
       "  font-size: 14pt;\n",
       "}\n",
       "#T_2b172_row0_col3 {\n",
       "  background-color: #f3c8b2;\n",
       "  color: #000000;\n",
       "  font-size: 14pt;\n",
       "}\n",
       "#T_2b172_row0_col4 {\n",
       "  background-color: #f7b194;\n",
       "  color: #000000;\n",
       "  font-size: 14pt;\n",
       "}\n",
       "#T_2b172_row0_col5, #T_2b172_row3_col0 {\n",
       "  background-color: #e7d7ce;\n",
       "  color: #000000;\n",
       "  font-size: 14pt;\n",
       "}\n",
       "#T_2b172_row1_col0, #T_2b172_row1_col2, #T_2b172_row2_col1, #T_2b172_row2_col3, #T_2b172_row2_col4, #T_2b172_row2_col5 {\n",
       "  background-color: #3b4cc0;\n",
       "  color: #f1f1f1;\n",
       "  font-size: 14pt;\n",
       "}\n",
       "#T_2b172_row1_col3 {\n",
       "  background-color: #88abfd;\n",
       "  color: #000000;\n",
       "  font-size: 14pt;\n",
       "}\n",
       "#T_2b172_row1_col4 {\n",
       "  background-color: #4e68d8;\n",
       "  color: #f1f1f1;\n",
       "  font-size: 14pt;\n",
       "}\n",
       "#T_2b172_row1_col5 {\n",
       "  background-color: #f1ccb8;\n",
       "  color: #000000;\n",
       "  font-size: 14pt;\n",
       "}\n",
       "#T_2b172_row2_col0 {\n",
       "  background-color: #536edd;\n",
       "  color: #f1f1f1;\n",
       "  font-size: 14pt;\n",
       "}\n",
       "#T_2b172_row3_col1 {\n",
       "  background-color: #c3d5f4;\n",
       "  color: #000000;\n",
       "  font-size: 14pt;\n",
       "}\n",
       "#T_2b172_row3_col2 {\n",
       "  background-color: #84a7fc;\n",
       "  color: #f1f1f1;\n",
       "  font-size: 14pt;\n",
       "}\n",
       "#T_2b172_row3_col4 {\n",
       "  background-color: #96b7ff;\n",
       "  color: #000000;\n",
       "  font-size: 14pt;\n",
       "}\n",
       "#T_2b172_row3_col5 {\n",
       "  background-color: #e3d9d3;\n",
       "  color: #000000;\n",
       "  font-size: 14pt;\n",
       "}\n",
       "#T_2b172_row4_col0 {\n",
       "  background-color: #f7b497;\n",
       "  color: #000000;\n",
       "  font-size: 14pt;\n",
       "}\n",
       "#T_2b172_row4_col1, #T_2b172_row4_col3 {\n",
       "  background-color: #b6cefa;\n",
       "  color: #000000;\n",
       "  font-size: 14pt;\n",
       "}\n",
       "#T_2b172_row4_col2 {\n",
       "  background-color: #a7c5fe;\n",
       "  color: #000000;\n",
       "  font-size: 14pt;\n",
       "}\n",
       "#T_2b172_row4_col5 {\n",
       "  background-color: #f7ba9f;\n",
       "  color: #000000;\n",
       "  font-size: 14pt;\n",
       "}\n",
       "#T_2b172_row5_col0 {\n",
       "  background-color: #dbdcde;\n",
       "  color: #000000;\n",
       "  font-size: 14pt;\n",
       "}\n",
       "#T_2b172_row5_col1 {\n",
       "  background-color: #f7aa8c;\n",
       "  color: #000000;\n",
       "  font-size: 14pt;\n",
       "}\n",
       "#T_2b172_row5_col2 {\n",
       "  background-color: #94b6ff;\n",
       "  color: #000000;\n",
       "  font-size: 14pt;\n",
       "}\n",
       "#T_2b172_row5_col3 {\n",
       "  background-color: #ead4c8;\n",
       "  color: #000000;\n",
       "  font-size: 14pt;\n",
       "}\n",
       "#T_2b172_row5_col4 {\n",
       "  background-color: #f5c2aa;\n",
       "  color: #000000;\n",
       "  font-size: 14pt;\n",
       "}\n",
       "</style>\n",
       "<table id=\"T_2b172\">\n",
       "  <caption>Correlation matrix of Emhires Dataset</caption>\n",
       "  <thead>\n",
       "    <tr>\n",
       "      <th class=\"blank level0\" >&nbsp;</th>\n",
       "      <th id=\"T_2b172_level0_col0\" class=\"col_heading level0 col0\" >sensor_0</th>\n",
       "      <th id=\"T_2b172_level0_col1\" class=\"col_heading level0 col1\" >sensor_1</th>\n",
       "      <th id=\"T_2b172_level0_col2\" class=\"col_heading level0 col2\" >sensor_2</th>\n",
       "      <th id=\"T_2b172_level0_col3\" class=\"col_heading level0 col3\" >sensor_3</th>\n",
       "      <th id=\"T_2b172_level0_col4\" class=\"col_heading level0 col4\" >sensor_4</th>\n",
       "      <th id=\"T_2b172_level0_col5\" class=\"col_heading level0 col5\" >sensor_5</th>\n",
       "    </tr>\n",
       "  </thead>\n",
       "  <tbody>\n",
       "    <tr>\n",
       "      <th id=\"T_2b172_level0_row0\" class=\"row_heading level0 row0\" >sensor_0</th>\n",
       "      <td id=\"T_2b172_row0_col0\" class=\"data row0 col0\" >1.000000</td>\n",
       "      <td id=\"T_2b172_row0_col1\" class=\"data row0 col1\" >0.692844</td>\n",
       "      <td id=\"T_2b172_row0_col2\" class=\"data row0 col2\" >0.718031</td>\n",
       "      <td id=\"T_2b172_row0_col3\" class=\"data row0 col3\" >0.858738</td>\n",
       "      <td id=\"T_2b172_row0_col4\" class=\"data row0 col4\" >0.901123</td>\n",
       "      <td id=\"T_2b172_row0_col5\" class=\"data row0 col5\" >0.844601</td>\n",
       "    </tr>\n",
       "    <tr>\n",
       "      <th id=\"T_2b172_level0_row1\" class=\"row_heading level0 row1\" >sensor_1</th>\n",
       "      <td id=\"T_2b172_row1_col0\" class=\"data row1 col0\" >0.692844</td>\n",
       "      <td id=\"T_2b172_row1_col1\" class=\"data row1 col1\" >1.000000</td>\n",
       "      <td id=\"T_2b172_row1_col2\" class=\"data row1 col2\" >0.533855</td>\n",
       "      <td id=\"T_2b172_row1_col3\" class=\"data row1 col3\" >0.723919</td>\n",
       "      <td id=\"T_2b172_row1_col4\" class=\"data row1 col4\" >0.705373</td>\n",
       "      <td id=\"T_2b172_row1_col5\" class=\"data row1 col5\" >0.862921</td>\n",
       "    </tr>\n",
       "    <tr>\n",
       "      <th id=\"T_2b172_level0_row2\" class=\"row_heading level0 row2\" >sensor_2</th>\n",
       "      <td id=\"T_2b172_row2_col0\" class=\"data row2 col0\" >0.718031</td>\n",
       "      <td id=\"T_2b172_row2_col1\" class=\"data row2 col1\" >0.533855</td>\n",
       "      <td id=\"T_2b172_row2_col2\" class=\"data row2 col2\" >1.000000</td>\n",
       "      <td id=\"T_2b172_row2_col3\" class=\"data row2 col3\" >0.637662</td>\n",
       "      <td id=\"T_2b172_row2_col4\" class=\"data row2 col4\" >0.685302</td>\n",
       "      <td id=\"T_2b172_row2_col5\" class=\"data row2 col5\" >0.661292</td>\n",
       "    </tr>\n",
       "    <tr>\n",
       "      <th id=\"T_2b172_level0_row3\" class=\"row_heading level0 row3\" >sensor_3</th>\n",
       "      <td id=\"T_2b172_row3_col0\" class=\"data row3 col0\" >0.858738</td>\n",
       "      <td id=\"T_2b172_row3_col1\" class=\"data row3 col1\" >0.723919</td>\n",
       "      <td id=\"T_2b172_row3_col2\" class=\"data row3 col2\" >0.637662</td>\n",
       "      <td id=\"T_2b172_row3_col3\" class=\"data row3 col3\" >1.000000</td>\n",
       "      <td id=\"T_2b172_row3_col4\" class=\"data row3 col4\" >0.772007</td>\n",
       "      <td id=\"T_2b172_row3_col5\" class=\"data row3 col5\" >0.839008</td>\n",
       "    </tr>\n",
       "    <tr>\n",
       "      <th id=\"T_2b172_level0_row4\" class=\"row_heading level0 row4\" >sensor_4</th>\n",
       "      <td id=\"T_2b172_row4_col0\" class=\"data row4 col0\" >0.901123</td>\n",
       "      <td id=\"T_2b172_row4_col1\" class=\"data row4 col1\" >0.705373</td>\n",
       "      <td id=\"T_2b172_row4_col2\" class=\"data row4 col2\" >0.685302</td>\n",
       "      <td id=\"T_2b172_row4_col3\" class=\"data row4 col3\" >0.772007</td>\n",
       "      <td id=\"T_2b172_row4_col4\" class=\"data row4 col4\" >1.000000</td>\n",
       "      <td id=\"T_2b172_row4_col5\" class=\"data row4 col5\" >0.884198</td>\n",
       "    </tr>\n",
       "    <tr>\n",
       "      <th id=\"T_2b172_level0_row5\" class=\"row_heading level0 row5\" >sensor_5</th>\n",
       "      <td id=\"T_2b172_row5_col0\" class=\"data row5 col0\" >0.844601</td>\n",
       "      <td id=\"T_2b172_row5_col1\" class=\"data row5 col1\" >0.862921</td>\n",
       "      <td id=\"T_2b172_row5_col2\" class=\"data row5 col2\" >0.661292</td>\n",
       "      <td id=\"T_2b172_row5_col3\" class=\"data row5 col3\" >0.839008</td>\n",
       "      <td id=\"T_2b172_row5_col4\" class=\"data row5 col4\" >0.884198</td>\n",
       "      <td id=\"T_2b172_row5_col5\" class=\"data row5 col5\" >1.000000</td>\n",
       "    </tr>\n",
       "  </tbody>\n",
       "</table>\n"
      ],
      "text/plain": [
       "<pandas.io.formats.style.Styler at 0x1521570d0>"
      ]
     },
     "metadata": {},
     "output_type": "display_data"
    }
   ],
   "source": [
    "corr_wind = df_wind.corr()\n",
    "styled_corr_wind = corr_wind.style.set_caption(\"Correlation matrix of Emhires Dataset\") \\\n",
    "                                  .background_gradient(cmap='coolwarm') \\\n",
    "                                  .set_properties(**{'font-size': '14pt'}) \\\n",
    "                                  .set_table_styles(table_params)\n",
    "\n",
    "# Отображение матрицы корреляции\n",
    "display(styled_corr_wind)"
   ]
  },
  {
   "cell_type": "code",
   "execution_count": 75,
   "metadata": {},
   "outputs": [
    {
     "data": {
      "image/png": "[encoded data removed]",
      "text/plain": [
       "<Figure size 1000x500 with 1 Axes>"
      ]
     },
     "metadata": {},
     "output_type": "display_data"
    }
   ],
   "source": [
    "rolling_mean = df_wind.sensor_0.rolling(window=64).mean()\n",
    "\n",
    "plt.figure(figsize=(10,5))\n",
    "plt.plot(df_wind.sensor_0.values, label=\"Оригинальный ряд\", alpha=0.5)\n",
    "plt.plot(rolling_mean, label=\"Скользящее среднее (window=20)\", linewidth=2)\n",
    "plt.legend()\n",
    "plt.show()"
   ]
  },
  {
   "cell_type": "markdown",
   "metadata": {},
   "source": [
    "## Geo data"
   ]
  },
  {
   "cell_type": "markdown",
   "metadata": {},
   "source": [
    "### For NAB"
   ]
  },
  {
   "cell_type": "code",
   "execution_count": 76,
   "metadata": {},
   "outputs": [],
   "source": [
    "# # create for speed\n",
    "# def get_geo_dict(df):\n",
    "#     # make geo data\n",
    "#     sen_num = df.shape[1]\n",
    "#     x_y = []\n",
    "#     for i in range(sen_num):\n",
    "#         x_y.append([rn.uniform(.0, 6.0), rn.uniform(.0, 6.0)])\n",
    "#         print(f'sensor_{i}:', x_y[i])\n",
    "#     plt.grid(True)\n",
    "#     for i in range(len(x_y)):\n",
    "#         plt.plot(x_y[i][0], x_y[i][1], 'o', label = i)\n",
    "#         plt.legend(loc = 'best', fancybox = True, shadow = True)\n",
    "#     plt.plot(3*np.ones(300), np.arange(0, 6, 0.02))\n",
    "#     plt.plot(np.arange(0, 6, 0.02), 3*np.ones(300))\n",
    "#     geo_dict = dict(zip(df.columns, x_y))\n",
    "#     print(geo_dict)\n",
    "#     return dict(zip(df.columns, x_y))"
   ]
  },
  {
   "cell_type": "code",
   "execution_count": 77,
   "metadata": {},
   "outputs": [
    {
     "name": "stdout",
     "output_type": "stream",
     "text": [
      "sensor_0: [4.088250477864553, 5.822611642100302]\n",
      "sensor_1: [4.386337615415687, 4.212615695519972]\n",
      "sensor_2: [1.1073097267296637, 2.732845047538982]\n",
      "sensor_3: [5.605800961352862, 3.6554528973395204]\n",
      "sensor_4: [4.4223258904425595, 3.9480078433857235]\n"
     ]
    },
    {
     "data": {
      "image/png": "[encoded data removed]",
      "text/plain": [
       "<Figure size 800x600 with 1 Axes>"
      ]
     },
     "metadata": {},
     "output_type": "display_data"
    }
   ],
   "source": [
    "speed_geo_dict = get_geo_dict(df_speed)\n",
    "create_geo_plot(speed_geo_dict)"
   ]
  },
  {
   "cell_type": "markdown",
   "metadata": {},
   "source": [
    "### For wind"
   ]
  },
  {
   "cell_type": "code",
   "execution_count": 78,
   "metadata": {},
   "outputs": [],
   "source": [
    "# create geo dict for wind dataset\n",
    "# wind_geo_dict = get_geo_dict(df_wind)\n",
    "# create_geo_plot(wind_geo_dict)"
   ]
  },
  {
   "cell_type": "code",
   "execution_count": 79,
   "metadata": {},
   "outputs": [],
   "source": [
    "# print('Clusters for Emhires dataset:')\n",
    "# spatial_clustering(df_wind, wind_geo_dict)"
   ]
  },
  {
   "cell_type": "code",
   "execution_count": 80,
   "metadata": {},
   "outputs": [
    {
     "name": "stdout",
     "output_type": "stream",
     "text": [
      "{'sensor_0': [1.1, 4.2], 'sensor_1': [4.3, 1.9], 'sensor_2': [5.1, 2.6], 'sensor_3': [0.5, 5.0], 'sensor_4': [1.2, 3.8], 'sensor_5': [2.12, 3.9]}\n"
     ]
    },
    {
     "data": {
      "image/png": "[encoded data removed]",
      "text/plain": [
       "<Figure size 800x600 with 1 Axes>"
      ]
     },
     "metadata": {},
     "output_type": "display_data"
    }
   ],
   "source": [
    "with open(GEO_PATH / 'wind_geo_dict.yaml', 'r') as file:\n",
    "    wind_geo_dict = yaml.safe_load(file)\n",
    "\n",
    "print(wind_geo_dict)\n",
    "create_geo_plot(wind_geo_dict)"
   ]
  },
  {
   "cell_type": "code",
   "execution_count": 81,
   "metadata": {},
   "outputs": [
    {
     "name": "stdout",
     "output_type": "stream",
     "text": [
      "Clusters for Emhires dataset:\n"
     ]
    },
    {
     "data": {
      "text/plain": [
       "{'sensor_0': ['sensor_0', 'sensor_4', 'sensor_3', 'sensor_5'],\n",
       " 'sensor_1': ['sensor_1'],\n",
       " 'sensor_2': ['sensor_2']}"
      ]
     },
     "execution_count": 81,
     "metadata": {},
     "output_type": "execute_result"
    }
   ],
   "source": [
    "#check bypassing for clustering\n",
    "print('Clusters for Emhires dataset:')\n",
    "spatial_clustering(df_wind, wind_geo_dict)"
   ]
  },
  {
   "cell_type": "markdown",
   "metadata": {},
   "source": [
    "## Sprintz"
   ]
  },
  {
   "cell_type": "code",
   "execution_count": 82,
   "metadata": {},
   "outputs": [],
   "source": [
    "speed_sprintz_res = compress_sprintz(df=df_speed, chunk_size=8)"
   ]
  },
  {
   "cell_type": "code",
   "execution_count": 83,
   "metadata": {},
   "outputs": [
    {
     "name": "stdout",
     "output_type": "stream",
     "text": [
      "Check for decode: True\n"
     ]
    }
   ],
   "source": [
    "# Check for equals decodind and original data\n",
    "decode_res = decompress_sprintz(speed_sprintz_res, num_cols = 5, chunk_size=7)\n",
    "decode_res.columns = df_speed.columns\n",
    "print('Check for decode:', df_speed.equals(decode_res))"
   ]
  },
  {
   "cell_type": "code",
   "execution_count": 84,
   "metadata": {},
   "outputs": [
    {
     "name": "stdout",
     "output_type": "stream",
     "text": [
      "Размер исходных данных: 2179 байт \n",
      "\n",
      "Размер сжатых данных: 1973 байт \n",
      "\n",
      "Коэффициент сжатия: 1.104\n"
     ]
    }
   ],
   "source": [
    "get_compress_info_sprintz(df_speed, speed_sprintz_res)"
   ]
  },
  {
   "cell_type": "code",
   "execution_count": 85,
   "metadata": {},
   "outputs": [],
   "source": [
    "# #Рассмотрим количество используемой оперативной памяти и среднее время сжатия\n",
    "# print('Compress: \\n')\n",
    "# baseline = memory_usage(-1, interval=0.1, timeout=1)[0]\n",
    "# mem_usage = memory_usage(lambda: compress_sprintz(df=df_speed, chunk_size=8), interval=0.0001)\n",
    "# mem_dict['sprintz_enc'] = max(mem_usage) - baseline\n",
    "# time_dict['sprintz_enc'] = %timeit -o compress_sprintz(df=df_speed, chunk_size=8)\n",
    "# print('\\n')\n",
    "# #Рассмотрим количество используемой оперативной памяти и среднее время декодирования\n",
    "# print('Decompress: \\n')\n",
    "# baseline = memory_usage(-1, interval=0.1, timeout=1)[0]\n",
    "# mem_usage = memory_usage(lambda: decompress_sprintz(speed_sprintz_res, num_cols = 5, chunk_size=7), interval=0.0001)\n",
    "# mem_dict['sprintz_dec'] = max(mem_usage) - baseline\n",
    "# time_dict['sprintz_dec'] = %timeit -o decompress_sprintz(speed_sprintz_res, num_cols = 5, chunk_size=7)"
   ]
  },
  {
   "cell_type": "markdown",
   "metadata": {},
   "source": [
    "## XOR"
   ]
  },
  {
   "cell_type": "code",
   "execution_count": 86,
   "metadata": {},
   "outputs": [
    {
     "name": "stdout",
     "output_type": "stream",
     "text": [
      "Check for decode: True\n"
     ]
    }
   ],
   "source": [
    "compressed_df = xor_compress_df(df_wind)\n",
    "decompressed_df = decompress_xor_df(compressed_df)\n",
    "print('Check for decode:', decompressed_df.equals(df_wind))"
   ]
  },
  {
   "cell_type": "code",
   "execution_count": 87,
   "metadata": {},
   "outputs": [
    {
     "name": "stdout",
     "output_type": "stream",
     "text": [
      "Размер исходных данных: 257808 байт \n",
      "\n",
      "Размер сжатых XOR данных: 249461 байт \n",
      "\n",
      "Коэффициент сжатия: 1.033\n"
     ]
    }
   ],
   "source": [
    "get_compress_info_xor(df_wind, compressed_df)"
   ]
  },
  {
   "cell_type": "code",
   "execution_count": 88,
   "metadata": {},
   "outputs": [],
   "source": [
    "# #Рассмотрим количество используемой оперативной памяти и среднее время сжатия\n",
    "# print('Compress: \\n')\n",
    "# time_dict['xor_enc'] = %timeit -o xor_compress_df(df_wind)\n",
    "# print('\\n')\n",
    "# baseline = memory_usage(-1, interval=0.1, timeout=1)[0]\n",
    "# mem_usage = memory_usage(lambda: xor_compress_df(df_wind), interval=0.0001)\n",
    "# mem_dict['xor_enc'] = max(mem_usage) - baseline\n",
    "# #Рассмотрим количество используемой оперативной памяти и среднее время декодирования\n",
    "# print('Decompress: \\n')\n",
    "# time_dict['xor_dec'] = %timeit -o decompress_xor_df(compressed_df)\n",
    "# baseline = memory_usage(-1, interval=0.1, timeout=1)[0]\n",
    "# mem_usage = memory_usage(lambda: decompress_xor_df(compressed_df), interval=0.0001)\n",
    "# mem_dict['xor_dec'] = max(mem_usage) - baseline"
   ]
  },
  {
   "cell_type": "markdown",
   "metadata": {},
   "source": [
    "## LZ4"
   ]
  },
  {
   "cell_type": "code",
   "execution_count": 89,
   "metadata": {},
   "outputs": [],
   "source": [
    "compressed_df = LZ4_compress_df(df_wind)"
   ]
  },
  {
   "cell_type": "code",
   "execution_count": 90,
   "metadata": {},
   "outputs": [
    {
     "name": "stdout",
     "output_type": "stream",
     "text": [
      "Check for decode: True\n"
     ]
    }
   ],
   "source": [
    "decompressed_df = LZ4_decompress_df(compressed_df)\n",
    "print('Check for decode:', decompressed_df.equals(df_wind))"
   ]
  },
  {
   "cell_type": "code",
   "execution_count": 91,
   "metadata": {},
   "outputs": [
    {
     "name": "stdout",
     "output_type": "stream",
     "text": [
      "Размер исходных данных: 257808 байт \n",
      "\n",
      "Размер сжатых данных: 191643 байт \n",
      "\n",
      "Коэффициент сжатия: 1.345\n"
     ]
    }
   ],
   "source": [
    "get_compress_info_lz4(df_wind, compressed_df)"
   ]
  },
  {
   "cell_type": "code",
   "execution_count": 92,
   "metadata": {},
   "outputs": [],
   "source": [
    "# #Рассмотрим количество используемой оперативной памяти и среднее время сжатия\n",
    "# print('Compress: \\n')\n",
    "# baseline = memory_usage(-1, interval=0.1, timeout=1)[0]\n",
    "# mem_usage = memory_usage(lambda: LZ4_compress_df(df_wind), interval=0.00001)\n",
    "# mem_dict['LZ4_enc'] = max(mem_usage) - baseline\n",
    "# time_dict['LZ4_enc'] = %timeit -o LZ4_compress_df(df_wind)\n",
    "# print('\\n')\n",
    "# #Рассмотрим количество используемой оперативной памяти и среднее время декодирования\n",
    "# print('Decompress: \\n')\n",
    "# baseline = memory_usage(-1, interval=0.1, timeout=1)[0]\n",
    "# mem_usage = memory_usage(lambda: LZ4_decompress_df(compressed_df), interval=0.00001)\n",
    "# mem_dict['LZ4_dec'] = max(mem_usage) - baseline\n",
    "# time_dict['LZ4_dec'] = %timeit -o LZ4_decompress_df(compressed_df)"
   ]
  },
  {
   "cell_type": "markdown",
   "metadata": {},
   "source": [
    "## Spatial + XOR"
   ]
  },
  {
   "cell_type": "code",
   "execution_count": 93,
   "metadata": {},
   "outputs": [],
   "source": [
    "#todo solve problems where dif\n",
    "df = df_wind.round(15).copy()"
   ]
  },
  {
   "cell_type": "code",
   "execution_count": 94,
   "metadata": {},
   "outputs": [
    {
     "name": "stdout",
     "output_type": "stream",
     "text": [
      "Check for decode: True\n"
     ]
    }
   ],
   "source": [
    "res = spatial_clustering_xor(df, wind_geo_dict)\n",
    "decompressed_df = spatial_XOR_decompress(res)\n",
    "print('Check for decode:', decompressed_df.equals(df))"
   ]
  },
  {
   "cell_type": "code",
   "execution_count": 95,
   "metadata": {},
   "outputs": [
    {
     "name": "stdout",
     "output_type": "stream",
     "text": [
      "Размер исходных данных: 257808 байт \n",
      "\n",
      "Размер сжатых данных: 255656.625 байт \n",
      "\n",
      "Коэффициент сжатия: 1.008\n"
     ]
    }
   ],
   "source": [
    "get_compress_info_spatial_xor(df, res)"
   ]
  },
  {
   "cell_type": "code",
   "execution_count": 96,
   "metadata": {},
   "outputs": [],
   "source": [
    "# #Рассмотрим количество используемой оперативной памяти и среднее время сжатия\n",
    "# print('Compress: \\n')\n",
    "# baseline = memory_usage(-1, interval=0.1, timeout=1)[0]\n",
    "# mem_usage = memory_usage(lambda: spatial_clustering_xor(df, wind_geo_dict), interval=0.00001)\n",
    "# mem_dict['spatial_xor_enc'] = max(mem_usage) - baseline\n",
    "# time_dict['spatial_xor_enc'] = %timeit -o spatial_clustering_xor(df, wind_geo_dict)\n",
    "# print('\\n')\n",
    "# #Рассмотрим количество используемой оперативной памяти и среднее время декодирования\n",
    "# print('Decompress: \\n')\n",
    "# baseline = memory_usage(-1, interval=0.1, timeout=1)[0]\n",
    "# mem_usage = memory_usage(lambda: spatial_XOR_decompress(res), interval=0.00001)\n",
    "# mem_dict['spatial_xor_dec'] = max(mem_usage) - baseline\n",
    "# time_dict['spatial_xor_dec'] = %timeit -o spatial_XOR_decompress(res)"
   ]
  },
  {
   "cell_type": "markdown",
   "metadata": {},
   "source": [
    "## Spatial + Sprintz"
   ]
  },
  {
   "cell_type": "code",
   "execution_count": 97,
   "metadata": {},
   "outputs": [],
   "source": [
    "df = df_wind*100\n",
    "df = df.astype(int)"
   ]
  },
  {
   "cell_type": "code",
   "execution_count": 98,
   "metadata": {},
   "outputs": [],
   "source": [
    "res = spatial_clustering_sprintz(df.copy(), wind_geo_dict, 0.84)"
   ]
  },
  {
   "cell_type": "code",
   "execution_count": 99,
   "metadata": {},
   "outputs": [
    {
     "name": "stdout",
     "output_type": "stream",
     "text": [
      "Check for decode: True\n"
     ]
    }
   ],
   "source": [
    "clust_dict = spatial_clustering(\n",
    "    df, wind_geo_dict, 0.84)\n",
    "decode_res = spatial_sprintz_decompress(res,\n",
    "                                        clust_dict)\n",
    "print('Check for decode:', df.equals(decode_res))"
   ]
  },
  {
   "cell_type": "code",
   "execution_count": 100,
   "metadata": {},
   "outputs": [
    {
     "name": "stdout",
     "output_type": "stream",
     "text": [
      "Размер исходных данных: 16428 байт \n",
      "\n",
      "Размер сжатых данных: 42420 байт \n",
      "\n",
      "Коэффициент сжатия: 0.387\n"
     ]
    }
   ],
   "source": [
    "get_compress_info_spatial_sprintz(df, res)"
   ]
  },
  {
   "cell_type": "code",
   "execution_count": 101,
   "metadata": {},
   "outputs": [],
   "source": [
    "# #Рассмотрим количество используемой оперативной памяти и среднее время сжатия\n",
    "# print('Compress: \\n')\n",
    "# baseline = memory_usage(-1, interval=0.1, timeout=1)[0]\n",
    "# mem_usage = memory_usage(lambda: spatial_clustering_sprintz(df.copy(), wind_geo_dict, 0.84), interval=0.00001)\n",
    "# mem_dict['spatial_sprintz_enc'] = max(mem_usage) - baseline\n",
    "# time_dict['spatial_sprintz_enc'] = %timeit -o spatial_clustering_sprintz(df.copy(), wind_geo_dict, 0.84)\n",
    "# print('\\n')\n",
    "# #Рассмотрим количество используемой оперативной памяти и среднее время декодирования\n",
    "# print('Decompress: \\n')\n",
    "# baseline = memory_usage(-1, interval=0.1, timeout=1)[0]\n",
    "# mem_usage = memory_usage(lambda: spatial_sprintz_decompress(res, clust_dict), interval=0.00001)\n",
    "# mem_dict['spatial_sprintz_dec'] = max(mem_usage) - baseline\n",
    "# time_dict['spatial_sprintz_dec'] = %timeit -o spatial_sprintz_decompress(res, clust_dict)"
   ]
  },
  {
   "cell_type": "markdown",
   "metadata": {},
   "source": [
    "## Spatial + PCA + LZ4"
   ]
  },
  {
   "cell_type": "code",
   "execution_count": 102,
   "metadata": {},
   "outputs": [],
   "source": [
    "res = spatial_clustering_PCA_LZ4(df_wind, wind_geo_dict)"
   ]
  },
  {
   "cell_type": "code",
   "execution_count": 103,
   "metadata": {},
   "outputs": [
    {
     "name": "stdout",
     "output_type": "stream",
     "text": [
      "Размер исходных данных: 257808 байт \n",
      "\n",
      "Размер сжатых данных: 148884 байт \n",
      "\n",
      "Коэффициент сжатия: 1.732\n"
     ]
    }
   ],
   "source": [
    "get_compress_info_spatial_PCA_LZ4(df_wind, res)"
   ]
  },
  {
   "cell_type": "code",
   "execution_count": 104,
   "metadata": {},
   "outputs": [
    {
     "name": "stdout",
     "output_type": "stream",
     "text": [
      "MSE: 0.001079 \n",
      "\n",
      "MAPE: 13.78 %\n"
     ]
    }
   ],
   "source": [
    "clusters = spatial_clustering(df_wind, wind_geo_dict)\n",
    "dec_res = spatial_lz4_decompress(res, clusters)\n",
    "get_errors(df_wind, dec_res)"
   ]
  },
  {
   "cell_type": "code",
   "execution_count": 105,
   "metadata": {},
   "outputs": [],
   "source": [
    "# #Рассмотрим количество используемой оперативной памяти и среднее время сжатия\n",
    "# print('Compress: \\n')\n",
    "# baseline = memory_usage(-1, interval=0.1, timeout=1)[0]\n",
    "# mem_usage = memory_usage(lambda: spatial_clustering_PCA_LZ4(df_wind, wind_geo_dict), interval=0.00001)\n",
    "# mem_dict['PCA_enc'] = max(mem_usage) - baseline\n",
    "# time_dict['PCA_enc'] = %timeit -o spatial_clustering_PCA_LZ4(df_wind, wind_geo_dict)\n",
    "# print('\\n')\n",
    "# #Рассмотрим количество используемой оперативной памяти и среднее время декодирования\n",
    "# print('Decompress: \\n')\n",
    "# baseline = memory_usage(-1, interval=0.1, timeout=1)[0]\n",
    "# mem_usage = memory_usage(lambda: spatial_lz4_decompress(res, clusters), interval=0.00001)\n",
    "# mem_dict['PCA_dec'] = max(mem_usage) - baseline\n",
    "# time_dict['PCA_dec'] = %timeit -o spatial_lz4_decompress(res, clusters)"
   ]
  },
  {
   "cell_type": "markdown",
   "metadata": {},
   "source": [
    "## SZ3"
   ]
  },
  {
   "cell_type": "code",
   "execution_count": 106,
   "metadata": {},
   "outputs": [],
   "source": [
    "data_enc = compress_sz3_df(df_wind)"
   ]
  },
  {
   "cell_type": "code",
   "execution_count": 107,
   "metadata": {},
   "outputs": [
    {
     "name": "stdout",
     "output_type": "stream",
     "text": [
      "Размер исходных данных: 257808 байт \n",
      "\n",
      "Размер сжатых данных: 12635 байт \n",
      "\n",
      "Коэффициент сжатия: 20.404\n"
     ]
    }
   ],
   "source": [
    "get_compress_info_sz3(df_wind, data_enc)"
   ]
  },
  {
   "cell_type": "code",
   "execution_count": 108,
   "metadata": {},
   "outputs": [
    {
     "name": "stdout",
     "output_type": "stream",
     "text": [
      "MSE: 0.000271 \n",
      "\n",
      "MAPE: 20.64 %\n"
     ]
    }
   ],
   "source": [
    "data = df_wind.values.transpose()\n",
    "shape = [d.shape for d in data]\n",
    "type = data[0].dtype\n",
    "data_dec = decompress_sz3(data_enc, shape, type)\n",
    "get_errors(df_wind, data_dec)"
   ]
  },
  {
   "cell_type": "code",
   "execution_count": 109,
   "metadata": {},
   "outputs": [],
   "source": [
    "# #Рассмотрим количество используемой оперативной памяти и среднее время сжатия\n",
    "# print('Compress: \\n')\n",
    "# baseline = memory_usage(-1, interval=0.1, timeout=1)[0]\n",
    "# mem_usage = memory_usage(lambda: compress_sz3_df(df_wind), interval=0.00001)\n",
    "# mem_dict['SZ3_enc'] = max(mem_usage) - baseline\n",
    "# time_dict['SZ3_enc'] = %timeit -o compress_sz3_df(df_wind)\n",
    "# print('\\n')\n",
    "# #Рассмотрим количество используемой оперативной памяти и среднее время декодирования\n",
    "# print('Decompress: \\n')\n",
    "# baseline = memory_usage(-1, interval=0.1, timeout=1)[0]\n",
    "# mem_usage = memory_usage(lambda: decompress_sz3(data_enc, shape, type), interval=0.00001)\n",
    "# mem_dict['SZ3_dec'] = max(mem_usage) - baseline\n",
    "# time_dict['SZ3_dec'] = %timeit -o decompress_sz3(data_enc, shape, type)"
   ]
  },
  {
   "cell_type": "code",
   "execution_count": 110,
   "metadata": {},
   "outputs": [],
   "source": [
    "# compress whole data\n",
    "data = df_wind.values.transpose()\n",
    "data_enc = compress_sz3_all(df_wind)"
   ]
  },
  {
   "cell_type": "code",
   "execution_count": 111,
   "metadata": {},
   "outputs": [
    {
     "name": "stdout",
     "output_type": "stream",
     "text": [
      "Размер исходных данных: 257808 байт \n",
      "\n",
      "Размер сжатых данных: 11523 байт \n",
      "\n",
      "Коэффициент сжатия: 22.373\n"
     ]
    }
   ],
   "source": [
    "get_compress_info_sz3(df_wind, data_enc)"
   ]
  },
  {
   "cell_type": "code",
   "execution_count": 112,
   "metadata": {},
   "outputs": [
    {
     "name": "stdout",
     "output_type": "stream",
     "text": [
      "MSE: 0.000263 \n",
      "\n",
      "MAPE: 22.64 %\n"
     ]
    }
   ],
   "source": [
    "data_dec = decompress_sz3(data_enc, data.shape, data.dtype)\n",
    "get_errors(df_wind, data_dec)"
   ]
  },
  {
   "cell_type": "markdown",
   "metadata": {},
   "source": [
    "## SZ3 + Conv"
   ]
  },
  {
   "cell_type": "markdown",
   "metadata": {},
   "source": [
    "### Использование только данных главного сенсора."
   ]
  },
  {
   "cell_type": "markdown",
   "metadata": {},
   "source": [
    "Сожмем данные только кластера с помощью CNN и SZ3. Используем для сжатия модели алгоритм zstd."
   ]
  },
  {
   "cell_type": "code",
   "execution_count": 113,
   "metadata": {},
   "outputs": [
    {
     "name": "stdout",
     "output_type": "stream",
     "text": [
      "Время обучения: 111.13 секунд\n"
     ]
    },
    {
     "data": {
      "image/png": "[encoded data removed]",
      "text/plain": [
       "<Figure size 1000x500 with 1 Axes>"
      ]
     },
     "metadata": {},
     "output_type": "display_data"
    },
    {
     "name": "stdout",
     "output_type": "stream",
     "text": [
      "INFO:tensorflow:Assets written to: saved_model/assets\n"
     ]
    },
    {
     "name": "stderr",
     "output_type": "stream",
     "text": [
      "INFO:tensorflow:Assets written to: saved_model/assets\n"
     ]
    },
    {
     "name": "stdout",
     "output_type": "stream",
     "text": [
      "Saved artifact at 'saved_model'. The following endpoints are available:\n",
      "\n",
      "* Endpoint 'serve'\n",
      "  args_0 (POSITIONAL_ONLY): TensorSpec(shape=(None, 64, 1), dtype=tf.float32, name='keras_tensor_16')\n",
      "Output Type:\n",
      "  TensorSpec(shape=(None, 3), dtype=tf.float32, name=None)\n",
      "Captures:\n",
      "  5671891920: TensorSpec(shape=(), dtype=tf.resource, name=None)\n",
      "  5776807312: TensorSpec(shape=(), dtype=tf.resource, name=None)\n",
      "  5776807136: TensorSpec(shape=(), dtype=tf.resource, name=None)\n",
      "  5776807840: TensorSpec(shape=(), dtype=tf.resource, name=None)\n",
      "  5776806608: TensorSpec(shape=(), dtype=tf.resource, name=None)\n",
      "  5776808016: TensorSpec(shape=(), dtype=tf.resource, name=None)\n",
      "  5776808192: TensorSpec(shape=(), dtype=tf.resource, name=None)\n",
      "Size of compressed model (bytes): 4111\n"
     ]
    },
    {
     "name": "stderr",
     "output_type": "stream",
     "text": [
      "W0000 00:00:1745445916.583810 15968800 tf_tfl_flatbuffer_helpers.cc:390] Ignored output_format.\n",
      "W0000 00:00:1745445916.583840 15968800 tf_tfl_flatbuffer_helpers.cc:393] Ignored drop_control_dependency.\n",
      "2025-04-24 01:05:16.584286: I tensorflow/cc/saved_model/reader.cc:83] Reading SavedModel from: saved_model\n",
      "2025-04-24 01:05:16.585410: I tensorflow/cc/saved_model/reader.cc:51] Reading meta graph with tags { serve }\n",
      "2025-04-24 01:05:16.585427: I tensorflow/cc/saved_model/reader.cc:146] Reading SavedModel debug info (if present) from: saved_model\n",
      "2025-04-24 01:05:16.601092: I tensorflow/cc/saved_model/loader.cc:234] Restoring SavedModel bundle.\n",
      "2025-04-24 01:05:16.651833: I tensorflow/cc/saved_model/loader.cc:218] Running initialization op on SavedModel bundle at path: saved_model\n",
      "2025-04-24 01:05:16.670535: I tensorflow/cc/saved_model/loader.cc:317] SavedModel load for tags { serve }; Status: success: OK. Took 86252 microseconds.\n"
     ]
    }
   ],
   "source": [
    "cluster_enc = {}\n",
    "cluster_sensors = ['sensor_0', 'sensor_3', 'sensor_4', 'sensor_5'] #выделяем коррелирующие сенсоры\n",
    "cluster_enc[tuple(cluster_sensors)] = compress_cnn_cluster(df_wind[cluster_sensors], use_dwt=False,\n",
    "                                                           window_size=64, num_epochs=200, plot_flag=True,\n",
    "                                                           model_compress=\"zstd\")"
   ]
  },
  {
   "cell_type": "code",
   "execution_count": 114,
   "metadata": {},
   "outputs": [
    {
     "name": "stdout",
     "output_type": "stream",
     "text": [
      "Сжатия кластера \n",
      "\n",
      "Размер исходных данных: 171872 байт \n",
      "\n",
      "Размер сжатых данных: 6617 байт \n",
      "\n",
      "Коэффициент сжатия: 25.974\n"
     ]
    }
   ],
   "source": [
    "print('Сжатия кластера \\n')\n",
    "get_compress_info_cnn_sz3(df_wind[cluster_sensors], cluster_enc)"
   ]
  },
  {
   "cell_type": "code",
   "execution_count": 115,
   "metadata": {},
   "outputs": [],
   "source": [
    "dec_cluster_df = decomress_cnn_sz3(cluster_enc, (5371,), use_dwt=False, model_compress=\"zstd\")\n",
    "dec_cluster_df = dec_cluster_df.sort_index(axis=1)"
   ]
  },
  {
   "cell_type": "code",
   "execution_count": 116,
   "metadata": {},
   "outputs": [
    {
     "name": "stdout",
     "output_type": "stream",
     "text": [
      "MSE: 0.006077 \n",
      "\n",
      "MAPE: 48.68 %\n"
     ]
    }
   ],
   "source": [
    "get_errors(df_wind[cluster_sensors], dec_cluster_df)"
   ]
  },
  {
   "cell_type": "code",
   "execution_count": 117,
   "metadata": {},
   "outputs": [],
   "source": [
    "# cluster_enc_zstd = {}\n",
    "# cluster_enc_lz4 = {}\n",
    "# cluster_enc_zstd[tuple(cluster_sensors)] = compress_cnn_cluster(df_wind[cluster_sensors], use_dwt=False, window_size=64, num_epochs=70, \n",
    "#                                                            plot_flag=False, model_compress=\"zstd\")\n",
    "# cluster_enc_lz4[tuple(cluster_sensors)] = compress_cnn_cluster(df_wind[cluster_sensors], use_dwt=False, window_size=64, num_epochs=70, \n",
    "#                                                            plot_flag=False, model_compress=\"lz4\")\n",
    "\n",
    "# #Рассмотрим количество используемой оперативной памяти и среднее время сжатия\n",
    "# print('Compress: \\n')\n",
    "# baseline = memory_usage(-1, interval=0.1, timeout=1)[0]\n",
    "# mem_usage = memory_usage(lambda: compress_cnn_cluster(df_wind[cluster_sensors], use_dwt=False,\n",
    "#                                                       window_size=64, num_epochs=70, plot_flag=False,\n",
    "#                                                       model_compress=\"zstd\"), interval=1)\n",
    "# mem_dict['SZ3_CNN_ZSTD_enc'] = max(mem_usage) - baseline\n",
    "# time_dict['SZ3_CNN_ZSTD_enc'] = %timeit -o compress_cnn_cluster(df_wind[cluster_sensors], use_dwt=False, window_size=64, num_epochs=70, plot_flag=False, model_compress=\"zstd\")\n",
    "# baseline = memory_usage(-1, interval=0.1, timeout=1)[0]\n",
    "# mem_usage = memory_usage(lambda: compress_cnn_cluster(df_wind[cluster_sensors], use_dwt=False,\n",
    "#                                                       window_size=64, num_epochs=70,\n",
    "#                                                       plot_flag=False, model_compress=\"lz4\"), interval=1)\n",
    "# mem_dict['SZ3_CNN_LZ4_enc'] = max(mem_usage) - baseline\n",
    "# time_dict['SZ3_CNN_LZ4_enc'] = %timeit -o compress_cnn_cluster(df_wind[cluster_sensors], use_dwt=False, window_size=64, num_epochs=70, plot_flag=False, model_compress=\"lz4\")\n",
    "# print('\\n')\n",
    "# #Рассмотрим количество используемой оперативной памяти и среднее время декодирования\n",
    "# print('Decompress: \\n')\n",
    "# baseline = memory_usage(-1, interval=0.1, timeout=1)[0]\n",
    "# mem_usage = memory_usage(lambda: decomress_cnn_sz3(cluster_enc_zstd, (5371,),\n",
    "#                                                    use_dwt=False, model_compress=\"zstd\"), interval=1)\n",
    "# mem_dict['SZ3_CNN_ZSTD_dec'] = max(mem_usage) - baseline\n",
    "# time_dict['SZ3_CNN_ZSTD_dec'] = %timeit -o decomress_cnn_sz3(cluster_enc_zstd, (5371,), use_dwt=False, model_compress=\"zstd\")\n",
    "# baseline = memory_usage(-1, interval=0.1, timeout=1)[0]\n",
    "# mem_usage = memory_usage(lambda: decomress_cnn_sz3(cluster_enc_lz4, (5371,),\n",
    "#                                                    use_dwt=False, model_compress=\"lz4\"), interval=1)\n",
    "# mem_dict['SZ3_CNN_LZ4_dec'] = max(mem_usage) - baseline\n",
    "# time_dict['SZ3_CNN_LZ4_dec'] = %timeit -o decomress_cnn_sz3(cluster_enc_lz4, (5371,), use_dwt=False, model_compress=\"lz4\")"
   ]
  },
  {
   "cell_type": "markdown",
   "metadata": {},
   "source": [
    "Теперь сожмем все данные."
   ]
  },
  {
   "cell_type": "code",
   "execution_count": 118,
   "metadata": {},
   "outputs": [
    {
     "name": "stdout",
     "output_type": "stream",
     "text": [
      "Время обучения: 32.91 секунд\n"
     ]
    },
    {
     "data": {
      "image/png": "[encoded data removed]",
      "text/plain": [
       "<Figure size 1000x500 with 1 Axes>"
      ]
     },
     "metadata": {},
     "output_type": "display_data"
    },
    {
     "name": "stdout",
     "output_type": "stream",
     "text": [
      "INFO:tensorflow:Assets written to: saved_model/assets\n"
     ]
    },
    {
     "name": "stderr",
     "output_type": "stream",
     "text": [
      "INFO:tensorflow:Assets written to: saved_model/assets\n"
     ]
    },
    {
     "name": "stdout",
     "output_type": "stream",
     "text": [
      "Saved artifact at 'saved_model'. The following endpoints are available:\n",
      "\n",
      "* Endpoint 'serve'\n",
      "  args_0 (POSITIONAL_ONLY): TensorSpec(shape=(None, 64, 1), dtype=tf.float32, name='keras_tensor_21')\n",
      "Output Type:\n",
      "  TensorSpec(shape=(None, 3), dtype=tf.float32, name=None)\n",
      "Captures:\n",
      "  5776808896: TensorSpec(shape=(), dtype=tf.resource, name=None)\n",
      "  5776816992: TensorSpec(shape=(), dtype=tf.resource, name=None)\n",
      "  5776812944: TensorSpec(shape=(), dtype=tf.resource, name=None)\n",
      "  5776810832: TensorSpec(shape=(), dtype=tf.resource, name=None)\n",
      "  5776810304: TensorSpec(shape=(), dtype=tf.resource, name=None)\n",
      "  5776816816: TensorSpec(shape=(), dtype=tf.resource, name=None)\n",
      "  5776811360: TensorSpec(shape=(), dtype=tf.resource, name=None)\n"
     ]
    },
    {
     "name": "stderr",
     "output_type": "stream",
     "text": [
      "W0000 00:00:1745445950.858792 15968800 tf_tfl_flatbuffer_helpers.cc:390] Ignored output_format.\n",
      "W0000 00:00:1745445950.858812 15968800 tf_tfl_flatbuffer_helpers.cc:393] Ignored drop_control_dependency.\n"
     ]
    },
    {
     "name": "stdout",
     "output_type": "stream",
     "text": [
      "Size of compressed model (bytes): 4120\n"
     ]
    },
    {
     "name": "stderr",
     "output_type": "stream",
     "text": [
      "2025-04-24 01:05:50.859101: I tensorflow/cc/saved_model/reader.cc:83] Reading SavedModel from: saved_model\n",
      "2025-04-24 01:05:50.860029: I tensorflow/cc/saved_model/reader.cc:51] Reading meta graph with tags { serve }\n",
      "2025-04-24 01:05:50.860043: I tensorflow/cc/saved_model/reader.cc:146] Reading SavedModel debug info (if present) from: saved_model\n",
      "2025-04-24 01:05:50.873765: I tensorflow/cc/saved_model/loader.cc:234] Restoring SavedModel bundle.\n",
      "2025-04-24 01:05:50.922878: I tensorflow/cc/saved_model/loader.cc:218] Running initialization op on SavedModel bundle at path: saved_model\n",
      "2025-04-24 01:05:50.940718: I tensorflow/cc/saved_model/loader.cc:317] SavedModel load for tags { serve }; Status: success: OK. Took 81617 microseconds.\n"
     ]
    }
   ],
   "source": [
    "enc_df = compress_cnn_sz3(df_wind, wind_geo_dict, cor_lvl = 0.8, use_dwt=False, window_size=64, num_epochs=70, plot_flag=True)"
   ]
  },
  {
   "cell_type": "code",
   "execution_count": 119,
   "metadata": {},
   "outputs": [
    {
     "name": "stdout",
     "output_type": "stream",
     "text": [
      "Размер исходных данных: 257808 байт \n",
      "\n",
      "Размер сжатых данных: 11024 байт \n",
      "\n",
      "Коэффициент сжатия: 23.386\n"
     ]
    }
   ],
   "source": [
    "get_compress_info_cnn_sz3(df_wind, enc_df)"
   ]
  },
  {
   "cell_type": "code",
   "execution_count": 120,
   "metadata": {},
   "outputs": [],
   "source": [
    "dec_df = decomress_cnn_sz3(enc_df, (5371,), use_dwt=False)\n",
    "dec_df = dec_df.sort_index(axis=1)"
   ]
  },
  {
   "cell_type": "code",
   "execution_count": 121,
   "metadata": {},
   "outputs": [
    {
     "name": "stdout",
     "output_type": "stream",
     "text": [
      "MSE: 0.004696 \n",
      "\n",
      "MAPE: 49.75 %\n"
     ]
    }
   ],
   "source": [
    "get_errors(df_wind, dec_df)"
   ]
  },
  {
   "cell_type": "markdown",
   "metadata": {},
   "source": [
    "### Добавление DWT."
   ]
  },
  {
   "cell_type": "markdown",
   "metadata": {},
   "source": [
    "Теперь будем использовать модель, выделяя дополнительные признаки - коэффициенты DWT."
   ]
  },
  {
   "cell_type": "markdown",
   "metadata": {},
   "source": [
    "Сожмем данные только кластера с помощью CNN и SZ3."
   ]
  },
  {
   "cell_type": "code",
   "execution_count": 122,
   "metadata": {},
   "outputs": [
    {
     "name": "stdout",
     "output_type": "stream",
     "text": [
      "Epoch 1/200\n",
      "\u001b[1m332/332\u001b[0m \u001b[32m━━━━━━━━━━━━━━━━━━━━\u001b[0m\u001b[37m\u001b[0m \u001b[1m2s\u001b[0m 2ms/step - loss: 0.0382\n",
      "Epoch 2/200\n",
      "\u001b[1m332/332\u001b[0m \u001b[32m━━━━━━━━━━━━━━━━━━━━\u001b[0m\u001b[37m\u001b[0m \u001b[1m1s\u001b[0m 2ms/step - loss: 0.0110\n",
      "Epoch 3/200\n",
      "\u001b[1m332/332\u001b[0m \u001b[32m━━━━━━━━━━━━━━━━━━━━\u001b[0m\u001b[37m\u001b[0m \u001b[1m1s\u001b[0m 2ms/step - loss: 0.0097\n",
      "Epoch 4/200\n",
      "\u001b[1m332/332\u001b[0m \u001b[32m━━━━━━━━━━━━━━━━━━━━\u001b[0m\u001b[37m\u001b[0m \u001b[1m1s\u001b[0m 1ms/step - loss: 0.0098\n",
      "Epoch 5/200\n",
      "\u001b[1m332/332\u001b[0m \u001b[32m━━━━━━━━━━━━━━━━━━━━\u001b[0m\u001b[37m\u001b[0m \u001b[1m1s\u001b[0m 2ms/step - loss: 0.0095\n",
      "Epoch 6/200\n",
      "\u001b[1m332/332\u001b[0m \u001b[32m━━━━━━━━━━━━━━━━━━━━\u001b[0m\u001b[37m\u001b[0m \u001b[1m1s\u001b[0m 1ms/step - loss: 0.0095\n",
      "Epoch 7/200\n",
      "\u001b[1m332/332\u001b[0m \u001b[32m━━━━━━━━━━━━━━━━━━━━\u001b[0m\u001b[37m\u001b[0m \u001b[1m1s\u001b[0m 2ms/step - loss: 0.0099\n",
      "Epoch 8/200\n",
      "\u001b[1m332/332\u001b[0m \u001b[32m━━━━━━━━━━━━━━━━━━━━\u001b[0m\u001b[37m\u001b[0m \u001b[1m1s\u001b[0m 2ms/step - loss: 0.0095\n",
      "Epoch 9/200\n",
      "\u001b[1m332/332\u001b[0m \u001b[32m━━━━━━━━━━━━━━━━━━━━\u001b[0m\u001b[37m\u001b[0m \u001b[1m1s\u001b[0m 2ms/step - loss: 0.0093\n",
      "Epoch 10/200\n",
      "\u001b[1m332/332\u001b[0m \u001b[32m━━━━━━━━━━━━━━━━━━━━\u001b[0m\u001b[37m\u001b[0m \u001b[1m1s\u001b[0m 2ms/step - loss: 0.0092\n",
      "Epoch 11/200\n",
      "\u001b[1m332/332\u001b[0m \u001b[32m━━━━━━━━━━━━━━━━━━━━\u001b[0m\u001b[37m\u001b[0m \u001b[1m1s\u001b[0m 2ms/step - loss: 0.0092\n",
      "Epoch 12/200\n",
      "\u001b[1m332/332\u001b[0m \u001b[32m━━━━━━━━━━━━━━━━━━━━\u001b[0m\u001b[37m\u001b[0m \u001b[1m1s\u001b[0m 2ms/step - loss: 0.0089\n",
      "Epoch 13/200\n",
      "\u001b[1m332/332\u001b[0m \u001b[32m━━━━━━━━━━━━━━━━━━━━\u001b[0m\u001b[37m\u001b[0m \u001b[1m1s\u001b[0m 1ms/step - loss: 0.0089\n",
      "Epoch 14/200\n",
      "\u001b[1m332/332\u001b[0m \u001b[32m━━━━━━━━━━━━━━━━━━━━\u001b[0m\u001b[37m\u001b[0m \u001b[1m1s\u001b[0m 2ms/step - loss: 0.0087\n",
      "Epoch 15/200\n",
      "\u001b[1m332/332\u001b[0m \u001b[32m━━━━━━━━━━━━━━━━━━━━\u001b[0m\u001b[37m\u001b[0m \u001b[1m1s\u001b[0m 1ms/step - loss: 0.0089\n",
      "Epoch 16/200\n",
      "\u001b[1m332/332\u001b[0m \u001b[32m━━━━━━━━━━━━━━━━━━━━\u001b[0m\u001b[37m\u001b[0m \u001b[1m1s\u001b[0m 1ms/step - loss: 0.0086\n",
      "Epoch 17/200\n",
      "\u001b[1m332/332\u001b[0m \u001b[32m━━━━━━━━━━━━━━━━━━━━\u001b[0m\u001b[37m\u001b[0m \u001b[1m1s\u001b[0m 1ms/step - loss: 0.0087\n",
      "Epoch 18/200\n",
      "\u001b[1m332/332\u001b[0m \u001b[32m━━━━━━━━━━━━━━━━━━━━\u001b[0m\u001b[37m\u001b[0m \u001b[1m1s\u001b[0m 1ms/step - loss: 0.0083\n",
      "Epoch 19/200\n",
      "\u001b[1m332/332\u001b[0m \u001b[32m━━━━━━━━━━━━━━━━━━━━\u001b[0m\u001b[37m\u001b[0m \u001b[1m1s\u001b[0m 1ms/step - loss: 0.0083\n",
      "Epoch 20/200\n",
      "\u001b[1m332/332\u001b[0m \u001b[32m━━━━━━━━━━━━━━━━━━━━\u001b[0m\u001b[37m\u001b[0m \u001b[1m1s\u001b[0m 1ms/step - loss: 0.0085\n",
      "Epoch 21/200\n",
      "\u001b[1m332/332\u001b[0m \u001b[32m━━━━━━━━━━━━━━━━━━━━\u001b[0m\u001b[37m\u001b[0m \u001b[1m1s\u001b[0m 2ms/step - loss: 0.0082\n",
      "Epoch 22/200\n",
      "\u001b[1m332/332\u001b[0m \u001b[32m━━━━━━━━━━━━━━━━━━━━\u001b[0m\u001b[37m\u001b[0m \u001b[1m1s\u001b[0m 1ms/step - loss: 0.0086\n",
      "Epoch 23/200\n",
      "\u001b[1m332/332\u001b[0m \u001b[32m━━━━━━━━━━━━━━━━━━━━\u001b[0m\u001b[37m\u001b[0m \u001b[1m1s\u001b[0m 1ms/step - loss: 0.0079\n",
      "Epoch 24/200\n",
      "\u001b[1m332/332\u001b[0m \u001b[32m━━━━━━━━━━━━━━━━━━━━\u001b[0m\u001b[37m\u001b[0m \u001b[1m1s\u001b[0m 1ms/step - loss: 0.0083\n",
      "Epoch 25/200\n",
      "\u001b[1m332/332\u001b[0m \u001b[32m━━━━━━━━━━━━━━━━━━━━\u001b[0m\u001b[37m\u001b[0m \u001b[1m1s\u001b[0m 1ms/step - loss: 0.0080\n",
      "Epoch 26/200\n",
      "\u001b[1m332/332\u001b[0m \u001b[32m━━━━━━━━━━━━━━━━━━━━\u001b[0m\u001b[37m\u001b[0m \u001b[1m1s\u001b[0m 1ms/step - loss: 0.0082\n",
      "Epoch 27/200\n",
      "\u001b[1m332/332\u001b[0m \u001b[32m━━━━━━━━━━━━━━━━━━━━\u001b[0m\u001b[37m\u001b[0m \u001b[1m1s\u001b[0m 2ms/step - loss: 0.0084\n",
      "Epoch 28/200\n",
      "\u001b[1m332/332\u001b[0m \u001b[32m━━━━━━━━━━━━━━━━━━━━\u001b[0m\u001b[37m\u001b[0m \u001b[1m1s\u001b[0m 2ms/step - loss: 0.0081\n",
      "Epoch 29/200\n",
      "\u001b[1m332/332\u001b[0m \u001b[32m━━━━━━━━━━━━━━━━━━━━\u001b[0m\u001b[37m\u001b[0m \u001b[1m1s\u001b[0m 1ms/step - loss: 0.0081\n",
      "Epoch 30/200\n",
      "\u001b[1m332/332\u001b[0m \u001b[32m━━━━━━━━━━━━━━━━━━━━\u001b[0m\u001b[37m\u001b[0m \u001b[1m1s\u001b[0m 1ms/step - loss: 0.0081\n",
      "Epoch 31/200\n",
      "\u001b[1m332/332\u001b[0m \u001b[32m━━━━━━━━━━━━━━━━━━━━\u001b[0m\u001b[37m\u001b[0m \u001b[1m1s\u001b[0m 1ms/step - loss: 0.0079\n",
      "Epoch 32/200\n",
      "\u001b[1m332/332\u001b[0m \u001b[32m━━━━━━━━━━━━━━━━━━━━\u001b[0m\u001b[37m\u001b[0m \u001b[1m1s\u001b[0m 1ms/step - loss: 0.0078\n",
      "Epoch 33/200\n",
      "\u001b[1m332/332\u001b[0m \u001b[32m━━━━━━━━━━━━━━━━━━━━\u001b[0m\u001b[37m\u001b[0m \u001b[1m1s\u001b[0m 1ms/step - loss: 0.0082\n",
      "Epoch 34/200\n",
      "\u001b[1m332/332\u001b[0m \u001b[32m━━━━━━━━━━━━━━━━━━━━\u001b[0m\u001b[37m\u001b[0m \u001b[1m1s\u001b[0m 2ms/step - loss: 0.0080\n",
      "Epoch 35/200\n",
      "\u001b[1m332/332\u001b[0m \u001b[32m━━━━━━━━━━━━━━━━━━━━\u001b[0m\u001b[37m\u001b[0m \u001b[1m1s\u001b[0m 1ms/step - loss: 0.0080\n",
      "Epoch 36/200\n",
      "\u001b[1m332/332\u001b[0m \u001b[32m━━━━━━━━━━━━━━━━━━━━\u001b[0m\u001b[37m\u001b[0m \u001b[1m1s\u001b[0m 1ms/step - loss: 0.0080\n",
      "Epoch 37/200\n",
      "\u001b[1m332/332\u001b[0m \u001b[32m━━━━━━━━━━━━━━━━━━━━\u001b[0m\u001b[37m\u001b[0m \u001b[1m1s\u001b[0m 2ms/step - loss: 0.0077\n",
      "Epoch 38/200\n",
      "\u001b[1m332/332\u001b[0m \u001b[32m━━━━━━━━━━━━━━━━━━━━\u001b[0m\u001b[37m\u001b[0m \u001b[1m1s\u001b[0m 1ms/step - loss: 0.0079\n",
      "Epoch 39/200\n",
      "\u001b[1m332/332\u001b[0m \u001b[32m━━━━━━━━━━━━━━━━━━━━\u001b[0m\u001b[37m\u001b[0m \u001b[1m1s\u001b[0m 1ms/step - loss: 0.0081\n",
      "Epoch 40/200\n",
      "\u001b[1m332/332\u001b[0m \u001b[32m━━━━━━━━━━━━━━━━━━━━\u001b[0m\u001b[37m\u001b[0m \u001b[1m1s\u001b[0m 1ms/step - loss: 0.0077\n",
      "Epoch 41/200\n",
      "\u001b[1m332/332\u001b[0m \u001b[32m━━━━━━━━━━━━━━━━━━━━\u001b[0m\u001b[37m\u001b[0m \u001b[1m1s\u001b[0m 2ms/step - loss: 0.0075\n",
      "Epoch 42/200\n",
      "\u001b[1m332/332\u001b[0m \u001b[32m━━━━━━━━━━━━━━━━━━━━\u001b[0m\u001b[37m\u001b[0m \u001b[1m1s\u001b[0m 1ms/step - loss: 0.0078\n",
      "Epoch 43/200\n",
      "\u001b[1m332/332\u001b[0m \u001b[32m━━━━━━━━━━━━━━━━━━━━\u001b[0m\u001b[37m\u001b[0m \u001b[1m1s\u001b[0m 1ms/step - loss: 0.0075\n",
      "Epoch 44/200\n",
      "\u001b[1m332/332\u001b[0m \u001b[32m━━━━━━━━━━━━━━━━━━━━\u001b[0m\u001b[37m\u001b[0m \u001b[1m1s\u001b[0m 1ms/step - loss: 0.0076\n",
      "Epoch 45/200\n",
      "\u001b[1m332/332\u001b[0m \u001b[32m━━━━━━━━━━━━━━━━━━━━\u001b[0m\u001b[37m\u001b[0m \u001b[1m1s\u001b[0m 1ms/step - loss: 0.0075\n",
      "Epoch 46/200\n",
      "\u001b[1m332/332\u001b[0m \u001b[32m━━━━━━━━━━━━━━━━━━━━\u001b[0m\u001b[37m\u001b[0m \u001b[1m1s\u001b[0m 2ms/step - loss: 0.0080\n",
      "Epoch 47/200\n",
      "\u001b[1m332/332\u001b[0m \u001b[32m━━━━━━━━━━━━━━━━━━━━\u001b[0m\u001b[37m\u001b[0m \u001b[1m1s\u001b[0m 1ms/step - loss: 0.0079\n",
      "Epoch 48/200\n",
      "\u001b[1m332/332\u001b[0m \u001b[32m━━━━━━━━━━━━━━━━━━━━\u001b[0m\u001b[37m\u001b[0m \u001b[1m1s\u001b[0m 2ms/step - loss: 0.0079\n",
      "Epoch 49/200\n",
      "\u001b[1m332/332\u001b[0m \u001b[32m━━━━━━━━━━━━━━━━━━━━\u001b[0m\u001b[37m\u001b[0m \u001b[1m1s\u001b[0m 1ms/step - loss: 0.0076\n",
      "Epoch 50/200\n",
      "\u001b[1m332/332\u001b[0m \u001b[32m━━━━━━━━━━━━━━━━━━━━\u001b[0m\u001b[37m\u001b[0m \u001b[1m1s\u001b[0m 1ms/step - loss: 0.0082\n",
      "Epoch 51/200\n",
      "\u001b[1m332/332\u001b[0m \u001b[32m━━━━━━━━━━━━━━━━━━━━\u001b[0m\u001b[37m\u001b[0m \u001b[1m1s\u001b[0m 1ms/step - loss: 0.0074\n",
      "Epoch 52/200\n",
      "\u001b[1m332/332\u001b[0m \u001b[32m━━━━━━━━━━━━━━━━━━━━\u001b[0m\u001b[37m\u001b[0m \u001b[1m1s\u001b[0m 1ms/step - loss: 0.0076\n",
      "Epoch 53/200\n",
      "\u001b[1m332/332\u001b[0m \u001b[32m━━━━━━━━━━━━━━━━━━━━\u001b[0m\u001b[37m\u001b[0m \u001b[1m1s\u001b[0m 1ms/step - loss: 0.0076\n",
      "Epoch 54/200\n",
      "\u001b[1m332/332\u001b[0m \u001b[32m━━━━━━━━━━━━━━━━━━━━\u001b[0m\u001b[37m\u001b[0m \u001b[1m1s\u001b[0m 1ms/step - loss: 0.0076\n",
      "Epoch 55/200\n",
      "\u001b[1m332/332\u001b[0m \u001b[32m━━━━━━━━━━━━━━━━━━━━\u001b[0m\u001b[37m\u001b[0m \u001b[1m1s\u001b[0m 2ms/step - loss: 0.0077\n",
      "Epoch 56/200\n",
      "\u001b[1m332/332\u001b[0m \u001b[32m━━━━━━━━━━━━━━━━━━━━\u001b[0m\u001b[37m\u001b[0m \u001b[1m1s\u001b[0m 1ms/step - loss: 0.0078\n",
      "Epoch 57/200\n",
      "\u001b[1m332/332\u001b[0m \u001b[32m━━━━━━━━━━━━━━━━━━━━\u001b[0m\u001b[37m\u001b[0m \u001b[1m1s\u001b[0m 1ms/step - loss: 0.0076\n",
      "Epoch 58/200\n",
      "\u001b[1m332/332\u001b[0m \u001b[32m━━━━━━━━━━━━━━━━━━━━\u001b[0m\u001b[37m\u001b[0m \u001b[1m1s\u001b[0m 1ms/step - loss: 0.0073\n",
      "Epoch 59/200\n",
      "\u001b[1m332/332\u001b[0m \u001b[32m━━━━━━━━━━━━━━━━━━━━\u001b[0m\u001b[37m\u001b[0m \u001b[1m1s\u001b[0m 1ms/step - loss: 0.0077\n",
      "Epoch 60/200\n",
      "\u001b[1m332/332\u001b[0m \u001b[32m━━━━━━━━━━━━━━━━━━━━\u001b[0m\u001b[37m\u001b[0m \u001b[1m1s\u001b[0m 1ms/step - loss: 0.0073\n",
      "Epoch 61/200\n",
      "\u001b[1m332/332\u001b[0m \u001b[32m━━━━━━━━━━━━━━━━━━━━\u001b[0m\u001b[37m\u001b[0m \u001b[1m1s\u001b[0m 1ms/step - loss: 0.0076\n",
      "Epoch 62/200\n",
      "\u001b[1m332/332\u001b[0m \u001b[32m━━━━━━━━━━━━━━━━━━━━\u001b[0m\u001b[37m\u001b[0m \u001b[1m1s\u001b[0m 1ms/step - loss: 0.0075\n",
      "Epoch 63/200\n",
      "\u001b[1m332/332\u001b[0m \u001b[32m━━━━━━━━━━━━━━━━━━━━\u001b[0m\u001b[37m\u001b[0m \u001b[1m1s\u001b[0m 1ms/step - loss: 0.0074\n",
      "Epoch 64/200\n",
      "\u001b[1m332/332\u001b[0m \u001b[32m━━━━━━━━━━━━━━━━━━━━\u001b[0m\u001b[37m\u001b[0m \u001b[1m1s\u001b[0m 1ms/step - loss: 0.0078\n",
      "Epoch 65/200\n",
      "\u001b[1m332/332\u001b[0m \u001b[32m━━━━━━━━━━━━━━━━━━━━\u001b[0m\u001b[37m\u001b[0m \u001b[1m1s\u001b[0m 2ms/step - loss: 0.0074\n",
      "Epoch 66/200\n",
      "\u001b[1m332/332\u001b[0m \u001b[32m━━━━━━━━━━━━━━━━━━━━\u001b[0m\u001b[37m\u001b[0m \u001b[1m1s\u001b[0m 1ms/step - loss: 0.0071\n",
      "Epoch 67/200\n",
      "\u001b[1m332/332\u001b[0m \u001b[32m━━━━━━━━━━━━━━━━━━━━\u001b[0m\u001b[37m\u001b[0m \u001b[1m1s\u001b[0m 1ms/step - loss: 0.0074\n",
      "Epoch 68/200\n",
      "\u001b[1m332/332\u001b[0m \u001b[32m━━━━━━━━━━━━━━━━━━━━\u001b[0m\u001b[37m\u001b[0m \u001b[1m1s\u001b[0m 2ms/step - loss: 0.0072\n",
      "Epoch 69/200\n",
      "\u001b[1m332/332\u001b[0m \u001b[32m━━━━━━━━━━━━━━━━━━━━\u001b[0m\u001b[37m\u001b[0m \u001b[1m1s\u001b[0m 1ms/step - loss: 0.0072\n",
      "Epoch 70/200\n",
      "\u001b[1m332/332\u001b[0m \u001b[32m━━━━━━━━━━━━━━━━━━━━\u001b[0m\u001b[37m\u001b[0m \u001b[1m1s\u001b[0m 1ms/step - loss: 0.0072\n",
      "Epoch 71/200\n",
      "\u001b[1m332/332\u001b[0m \u001b[32m━━━━━━━━━━━━━━━━━━━━\u001b[0m\u001b[37m\u001b[0m \u001b[1m1s\u001b[0m 1ms/step - loss: 0.0075\n",
      "Epoch 72/200\n",
      "\u001b[1m332/332\u001b[0m \u001b[32m━━━━━━━━━━━━━━━━━━━━\u001b[0m\u001b[37m\u001b[0m \u001b[1m1s\u001b[0m 1ms/step - loss: 0.0075\n",
      "Epoch 73/200\n",
      "\u001b[1m332/332\u001b[0m \u001b[32m━━━━━━━━━━━━━━━━━━━━\u001b[0m\u001b[37m\u001b[0m \u001b[1m1s\u001b[0m 2ms/step - loss: 0.0076\n",
      "Epoch 74/200\n",
      "\u001b[1m332/332\u001b[0m \u001b[32m━━━━━━━━━━━━━━━━━━━━\u001b[0m\u001b[37m\u001b[0m \u001b[1m1s\u001b[0m 2ms/step - loss: 0.0075\n",
      "Epoch 75/200\n",
      "\u001b[1m332/332\u001b[0m \u001b[32m━━━━━━━━━━━━━━━━━━━━\u001b[0m\u001b[37m\u001b[0m \u001b[1m1s\u001b[0m 1ms/step - loss: 0.0075\n",
      "Epoch 76/200\n",
      "\u001b[1m332/332\u001b[0m \u001b[32m━━━━━━━━━━━━━━━━━━━━\u001b[0m\u001b[37m\u001b[0m \u001b[1m1s\u001b[0m 2ms/step - loss: 0.0075\n",
      "Epoch 77/200\n",
      "\u001b[1m332/332\u001b[0m \u001b[32m━━━━━━━━━━━━━━━━━━━━\u001b[0m\u001b[37m\u001b[0m \u001b[1m1s\u001b[0m 2ms/step - loss: 0.0073\n",
      "Epoch 78/200\n",
      "\u001b[1m332/332\u001b[0m \u001b[32m━━━━━━━━━━━━━━━━━━━━\u001b[0m\u001b[37m\u001b[0m \u001b[1m1s\u001b[0m 1ms/step - loss: 0.0071\n",
      "Epoch 79/200\n",
      "\u001b[1m332/332\u001b[0m \u001b[32m━━━━━━━━━━━━━━━━━━━━\u001b[0m\u001b[37m\u001b[0m \u001b[1m1s\u001b[0m 2ms/step - loss: 0.0072\n",
      "Epoch 80/200\n",
      "\u001b[1m332/332\u001b[0m \u001b[32m━━━━━━━━━━━━━━━━━━━━\u001b[0m\u001b[37m\u001b[0m \u001b[1m1s\u001b[0m 2ms/step - loss: 0.0072\n",
      "Epoch 81/200\n",
      "\u001b[1m332/332\u001b[0m \u001b[32m━━━━━━━━━━━━━━━━━━━━\u001b[0m\u001b[37m\u001b[0m \u001b[1m1s\u001b[0m 1ms/step - loss: 0.0075\n",
      "Epoch 82/200\n",
      "\u001b[1m332/332\u001b[0m \u001b[32m━━━━━━━━━━━━━━━━━━━━\u001b[0m\u001b[37m\u001b[0m \u001b[1m1s\u001b[0m 1ms/step - loss: 0.0071\n",
      "Epoch 83/200\n",
      "\u001b[1m332/332\u001b[0m \u001b[32m━━━━━━━━━━━━━━━━━━━━\u001b[0m\u001b[37m\u001b[0m \u001b[1m1s\u001b[0m 2ms/step - loss: 0.0071\n",
      "Epoch 84/200\n",
      "\u001b[1m332/332\u001b[0m \u001b[32m━━━━━━━━━━━━━━━━━━━━\u001b[0m\u001b[37m\u001b[0m \u001b[1m1s\u001b[0m 1ms/step - loss: 0.0072\n",
      "Epoch 85/200\n",
      "\u001b[1m332/332\u001b[0m \u001b[32m━━━━━━━━━━━━━━━━━━━━\u001b[0m\u001b[37m\u001b[0m \u001b[1m1s\u001b[0m 1ms/step - loss: 0.0072\n",
      "Epoch 86/200\n",
      "\u001b[1m332/332\u001b[0m \u001b[32m━━━━━━━━━━━━━━━━━━━━\u001b[0m\u001b[37m\u001b[0m \u001b[1m1s\u001b[0m 2ms/step - loss: 0.0070\n",
      "Epoch 87/200\n",
      "\u001b[1m332/332\u001b[0m \u001b[32m━━━━━━━━━━━━━━━━━━━━\u001b[0m\u001b[37m\u001b[0m \u001b[1m1s\u001b[0m 2ms/step - loss: 0.0069\n",
      "Epoch 88/200\n",
      "\u001b[1m332/332\u001b[0m \u001b[32m━━━━━━━━━━━━━━━━━━━━\u001b[0m\u001b[37m\u001b[0m \u001b[1m1s\u001b[0m 1ms/step - loss: 0.0073\n",
      "Epoch 89/200\n",
      "\u001b[1m332/332\u001b[0m \u001b[32m━━━━━━━━━━━━━━━━━━━━\u001b[0m\u001b[37m\u001b[0m \u001b[1m1s\u001b[0m 1ms/step - loss: 0.0073\n",
      "Epoch 90/200\n",
      "\u001b[1m332/332\u001b[0m \u001b[32m━━━━━━━━━━━━━━━━━━━━\u001b[0m\u001b[37m\u001b[0m \u001b[1m1s\u001b[0m 1ms/step - loss: 0.0073\n",
      "Epoch 91/200\n",
      "\u001b[1m332/332\u001b[0m \u001b[32m━━━━━━━━━━━━━━━━━━━━\u001b[0m\u001b[37m\u001b[0m \u001b[1m1s\u001b[0m 1ms/step - loss: 0.0069\n",
      "Epoch 92/200\n",
      "\u001b[1m332/332\u001b[0m \u001b[32m━━━━━━━━━━━━━━━━━━━━\u001b[0m\u001b[37m\u001b[0m \u001b[1m1s\u001b[0m 1ms/step - loss: 0.0071\n",
      "Epoch 93/200\n",
      "\u001b[1m332/332\u001b[0m \u001b[32m━━━━━━━━━━━━━━━━━━━━\u001b[0m\u001b[37m\u001b[0m \u001b[1m1s\u001b[0m 2ms/step - loss: 0.0070\n",
      "Epoch 94/200\n",
      "\u001b[1m332/332\u001b[0m \u001b[32m━━━━━━━━━━━━━━━━━━━━\u001b[0m\u001b[37m\u001b[0m \u001b[1m1s\u001b[0m 1ms/step - loss: 0.0072\n",
      "Epoch 95/200\n",
      "\u001b[1m332/332\u001b[0m \u001b[32m━━━━━━━━━━━━━━━━━━━━\u001b[0m\u001b[37m\u001b[0m \u001b[1m1s\u001b[0m 1ms/step - loss: 0.0074\n",
      "Epoch 96/200\n",
      "\u001b[1m332/332\u001b[0m \u001b[32m━━━━━━━━━━━━━━━━━━━━\u001b[0m\u001b[37m\u001b[0m \u001b[1m1s\u001b[0m 1ms/step - loss: 0.0073\n",
      "Epoch 97/200\n",
      "\u001b[1m332/332\u001b[0m \u001b[32m━━━━━━━━━━━━━━━━━━━━\u001b[0m\u001b[37m\u001b[0m \u001b[1m1s\u001b[0m 2ms/step - loss: 0.0073\n",
      "Epoch 98/200\n",
      "\u001b[1m332/332\u001b[0m \u001b[32m━━━━━━━━━━━━━━━━━━━━\u001b[0m\u001b[37m\u001b[0m \u001b[1m1s\u001b[0m 1ms/step - loss: 0.0073\n",
      "Epoch 99/200\n",
      "\u001b[1m332/332\u001b[0m \u001b[32m━━━━━━━━━━━━━━━━━━━━\u001b[0m\u001b[37m\u001b[0m \u001b[1m1s\u001b[0m 2ms/step - loss: 0.0073\n",
      "Epoch 100/200\n",
      "\u001b[1m332/332\u001b[0m \u001b[32m━━━━━━━━━━━━━━━━━━━━\u001b[0m\u001b[37m\u001b[0m \u001b[1m1s\u001b[0m 1ms/step - loss: 0.0069\n",
      "Epoch 101/200\n",
      "\u001b[1m332/332\u001b[0m \u001b[32m━━━━━━━━━━━━━━━━━━━━\u001b[0m\u001b[37m\u001b[0m \u001b[1m1s\u001b[0m 2ms/step - loss: 0.0071\n",
      "Epoch 102/200\n",
      "\u001b[1m332/332\u001b[0m \u001b[32m━━━━━━━━━━━━━━━━━━━━\u001b[0m\u001b[37m\u001b[0m \u001b[1m1s\u001b[0m 1ms/step - loss: 0.0073\n",
      "Epoch 103/200\n",
      "\u001b[1m332/332\u001b[0m \u001b[32m━━━━━━━━━━━━━━━━━━━━\u001b[0m\u001b[37m\u001b[0m \u001b[1m1s\u001b[0m 1ms/step - loss: 0.0074\n",
      "Epoch 104/200\n",
      "\u001b[1m332/332\u001b[0m \u001b[32m━━━━━━━━━━━━━━━━━━━━\u001b[0m\u001b[37m\u001b[0m \u001b[1m1s\u001b[0m 2ms/step - loss: 0.0072\n",
      "Epoch 105/200\n",
      "\u001b[1m332/332\u001b[0m \u001b[32m━━━━━━━━━━━━━━━━━━━━\u001b[0m\u001b[37m\u001b[0m \u001b[1m1s\u001b[0m 2ms/step - loss: 0.0071\n",
      "Epoch 106/200\n",
      "\u001b[1m332/332\u001b[0m \u001b[32m━━━━━━━━━━━━━━━━━━━━\u001b[0m\u001b[37m\u001b[0m \u001b[1m1s\u001b[0m 1ms/step - loss: 0.0070\n",
      "Epoch 107/200\n",
      "\u001b[1m332/332\u001b[0m \u001b[32m━━━━━━━━━━━━━━━━━━━━\u001b[0m\u001b[37m\u001b[0m \u001b[1m1s\u001b[0m 1ms/step - loss: 0.0070\n",
      "Epoch 108/200\n",
      "\u001b[1m332/332\u001b[0m \u001b[32m━━━━━━━━━━━━━━━━━━━━\u001b[0m\u001b[37m\u001b[0m \u001b[1m1s\u001b[0m 1ms/step - loss: 0.0069\n",
      "Epoch 109/200\n",
      "\u001b[1m332/332\u001b[0m \u001b[32m━━━━━━━━━━━━━━━━━━━━\u001b[0m\u001b[37m\u001b[0m \u001b[1m1s\u001b[0m 1ms/step - loss: 0.0069\n",
      "Epoch 110/200\n",
      "\u001b[1m332/332\u001b[0m \u001b[32m━━━━━━━━━━━━━━━━━━━━\u001b[0m\u001b[37m\u001b[0m \u001b[1m1s\u001b[0m 2ms/step - loss: 0.0072\n",
      "Epoch 111/200\n",
      "\u001b[1m332/332\u001b[0m \u001b[32m━━━━━━━━━━━━━━━━━━━━\u001b[0m\u001b[37m\u001b[0m \u001b[1m1s\u001b[0m 2ms/step - loss: 0.0070\n",
      "Epoch 112/200\n",
      "\u001b[1m332/332\u001b[0m \u001b[32m━━━━━━━━━━━━━━━━━━━━\u001b[0m\u001b[37m\u001b[0m \u001b[1m1s\u001b[0m 2ms/step - loss: 0.0070\n",
      "Epoch 113/200\n",
      "\u001b[1m332/332\u001b[0m \u001b[32m━━━━━━━━━━━━━━━━━━━━\u001b[0m\u001b[37m\u001b[0m \u001b[1m1s\u001b[0m 1ms/step - loss: 0.0071\n",
      "Epoch 114/200\n",
      "\u001b[1m332/332\u001b[0m \u001b[32m━━━━━━━━━━━━━━━━━━━━\u001b[0m\u001b[37m\u001b[0m \u001b[1m1s\u001b[0m 1ms/step - loss: 0.0073\n",
      "Epoch 115/200\n",
      "\u001b[1m332/332\u001b[0m \u001b[32m━━━━━━━━━━━━━━━━━━━━\u001b[0m\u001b[37m\u001b[0m \u001b[1m1s\u001b[0m 1ms/step - loss: 0.0071\n",
      "Epoch 116/200\n",
      "\u001b[1m332/332\u001b[0m \u001b[32m━━━━━━━━━━━━━━━━━━━━\u001b[0m\u001b[37m\u001b[0m \u001b[1m1s\u001b[0m 1ms/step - loss: 0.0069\n",
      "Epoch 117/200\n",
      "\u001b[1m332/332\u001b[0m \u001b[32m━━━━━━━━━━━━━━━━━━━━\u001b[0m\u001b[37m\u001b[0m \u001b[1m1s\u001b[0m 2ms/step - loss: 0.0071\n",
      "Epoch 118/200\n",
      "\u001b[1m332/332\u001b[0m \u001b[32m━━━━━━━━━━━━━━━━━━━━\u001b[0m\u001b[37m\u001b[0m \u001b[1m1s\u001b[0m 1ms/step - loss: 0.0071\n",
      "Epoch 119/200\n",
      "\u001b[1m332/332\u001b[0m \u001b[32m━━━━━━━━━━━━━━━━━━━━\u001b[0m\u001b[37m\u001b[0m \u001b[1m1s\u001b[0m 1ms/step - loss: 0.0071\n",
      "Epoch 120/200\n",
      "\u001b[1m332/332\u001b[0m \u001b[32m━━━━━━━━━━━━━━━━━━━━\u001b[0m\u001b[37m\u001b[0m \u001b[1m1s\u001b[0m 2ms/step - loss: 0.0071\n",
      "Epoch 121/200\n",
      "\u001b[1m332/332\u001b[0m \u001b[32m━━━━━━━━━━━━━━━━━━━━\u001b[0m\u001b[37m\u001b[0m \u001b[1m1s\u001b[0m 2ms/step - loss: 0.0073\n",
      "Epoch 122/200\n",
      "\u001b[1m332/332\u001b[0m \u001b[32m━━━━━━━━━━━━━━━━━━━━\u001b[0m\u001b[37m\u001b[0m \u001b[1m1s\u001b[0m 2ms/step - loss: 0.0072\n",
      "Epoch 123/200\n",
      "\u001b[1m332/332\u001b[0m \u001b[32m━━━━━━━━━━━━━━━━━━━━\u001b[0m\u001b[37m\u001b[0m \u001b[1m1s\u001b[0m 2ms/step - loss: 0.0070\n",
      "Epoch 124/200\n",
      "\u001b[1m332/332\u001b[0m \u001b[32m━━━━━━━━━━━━━━━━━━━━\u001b[0m\u001b[37m\u001b[0m \u001b[1m1s\u001b[0m 2ms/step - loss: 0.0069\n",
      "Epoch 125/200\n",
      "\u001b[1m332/332\u001b[0m \u001b[32m━━━━━━━━━━━━━━━━━━━━\u001b[0m\u001b[37m\u001b[0m \u001b[1m1s\u001b[0m 1ms/step - loss: 0.0069\n",
      "Epoch 126/200\n",
      "\u001b[1m332/332\u001b[0m \u001b[32m━━━━━━━━━━━━━━━━━━━━\u001b[0m\u001b[37m\u001b[0m \u001b[1m1s\u001b[0m 1ms/step - loss: 0.0068\n",
      "Epoch 127/200\n",
      "\u001b[1m332/332\u001b[0m \u001b[32m━━━━━━━━━━━━━━━━━━━━\u001b[0m\u001b[37m\u001b[0m \u001b[1m1s\u001b[0m 2ms/step - loss: 0.0070\n",
      "Epoch 128/200\n",
      "\u001b[1m332/332\u001b[0m \u001b[32m━━━━━━━━━━━━━━━━━━━━\u001b[0m\u001b[37m\u001b[0m \u001b[1m1s\u001b[0m 1ms/step - loss: 0.0072\n",
      "Epoch 129/200\n",
      "\u001b[1m332/332\u001b[0m \u001b[32m━━━━━━━━━━━━━━━━━━━━\u001b[0m\u001b[37m\u001b[0m \u001b[1m1s\u001b[0m 2ms/step - loss: 0.0071\n",
      "Epoch 130/200\n",
      "\u001b[1m332/332\u001b[0m \u001b[32m━━━━━━━━━━━━━━━━━━━━\u001b[0m\u001b[37m\u001b[0m \u001b[1m1s\u001b[0m 1ms/step - loss: 0.0069\n",
      "Epoch 131/200\n",
      "\u001b[1m332/332\u001b[0m \u001b[32m━━━━━━━━━━━━━━━━━━━━\u001b[0m\u001b[37m\u001b[0m \u001b[1m1s\u001b[0m 1ms/step - loss: 0.0070\n",
      "Epoch 132/200\n",
      "\u001b[1m332/332\u001b[0m \u001b[32m━━━━━━━━━━━━━━━━━━━━\u001b[0m\u001b[37m\u001b[0m \u001b[1m1s\u001b[0m 2ms/step - loss: 0.0072\n",
      "Epoch 133/200\n",
      "\u001b[1m332/332\u001b[0m \u001b[32m━━━━━━━━━━━━━━━━━━━━\u001b[0m\u001b[37m\u001b[0m \u001b[1m1s\u001b[0m 1ms/step - loss: 0.0068\n",
      "Epoch 134/200\n",
      "\u001b[1m332/332\u001b[0m \u001b[32m━━━━━━━━━━━━━━━━━━━━\u001b[0m\u001b[37m\u001b[0m \u001b[1m1s\u001b[0m 1ms/step - loss: 0.0065\n",
      "Epoch 135/200\n",
      "\u001b[1m332/332\u001b[0m \u001b[32m━━━━━━━━━━━━━━━━━━━━\u001b[0m\u001b[37m\u001b[0m \u001b[1m1s\u001b[0m 1ms/step - loss: 0.0069\n",
      "Epoch 136/200\n",
      "\u001b[1m332/332\u001b[0m \u001b[32m━━━━━━━━━━━━━━━━━━━━\u001b[0m\u001b[37m\u001b[0m \u001b[1m1s\u001b[0m 1ms/step - loss: 0.0069\n",
      "Epoch 137/200\n",
      "\u001b[1m332/332\u001b[0m \u001b[32m━━━━━━━━━━━━━━━━━━━━\u001b[0m\u001b[37m\u001b[0m \u001b[1m1s\u001b[0m 1ms/step - loss: 0.0069\n",
      "Epoch 138/200\n",
      "\u001b[1m332/332\u001b[0m \u001b[32m━━━━━━━━━━━━━━━━━━━━\u001b[0m\u001b[37m\u001b[0m \u001b[1m1s\u001b[0m 2ms/step - loss: 0.0069\n",
      "Epoch 139/200\n",
      "\u001b[1m332/332\u001b[0m \u001b[32m━━━━━━━━━━━━━━━━━━━━\u001b[0m\u001b[37m\u001b[0m \u001b[1m1s\u001b[0m 1ms/step - loss: 0.0070\n",
      "Epoch 140/200\n",
      "\u001b[1m332/332\u001b[0m \u001b[32m━━━━━━━━━━━━━━━━━━━━\u001b[0m\u001b[37m\u001b[0m \u001b[1m1s\u001b[0m 1ms/step - loss: 0.0068\n",
      "Epoch 141/200\n",
      "\u001b[1m332/332\u001b[0m \u001b[32m━━━━━━━━━━━━━━━━━━━━\u001b[0m\u001b[37m\u001b[0m \u001b[1m1s\u001b[0m 1ms/step - loss: 0.0069\n",
      "Epoch 142/200\n",
      "\u001b[1m332/332\u001b[0m \u001b[32m━━━━━━━━━━━━━━━━━━━━\u001b[0m\u001b[37m\u001b[0m \u001b[1m1s\u001b[0m 1ms/step - loss: 0.0069\n",
      "Epoch 143/200\n",
      "\u001b[1m332/332\u001b[0m \u001b[32m━━━━━━━━━━━━━━━━━━━━\u001b[0m\u001b[37m\u001b[0m \u001b[1m1s\u001b[0m 2ms/step - loss: 0.0071\n",
      "Epoch 144/200\n",
      "\u001b[1m332/332\u001b[0m \u001b[32m━━━━━━━━━━━━━━━━━━━━\u001b[0m\u001b[37m\u001b[0m \u001b[1m1s\u001b[0m 1ms/step - loss: 0.0068\n",
      "Epoch 145/200\n",
      "\u001b[1m332/332\u001b[0m \u001b[32m━━━━━━━━━━━━━━━━━━━━\u001b[0m\u001b[37m\u001b[0m \u001b[1m1s\u001b[0m 1ms/step - loss: 0.0068\n",
      "Epoch 146/200\n",
      "\u001b[1m332/332\u001b[0m \u001b[32m━━━━━━━━━━━━━━━━━━━━\u001b[0m\u001b[37m\u001b[0m \u001b[1m1s\u001b[0m 2ms/step - loss: 0.0068\n",
      "Epoch 147/200\n",
      "\u001b[1m332/332\u001b[0m \u001b[32m━━━━━━━━━━━━━━━━━━━━\u001b[0m\u001b[37m\u001b[0m \u001b[1m1s\u001b[0m 1ms/step - loss: 0.0068\n",
      "Epoch 148/200\n",
      "\u001b[1m332/332\u001b[0m \u001b[32m━━━━━━━━━━━━━━━━━━━━\u001b[0m\u001b[37m\u001b[0m \u001b[1m1s\u001b[0m 2ms/step - loss: 0.0065\n",
      "Epoch 149/200\n",
      "\u001b[1m332/332\u001b[0m \u001b[32m━━━━━━━━━━━━━━━━━━━━\u001b[0m\u001b[37m\u001b[0m \u001b[1m1s\u001b[0m 1ms/step - loss: 0.0068\n",
      "Epoch 150/200\n",
      "\u001b[1m332/332\u001b[0m \u001b[32m━━━━━━━━━━━━━━━━━━━━\u001b[0m\u001b[37m\u001b[0m \u001b[1m1s\u001b[0m 1ms/step - loss: 0.0069\n",
      "Epoch 151/200\n",
      "\u001b[1m332/332\u001b[0m \u001b[32m━━━━━━━━━━━━━━━━━━━━\u001b[0m\u001b[37m\u001b[0m \u001b[1m1s\u001b[0m 1ms/step - loss: 0.0068\n",
      "Epoch 152/200\n",
      "\u001b[1m332/332\u001b[0m \u001b[32m━━━━━━━━━━━━━━━━━━━━\u001b[0m\u001b[37m\u001b[0m \u001b[1m1s\u001b[0m 2ms/step - loss: 0.0067\n",
      "Epoch 153/200\n",
      "\u001b[1m332/332\u001b[0m \u001b[32m━━━━━━━━━━━━━━━━━━━━\u001b[0m\u001b[37m\u001b[0m \u001b[1m2s\u001b[0m 4ms/step - loss: 0.0068\n",
      "Epoch 154/200\n",
      "\u001b[1m332/332\u001b[0m \u001b[32m━━━━━━━━━━━━━━━━━━━━\u001b[0m\u001b[37m\u001b[0m \u001b[1m1s\u001b[0m 3ms/step - loss: 0.0068\n",
      "Epoch 155/200\n",
      "\u001b[1m332/332\u001b[0m \u001b[32m━━━━━━━━━━━━━━━━━━━━\u001b[0m\u001b[37m\u001b[0m \u001b[1m1s\u001b[0m 2ms/step - loss: 0.0067\n",
      "Epoch 156/200\n",
      "\u001b[1m332/332\u001b[0m \u001b[32m━━━━━━━━━━━━━━━━━━━━\u001b[0m\u001b[37m\u001b[0m \u001b[1m1s\u001b[0m 2ms/step - loss: 0.0068\n",
      "Epoch 157/200\n",
      "\u001b[1m332/332\u001b[0m \u001b[32m━━━━━━━━━━━━━━━━━━━━\u001b[0m\u001b[37m\u001b[0m \u001b[1m1s\u001b[0m 3ms/step - loss: 0.0069\n",
      "Epoch 158/200\n",
      "\u001b[1m332/332\u001b[0m \u001b[32m━━━━━━━━━━━━━━━━━━━━\u001b[0m\u001b[37m\u001b[0m \u001b[1m1s\u001b[0m 2ms/step - loss: 0.0066\n",
      "Epoch 159/200\n",
      "\u001b[1m332/332\u001b[0m \u001b[32m━━━━━━━━━━━━━━━━━━━━\u001b[0m\u001b[37m\u001b[0m \u001b[1m1s\u001b[0m 2ms/step - loss: 0.0068\n",
      "Epoch 160/200\n",
      "\u001b[1m332/332\u001b[0m \u001b[32m━━━━━━━━━━━━━━━━━━━━\u001b[0m\u001b[37m\u001b[0m \u001b[1m1s\u001b[0m 2ms/step - loss: 0.0066\n",
      "Epoch 161/200\n",
      "\u001b[1m332/332\u001b[0m \u001b[32m━━━━━━━━━━━━━━━━━━━━\u001b[0m\u001b[37m\u001b[0m \u001b[1m1s\u001b[0m 3ms/step - loss: 0.0070\n",
      "Epoch 162/200\n",
      "\u001b[1m332/332\u001b[0m \u001b[32m━━━━━━━━━━━━━━━━━━━━\u001b[0m\u001b[37m\u001b[0m \u001b[1m1s\u001b[0m 2ms/step - loss: 0.0067\n",
      "Epoch 163/200\n",
      "\u001b[1m332/332\u001b[0m \u001b[32m━━━━━━━━━━━━━━━━━━━━\u001b[0m\u001b[37m\u001b[0m \u001b[1m1s\u001b[0m 2ms/step - loss: 0.0067\n",
      "Epoch 164/200\n",
      "\u001b[1m332/332\u001b[0m \u001b[32m━━━━━━━━━━━━━━━━━━━━\u001b[0m\u001b[37m\u001b[0m \u001b[1m1s\u001b[0m 2ms/step - loss: 0.0066\n",
      "Epoch 165/200\n",
      "\u001b[1m332/332\u001b[0m \u001b[32m━━━━━━━━━━━━━━━━━━━━\u001b[0m\u001b[37m\u001b[0m \u001b[1m1s\u001b[0m 2ms/step - loss: 0.0069\n",
      "Epoch 166/200\n",
      "\u001b[1m332/332\u001b[0m \u001b[32m━━━━━━━━━━━━━━━━━━━━\u001b[0m\u001b[37m\u001b[0m \u001b[1m1s\u001b[0m 2ms/step - loss: 0.0067\n",
      "Epoch 167/200\n",
      "\u001b[1m332/332\u001b[0m \u001b[32m━━━━━━━━━━━━━━━━━━━━\u001b[0m\u001b[37m\u001b[0m \u001b[1m1s\u001b[0m 3ms/step - loss: 0.0065\n",
      "Epoch 168/200\n",
      "\u001b[1m332/332\u001b[0m \u001b[32m━━━━━━━━━━━━━━━━━━━━\u001b[0m\u001b[37m\u001b[0m \u001b[1m1s\u001b[0m 2ms/step - loss: 0.0067\n",
      "Epoch 169/200\n",
      "\u001b[1m332/332\u001b[0m \u001b[32m━━━━━━━━━━━━━━━━━━━━\u001b[0m\u001b[37m\u001b[0m \u001b[1m1s\u001b[0m 2ms/step - loss: 0.0066\n",
      "Epoch 170/200\n",
      "\u001b[1m332/332\u001b[0m \u001b[32m━━━━━━━━━━━━━━━━━━━━\u001b[0m\u001b[37m\u001b[0m \u001b[1m1s\u001b[0m 2ms/step - loss: 0.0067\n",
      "Epoch 171/200\n",
      "\u001b[1m332/332\u001b[0m \u001b[32m━━━━━━━━━━━━━━━━━━━━\u001b[0m\u001b[37m\u001b[0m \u001b[1m1s\u001b[0m 2ms/step - loss: 0.0070\n",
      "Epoch 172/200\n",
      "\u001b[1m332/332\u001b[0m \u001b[32m━━━━━━━━━━━━━━━━━━━━\u001b[0m\u001b[37m\u001b[0m \u001b[1m1s\u001b[0m 2ms/step - loss: 0.0068\n",
      "Epoch 173/200\n",
      "\u001b[1m332/332\u001b[0m \u001b[32m━━━━━━━━━━━━━━━━━━━━\u001b[0m\u001b[37m\u001b[0m \u001b[1m1s\u001b[0m 2ms/step - loss: 0.0067\n",
      "Epoch 174/200\n",
      "\u001b[1m332/332\u001b[0m \u001b[32m━━━━━━━━━━━━━━━━━━━━\u001b[0m\u001b[37m\u001b[0m \u001b[1m1s\u001b[0m 2ms/step - loss: 0.0067\n",
      "Epoch 175/200\n",
      "\u001b[1m332/332\u001b[0m \u001b[32m━━━━━━━━━━━━━━━━━━━━\u001b[0m\u001b[37m\u001b[0m \u001b[1m1s\u001b[0m 2ms/step - loss: 0.0065\n",
      "Epoch 176/200\n",
      "\u001b[1m332/332\u001b[0m \u001b[32m━━━━━━━━━━━━━━━━━━━━\u001b[0m\u001b[37m\u001b[0m \u001b[1m1s\u001b[0m 2ms/step - loss: 0.0068\n",
      "Epoch 177/200\n",
      "\u001b[1m332/332\u001b[0m \u001b[32m━━━━━━━━━━━━━━━━━━━━\u001b[0m\u001b[37m\u001b[0m \u001b[1m1s\u001b[0m 2ms/step - loss: 0.0065\n",
      "Epoch 178/200\n",
      "\u001b[1m332/332\u001b[0m \u001b[32m━━━━━━━━━━━━━━━━━━━━\u001b[0m\u001b[37m\u001b[0m \u001b[1m1s\u001b[0m 2ms/step - loss: 0.0069\n",
      "Epoch 179/200\n",
      "\u001b[1m332/332\u001b[0m \u001b[32m━━━━━━━━━━━━━━━━━━━━\u001b[0m\u001b[37m\u001b[0m \u001b[1m1s\u001b[0m 2ms/step - loss: 0.0065\n",
      "Epoch 180/200\n",
      "\u001b[1m332/332\u001b[0m \u001b[32m━━━━━━━━━━━━━━━━━━━━\u001b[0m\u001b[37m\u001b[0m \u001b[1m1s\u001b[0m 2ms/step - loss: 0.0065\n",
      "Epoch 181/200\n",
      "\u001b[1m332/332\u001b[0m \u001b[32m━━━━━━━━━━━━━━━━━━━━\u001b[0m\u001b[37m\u001b[0m \u001b[1m1s\u001b[0m 2ms/step - loss: 0.0066\n",
      "Epoch 182/200\n",
      "\u001b[1m332/332\u001b[0m \u001b[32m━━━━━━━━━━━━━━━━━━━━\u001b[0m\u001b[37m\u001b[0m \u001b[1m1s\u001b[0m 2ms/step - loss: 0.0066\n",
      "Epoch 183/200\n",
      "\u001b[1m332/332\u001b[0m \u001b[32m━━━━━━━━━━━━━━━━━━━━\u001b[0m\u001b[37m\u001b[0m \u001b[1m1s\u001b[0m 2ms/step - loss: 0.0067\n",
      "Epoch 184/200\n",
      "\u001b[1m332/332\u001b[0m \u001b[32m━━━━━━━━━━━━━━━━━━━━\u001b[0m\u001b[37m\u001b[0m \u001b[1m1s\u001b[0m 2ms/step - loss: 0.0067\n",
      "Epoch 185/200\n",
      "\u001b[1m332/332\u001b[0m \u001b[32m━━━━━━━━━━━━━━━━━━━━\u001b[0m\u001b[37m\u001b[0m \u001b[1m1s\u001b[0m 2ms/step - loss: 0.0065\n",
      "Epoch 186/200\n",
      "\u001b[1m332/332\u001b[0m \u001b[32m━━━━━━━━━━━━━━━━━━━━\u001b[0m\u001b[37m\u001b[0m \u001b[1m1s\u001b[0m 2ms/step - loss: 0.0068\n",
      "Epoch 187/200\n",
      "\u001b[1m332/332\u001b[0m \u001b[32m━━━━━━━━━━━━━━━━━━━━\u001b[0m\u001b[37m\u001b[0m \u001b[1m1s\u001b[0m 2ms/step - loss: 0.0066\n",
      "Epoch 188/200\n",
      "\u001b[1m332/332\u001b[0m \u001b[32m━━━━━━━━━━━━━━━━━━━━\u001b[0m\u001b[37m\u001b[0m \u001b[1m1s\u001b[0m 2ms/step - loss: 0.0067\n",
      "Epoch 189/200\n",
      "\u001b[1m332/332\u001b[0m \u001b[32m━━━━━━━━━━━━━━━━━━━━\u001b[0m\u001b[37m\u001b[0m \u001b[1m1s\u001b[0m 2ms/step - loss: 0.0067\n",
      "Epoch 190/200\n",
      "\u001b[1m332/332\u001b[0m \u001b[32m━━━━━━━━━━━━━━━━━━━━\u001b[0m\u001b[37m\u001b[0m \u001b[1m1s\u001b[0m 2ms/step - loss: 0.0066\n",
      "Epoch 191/200\n",
      "\u001b[1m332/332\u001b[0m \u001b[32m━━━━━━━━━━━━━━━━━━━━\u001b[0m\u001b[37m\u001b[0m \u001b[1m1s\u001b[0m 2ms/step - loss: 0.0066\n",
      "Epoch 192/200\n",
      "\u001b[1m332/332\u001b[0m \u001b[32m━━━━━━━━━━━━━━━━━━━━\u001b[0m\u001b[37m\u001b[0m \u001b[1m1s\u001b[0m 2ms/step - loss: 0.0068\n",
      "Epoch 193/200\n",
      "\u001b[1m332/332\u001b[0m \u001b[32m━━━━━━━━━━━━━━━━━━━━\u001b[0m\u001b[37m\u001b[0m \u001b[1m1s\u001b[0m 2ms/step - loss: 0.0065\n",
      "Epoch 194/200\n",
      "\u001b[1m332/332\u001b[0m \u001b[32m━━━━━━━━━━━━━━━━━━━━\u001b[0m\u001b[37m\u001b[0m \u001b[1m1s\u001b[0m 2ms/step - loss: 0.0068\n",
      "Epoch 195/200\n",
      "\u001b[1m332/332\u001b[0m \u001b[32m━━━━━━━━━━━━━━━━━━━━\u001b[0m\u001b[37m\u001b[0m \u001b[1m1s\u001b[0m 2ms/step - loss: 0.0064\n",
      "Epoch 196/200\n",
      "\u001b[1m332/332\u001b[0m \u001b[32m━━━━━━━━━━━━━━━━━━━━\u001b[0m\u001b[37m\u001b[0m \u001b[1m1s\u001b[0m 2ms/step - loss: 0.0067\n",
      "Epoch 197/200\n",
      "\u001b[1m332/332\u001b[0m \u001b[32m━━━━━━━━━━━━━━━━━━━━\u001b[0m\u001b[37m\u001b[0m \u001b[1m1s\u001b[0m 2ms/step - loss: 0.0066\n",
      "Epoch 198/200\n",
      "\u001b[1m332/332\u001b[0m \u001b[32m━━━━━━━━━━━━━━━━━━━━\u001b[0m\u001b[37m\u001b[0m \u001b[1m1s\u001b[0m 2ms/step - loss: 0.0066\n",
      "Epoch 199/200\n",
      "\u001b[1m332/332\u001b[0m \u001b[32m━━━━━━━━━━━━━━━━━━━━\u001b[0m\u001b[37m\u001b[0m \u001b[1m1s\u001b[0m 2ms/step - loss: 0.0065\n",
      "Epoch 200/200\n",
      "\u001b[1m332/332\u001b[0m \u001b[32m━━━━━━━━━━━━━━━━━━━━\u001b[0m\u001b[37m\u001b[0m \u001b[1m1s\u001b[0m 2ms/step - loss: 0.0063\n"
     ]
    },
    {
     "data": {
      "image/png": "[encoded data removed]",
      "text/plain": [
       "<Figure size 1000x500 with 1 Axes>"
      ]
     },
     "metadata": {},
     "output_type": "display_data"
    },
    {
     "name": "stdout",
     "output_type": "stream",
     "text": [
      "INFO:tensorflow:Assets written to: saved_model/assets\n"
     ]
    },
    {
     "name": "stderr",
     "output_type": "stream",
     "text": [
      "INFO:tensorflow:Assets written to: saved_model/assets\n"
     ]
    },
    {
     "name": "stdout",
     "output_type": "stream",
     "text": [
      "Saved artifact at 'saved_model'. The following endpoints are available:\n",
      "\n",
      "* Endpoint 'serve'\n",
      "  args_0 (POSITIONAL_ONLY): List[TensorSpec(shape=(None, 64, 1), dtype=tf.float32, name='seq_input'), TensorSpec(shape=(None, 77), dtype=tf.float32, name='dwt_input')]\n",
      "Output Type:\n",
      "  TensorSpec(shape=(None, 3), dtype=tf.float32, name=None)\n",
      "Captures:\n",
      "  5776808544: TensorSpec(shape=(), dtype=tf.resource, name=None)\n",
      "  5776816640: TensorSpec(shape=(), dtype=tf.resource, name=None)\n",
      "  5776807664: TensorSpec(shape=(), dtype=tf.resource, name=None)\n",
      "  5776809952: TensorSpec(shape=(), dtype=tf.resource, name=None)\n",
      "  5776817872: TensorSpec(shape=(), dtype=tf.resource, name=None)\n",
      "  5776809776: TensorSpec(shape=(), dtype=tf.resource, name=None)\n",
      "  5776817696: TensorSpec(shape=(), dtype=tf.resource, name=None)\n",
      "  5776816288: TensorSpec(shape=(), dtype=tf.resource, name=None)\n",
      "  5778330320: TensorSpec(shape=(), dtype=tf.resource, name=None)\n",
      "Size of compressed model (bytes): 23275\n"
     ]
    },
    {
     "name": "stderr",
     "output_type": "stream",
     "text": [
      "W0000 00:00:1745446073.604505 15968800 tf_tfl_flatbuffer_helpers.cc:390] Ignored output_format.\n",
      "W0000 00:00:1745446073.604526 15968800 tf_tfl_flatbuffer_helpers.cc:393] Ignored drop_control_dependency.\n",
      "2025-04-24 01:07:53.604821: I tensorflow/cc/saved_model/reader.cc:83] Reading SavedModel from: saved_model\n",
      "2025-04-24 01:07:53.606137: I tensorflow/cc/saved_model/reader.cc:51] Reading meta graph with tags { serve }\n",
      "2025-04-24 01:07:53.606151: I tensorflow/cc/saved_model/reader.cc:146] Reading SavedModel debug info (if present) from: saved_model\n",
      "2025-04-24 01:07:53.623972: I tensorflow/cc/saved_model/loader.cc:234] Restoring SavedModel bundle.\n",
      "2025-04-24 01:07:53.685487: I tensorflow/cc/saved_model/loader.cc:218] Running initialization op on SavedModel bundle at path: saved_model\n",
      "2025-04-24 01:07:53.706132: I tensorflow/cc/saved_model/loader.cc:317] SavedModel load for tags { serve }; Status: success: OK. Took 101309 microseconds.\n"
     ]
    }
   ],
   "source": [
    "cluster_enc = {}\n",
    "cluster_sensors = ['sensor_0', 'sensor_3', 'sensor_4', 'sensor_5'] #выделяем коррелирующие сенсоры\n",
    "cluster_enc[tuple(cluster_sensors)] = compress_cnn_cluster(df_wind[cluster_sensors], use_dwt=True,\n",
    "                                                           window_size=64, num_epochs=200, plot_flag=True)"
   ]
  },
  {
   "cell_type": "code",
   "execution_count": 123,
   "metadata": {},
   "outputs": [
    {
     "name": "stdout",
     "output_type": "stream",
     "text": [
      "Сжатия кластера \n",
      "\n",
      "Размер исходных данных: 171872 байт \n",
      "\n",
      "Размер сжатых данных: 25781 байт \n",
      "\n",
      "Коэффициент сжатия: 6.667\n"
     ]
    }
   ],
   "source": [
    "print('Сжатия кластера \\n')\n",
    "get_compress_info_cnn_sz3(df_wind[cluster_sensors], cluster_enc)"
   ]
  },
  {
   "cell_type": "code",
   "execution_count": 124,
   "metadata": {},
   "outputs": [],
   "source": [
    "dec_cluster_df = decomress_cnn_sz3(cluster_enc, (5371,), use_dwt=True)\n",
    "dec_cluster_df = dec_cluster_df.sort_index(axis=1)"
   ]
  },
  {
   "cell_type": "code",
   "execution_count": 125,
   "metadata": {},
   "outputs": [
    {
     "name": "stdout",
     "output_type": "stream",
     "text": [
      "MSE: 0.00518 \n",
      "\n",
      "MAPE: 43.23 %\n"
     ]
    }
   ],
   "source": [
    "get_errors(df_wind[cluster_sensors], dec_cluster_df)"
   ]
  },
  {
   "cell_type": "markdown",
   "metadata": {},
   "source": [
    "Теперь сожмем все данные."
   ]
  },
  {
   "cell_type": "code",
   "execution_count": 126,
   "metadata": {},
   "outputs": [
    {
     "name": "stdout",
     "output_type": "stream",
     "text": [
      "Epoch 1/70\n",
      "\u001b[1m332/332\u001b[0m \u001b[32m━━━━━━━━━━━━━━━━━━━━\u001b[0m\u001b[37m\u001b[0m \u001b[1m4s\u001b[0m 2ms/step - loss: 0.0341\n",
      "Epoch 2/70\n",
      "\u001b[1m332/332\u001b[0m \u001b[32m━━━━━━━━━━━━━━━━━━━━\u001b[0m\u001b[37m\u001b[0m \u001b[1m1s\u001b[0m 2ms/step - loss: 0.0113\n",
      "Epoch 3/70\n",
      "\u001b[1m332/332\u001b[0m \u001b[32m━━━━━━━━━━━━━━━━━━━━\u001b[0m\u001b[37m\u001b[0m \u001b[1m1s\u001b[0m 2ms/step - loss: 0.0099\n",
      "Epoch 4/70\n",
      "\u001b[1m332/332\u001b[0m \u001b[32m━━━━━━━━━━━━━━━━━━━━\u001b[0m\u001b[37m\u001b[0m \u001b[1m1s\u001b[0m 3ms/step - loss: 0.0104\n",
      "Epoch 5/70\n",
      "\u001b[1m332/332\u001b[0m \u001b[32m━━━━━━━━━━━━━━━━━━━━\u001b[0m\u001b[37m\u001b[0m \u001b[1m1s\u001b[0m 2ms/step - loss: 0.0094\n",
      "Epoch 6/70\n",
      "\u001b[1m332/332\u001b[0m \u001b[32m━━━━━━━━━━━━━━━━━━━━\u001b[0m\u001b[37m\u001b[0m \u001b[1m1s\u001b[0m 3ms/step - loss: 0.0094\n",
      "Epoch 7/70\n",
      "\u001b[1m332/332\u001b[0m \u001b[32m━━━━━━━━━━━━━━━━━━━━\u001b[0m\u001b[37m\u001b[0m \u001b[1m1s\u001b[0m 2ms/step - loss: 0.0093\n",
      "Epoch 8/70\n",
      "\u001b[1m332/332\u001b[0m \u001b[32m━━━━━━━━━━━━━━━━━━━━\u001b[0m\u001b[37m\u001b[0m \u001b[1m1s\u001b[0m 2ms/step - loss: 0.0092\n",
      "Epoch 9/70\n",
      "\u001b[1m332/332\u001b[0m \u001b[32m━━━━━━━━━━━━━━━━━━━━\u001b[0m\u001b[37m\u001b[0m \u001b[1m1s\u001b[0m 3ms/step - loss: 0.0094\n",
      "Epoch 10/70\n",
      "\u001b[1m332/332\u001b[0m \u001b[32m━━━━━━━━━━━━━━━━━━━━\u001b[0m\u001b[37m\u001b[0m \u001b[1m1s\u001b[0m 2ms/step - loss: 0.0092\n",
      "Epoch 11/70\n",
      "\u001b[1m332/332\u001b[0m \u001b[32m━━━━━━━━━━━━━━━━━━━━\u001b[0m\u001b[37m\u001b[0m \u001b[1m1s\u001b[0m 2ms/step - loss: 0.0082\n",
      "Epoch 12/70\n",
      "\u001b[1m332/332\u001b[0m \u001b[32m━━━━━━━━━━━━━━━━━━━━\u001b[0m\u001b[37m\u001b[0m \u001b[1m1s\u001b[0m 2ms/step - loss: 0.0083\n",
      "Epoch 13/70\n",
      "\u001b[1m332/332\u001b[0m \u001b[32m━━━━━━━━━━━━━━━━━━━━\u001b[0m\u001b[37m\u001b[0m \u001b[1m1s\u001b[0m 3ms/step - loss: 0.0088\n",
      "Epoch 14/70\n",
      "\u001b[1m332/332\u001b[0m \u001b[32m━━━━━━━━━━━━━━━━━━━━\u001b[0m\u001b[37m\u001b[0m \u001b[1m1s\u001b[0m 2ms/step - loss: 0.0089\n",
      "Epoch 15/70\n",
      "\u001b[1m332/332\u001b[0m \u001b[32m━━━━━━━━━━━━━━━━━━━━\u001b[0m\u001b[37m\u001b[0m \u001b[1m1s\u001b[0m 3ms/step - loss: 0.0087\n",
      "Epoch 16/70\n",
      "\u001b[1m332/332\u001b[0m \u001b[32m━━━━━━━━━━━━━━━━━━━━\u001b[0m\u001b[37m\u001b[0m \u001b[1m1s\u001b[0m 2ms/step - loss: 0.0081\n",
      "Epoch 17/70\n",
      "\u001b[1m332/332\u001b[0m \u001b[32m━━━━━━━━━━━━━━━━━━━━\u001b[0m\u001b[37m\u001b[0m \u001b[1m1s\u001b[0m 2ms/step - loss: 0.0089\n",
      "Epoch 18/70\n",
      "\u001b[1m332/332\u001b[0m \u001b[32m━━━━━━━━━━━━━━━━━━━━\u001b[0m\u001b[37m\u001b[0m \u001b[1m1s\u001b[0m 2ms/step - loss: 0.0085\n",
      "Epoch 19/70\n",
      "\u001b[1m332/332\u001b[0m \u001b[32m━━━━━━━━━━━━━━━━━━━━\u001b[0m\u001b[37m\u001b[0m \u001b[1m1s\u001b[0m 2ms/step - loss: 0.0088\n",
      "Epoch 20/70\n",
      "\u001b[1m332/332\u001b[0m \u001b[32m━━━━━━━━━━━━━━━━━━━━\u001b[0m\u001b[37m\u001b[0m \u001b[1m1s\u001b[0m 2ms/step - loss: 0.0083\n",
      "Epoch 21/70\n",
      "\u001b[1m332/332\u001b[0m \u001b[32m━━━━━━━━━━━━━━━━━━━━\u001b[0m\u001b[37m\u001b[0m \u001b[1m1s\u001b[0m 2ms/step - loss: 0.0083\n",
      "Epoch 22/70\n",
      "\u001b[1m332/332\u001b[0m \u001b[32m━━━━━━━━━━━━━━━━━━━━\u001b[0m\u001b[37m\u001b[0m \u001b[1m1s\u001b[0m 2ms/step - loss: 0.0085\n",
      "Epoch 23/70\n",
      "\u001b[1m332/332\u001b[0m \u001b[32m━━━━━━━━━━━━━━━━━━━━\u001b[0m\u001b[37m\u001b[0m \u001b[1m1s\u001b[0m 3ms/step - loss: 0.0083\n",
      "Epoch 24/70\n",
      "\u001b[1m332/332\u001b[0m \u001b[32m━━━━━━━━━━━━━━━━━━━━\u001b[0m\u001b[37m\u001b[0m \u001b[1m1s\u001b[0m 2ms/step - loss: 0.0083\n",
      "Epoch 25/70\n",
      "\u001b[1m332/332\u001b[0m \u001b[32m━━━━━━━━━━━━━━━━━━━━\u001b[0m\u001b[37m\u001b[0m \u001b[1m1s\u001b[0m 3ms/step - loss: 0.0081\n",
      "Epoch 26/70\n",
      "\u001b[1m332/332\u001b[0m \u001b[32m━━━━━━━━━━━━━━━━━━━━\u001b[0m\u001b[37m\u001b[0m \u001b[1m1s\u001b[0m 2ms/step - loss: 0.0082\n",
      "Epoch 27/70\n",
      "\u001b[1m332/332\u001b[0m \u001b[32m━━━━━━━━━━━━━━━━━━━━\u001b[0m\u001b[37m\u001b[0m \u001b[1m1s\u001b[0m 2ms/step - loss: 0.0081\n",
      "Epoch 28/70\n",
      "\u001b[1m332/332\u001b[0m \u001b[32m━━━━━━━━━━━━━━━━━━━━\u001b[0m\u001b[37m\u001b[0m \u001b[1m1s\u001b[0m 2ms/step - loss: 0.0081\n",
      "Epoch 29/70\n",
      "\u001b[1m332/332\u001b[0m \u001b[32m━━━━━━━━━━━━━━━━━━━━\u001b[0m\u001b[37m\u001b[0m \u001b[1m1s\u001b[0m 2ms/step - loss: 0.0081\n",
      "Epoch 30/70\n",
      "\u001b[1m332/332\u001b[0m \u001b[32m━━━━━━━━━━━━━━━━━━━━\u001b[0m\u001b[37m\u001b[0m \u001b[1m1s\u001b[0m 3ms/step - loss: 0.0082\n",
      "Epoch 31/70\n",
      "\u001b[1m332/332\u001b[0m \u001b[32m━━━━━━━━━━━━━━━━━━━━\u001b[0m\u001b[37m\u001b[0m \u001b[1m1s\u001b[0m 2ms/step - loss: 0.0081\n",
      "Epoch 32/70\n",
      "\u001b[1m332/332\u001b[0m \u001b[32m━━━━━━━━━━━━━━━━━━━━\u001b[0m\u001b[37m\u001b[0m \u001b[1m1s\u001b[0m 2ms/step - loss: 0.0080\n",
      "Epoch 33/70\n",
      "\u001b[1m332/332\u001b[0m \u001b[32m━━━━━━━━━━━━━━━━━━━━\u001b[0m\u001b[37m\u001b[0m \u001b[1m1s\u001b[0m 2ms/step - loss: 0.0077\n",
      "Epoch 34/70\n",
      "\u001b[1m332/332\u001b[0m \u001b[32m━━━━━━━━━━━━━━━━━━━━\u001b[0m\u001b[37m\u001b[0m \u001b[1m1s\u001b[0m 2ms/step - loss: 0.0080\n",
      "Epoch 35/70\n",
      "\u001b[1m332/332\u001b[0m \u001b[32m━━━━━━━━━━━━━━━━━━━━\u001b[0m\u001b[37m\u001b[0m \u001b[1m1s\u001b[0m 3ms/step - loss: 0.0082\n",
      "Epoch 36/70\n",
      "\u001b[1m332/332\u001b[0m \u001b[32m━━━━━━━━━━━━━━━━━━━━\u001b[0m\u001b[37m\u001b[0m \u001b[1m1s\u001b[0m 2ms/step - loss: 0.0077\n",
      "Epoch 37/70\n",
      "\u001b[1m332/332\u001b[0m \u001b[32m━━━━━━━━━━━━━━━━━━━━\u001b[0m\u001b[37m\u001b[0m \u001b[1m1s\u001b[0m 2ms/step - loss: 0.0079\n",
      "Epoch 38/70\n",
      "\u001b[1m332/332\u001b[0m \u001b[32m━━━━━━━━━━━━━━━━━━━━\u001b[0m\u001b[37m\u001b[0m \u001b[1m1s\u001b[0m 2ms/step - loss: 0.0077\n",
      "Epoch 39/70\n",
      "\u001b[1m332/332\u001b[0m \u001b[32m━━━━━━━━━━━━━━━━━━━━\u001b[0m\u001b[37m\u001b[0m \u001b[1m1s\u001b[0m 2ms/step - loss: 0.0078\n",
      "Epoch 40/70\n",
      "\u001b[1m332/332\u001b[0m \u001b[32m━━━━━━━━━━━━━━━━━━━━\u001b[0m\u001b[37m\u001b[0m \u001b[1m1s\u001b[0m 2ms/step - loss: 0.0080\n",
      "Epoch 41/70\n",
      "\u001b[1m332/332\u001b[0m \u001b[32m━━━━━━━━━━━━━━━━━━━━\u001b[0m\u001b[37m\u001b[0m \u001b[1m1s\u001b[0m 2ms/step - loss: 0.0075\n",
      "Epoch 42/70\n",
      "\u001b[1m332/332\u001b[0m \u001b[32m━━━━━━━━━━━━━━━━━━━━\u001b[0m\u001b[37m\u001b[0m \u001b[1m1s\u001b[0m 2ms/step - loss: 0.0076\n",
      "Epoch 43/70\n",
      "\u001b[1m332/332\u001b[0m \u001b[32m━━━━━━━━━━━━━━━━━━━━\u001b[0m\u001b[37m\u001b[0m \u001b[1m1s\u001b[0m 2ms/step - loss: 0.0077\n",
      "Epoch 44/70\n",
      "\u001b[1m332/332\u001b[0m \u001b[32m━━━━━━━━━━━━━━━━━━━━\u001b[0m\u001b[37m\u001b[0m \u001b[1m1s\u001b[0m 2ms/step - loss: 0.0078\n",
      "Epoch 45/70\n",
      "\u001b[1m332/332\u001b[0m \u001b[32m━━━━━━━━━━━━━━━━━━━━\u001b[0m\u001b[37m\u001b[0m \u001b[1m1s\u001b[0m 2ms/step - loss: 0.0076\n",
      "Epoch 46/70\n",
      "\u001b[1m332/332\u001b[0m \u001b[32m━━━━━━━━━━━━━━━━━━━━\u001b[0m\u001b[37m\u001b[0m \u001b[1m1s\u001b[0m 2ms/step - loss: 0.0079\n",
      "Epoch 47/70\n",
      "\u001b[1m332/332\u001b[0m \u001b[32m━━━━━━━━━━━━━━━━━━━━\u001b[0m\u001b[37m\u001b[0m \u001b[1m1s\u001b[0m 2ms/step - loss: 0.0080\n",
      "Epoch 48/70\n",
      "\u001b[1m332/332\u001b[0m \u001b[32m━━━━━━━━━━━━━━━━━━━━\u001b[0m\u001b[37m\u001b[0m \u001b[1m1s\u001b[0m 2ms/step - loss: 0.0078\n",
      "Epoch 49/70\n",
      "\u001b[1m332/332\u001b[0m \u001b[32m━━━━━━━━━━━━━━━━━━━━\u001b[0m\u001b[37m\u001b[0m \u001b[1m1s\u001b[0m 2ms/step - loss: 0.0079\n",
      "Epoch 50/70\n",
      "\u001b[1m332/332\u001b[0m \u001b[32m━━━━━━━━━━━━━━━━━━━━\u001b[0m\u001b[37m\u001b[0m \u001b[1m1s\u001b[0m 2ms/step - loss: 0.0081\n",
      "Epoch 51/70\n",
      "\u001b[1m332/332\u001b[0m \u001b[32m━━━━━━━━━━━━━━━━━━━━\u001b[0m\u001b[37m\u001b[0m \u001b[1m1s\u001b[0m 3ms/step - loss: 0.0078\n",
      "Epoch 52/70\n",
      "\u001b[1m332/332\u001b[0m \u001b[32m━━━━━━━━━━━━━━━━━━━━\u001b[0m\u001b[37m\u001b[0m \u001b[1m1s\u001b[0m 2ms/step - loss: 0.0077\n",
      "Epoch 53/70\n",
      "\u001b[1m332/332\u001b[0m \u001b[32m━━━━━━━━━━━━━━━━━━━━\u001b[0m\u001b[37m\u001b[0m \u001b[1m1s\u001b[0m 2ms/step - loss: 0.0079\n",
      "Epoch 54/70\n",
      "\u001b[1m332/332\u001b[0m \u001b[32m━━━━━━━━━━━━━━━━━━━━\u001b[0m\u001b[37m\u001b[0m \u001b[1m1s\u001b[0m 2ms/step - loss: 0.0077\n",
      "Epoch 55/70\n",
      "\u001b[1m332/332\u001b[0m \u001b[32m━━━━━━━━━━━━━━━━━━━━\u001b[0m\u001b[37m\u001b[0m \u001b[1m1s\u001b[0m 2ms/step - loss: 0.0076\n",
      "Epoch 56/70\n",
      "\u001b[1m332/332\u001b[0m \u001b[32m━━━━━━━━━━━━━━━━━━━━\u001b[0m\u001b[37m\u001b[0m \u001b[1m1s\u001b[0m 2ms/step - loss: 0.0076\n",
      "Epoch 57/70\n",
      "\u001b[1m332/332\u001b[0m \u001b[32m━━━━━━━━━━━━━━━━━━━━\u001b[0m\u001b[37m\u001b[0m \u001b[1m1s\u001b[0m 2ms/step - loss: 0.0077\n",
      "Epoch 58/70\n",
      "\u001b[1m332/332\u001b[0m \u001b[32m━━━━━━━━━━━━━━━━━━━━\u001b[0m\u001b[37m\u001b[0m \u001b[1m1s\u001b[0m 2ms/step - loss: 0.0076\n",
      "Epoch 59/70\n",
      "\u001b[1m332/332\u001b[0m \u001b[32m━━━━━━━━━━━━━━━━━━━━\u001b[0m\u001b[37m\u001b[0m \u001b[1m1s\u001b[0m 2ms/step - loss: 0.0076\n",
      "Epoch 60/70\n",
      "\u001b[1m332/332\u001b[0m \u001b[32m━━━━━━━━━━━━━━━━━━━━\u001b[0m\u001b[37m\u001b[0m \u001b[1m1s\u001b[0m 2ms/step - loss: 0.0079\n",
      "Epoch 61/70\n",
      "\u001b[1m332/332\u001b[0m \u001b[32m━━━━━━━━━━━━━━━━━━━━\u001b[0m\u001b[37m\u001b[0m \u001b[1m1s\u001b[0m 2ms/step - loss: 0.0073\n",
      "Epoch 62/70\n",
      "\u001b[1m332/332\u001b[0m \u001b[32m━━━━━━━━━━━━━━━━━━━━\u001b[0m\u001b[37m\u001b[0m \u001b[1m1s\u001b[0m 2ms/step - loss: 0.0077\n",
      "Epoch 63/70\n",
      "\u001b[1m332/332\u001b[0m \u001b[32m━━━━━━━━━━━━━━━━━━━━\u001b[0m\u001b[37m\u001b[0m \u001b[1m1s\u001b[0m 2ms/step - loss: 0.0076\n",
      "Epoch 64/70\n",
      "\u001b[1m332/332\u001b[0m \u001b[32m━━━━━━━━━━━━━━━━━━━━\u001b[0m\u001b[37m\u001b[0m \u001b[1m1s\u001b[0m 2ms/step - loss: 0.0074\n",
      "Epoch 65/70\n",
      "\u001b[1m332/332\u001b[0m \u001b[32m━━━━━━━━━━━━━━━━━━━━\u001b[0m\u001b[37m\u001b[0m \u001b[1m1s\u001b[0m 2ms/step - loss: 0.0073\n",
      "Epoch 66/70\n",
      "\u001b[1m332/332\u001b[0m \u001b[32m━━━━━━━━━━━━━━━━━━━━\u001b[0m\u001b[37m\u001b[0m \u001b[1m1s\u001b[0m 2ms/step - loss: 0.0078\n",
      "Epoch 67/70\n",
      "\u001b[1m332/332\u001b[0m \u001b[32m━━━━━━━━━━━━━━━━━━━━\u001b[0m\u001b[37m\u001b[0m \u001b[1m1s\u001b[0m 2ms/step - loss: 0.0076\n",
      "Epoch 68/70\n",
      "\u001b[1m332/332\u001b[0m \u001b[32m━━━━━━━━━━━━━━━━━━━━\u001b[0m\u001b[37m\u001b[0m \u001b[1m1s\u001b[0m 2ms/step - loss: 0.0077\n",
      "Epoch 69/70\n",
      "\u001b[1m332/332\u001b[0m \u001b[32m━━━━━━━━━━━━━━━━━━━━\u001b[0m\u001b[37m\u001b[0m \u001b[1m1s\u001b[0m 2ms/step - loss: 0.0074\n",
      "Epoch 70/70\n",
      "\u001b[1m332/332\u001b[0m \u001b[32m━━━━━━━━━━━━━━━━━━━━\u001b[0m\u001b[37m\u001b[0m \u001b[1m1s\u001b[0m 2ms/step - loss: 0.0075\n"
     ]
    },
    {
     "data": {
      "image/png": "[encoded data removed]",
      "text/plain": [
       "<Figure size 1000x500 with 1 Axes>"
      ]
     },
     "metadata": {},
     "output_type": "display_data"
    },
    {
     "name": "stdout",
     "output_type": "stream",
     "text": [
      "INFO:tensorflow:Assets written to: saved_model/assets\n"
     ]
    },
    {
     "name": "stderr",
     "output_type": "stream",
     "text": [
      "INFO:tensorflow:Assets written to: saved_model/assets\n"
     ]
    },
    {
     "name": "stdout",
     "output_type": "stream",
     "text": [
      "Saved artifact at 'saved_model'. The following endpoints are available:\n",
      "\n",
      "* Endpoint 'serve'\n",
      "  args_0 (POSITIONAL_ONLY): List[TensorSpec(shape=(None, 64, 1), dtype=tf.float32, name='seq_input'), TensorSpec(shape=(None, 77), dtype=tf.float32, name='dwt_input')]\n",
      "Output Type:\n",
      "  TensorSpec(shape=(None, 3), dtype=tf.float32, name=None)\n",
      "Captures:\n",
      "  5778325744: TensorSpec(shape=(), dtype=tf.resource, name=None)\n",
      "  5778331552: TensorSpec(shape=(), dtype=tf.resource, name=None)\n",
      "  5778331200: TensorSpec(shape=(), dtype=tf.resource, name=None)\n",
      "  5778326096: TensorSpec(shape=(), dtype=tf.resource, name=None)\n",
      "  5778339120: TensorSpec(shape=(), dtype=tf.resource, name=None)\n",
      "  5778329088: TensorSpec(shape=(), dtype=tf.resource, name=None)\n",
      "  5778325920: TensorSpec(shape=(), dtype=tf.resource, name=None)\n",
      "  5778332784: TensorSpec(shape=(), dtype=tf.resource, name=None)\n",
      "  5778331728: TensorSpec(shape=(), dtype=tf.resource, name=None)\n",
      "Size of compressed model (bytes): 26150\n"
     ]
    },
    {
     "name": "stderr",
     "output_type": "stream",
     "text": [
      "W0000 00:00:1745446131.863196 15968800 tf_tfl_flatbuffer_helpers.cc:390] Ignored output_format.\n",
      "W0000 00:00:1745446131.863212 15968800 tf_tfl_flatbuffer_helpers.cc:393] Ignored drop_control_dependency.\n",
      "2025-04-24 01:08:51.863490: I tensorflow/cc/saved_model/reader.cc:83] Reading SavedModel from: saved_model\n",
      "2025-04-24 01:08:51.864613: I tensorflow/cc/saved_model/reader.cc:51] Reading meta graph with tags { serve }\n",
      "2025-04-24 01:08:51.864627: I tensorflow/cc/saved_model/reader.cc:146] Reading SavedModel debug info (if present) from: saved_model\n",
      "2025-04-24 01:08:51.881602: I tensorflow/cc/saved_model/loader.cc:234] Restoring SavedModel bundle.\n",
      "2025-04-24 01:08:51.941679: I tensorflow/cc/saved_model/loader.cc:218] Running initialization op on SavedModel bundle at path: saved_model\n",
      "2025-04-24 01:08:51.962144: I tensorflow/cc/saved_model/loader.cc:317] SavedModel load for tags { serve }; Status: success: OK. Took 98653 microseconds.\n"
     ]
    }
   ],
   "source": [
    "enc_df = compress_cnn_sz3(df_wind, wind_geo_dict, cor_lvl = 0.8, use_dwt=True, window_size=64, num_epochs=70, plot_flag=True, model_compress=\"lz4\")"
   ]
  },
  {
   "cell_type": "code",
   "execution_count": 127,
   "metadata": {},
   "outputs": [
    {
     "name": "stdout",
     "output_type": "stream",
     "text": [
      "Размер исходных данных: 257808 байт \n",
      "\n",
      "Размер сжатых данных: 33054 байт \n",
      "\n",
      "Коэффициент сжатия: 7.8\n"
     ]
    }
   ],
   "source": [
    "get_compress_info_cnn_sz3(df_wind, enc_df)"
   ]
  },
  {
   "cell_type": "code",
   "execution_count": 128,
   "metadata": {},
   "outputs": [],
   "source": [
    "dec_df = decomress_cnn_sz3(enc_df, (5371,), use_dwt=True, model_compress=\"lz4\")\n",
    "dec_df = dec_df.sort_index(axis=1)"
   ]
  },
  {
   "cell_type": "code",
   "execution_count": 129,
   "metadata": {},
   "outputs": [
    {
     "name": "stdout",
     "output_type": "stream",
     "text": [
      "MSE: 0.003943 \n",
      "\n",
      "MAPE: 37.83 %\n"
     ]
    }
   ],
   "source": [
    "get_errors(df_wind, dec_df)"
   ]
  },
  {
   "cell_type": "markdown",
   "metadata": {},
   "source": [
    "## Time and memory usage"
   ]
  },
  {
   "cell_type": "code",
   "execution_count": 71,
   "metadata": {},
   "outputs": [
    {
     "data": {
      "text/html": [
       "<div>\n",
       "<style scoped>\n",
       "    .dataframe tbody tr th:only-of-type {\n",
       "        vertical-align: middle;\n",
       "    }\n",
       "\n",
       "    .dataframe tbody tr th {\n",
       "        vertical-align: top;\n",
       "    }\n",
       "\n",
       "    .dataframe thead th {\n",
       "        text-align: right;\n",
       "    }\n",
       "</style>\n",
       "<table border=\"1\" class=\"dataframe\">\n",
       "  <thead>\n",
       "    <tr style=\"text-align: right;\">\n",
       "      <th></th>\n",
       "      <th>Method</th>\n",
       "      <th>Mean (s)</th>\n",
       "      <th>Std Dev (s)</th>\n",
       "    </tr>\n",
       "  </thead>\n",
       "  <tbody>\n",
       "    <tr>\n",
       "      <th>0</th>\n",
       "      <td>sprintz_enc</td>\n",
       "      <td>0.207376</td>\n",
       "      <td>0.026185</td>\n",
       "    </tr>\n",
       "    <tr>\n",
       "      <th>1</th>\n",
       "      <td>sprintz_dec</td>\n",
       "      <td>0.109163</td>\n",
       "      <td>0.017483</td>\n",
       "    </tr>\n",
       "    <tr>\n",
       "      <th>2</th>\n",
       "      <td>xor_enc</td>\n",
       "      <td>0.171229</td>\n",
       "      <td>0.006939</td>\n",
       "    </tr>\n",
       "    <tr>\n",
       "      <th>3</th>\n",
       "      <td>LZ4_enc</td>\n",
       "      <td>0.000871</td>\n",
       "      <td>0.000078</td>\n",
       "    </tr>\n",
       "    <tr>\n",
       "      <th>4</th>\n",
       "      <td>LZ4_dec</td>\n",
       "      <td>0.000362</td>\n",
       "      <td>0.000001</td>\n",
       "    </tr>\n",
       "    <tr>\n",
       "      <th>5</th>\n",
       "      <td>spatial_xor_enc</td>\n",
       "      <td>0.147704</td>\n",
       "      <td>0.008136</td>\n",
       "    </tr>\n",
       "    <tr>\n",
       "      <th>6</th>\n",
       "      <td>spatial_xor_dec</td>\n",
       "      <td>0.265852</td>\n",
       "      <td>0.008654</td>\n",
       "    </tr>\n",
       "    <tr>\n",
       "      <th>7</th>\n",
       "      <td>spatial_sprintz_enc</td>\n",
       "      <td>2.287905</td>\n",
       "      <td>0.241062</td>\n",
       "    </tr>\n",
       "    <tr>\n",
       "      <th>8</th>\n",
       "      <td>spatial_sprintz_dec</td>\n",
       "      <td>1.277833</td>\n",
       "      <td>0.234049</td>\n",
       "    </tr>\n",
       "    <tr>\n",
       "      <th>9</th>\n",
       "      <td>PCA_enc</td>\n",
       "      <td>0.007192</td>\n",
       "      <td>0.001103</td>\n",
       "    </tr>\n",
       "    <tr>\n",
       "      <th>10</th>\n",
       "      <td>PCA_dec</td>\n",
       "      <td>0.078560</td>\n",
       "      <td>0.007566</td>\n",
       "    </tr>\n",
       "    <tr>\n",
       "      <th>11</th>\n",
       "      <td>SZ3_enc</td>\n",
       "      <td>0.007063</td>\n",
       "      <td>0.000741</td>\n",
       "    </tr>\n",
       "    <tr>\n",
       "      <th>12</th>\n",
       "      <td>SZ3_dec</td>\n",
       "      <td>0.096495</td>\n",
       "      <td>0.011026</td>\n",
       "    </tr>\n",
       "    <tr>\n",
       "      <th>13</th>\n",
       "      <td>SZ3_CNN_ZSTD_enc</td>\n",
       "      <td>39.358457</td>\n",
       "      <td>4.676428</td>\n",
       "    </tr>\n",
       "    <tr>\n",
       "      <th>14</th>\n",
       "      <td>SZ3_CNN_LZ4_enc</td>\n",
       "      <td>38.352982</td>\n",
       "      <td>1.167004</td>\n",
       "    </tr>\n",
       "    <tr>\n",
       "      <th>15</th>\n",
       "      <td>SZ3_CNN_ZSTD_dec</td>\n",
       "      <td>0.078025</td>\n",
       "      <td>0.000403</td>\n",
       "    </tr>\n",
       "    <tr>\n",
       "      <th>16</th>\n",
       "      <td>SZ3_CNN_LZ4_dec</td>\n",
       "      <td>0.078679</td>\n",
       "      <td>0.000563</td>\n",
       "    </tr>\n",
       "  </tbody>\n",
       "</table>\n",
       "</div>"
      ],
      "text/plain": [
       "                 Method   Mean (s)  Std Dev (s)\n",
       "0           sprintz_enc   0.207376     0.026185\n",
       "1           sprintz_dec   0.109163     0.017483\n",
       "2               xor_enc   0.171229     0.006939\n",
       "3               LZ4_enc   0.000871     0.000078\n",
       "4               LZ4_dec   0.000362     0.000001\n",
       "5       spatial_xor_enc   0.147704     0.008136\n",
       "6       spatial_xor_dec   0.265852     0.008654\n",
       "7   spatial_sprintz_enc   2.287905     0.241062\n",
       "8   spatial_sprintz_dec   1.277833     0.234049\n",
       "9               PCA_enc   0.007192     0.001103\n",
       "10              PCA_dec   0.078560     0.007566\n",
       "11              SZ3_enc   0.007063     0.000741\n",
       "12              SZ3_dec   0.096495     0.011026\n",
       "13     SZ3_CNN_ZSTD_enc  39.358457     4.676428\n",
       "14      SZ3_CNN_LZ4_enc  38.352982     1.167004\n",
       "15     SZ3_CNN_ZSTD_dec   0.078025     0.000403\n",
       "16      SZ3_CNN_LZ4_dec   0.078679     0.000563"
      ]
     },
     "execution_count": 71,
     "metadata": {},
     "output_type": "execute_result"
    }
   ],
   "source": [
    "rows = []\n",
    "for key, value in time_dict.items():\n",
    "    mean = value.average\n",
    "    std_dev = value.stdev\n",
    "    rows.append({'Method': key, 'Mean (s)': mean, 'Std Dev (s)': std_dev})\n",
    "time_df = pd.DataFrame(rows)\n",
    "time_df.to_excel(\"time_usage.xlsx\", index=False)\n",
    "time_df"
   ]
  },
  {
   "cell_type": "code",
   "execution_count": 72,
   "metadata": {},
   "outputs": [
    {
     "data": {
      "text/html": [
       "<div>\n",
       "<style scoped>\n",
       "    .dataframe tbody tr th:only-of-type {\n",
       "        vertical-align: middle;\n",
       "    }\n",
       "\n",
       "    .dataframe tbody tr th {\n",
       "        vertical-align: top;\n",
       "    }\n",
       "\n",
       "    .dataframe thead th {\n",
       "        text-align: right;\n",
       "    }\n",
       "</style>\n",
       "<table border=\"1\" class=\"dataframe\">\n",
       "  <thead>\n",
       "    <tr style=\"text-align: right;\">\n",
       "      <th></th>\n",
       "      <th>Method</th>\n",
       "      <th>Memory Usage (MB)</th>\n",
       "    </tr>\n",
       "  </thead>\n",
       "  <tbody>\n",
       "    <tr>\n",
       "      <th>0</th>\n",
       "      <td>sprintz_enc</td>\n",
       "      <td>-2.968750</td>\n",
       "    </tr>\n",
       "    <tr>\n",
       "      <th>1</th>\n",
       "      <td>sprintz_dec</td>\n",
       "      <td>0.042969</td>\n",
       "    </tr>\n",
       "    <tr>\n",
       "      <th>2</th>\n",
       "      <td>xor_enc</td>\n",
       "      <td>0.000000</td>\n",
       "    </tr>\n",
       "    <tr>\n",
       "      <th>3</th>\n",
       "      <td>xor_dec</td>\n",
       "      <td>0.007812</td>\n",
       "    </tr>\n",
       "    <tr>\n",
       "      <th>4</th>\n",
       "      <td>LZ4_enc</td>\n",
       "      <td>0.000000</td>\n",
       "    </tr>\n",
       "    <tr>\n",
       "      <th>5</th>\n",
       "      <td>LZ4_dec</td>\n",
       "      <td>0.000000</td>\n",
       "    </tr>\n",
       "    <tr>\n",
       "      <th>6</th>\n",
       "      <td>spatial_xor_enc</td>\n",
       "      <td>1.890625</td>\n",
       "    </tr>\n",
       "    <tr>\n",
       "      <th>7</th>\n",
       "      <td>spatial_xor_dec</td>\n",
       "      <td>0.085938</td>\n",
       "    </tr>\n",
       "    <tr>\n",
       "      <th>8</th>\n",
       "      <td>spatial_sprintz_enc</td>\n",
       "      <td>0.066406</td>\n",
       "    </tr>\n",
       "    <tr>\n",
       "      <th>9</th>\n",
       "      <td>spatial_sprintz_dec</td>\n",
       "      <td>0.261719</td>\n",
       "    </tr>\n",
       "    <tr>\n",
       "      <th>10</th>\n",
       "      <td>PCA_enc</td>\n",
       "      <td>0.875000</td>\n",
       "    </tr>\n",
       "    <tr>\n",
       "      <th>11</th>\n",
       "      <td>PCA_dec</td>\n",
       "      <td>0.000000</td>\n",
       "    </tr>\n",
       "    <tr>\n",
       "      <th>12</th>\n",
       "      <td>SZ3_enc</td>\n",
       "      <td>0.027344</td>\n",
       "    </tr>\n",
       "    <tr>\n",
       "      <th>13</th>\n",
       "      <td>SZ3_dec</td>\n",
       "      <td>0.175781</td>\n",
       "    </tr>\n",
       "    <tr>\n",
       "      <th>14</th>\n",
       "      <td>SZ3_CNN_ZSTD_enc</td>\n",
       "      <td>21.222656</td>\n",
       "    </tr>\n",
       "    <tr>\n",
       "      <th>15</th>\n",
       "      <td>SZ3_CNN_LZ4_enc</td>\n",
       "      <td>232.335938</td>\n",
       "    </tr>\n",
       "    <tr>\n",
       "      <th>16</th>\n",
       "      <td>SZ3_CNN_ZSTD_dec</td>\n",
       "      <td>6.734375</td>\n",
       "    </tr>\n",
       "    <tr>\n",
       "      <th>17</th>\n",
       "      <td>SZ3_CNN_LZ4_dec</td>\n",
       "      <td>-1.750000</td>\n",
       "    </tr>\n",
       "  </tbody>\n",
       "</table>\n",
       "</div>"
      ],
      "text/plain": [
       "                 Method  Memory Usage (MB)\n",
       "0           sprintz_enc          -2.968750\n",
       "1           sprintz_dec           0.042969\n",
       "2               xor_enc           0.000000\n",
       "3               xor_dec           0.007812\n",
       "4               LZ4_enc           0.000000\n",
       "5               LZ4_dec           0.000000\n",
       "6       spatial_xor_enc           1.890625\n",
       "7       spatial_xor_dec           0.085938\n",
       "8   spatial_sprintz_enc           0.066406\n",
       "9   spatial_sprintz_dec           0.261719\n",
       "10              PCA_enc           0.875000\n",
       "11              PCA_dec           0.000000\n",
       "12              SZ3_enc           0.027344\n",
       "13              SZ3_dec           0.175781\n",
       "14     SZ3_CNN_ZSTD_enc          21.222656\n",
       "15      SZ3_CNN_LZ4_enc         232.335938\n",
       "16     SZ3_CNN_ZSTD_dec           6.734375\n",
       "17      SZ3_CNN_LZ4_dec          -1.750000"
      ]
     },
     "execution_count": 72,
     "metadata": {},
     "output_type": "execute_result"
    }
   ],
   "source": [
    "mem_df = pd.DataFrame(list(mem_dict.items()), columns=['Method', 'Memory Usage (MB)'])\n",
    "mem_df.to_excel(\"mem_usage.xlsx\", index=False)\n",
    "mem_df"
   ]
  },
  {
   "cell_type": "code",
   "execution_count": null,
   "metadata": {},
   "outputs": [],
   "source": []
  }
 ],
 "metadata": {
  "kernelspec": {
   "display_name": "base",
   "language": "python",
   "name": "python3"
  },
  "language_info": {
   "codemirror_mode": {
    "name": "ipython",
    "version": 3
   },
   "file_extension": ".py",
   "mimetype": "text/x-python",
   "name": "python",
   "nbconvert_exporter": "python",
   "pygments_lexer": "ipython3",
   "version": "3.11.7"
  }
 },
 "nbformat": 4,
 "nbformat_minor": 2
}
