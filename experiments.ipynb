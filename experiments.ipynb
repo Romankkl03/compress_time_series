{
 "cells": [
  {
   "cell_type": "markdown",
   "metadata": {},
   "source": [
    "## Libraries"
   ]
  },
  {
   "cell_type": "code",
   "execution_count": 1,
   "metadata": {},
   "outputs": [
    {
     "name": "stderr",
     "output_type": "stream",
     "text": [
      "2025-04-17 00:46:44.078872: I tensorflow/core/platform/cpu_feature_guard.cc:210] This TensorFlow binary is optimized to use available CPU instructions in performance-critical operations.\n",
      "To enable the following instructions: AVX2 FMA, in other operations, rebuild TensorFlow with the appropriate compiler flags.\n"
     ]
    }
   ],
   "source": [
    "import pandas as pd\n",
    "from matplotlib import pyplot as plt\n",
    "import numpy as np\n",
    "import warnings\n",
    "import yaml\n",
    "import matplotlib.pyplot as plt\n",
    "import pandas as pd\n",
    "warnings.filterwarnings(\"ignore\")\n",
    "import seaborn as sns\n",
    "from settings import (\n",
    "    SPEED_DATA_PATH,\n",
    "    WIND_DATA_PATH, \n",
    "    GEO_PATH\n",
    ")\n",
    "from sz.SZ3.tools.pysz.pysz import SZ\n",
    "from compress.sprintz_encode import compress_sprintz, decompress_sprintz, get_compress_info_sprintz\n",
    "from compress.bypass import spatial_clustering\n",
    "from compress.general_functions import get_errors, get_geo_dict, create_geo_plot\n",
    "from compress.xor_encode import xor_compress_df, get_compress_info_xor, decompress_xor_df\n",
    "from compress.lz4_encode import LZ4_compress_df, LZ4_decompress_df, get_compress_info_lz4\n",
    "from compress.spatial_lz4 import spatial_clustering_PCA_LZ4, spatial_lz4_decompress, get_compress_info_spatial_PCA_LZ4, lz4_one\n",
    "from compress.spatial_xor import spatial_clustering_xor, spatial_XOR_decompress, get_compress_info_spatial_xor\n",
    "from compress.spatial_sprintz import spatial_clustering_sprintz, spatial_sprintz_decompress, get_compress_info_spatial_sprintz\n",
    "from compress.sz3_encode import compress_sz3_df, decompress_sz3, get_compress_info_sz3, compress_sz3_all\n",
    "from compress.cnn_encode import compress_cnn_sz3, decomress_cnn_sz3, get_compress_info_cnn_sz3"
   ]
  },
  {
   "cell_type": "markdown",
   "metadata": {},
   "source": [
    "## Params"
   ]
  },
  {
   "cell_type": "code",
   "execution_count": 2,
   "metadata": {},
   "outputs": [],
   "source": [
    "table_params = [{\n",
    "                'selector': 'caption',\n",
    "                'props': [\n",
    "                    ('color', 'Blue'),\n",
    "                    ('font-size', '16pt'),\n",
    "                    ('font-weight', 'bold'),\n",
    "                    ('text-align', 'center'),\n",
    "                    ('caption-side', 'top'),\n",
    "                    ('padding', '10px')\n",
    "                ]\n",
    "            },\n",
    "            {\n",
    "                'selector': 'th',\n",
    "                'props': [('font-size', '14pt')]\n",
    "            }]"
   ]
  },
  {
   "cell_type": "markdown",
   "metadata": {},
   "source": [
    "## Data"
   ]
  },
  {
   "cell_type": "markdown",
   "metadata": {},
   "source": [
    "### Download dataset"
   ]
  },
  {
   "cell_type": "code",
   "execution_count": 3,
   "metadata": {},
   "outputs": [
    {
     "name": "stdout",
     "output_type": "stream",
     "text": [
      "<class 'pandas.core.frame.DataFrame'>\n",
      "DatetimeIndex: 2500 entries, 2015-08-31 18:22:00 to 2015-09-17 16:24:00\n",
      "Data columns (total 1 columns):\n",
      " #   Column  Non-Null Count  Dtype\n",
      "---  ------  --------------  -----\n",
      " 0   value   2500 non-null   int64\n",
      "dtypes: int64(1)\n",
      "memory usage: 39.1 KB\n"
     ]
    }
   ],
   "source": [
    "# int time series\n",
    "speed_init = pd.read_csv(SPEED_DATA_PATH, parse_dates=[0], index_col=[0])# данные заполненности дорог\n",
    "speed_init.info()"
   ]
  },
  {
   "cell_type": "code",
   "execution_count": 4,
   "metadata": {},
   "outputs": [
    {
     "name": "stdout",
     "output_type": "stream",
     "text": [
      "DataFrame shape: (500, 5)\n"
     ]
    },
    {
     "data": {
      "text/html": [
       "<div>\n",
       "<style scoped>\n",
       "    .dataframe tbody tr th:only-of-type {\n",
       "        vertical-align: middle;\n",
       "    }\n",
       "\n",
       "    .dataframe tbody tr th {\n",
       "        vertical-align: top;\n",
       "    }\n",
       "\n",
       "    .dataframe thead th {\n",
       "        text-align: right;\n",
       "    }\n",
       "</style>\n",
       "<table border=\"1\" class=\"dataframe\">\n",
       "  <thead>\n",
       "    <tr style=\"text-align: right;\">\n",
       "      <th></th>\n",
       "      <th>sensor_1</th>\n",
       "      <th>sensor_2</th>\n",
       "      <th>sensor_3</th>\n",
       "      <th>sensor_4</th>\n",
       "      <th>sensor_5</th>\n",
       "    </tr>\n",
       "  </thead>\n",
       "  <tbody>\n",
       "    <tr>\n",
       "      <th>0</th>\n",
       "      <td>90</td>\n",
       "      <td>80</td>\n",
       "      <td>84</td>\n",
       "      <td>94</td>\n",
       "      <td>90</td>\n",
       "    </tr>\n",
       "    <tr>\n",
       "      <th>1</th>\n",
       "      <td>91</td>\n",
       "      <td>62</td>\n",
       "      <td>96</td>\n",
       "      <td>75</td>\n",
       "      <td>84</td>\n",
       "    </tr>\n",
       "    <tr>\n",
       "      <th>2</th>\n",
       "      <td>86</td>\n",
       "      <td>93</td>\n",
       "      <td>69</td>\n",
       "      <td>88</td>\n",
       "      <td>71</td>\n",
       "    </tr>\n",
       "    <tr>\n",
       "      <th>3</th>\n",
       "      <td>74</td>\n",
       "      <td>68</td>\n",
       "      <td>88</td>\n",
       "      <td>71</td>\n",
       "      <td>87</td>\n",
       "    </tr>\n",
       "    <tr>\n",
       "      <th>4</th>\n",
       "      <td>82</td>\n",
       "      <td>68</td>\n",
       "      <td>73</td>\n",
       "      <td>69</td>\n",
       "      <td>57</td>\n",
       "    </tr>\n",
       "  </tbody>\n",
       "</table>\n",
       "</div>"
      ],
      "text/plain": [
       "   sensor_1  sensor_2  sensor_3  sensor_4  sensor_5\n",
       "0        90        80        84        94        90\n",
       "1        91        62        96        75        84\n",
       "2        86        93        69        88        71\n",
       "3        74        68        88        71        87\n",
       "4        82        68        73        69        57"
      ]
     },
     "execution_count": 4,
     "metadata": {},
     "output_type": "execute_result"
    }
   ],
   "source": [
    "speed_init['index'] = np.arange(speed_init.shape[0])\n",
    "sensor_data = {}\n",
    "\n",
    "for i in range(5):\n",
    "    sensor_data[f'sensor_{i+1}'] = speed_init.loc[speed_init['index'] % 5 == i,\n",
    "                                             ['value']]['value'].to_list()\n",
    "\n",
    "df_speed = pd.DataFrame(sensor_data)\n",
    "print('DataFrame shape:', df_speed.shape)\n",
    "df_speed.head()"
   ]
  },
  {
   "cell_type": "code",
   "execution_count": 5,
   "metadata": {},
   "outputs": [
    {
     "data": {
      "text/html": [
       "<div>\n",
       "<style scoped>\n",
       "    .dataframe tbody tr th:only-of-type {\n",
       "        vertical-align: middle;\n",
       "    }\n",
       "\n",
       "    .dataframe tbody tr th {\n",
       "        vertical-align: top;\n",
       "    }\n",
       "\n",
       "    .dataframe thead th {\n",
       "        text-align: right;\n",
       "    }\n",
       "</style>\n",
       "<table border=\"1\" class=\"dataframe\">\n",
       "  <thead>\n",
       "    <tr style=\"text-align: right;\">\n",
       "      <th></th>\n",
       "      <th>sensor_1</th>\n",
       "      <th>sensor_2</th>\n",
       "      <th>sensor_3</th>\n",
       "      <th>sensor_4</th>\n",
       "      <th>sensor_5</th>\n",
       "    </tr>\n",
       "  </thead>\n",
       "  <tbody>\n",
       "    <tr>\n",
       "      <th>count</th>\n",
       "      <td>500.000000</td>\n",
       "      <td>500.000000</td>\n",
       "      <td>500.000000</td>\n",
       "      <td>500.000000</td>\n",
       "      <td>500.000000</td>\n",
       "    </tr>\n",
       "    <tr>\n",
       "      <th>mean</th>\n",
       "      <td>82.126000</td>\n",
       "      <td>81.538000</td>\n",
       "      <td>81.862000</td>\n",
       "      <td>81.786000</td>\n",
       "      <td>82.222000</td>\n",
       "    </tr>\n",
       "    <tr>\n",
       "      <th>std</th>\n",
       "      <td>8.404963</td>\n",
       "      <td>9.247897</td>\n",
       "      <td>8.155488</td>\n",
       "      <td>8.913085</td>\n",
       "      <td>8.983659</td>\n",
       "    </tr>\n",
       "    <tr>\n",
       "      <th>min</th>\n",
       "      <td>43.000000</td>\n",
       "      <td>28.000000</td>\n",
       "      <td>53.000000</td>\n",
       "      <td>29.000000</td>\n",
       "      <td>20.000000</td>\n",
       "    </tr>\n",
       "    <tr>\n",
       "      <th>25%</th>\n",
       "      <td>77.000000</td>\n",
       "      <td>76.000000</td>\n",
       "      <td>77.000000</td>\n",
       "      <td>76.000000</td>\n",
       "      <td>77.000000</td>\n",
       "    </tr>\n",
       "    <tr>\n",
       "      <th>50%</th>\n",
       "      <td>83.000000</td>\n",
       "      <td>82.000000</td>\n",
       "      <td>82.000000</td>\n",
       "      <td>82.000000</td>\n",
       "      <td>83.000000</td>\n",
       "    </tr>\n",
       "    <tr>\n",
       "      <th>75%</th>\n",
       "      <td>87.000000</td>\n",
       "      <td>88.000000</td>\n",
       "      <td>87.000000</td>\n",
       "      <td>88.000000</td>\n",
       "      <td>88.000000</td>\n",
       "    </tr>\n",
       "    <tr>\n",
       "      <th>max</th>\n",
       "      <td>109.000000</td>\n",
       "      <td>103.000000</td>\n",
       "      <td>106.000000</td>\n",
       "      <td>106.000000</td>\n",
       "      <td>105.000000</td>\n",
       "    </tr>\n",
       "  </tbody>\n",
       "</table>\n",
       "</div>"
      ],
      "text/plain": [
       "         sensor_1    sensor_2    sensor_3    sensor_4    sensor_5\n",
       "count  500.000000  500.000000  500.000000  500.000000  500.000000\n",
       "mean    82.126000   81.538000   81.862000   81.786000   82.222000\n",
       "std      8.404963    9.247897    8.155488    8.913085    8.983659\n",
       "min     43.000000   28.000000   53.000000   29.000000   20.000000\n",
       "25%     77.000000   76.000000   77.000000   76.000000   77.000000\n",
       "50%     83.000000   82.000000   82.000000   82.000000   83.000000\n",
       "75%     87.000000   88.000000   87.000000   88.000000   88.000000\n",
       "max    109.000000  103.000000  106.000000  106.000000  105.000000"
      ]
     },
     "execution_count": 5,
     "metadata": {},
     "output_type": "execute_result"
    }
   ],
   "source": [
    "df_speed.describe()"
   ]
  },
  {
   "cell_type": "code",
   "execution_count": 6,
   "metadata": {},
   "outputs": [
    {
     "name": "stdout",
     "output_type": "stream",
     "text": [
      "<class 'pandas.core.frame.DataFrame'>\n",
      "RangeIndex: 5371 entries, 0 to 5370\n",
      "Data columns (total 6 columns):\n",
      " #   Column    Non-Null Count  Dtype  \n",
      "---  ------    --------------  -----  \n",
      " 0   sensor_0  5371 non-null   float64\n",
      " 1   sensor_1  5371 non-null   float64\n",
      " 2   sensor_2  5371 non-null   float64\n",
      " 3   sensor_3  5371 non-null   float64\n",
      " 4   sensor_4  5371 non-null   float64\n",
      " 5   sensor_5  5371 non-null   float64\n",
      "dtypes: float64(6)\n",
      "memory usage: 251.9 KB\n"
     ]
    }
   ],
   "source": [
    "df_wind = pd.read_csv(WIND_DATA_PATH)\n",
    "df_wind.info()"
   ]
  },
  {
   "cell_type": "code",
   "execution_count": 7,
   "metadata": {},
   "outputs": [
    {
     "data": {
      "text/html": [
       "<div>\n",
       "<style scoped>\n",
       "    .dataframe tbody tr th:only-of-type {\n",
       "        vertical-align: middle;\n",
       "    }\n",
       "\n",
       "    .dataframe tbody tr th {\n",
       "        vertical-align: top;\n",
       "    }\n",
       "\n",
       "    .dataframe thead th {\n",
       "        text-align: right;\n",
       "    }\n",
       "</style>\n",
       "<table border=\"1\" class=\"dataframe\">\n",
       "  <thead>\n",
       "    <tr style=\"text-align: right;\">\n",
       "      <th></th>\n",
       "      <th>sensor_0</th>\n",
       "      <th>sensor_1</th>\n",
       "      <th>sensor_2</th>\n",
       "      <th>sensor_3</th>\n",
       "      <th>sensor_4</th>\n",
       "      <th>sensor_5</th>\n",
       "    </tr>\n",
       "  </thead>\n",
       "  <tbody>\n",
       "    <tr>\n",
       "      <th>count</th>\n",
       "      <td>5371.000000</td>\n",
       "      <td>5371.000000</td>\n",
       "      <td>5371.000000</td>\n",
       "      <td>5371.000000</td>\n",
       "      <td>5371.000000</td>\n",
       "      <td>5371.000000</td>\n",
       "    </tr>\n",
       "    <tr>\n",
       "      <th>mean</th>\n",
       "      <td>0.227920</td>\n",
       "      <td>0.200216</td>\n",
       "      <td>0.250895</td>\n",
       "      <td>0.226237</td>\n",
       "      <td>0.210789</td>\n",
       "      <td>0.170282</td>\n",
       "    </tr>\n",
       "    <tr>\n",
       "      <th>std</th>\n",
       "      <td>0.183147</td>\n",
       "      <td>0.194221</td>\n",
       "      <td>0.228161</td>\n",
       "      <td>0.186192</td>\n",
       "      <td>0.204030</td>\n",
       "      <td>0.158362</td>\n",
       "    </tr>\n",
       "    <tr>\n",
       "      <th>min</th>\n",
       "      <td>0.000000</td>\n",
       "      <td>0.000000</td>\n",
       "      <td>0.000000</td>\n",
       "      <td>0.000000</td>\n",
       "      <td>0.000000</td>\n",
       "      <td>0.000000</td>\n",
       "    </tr>\n",
       "    <tr>\n",
       "      <th>25%</th>\n",
       "      <td>0.071329</td>\n",
       "      <td>0.035002</td>\n",
       "      <td>0.043961</td>\n",
       "      <td>0.067200</td>\n",
       "      <td>0.037736</td>\n",
       "      <td>0.035301</td>\n",
       "    </tr>\n",
       "    <tr>\n",
       "      <th>50%</th>\n",
       "      <td>0.186014</td>\n",
       "      <td>0.139327</td>\n",
       "      <td>0.182703</td>\n",
       "      <td>0.176465</td>\n",
       "      <td>0.142235</td>\n",
       "      <td>0.121945</td>\n",
       "    </tr>\n",
       "    <tr>\n",
       "      <th>75%</th>\n",
       "      <td>0.370629</td>\n",
       "      <td>0.323170</td>\n",
       "      <td>0.428663</td>\n",
       "      <td>0.364866</td>\n",
       "      <td>0.348337</td>\n",
       "      <td>0.278338</td>\n",
       "    </tr>\n",
       "    <tr>\n",
       "      <th>max</th>\n",
       "      <td>0.683916</td>\n",
       "      <td>0.783491</td>\n",
       "      <td>0.871451</td>\n",
       "      <td>0.709350</td>\n",
       "      <td>0.791937</td>\n",
       "      <td>0.655671</td>\n",
       "    </tr>\n",
       "  </tbody>\n",
       "</table>\n",
       "</div>"
      ],
      "text/plain": [
       "          sensor_0     sensor_1     sensor_2     sensor_3     sensor_4  \\\n",
       "count  5371.000000  5371.000000  5371.000000  5371.000000  5371.000000   \n",
       "mean      0.227920     0.200216     0.250895     0.226237     0.210789   \n",
       "std       0.183147     0.194221     0.228161     0.186192     0.204030   \n",
       "min       0.000000     0.000000     0.000000     0.000000     0.000000   \n",
       "25%       0.071329     0.035002     0.043961     0.067200     0.037736   \n",
       "50%       0.186014     0.139327     0.182703     0.176465     0.142235   \n",
       "75%       0.370629     0.323170     0.428663     0.364866     0.348337   \n",
       "max       0.683916     0.783491     0.871451     0.709350     0.791937   \n",
       "\n",
       "          sensor_5  \n",
       "count  5371.000000  \n",
       "mean      0.170282  \n",
       "std       0.158362  \n",
       "min       0.000000  \n",
       "25%       0.035301  \n",
       "50%       0.121945  \n",
       "75%       0.278338  \n",
       "max       0.655671  "
      ]
     },
     "execution_count": 7,
     "metadata": {},
     "output_type": "execute_result"
    }
   ],
   "source": [
    "df_wind.describe()"
   ]
  },
  {
   "cell_type": "markdown",
   "metadata": {},
   "source": [
    "### Creating wind Dataset"
   ]
  },
  {
   "cell_type": "markdown",
   "metadata": {},
   "source": [
    "Возьмем данные о первых шести ветренных вышек."
   ]
  },
  {
   "cell_type": "code",
   "execution_count": 8,
   "metadata": {},
   "outputs": [],
   "source": [
    "# df_wind = df_wind_init[['AT', 'BE', 'BG', 'CH', 'CZ', 'DE']]\n",
    "# df_wind = df_wind.head(10000)"
   ]
  },
  {
   "cell_type": "markdown",
   "metadata": {},
   "source": [
    "Видим, что данные ненулевые через определенные промежутки времени. Это связано с тем, что отсутствует непрерывность замеров данных. Оставим только те строки, где есть хотя бы одно ненулевое значение."
   ]
  },
  {
   "cell_type": "code",
   "execution_count": 9,
   "metadata": {},
   "outputs": [],
   "source": [
    "# Ensure the correct columns are used\n",
    "# df_wind = df_wind.loc[(\n",
    "#     df_wind[['AT', 'BE', 'BG', 'CH', 'CZ', 'DE']] != 0).any(axis=1)].reset_index(drop=True)\n",
    "# df_wind.columns = [f'sensor_{i}' for i in range(df_wind.shape[1])]\n",
    "# df_wind.info()"
   ]
  },
  {
   "cell_type": "code",
   "execution_count": 10,
   "metadata": {},
   "outputs": [],
   "source": [
    "#df_wind.to_csv('data/wind_df.csv', index=False) # save test dataframe"
   ]
  },
  {
   "cell_type": "markdown",
   "metadata": {},
   "source": [
    "## Data analisys"
   ]
  },
  {
   "cell_type": "code",
   "execution_count": 11,
   "metadata": {},
   "outputs": [
    {
     "data": {
      "text/html": [
       "<style type=\"text/css\">\n",
       "#T_7c70f caption {\n",
       "  color: Blue;\n",
       "  font-size: 16pt;\n",
       "  font-weight: bold;\n",
       "  text-align: center;\n",
       "  caption-side: top;\n",
       "  padding: 10px;\n",
       "}\n",
       "#T_7c70f th {\n",
       "  font-size: 14pt;\n",
       "}\n",
       "#T_7c70f_row0_col0, #T_7c70f_row1_col1, #T_7c70f_row2_col2, #T_7c70f_row3_col3, #T_7c70f_row4_col4, #T_7c70f_row5_col5 {\n",
       "  background-color: #b40426;\n",
       "  color: #f1f1f1;\n",
       "  font-size: 14pt;\n",
       "}\n",
       "#T_7c70f_row0_col1 {\n",
       "  background-color: #adc9fd;\n",
       "  color: #000000;\n",
       "  font-size: 14pt;\n",
       "}\n",
       "#T_7c70f_row0_col2 {\n",
       "  background-color: #bfd3f6;\n",
       "  color: #000000;\n",
       "  font-size: 14pt;\n",
       "}\n",
       "#T_7c70f_row0_col3 {\n",
       "  background-color: #f3c8b2;\n",
       "  color: #000000;\n",
       "  font-size: 14pt;\n",
       "}\n",
       "#T_7c70f_row0_col4 {\n",
       "  background-color: #f7b194;\n",
       "  color: #000000;\n",
       "  font-size: 14pt;\n",
       "}\n",
       "#T_7c70f_row0_col5, #T_7c70f_row3_col0 {\n",
       "  background-color: #e7d7ce;\n",
       "  color: #000000;\n",
       "  font-size: 14pt;\n",
       "}\n",
       "#T_7c70f_row1_col0, #T_7c70f_row1_col2, #T_7c70f_row2_col1, #T_7c70f_row2_col3, #T_7c70f_row2_col4, #T_7c70f_row2_col5 {\n",
       "  background-color: #3b4cc0;\n",
       "  color: #f1f1f1;\n",
       "  font-size: 14pt;\n",
       "}\n",
       "#T_7c70f_row1_col3 {\n",
       "  background-color: #88abfd;\n",
       "  color: #000000;\n",
       "  font-size: 14pt;\n",
       "}\n",
       "#T_7c70f_row1_col4 {\n",
       "  background-color: #4e68d8;\n",
       "  color: #f1f1f1;\n",
       "  font-size: 14pt;\n",
       "}\n",
       "#T_7c70f_row1_col5 {\n",
       "  background-color: #f1ccb8;\n",
       "  color: #000000;\n",
       "  font-size: 14pt;\n",
       "}\n",
       "#T_7c70f_row2_col0 {\n",
       "  background-color: #536edd;\n",
       "  color: #f1f1f1;\n",
       "  font-size: 14pt;\n",
       "}\n",
       "#T_7c70f_row3_col1 {\n",
       "  background-color: #c3d5f4;\n",
       "  color: #000000;\n",
       "  font-size: 14pt;\n",
       "}\n",
       "#T_7c70f_row3_col2 {\n",
       "  background-color: #84a7fc;\n",
       "  color: #f1f1f1;\n",
       "  font-size: 14pt;\n",
       "}\n",
       "#T_7c70f_row3_col4 {\n",
       "  background-color: #96b7ff;\n",
       "  color: #000000;\n",
       "  font-size: 14pt;\n",
       "}\n",
       "#T_7c70f_row3_col5 {\n",
       "  background-color: #e3d9d3;\n",
       "  color: #000000;\n",
       "  font-size: 14pt;\n",
       "}\n",
       "#T_7c70f_row4_col0 {\n",
       "  background-color: #f7b497;\n",
       "  color: #000000;\n",
       "  font-size: 14pt;\n",
       "}\n",
       "#T_7c70f_row4_col1, #T_7c70f_row4_col3 {\n",
       "  background-color: #b6cefa;\n",
       "  color: #000000;\n",
       "  font-size: 14pt;\n",
       "}\n",
       "#T_7c70f_row4_col2 {\n",
       "  background-color: #a7c5fe;\n",
       "  color: #000000;\n",
       "  font-size: 14pt;\n",
       "}\n",
       "#T_7c70f_row4_col5 {\n",
       "  background-color: #f7ba9f;\n",
       "  color: #000000;\n",
       "  font-size: 14pt;\n",
       "}\n",
       "#T_7c70f_row5_col0 {\n",
       "  background-color: #dbdcde;\n",
       "  color: #000000;\n",
       "  font-size: 14pt;\n",
       "}\n",
       "#T_7c70f_row5_col1 {\n",
       "  background-color: #f7aa8c;\n",
       "  color: #000000;\n",
       "  font-size: 14pt;\n",
       "}\n",
       "#T_7c70f_row5_col2 {\n",
       "  background-color: #94b6ff;\n",
       "  color: #000000;\n",
       "  font-size: 14pt;\n",
       "}\n",
       "#T_7c70f_row5_col3 {\n",
       "  background-color: #ead4c8;\n",
       "  color: #000000;\n",
       "  font-size: 14pt;\n",
       "}\n",
       "#T_7c70f_row5_col4 {\n",
       "  background-color: #f5c2aa;\n",
       "  color: #000000;\n",
       "  font-size: 14pt;\n",
       "}\n",
       "</style>\n",
       "<table id=\"T_7c70f\">\n",
       "  <caption>Correlation matrix of Emhires Dataset</caption>\n",
       "  <thead>\n",
       "    <tr>\n",
       "      <th class=\"blank level0\" >&nbsp;</th>\n",
       "      <th id=\"T_7c70f_level0_col0\" class=\"col_heading level0 col0\" >sensor_0</th>\n",
       "      <th id=\"T_7c70f_level0_col1\" class=\"col_heading level0 col1\" >sensor_1</th>\n",
       "      <th id=\"T_7c70f_level0_col2\" class=\"col_heading level0 col2\" >sensor_2</th>\n",
       "      <th id=\"T_7c70f_level0_col3\" class=\"col_heading level0 col3\" >sensor_3</th>\n",
       "      <th id=\"T_7c70f_level0_col4\" class=\"col_heading level0 col4\" >sensor_4</th>\n",
       "      <th id=\"T_7c70f_level0_col5\" class=\"col_heading level0 col5\" >sensor_5</th>\n",
       "    </tr>\n",
       "  </thead>\n",
       "  <tbody>\n",
       "    <tr>\n",
       "      <th id=\"T_7c70f_level0_row0\" class=\"row_heading level0 row0\" >sensor_0</th>\n",
       "      <td id=\"T_7c70f_row0_col0\" class=\"data row0 col0\" >1.000000</td>\n",
       "      <td id=\"T_7c70f_row0_col1\" class=\"data row0 col1\" >0.692844</td>\n",
       "      <td id=\"T_7c70f_row0_col2\" class=\"data row0 col2\" >0.718031</td>\n",
       "      <td id=\"T_7c70f_row0_col3\" class=\"data row0 col3\" >0.858738</td>\n",
       "      <td id=\"T_7c70f_row0_col4\" class=\"data row0 col4\" >0.901123</td>\n",
       "      <td id=\"T_7c70f_row0_col5\" class=\"data row0 col5\" >0.844601</td>\n",
       "    </tr>\n",
       "    <tr>\n",
       "      <th id=\"T_7c70f_level0_row1\" class=\"row_heading level0 row1\" >sensor_1</th>\n",
       "      <td id=\"T_7c70f_row1_col0\" class=\"data row1 col0\" >0.692844</td>\n",
       "      <td id=\"T_7c70f_row1_col1\" class=\"data row1 col1\" >1.000000</td>\n",
       "      <td id=\"T_7c70f_row1_col2\" class=\"data row1 col2\" >0.533855</td>\n",
       "      <td id=\"T_7c70f_row1_col3\" class=\"data row1 col3\" >0.723919</td>\n",
       "      <td id=\"T_7c70f_row1_col4\" class=\"data row1 col4\" >0.705373</td>\n",
       "      <td id=\"T_7c70f_row1_col5\" class=\"data row1 col5\" >0.862921</td>\n",
       "    </tr>\n",
       "    <tr>\n",
       "      <th id=\"T_7c70f_level0_row2\" class=\"row_heading level0 row2\" >sensor_2</th>\n",
       "      <td id=\"T_7c70f_row2_col0\" class=\"data row2 col0\" >0.718031</td>\n",
       "      <td id=\"T_7c70f_row2_col1\" class=\"data row2 col1\" >0.533855</td>\n",
       "      <td id=\"T_7c70f_row2_col2\" class=\"data row2 col2\" >1.000000</td>\n",
       "      <td id=\"T_7c70f_row2_col3\" class=\"data row2 col3\" >0.637662</td>\n",
       "      <td id=\"T_7c70f_row2_col4\" class=\"data row2 col4\" >0.685302</td>\n",
       "      <td id=\"T_7c70f_row2_col5\" class=\"data row2 col5\" >0.661292</td>\n",
       "    </tr>\n",
       "    <tr>\n",
       "      <th id=\"T_7c70f_level0_row3\" class=\"row_heading level0 row3\" >sensor_3</th>\n",
       "      <td id=\"T_7c70f_row3_col0\" class=\"data row3 col0\" >0.858738</td>\n",
       "      <td id=\"T_7c70f_row3_col1\" class=\"data row3 col1\" >0.723919</td>\n",
       "      <td id=\"T_7c70f_row3_col2\" class=\"data row3 col2\" >0.637662</td>\n",
       "      <td id=\"T_7c70f_row3_col3\" class=\"data row3 col3\" >1.000000</td>\n",
       "      <td id=\"T_7c70f_row3_col4\" class=\"data row3 col4\" >0.772007</td>\n",
       "      <td id=\"T_7c70f_row3_col5\" class=\"data row3 col5\" >0.839008</td>\n",
       "    </tr>\n",
       "    <tr>\n",
       "      <th id=\"T_7c70f_level0_row4\" class=\"row_heading level0 row4\" >sensor_4</th>\n",
       "      <td id=\"T_7c70f_row4_col0\" class=\"data row4 col0\" >0.901123</td>\n",
       "      <td id=\"T_7c70f_row4_col1\" class=\"data row4 col1\" >0.705373</td>\n",
       "      <td id=\"T_7c70f_row4_col2\" class=\"data row4 col2\" >0.685302</td>\n",
       "      <td id=\"T_7c70f_row4_col3\" class=\"data row4 col3\" >0.772007</td>\n",
       "      <td id=\"T_7c70f_row4_col4\" class=\"data row4 col4\" >1.000000</td>\n",
       "      <td id=\"T_7c70f_row4_col5\" class=\"data row4 col5\" >0.884198</td>\n",
       "    </tr>\n",
       "    <tr>\n",
       "      <th id=\"T_7c70f_level0_row5\" class=\"row_heading level0 row5\" >sensor_5</th>\n",
       "      <td id=\"T_7c70f_row5_col0\" class=\"data row5 col0\" >0.844601</td>\n",
       "      <td id=\"T_7c70f_row5_col1\" class=\"data row5 col1\" >0.862921</td>\n",
       "      <td id=\"T_7c70f_row5_col2\" class=\"data row5 col2\" >0.661292</td>\n",
       "      <td id=\"T_7c70f_row5_col3\" class=\"data row5 col3\" >0.839008</td>\n",
       "      <td id=\"T_7c70f_row5_col4\" class=\"data row5 col4\" >0.884198</td>\n",
       "      <td id=\"T_7c70f_row5_col5\" class=\"data row5 col5\" >1.000000</td>\n",
       "    </tr>\n",
       "  </tbody>\n",
       "</table>\n"
      ],
      "text/plain": [
       "<pandas.io.formats.style.Styler at 0x15627fd50>"
      ]
     },
     "metadata": {},
     "output_type": "display_data"
    }
   ],
   "source": [
    "corr_wind = df_wind.corr()\n",
    "styled_corr_wind = corr_wind.style.set_caption(\"Correlation matrix of Emhires Dataset\") \\\n",
    "                                  .background_gradient(cmap='coolwarm') \\\n",
    "                                  .set_properties(**{'font-size': '14pt'}) \\\n",
    "                                  .set_table_styles(table_params)\n",
    "\n",
    "# Отображение матрицы корреляции\n",
    "display(styled_corr_wind)"
   ]
  },
  {
   "cell_type": "code",
   "execution_count": 12,
   "metadata": {},
   "outputs": [
    {
     "data": {
      "image/png": "[encoded data removed]",
      "text/plain": [
       "<Figure size 1000x500 with 1 Axes>"
      ]
     },
     "metadata": {},
     "output_type": "display_data"
    }
   ],
   "source": [
    "rolling_mean = df_wind.sensor_0.rolling(window=64).mean()\n",
    "\n",
    "plt.figure(figsize=(10,5))\n",
    "plt.plot(df_wind.sensor_0.values, label=\"Оригинальный ряд\", alpha=0.5)\n",
    "plt.plot(rolling_mean, label=\"Скользящее среднее (window=20)\", linewidth=2)\n",
    "plt.legend()\n",
    "plt.show()"
   ]
  },
  {
   "cell_type": "markdown",
   "metadata": {},
   "source": [
    "## Geo data"
   ]
  },
  {
   "cell_type": "markdown",
   "metadata": {},
   "source": [
    "### For NAB"
   ]
  },
  {
   "cell_type": "code",
   "execution_count": 13,
   "metadata": {},
   "outputs": [],
   "source": [
    "# # create for speed\n",
    "# def get_geo_dict(df):\n",
    "#     # make geo data\n",
    "#     sen_num = df.shape[1]\n",
    "#     x_y = []\n",
    "#     for i in range(sen_num):\n",
    "#         x_y.append([rn.uniform(.0, 6.0), rn.uniform(.0, 6.0)])\n",
    "#         print(f'sensor_{i}:', x_y[i])\n",
    "#     plt.grid(True)\n",
    "#     for i in range(len(x_y)):\n",
    "#         plt.plot(x_y[i][0], x_y[i][1], 'o', label = i)\n",
    "#         plt.legend(loc = 'best', fancybox = True, shadow = True)\n",
    "#     plt.plot(3*np.ones(300), np.arange(0, 6, 0.02))\n",
    "#     plt.plot(np.arange(0, 6, 0.02), 3*np.ones(300))\n",
    "#     geo_dict = dict(zip(df.columns, x_y))\n",
    "#     print(geo_dict)\n",
    "#     return dict(zip(df.columns, x_y))"
   ]
  },
  {
   "cell_type": "code",
   "execution_count": 14,
   "metadata": {},
   "outputs": [
    {
     "name": "stdout",
     "output_type": "stream",
     "text": [
      "sensor_0: [4.4455303846733125, 4.559755899043662]\n",
      "sensor_1: [5.459187258496657, 0.7240403912934215]\n",
      "sensor_2: [4.204643811015124, 4.699612290957969]\n",
      "sensor_3: [1.0988049236239161, 0.6509889514870284]\n",
      "sensor_4: [3.8271892505769642, 3.4463909445037912]\n"
     ]
    },
    {
     "data": {
      "image/png": "[encoded data removed]",
      "text/plain": [
       "<Figure size 800x600 with 1 Axes>"
      ]
     },
     "metadata": {},
     "output_type": "display_data"
    }
   ],
   "source": [
    "speed_geo_dict = get_geo_dict(df_speed)\n",
    "create_geo_plot(speed_geo_dict)"
   ]
  },
  {
   "cell_type": "markdown",
   "metadata": {},
   "source": [
    "### For wind"
   ]
  },
  {
   "cell_type": "code",
   "execution_count": 15,
   "metadata": {},
   "outputs": [],
   "source": [
    "# create geo dict for wind dataset\n",
    "# wind_geo_dict = get_geo_dict(df_wind)\n",
    "# create_geo_plot(wind_geo_dict)"
   ]
  },
  {
   "cell_type": "code",
   "execution_count": 16,
   "metadata": {},
   "outputs": [],
   "source": [
    "# print('Clusters for Emhires dataset:')\n",
    "# spatial_clustering(df_wind, wind_geo_dict)"
   ]
  },
  {
   "cell_type": "code",
   "execution_count": 17,
   "metadata": {},
   "outputs": [
    {
     "name": "stdout",
     "output_type": "stream",
     "text": [
      "{'sensor_0': [1.1, 4.2], 'sensor_1': [4.3, 1.9], 'sensor_2': [5.1, 2.6], 'sensor_3': [0.5, 5.0], 'sensor_4': [1.2, 3.8], 'sensor_5': [2.12, 3.9]}\n"
     ]
    },
    {
     "data": {
      "image/png": "[encoded data removed]",
      "text/plain": [
       "<Figure size 800x600 with 1 Axes>"
      ]
     },
     "metadata": {},
     "output_type": "display_data"
    }
   ],
   "source": [
    "with open(GEO_PATH / 'wind_geo_dict.yaml', 'r') as file:\n",
    "    wind_geo_dict = yaml.safe_load(file)\n",
    "\n",
    "print(wind_geo_dict)\n",
    "create_geo_plot(wind_geo_dict)"
   ]
  },
  {
   "cell_type": "code",
   "execution_count": 18,
   "metadata": {},
   "outputs": [
    {
     "name": "stdout",
     "output_type": "stream",
     "text": [
      "Clusters for Emhires dataset:\n"
     ]
    },
    {
     "data": {
      "text/plain": [
       "{'sensor_0': ['sensor_0', 'sensor_4', 'sensor_3', 'sensor_5'],\n",
       " 'sensor_1': ['sensor_1'],\n",
       " 'sensor_2': ['sensor_2']}"
      ]
     },
     "execution_count": 18,
     "metadata": {},
     "output_type": "execute_result"
    }
   ],
   "source": [
    "#check bypassing for clustering\n",
    "print('Clusters for Emhires dataset:')\n",
    "spatial_clustering(df_wind, wind_geo_dict)"
   ]
  },
  {
   "cell_type": "markdown",
   "metadata": {},
   "source": [
    "## Sprintz"
   ]
  },
  {
   "cell_type": "code",
   "execution_count": 19,
   "metadata": {},
   "outputs": [],
   "source": [
    "speed_sprintz_res = compress_sprintz(df=df_speed, chunk_size=8)"
   ]
  },
  {
   "cell_type": "code",
   "execution_count": 20,
   "metadata": {},
   "outputs": [
    {
     "name": "stdout",
     "output_type": "stream",
     "text": [
      "Check for decode: True\n"
     ]
    }
   ],
   "source": [
    "# Check for equals decodind and original data\n",
    "decode_res = decompress_sprintz(speed_sprintz_res, num_cols = 5, chunk_size=7)\n",
    "decode_res.columns = df_speed.columns\n",
    "print('Check for decode:', df_speed.equals(decode_res))"
   ]
  },
  {
   "cell_type": "code",
   "execution_count": 21,
   "metadata": {},
   "outputs": [
    {
     "name": "stdout",
     "output_type": "stream",
     "text": [
      "Размер исходных данных: 2179 байт \n",
      "\n",
      "Размер сжатых данных: 1973 байт \n",
      "\n",
      "Коэффициент сжатия: 1.104\n"
     ]
    }
   ],
   "source": [
    "get_compress_info_sprintz(df_speed, speed_sprintz_res)"
   ]
  },
  {
   "cell_type": "markdown",
   "metadata": {},
   "source": [
    "## XOR"
   ]
  },
  {
   "cell_type": "code",
   "execution_count": 22,
   "metadata": {},
   "outputs": [
    {
     "name": "stdout",
     "output_type": "stream",
     "text": [
      "Check for decode: True\n"
     ]
    }
   ],
   "source": [
    "compressed_df = xor_compress_df(df_wind)\n",
    "decompressed_df = decompress_xor_df(compressed_df)\n",
    "print('Check for decode:', decompressed_df.equals(df_wind))"
   ]
  },
  {
   "cell_type": "code",
   "execution_count": 23,
   "metadata": {},
   "outputs": [
    {
     "name": "stdout",
     "output_type": "stream",
     "text": [
      "Размер исходных данных: 257808 байт \n",
      "\n",
      "Размер сжатых XOR данных: 249461 байт \n",
      "\n",
      "Коэффициент сжатия: 1.033\n"
     ]
    }
   ],
   "source": [
    "get_compress_info_xor(df_wind, compressed_df)"
   ]
  },
  {
   "cell_type": "markdown",
   "metadata": {},
   "source": [
    "## LZ4"
   ]
  },
  {
   "cell_type": "code",
   "execution_count": 24,
   "metadata": {},
   "outputs": [
    {
     "name": "stdout",
     "output_type": "stream",
     "text": [
      "Check for decode: True\n"
     ]
    }
   ],
   "source": [
    "compressed_df = LZ4_compress_df(df_wind)\n",
    "decompressed_df = LZ4_decompress_df(compressed_df)\n",
    "print('Check for decode:', decompressed_df.equals(df_wind))"
   ]
  },
  {
   "cell_type": "code",
   "execution_count": 25,
   "metadata": {},
   "outputs": [
    {
     "name": "stdout",
     "output_type": "stream",
     "text": [
      "Размер исходных данных: 257808 байт \n",
      "\n",
      "Размер сжатых данных: 191643 байт \n",
      "\n",
      "Коэффициент сжатия: 1.345\n"
     ]
    }
   ],
   "source": [
    "get_compress_info_lz4(df_wind, compressed_df)"
   ]
  },
  {
   "cell_type": "markdown",
   "metadata": {},
   "source": [
    "## Spatial + XOR"
   ]
  },
  {
   "cell_type": "code",
   "execution_count": 26,
   "metadata": {},
   "outputs": [],
   "source": [
    "#todo solve problems where dif\n",
    "df = df_wind.round(15)"
   ]
  },
  {
   "cell_type": "code",
   "execution_count": 27,
   "metadata": {},
   "outputs": [
    {
     "name": "stdout",
     "output_type": "stream",
     "text": [
      "Check for decode: True\n"
     ]
    }
   ],
   "source": [
    "res = spatial_clustering_xor(df, wind_geo_dict)\n",
    "decompressed_df = spatial_XOR_decompress(res)\n",
    "print('Check for decode:', decompressed_df.equals(df))"
   ]
  },
  {
   "cell_type": "code",
   "execution_count": 28,
   "metadata": {},
   "outputs": [
    {
     "name": "stdout",
     "output_type": "stream",
     "text": [
      "Размер исходных данных: 257808 байт \n",
      "\n",
      "Размер сжатых данных: 255656.625 байт \n",
      "\n",
      "Коэффициент сжатия: 1.008\n"
     ]
    }
   ],
   "source": [
    "get_compress_info_spatial_xor(df, res)"
   ]
  },
  {
   "cell_type": "markdown",
   "metadata": {},
   "source": [
    "## Spatial + Sprintz"
   ]
  },
  {
   "cell_type": "code",
   "execution_count": 29,
   "metadata": {},
   "outputs": [],
   "source": [
    "df = df_wind*100\n",
    "df = df.astype(int)"
   ]
  },
  {
   "cell_type": "code",
   "execution_count": 30,
   "metadata": {},
   "outputs": [],
   "source": [
    "res = spatial_clustering_sprintz(df.copy(), wind_geo_dict, 0.84)"
   ]
  },
  {
   "cell_type": "code",
   "execution_count": 31,
   "metadata": {},
   "outputs": [
    {
     "name": "stdout",
     "output_type": "stream",
     "text": [
      "Check for decode: True\n"
     ]
    }
   ],
   "source": [
    "clust_dict = spatial_clustering(\n",
    "    df, wind_geo_dict, 0.84)\n",
    "decode_res = spatial_sprintz_decompress(res,\n",
    "                                        clust_dict)\n",
    "print('Check for decode:', df.equals(decode_res))"
   ]
  },
  {
   "cell_type": "code",
   "execution_count": 32,
   "metadata": {},
   "outputs": [
    {
     "name": "stdout",
     "output_type": "stream",
     "text": [
      "Размер исходных данных: 16428 байт \n",
      "\n",
      "Размер сжатых данных: 42420 байт \n",
      "\n",
      "Коэффициент сжатия: 0.387\n"
     ]
    }
   ],
   "source": [
    "get_compress_info_spatial_sprintz(df, res)"
   ]
  },
  {
   "cell_type": "markdown",
   "metadata": {},
   "source": [
    "## Spatial + PCA + LZ4"
   ]
  },
  {
   "cell_type": "code",
   "execution_count": 33,
   "metadata": {},
   "outputs": [],
   "source": [
    "res = spatial_clustering_PCA_LZ4(df_wind, wind_geo_dict)"
   ]
  },
  {
   "cell_type": "code",
   "execution_count": 34,
   "metadata": {},
   "outputs": [
    {
     "name": "stdout",
     "output_type": "stream",
     "text": [
      "Размер исходных данных: 257808 байт \n",
      "\n",
      "Размер сжатых данных: 148924 байт \n",
      "\n",
      "Коэффициент сжатия: 1.731\n"
     ]
    }
   ],
   "source": [
    "get_compress_info_spatial_PCA_LZ4(df_wind, res)"
   ]
  },
  {
   "cell_type": "code",
   "execution_count": 35,
   "metadata": {},
   "outputs": [
    {
     "name": "stdout",
     "output_type": "stream",
     "text": [
      "MSE: 0.001079 \n",
      "\n",
      "MAPE: 13.78 %\n"
     ]
    }
   ],
   "source": [
    "clusters = spatial_clustering(df_wind, wind_geo_dict)\n",
    "dec_res = spatial_lz4_decompress(res, clusters)\n",
    "get_errors(df_wind, dec_res)"
   ]
  },
  {
   "cell_type": "markdown",
   "metadata": {},
   "source": [
    "## SZ3"
   ]
  },
  {
   "cell_type": "code",
   "execution_count": 36,
   "metadata": {},
   "outputs": [],
   "source": [
    "data_enc = compress_sz3_df(df_wind)"
   ]
  },
  {
   "cell_type": "code",
   "execution_count": 37,
   "metadata": {},
   "outputs": [
    {
     "name": "stdout",
     "output_type": "stream",
     "text": [
      "Размер исходных данных: 257808 байт \n",
      "\n",
      "Размер сжатых данных: 12635 байт \n",
      "\n",
      "Коэффициент сжатия: 20.404\n"
     ]
    }
   ],
   "source": [
    "get_compress_info_sz3(df_wind, data_enc)"
   ]
  },
  {
   "cell_type": "code",
   "execution_count": 38,
   "metadata": {},
   "outputs": [
    {
     "name": "stdout",
     "output_type": "stream",
     "text": [
      "MSE: 0.000271 \n",
      "\n",
      "MAPE: 20.64 %\n"
     ]
    }
   ],
   "source": [
    "data = df_wind.values.transpose()\n",
    "shape = [d.shape for d in data]\n",
    "type = data[0].dtype\n",
    "data_dec = decompress_sz3(data_enc, shape, type)\n",
    "get_errors(df_wind, data_dec)"
   ]
  },
  {
   "cell_type": "code",
   "execution_count": 39,
   "metadata": {},
   "outputs": [],
   "source": [
    "# compress whole data\n",
    "data = df_wind.values.transpose()\n",
    "data_enc = compress_sz3_all(df_wind)"
   ]
  },
  {
   "cell_type": "code",
   "execution_count": 40,
   "metadata": {},
   "outputs": [
    {
     "name": "stdout",
     "output_type": "stream",
     "text": [
      "Размер исходных данных: 257808 байт \n",
      "\n",
      "Размер сжатых данных: 11523 байт \n",
      "\n",
      "Коэффициент сжатия: 22.373\n"
     ]
    }
   ],
   "source": [
    "get_compress_info_sz3(df_wind, data_enc)"
   ]
  },
  {
   "cell_type": "code",
   "execution_count": 41,
   "metadata": {},
   "outputs": [
    {
     "name": "stdout",
     "output_type": "stream",
     "text": [
      "MSE: 0.000263 \n",
      "\n",
      "MAPE: 22.64 %\n"
     ]
    }
   ],
   "source": [
    "data_dec = decompress_sz3(data_enc, data.shape, data.dtype)\n",
    "get_errors(df_wind, data_dec)"
   ]
  },
  {
   "cell_type": "markdown",
   "metadata": {},
   "source": [
    "## SZ + Conv"
   ]
  },
  {
   "cell_type": "code",
   "execution_count": 42,
   "metadata": {},
   "outputs": [
    {
     "name": "stdout",
     "output_type": "stream",
     "text": [
      "Epoch 1/50\n",
      "\u001b[1m83/83\u001b[0m \u001b[32m━━━━━━━━━━━━━━━━━━━━\u001b[0m\u001b[37m\u001b[0m \u001b[1m3s\u001b[0m 3ms/step - loss: 0.0887\n",
      "Epoch 2/50\n",
      "\u001b[1m83/83\u001b[0m \u001b[32m━━━━━━━━━━━━━━━━━━━━\u001b[0m\u001b[37m\u001b[0m \u001b[1m0s\u001b[0m 3ms/step - loss: 0.0350\n",
      "Epoch 3/50\n",
      "\u001b[1m83/83\u001b[0m \u001b[32m━━━━━━━━━━━━━━━━━━━━\u001b[0m\u001b[37m\u001b[0m \u001b[1m0s\u001b[0m 5ms/step - loss: 0.0305\n",
      "Epoch 4/50\n",
      "\u001b[1m83/83\u001b[0m \u001b[32m━━━━━━━━━━━━━━━━━━━━\u001b[0m\u001b[37m\u001b[0m \u001b[1m0s\u001b[0m 4ms/step - loss: 0.0261\n",
      "Epoch 5/50\n",
      "\u001b[1m83/83\u001b[0m \u001b[32m━━━━━━━━━━━━━━━━━━━━\u001b[0m\u001b[37m\u001b[0m \u001b[1m0s\u001b[0m 2ms/step - loss: 0.0229\n",
      "Epoch 6/50\n",
      "\u001b[1m83/83\u001b[0m \u001b[32m━━━━━━━━━━━━━━━━━━━━\u001b[0m\u001b[37m\u001b[0m \u001b[1m1s\u001b[0m 2ms/step - loss: 0.0204\n",
      "Epoch 7/50\n",
      "\u001b[1m83/83\u001b[0m \u001b[32m━━━━━━━━━━━━━━━━━━━━\u001b[0m\u001b[37m\u001b[0m \u001b[1m0s\u001b[0m 2ms/step - loss: 0.0180\n",
      "Epoch 8/50\n",
      "\u001b[1m83/83\u001b[0m \u001b[32m━━━━━━━━━━━━━━━━━━━━\u001b[0m\u001b[37m\u001b[0m \u001b[1m0s\u001b[0m 2ms/step - loss: 0.0175\n",
      "Epoch 9/50\n",
      "\u001b[1m83/83\u001b[0m \u001b[32m━━━━━━━━━━━━━━━━━━━━\u001b[0m\u001b[37m\u001b[0m \u001b[1m0s\u001b[0m 2ms/step - loss: 0.0169\n",
      "Epoch 10/50\n",
      "\u001b[1m83/83\u001b[0m \u001b[32m━━━━━━━━━━━━━━━━━━━━\u001b[0m\u001b[37m\u001b[0m \u001b[1m0s\u001b[0m 2ms/step - loss: 0.0155\n",
      "Epoch 11/50\n",
      "\u001b[1m83/83\u001b[0m \u001b[32m━━━━━━━━━━━━━━━━━━━━\u001b[0m\u001b[37m\u001b[0m \u001b[1m0s\u001b[0m 3ms/step - loss: 0.0151\n",
      "Epoch 12/50\n",
      "\u001b[1m83/83\u001b[0m \u001b[32m━━━━━━━━━━━━━━━━━━━━\u001b[0m\u001b[37m\u001b[0m \u001b[1m0s\u001b[0m 4ms/step - loss: 0.0142\n",
      "Epoch 13/50\n",
      "\u001b[1m83/83\u001b[0m \u001b[32m━━━━━━━━━━━━━━━━━━━━\u001b[0m\u001b[37m\u001b[0m \u001b[1m0s\u001b[0m 3ms/step - loss: 0.0137\n",
      "Epoch 14/50\n",
      "\u001b[1m83/83\u001b[0m \u001b[32m━━━━━━━━━━━━━━━━━━━━\u001b[0m\u001b[37m\u001b[0m \u001b[1m0s\u001b[0m 3ms/step - loss: 0.0133\n",
      "Epoch 15/50\n",
      "\u001b[1m83/83\u001b[0m \u001b[32m━━━━━━━━━━━━━━━━━━━━\u001b[0m\u001b[37m\u001b[0m \u001b[1m0s\u001b[0m 3ms/step - loss: 0.0123\n",
      "Epoch 16/50\n",
      "\u001b[1m83/83\u001b[0m \u001b[32m━━━━━━━━━━━━━━━━━━━━\u001b[0m\u001b[37m\u001b[0m \u001b[1m0s\u001b[0m 3ms/step - loss: 0.0122\n",
      "Epoch 17/50\n",
      "\u001b[1m83/83\u001b[0m \u001b[32m━━━━━━━━━━━━━━━━━━━━\u001b[0m\u001b[37m\u001b[0m \u001b[1m0s\u001b[0m 3ms/step - loss: 0.0121\n",
      "Epoch 18/50\n",
      "\u001b[1m83/83\u001b[0m \u001b[32m━━━━━━━━━━━━━━━━━━━━\u001b[0m\u001b[37m\u001b[0m \u001b[1m0s\u001b[0m 3ms/step - loss: 0.0118\n",
      "Epoch 19/50\n",
      "\u001b[1m83/83\u001b[0m \u001b[32m━━━━━━━━━━━━━━━━━━━━\u001b[0m\u001b[37m\u001b[0m \u001b[1m0s\u001b[0m 4ms/step - loss: 0.0116\n",
      "Epoch 20/50\n",
      "\u001b[1m83/83\u001b[0m \u001b[32m━━━━━━━━━━━━━━━━━━━━\u001b[0m\u001b[37m\u001b[0m \u001b[1m0s\u001b[0m 5ms/step - loss: 0.0120\n",
      "Epoch 21/50\n",
      "\u001b[1m83/83\u001b[0m \u001b[32m━━━━━━━━━━━━━━━━━━━━\u001b[0m\u001b[37m\u001b[0m \u001b[1m0s\u001b[0m 3ms/step - loss: 0.0117\n",
      "Epoch 22/50\n",
      "\u001b[1m83/83\u001b[0m \u001b[32m━━━━━━━━━━━━━━━━━━━━\u001b[0m\u001b[37m\u001b[0m \u001b[1m0s\u001b[0m 2ms/step - loss: 0.0111\n",
      "Epoch 23/50\n",
      "\u001b[1m83/83\u001b[0m \u001b[32m━━━━━━━━━━━━━━━━━━━━\u001b[0m\u001b[37m\u001b[0m \u001b[1m0s\u001b[0m 3ms/step - loss: 0.0107\n",
      "Epoch 24/50\n",
      "\u001b[1m83/83\u001b[0m \u001b[32m━━━━━━━━━━━━━━━━━━━━\u001b[0m\u001b[37m\u001b[0m \u001b[1m0s\u001b[0m 3ms/step - loss: 0.0109\n",
      "Epoch 25/50\n",
      "\u001b[1m83/83\u001b[0m \u001b[32m━━━━━━━━━━━━━━━━━━━━\u001b[0m\u001b[37m\u001b[0m \u001b[1m0s\u001b[0m 3ms/step - loss: 0.0113\n",
      "Epoch 26/50\n",
      "\u001b[1m83/83\u001b[0m \u001b[32m━━━━━━━━━━━━━━━━━━━━\u001b[0m\u001b[37m\u001b[0m \u001b[1m0s\u001b[0m 2ms/step - loss: 0.0105\n",
      "Epoch 27/50\n",
      "\u001b[1m83/83\u001b[0m \u001b[32m━━━━━━━━━━━━━━━━━━━━\u001b[0m\u001b[37m\u001b[0m \u001b[1m0s\u001b[0m 2ms/step - loss: 0.0104\n",
      "Epoch 28/50\n",
      "\u001b[1m83/83\u001b[0m \u001b[32m━━━━━━━━━━━━━━━━━━━━\u001b[0m\u001b[37m\u001b[0m \u001b[1m0s\u001b[0m 2ms/step - loss: 0.0102\n",
      "Epoch 29/50\n",
      "\u001b[1m83/83\u001b[0m \u001b[32m━━━━━━━━━━━━━━━━━━━━\u001b[0m\u001b[37m\u001b[0m \u001b[1m0s\u001b[0m 3ms/step - loss: 0.0104\n",
      "Epoch 30/50\n",
      "\u001b[1m83/83\u001b[0m \u001b[32m━━━━━━━━━━━━━━━━━━━━\u001b[0m\u001b[37m\u001b[0m \u001b[1m0s\u001b[0m 3ms/step - loss: 0.0103\n",
      "Epoch 31/50\n",
      "\u001b[1m83/83\u001b[0m \u001b[32m━━━━━━━━━━━━━━━━━━━━\u001b[0m\u001b[37m\u001b[0m \u001b[1m0s\u001b[0m 3ms/step - loss: 0.0103\n",
      "Epoch 32/50\n",
      "\u001b[1m83/83\u001b[0m \u001b[32m━━━━━━━━━━━━━━━━━━━━\u001b[0m\u001b[37m\u001b[0m \u001b[1m0s\u001b[0m 3ms/step - loss: 0.0100\n",
      "Epoch 33/50\n",
      "\u001b[1m83/83\u001b[0m \u001b[32m━━━━━━━━━━━━━━━━━━━━\u001b[0m\u001b[37m\u001b[0m \u001b[1m0s\u001b[0m 3ms/step - loss: 0.0097\n",
      "Epoch 34/50\n",
      "\u001b[1m83/83\u001b[0m \u001b[32m━━━━━━━━━━━━━━━━━━━━\u001b[0m\u001b[37m\u001b[0m \u001b[1m0s\u001b[0m 3ms/step - loss: 0.0101\n",
      "Epoch 35/50\n",
      "\u001b[1m83/83\u001b[0m \u001b[32m━━━━━━━━━━━━━━━━━━━━\u001b[0m\u001b[37m\u001b[0m \u001b[1m0s\u001b[0m 2ms/step - loss: 0.0102\n",
      "Epoch 36/50\n",
      "\u001b[1m83/83\u001b[0m \u001b[32m━━━━━━━━━━━━━━━━━━━━\u001b[0m\u001b[37m\u001b[0m \u001b[1m0s\u001b[0m 3ms/step - loss: 0.0099\n",
      "Epoch 37/50\n",
      "\u001b[1m83/83\u001b[0m \u001b[32m━━━━━━━━━━━━━━━━━━━━\u001b[0m\u001b[37m\u001b[0m \u001b[1m0s\u001b[0m 3ms/step - loss: 0.0100\n",
      "Epoch 38/50\n",
      "\u001b[1m83/83\u001b[0m \u001b[32m━━━━━━━━━━━━━━━━━━━━\u001b[0m\u001b[37m\u001b[0m \u001b[1m0s\u001b[0m 3ms/step - loss: 0.0099\n",
      "Epoch 39/50\n",
      "\u001b[1m83/83\u001b[0m \u001b[32m━━━━━━━━━━━━━━━━━━━━\u001b[0m\u001b[37m\u001b[0m \u001b[1m0s\u001b[0m 3ms/step - loss: 0.0096\n",
      "Epoch 40/50\n",
      "\u001b[1m83/83\u001b[0m \u001b[32m━━━━━━━━━━━━━━━━━━━━\u001b[0m\u001b[37m\u001b[0m \u001b[1m0s\u001b[0m 2ms/step - loss: 0.0097\n",
      "Epoch 41/50\n",
      "\u001b[1m83/83\u001b[0m \u001b[32m━━━━━━━━━━━━━━━━━━━━\u001b[0m\u001b[37m\u001b[0m \u001b[1m0s\u001b[0m 3ms/step - loss: 0.0095\n",
      "Epoch 42/50\n",
      "\u001b[1m83/83\u001b[0m \u001b[32m━━━━━━━━━━━━━━━━━━━━\u001b[0m\u001b[37m\u001b[0m \u001b[1m0s\u001b[0m 5ms/step - loss: 0.0097\n",
      "Epoch 43/50\n",
      "\u001b[1m83/83\u001b[0m \u001b[32m━━━━━━━━━━━━━━━━━━━━\u001b[0m\u001b[37m\u001b[0m \u001b[1m0s\u001b[0m 3ms/step - loss: 0.0096\n",
      "Epoch 44/50\n",
      "\u001b[1m83/83\u001b[0m \u001b[32m━━━━━━━━━━━━━━━━━━━━\u001b[0m\u001b[37m\u001b[0m \u001b[1m0s\u001b[0m 2ms/step - loss: 0.0096\n",
      "Epoch 45/50\n",
      "\u001b[1m83/83\u001b[0m \u001b[32m━━━━━━━━━━━━━━━━━━━━\u001b[0m\u001b[37m\u001b[0m \u001b[1m0s\u001b[0m 2ms/step - loss: 0.0098\n",
      "Epoch 46/50\n",
      "\u001b[1m83/83\u001b[0m \u001b[32m━━━━━━━━━━━━━━━━━━━━\u001b[0m\u001b[37m\u001b[0m \u001b[1m0s\u001b[0m 3ms/step - loss: 0.0095\n",
      "Epoch 47/50\n",
      "\u001b[1m83/83\u001b[0m \u001b[32m━━━━━━━━━━━━━━━━━━━━\u001b[0m\u001b[37m\u001b[0m \u001b[1m0s\u001b[0m 3ms/step - loss: 0.0095\n",
      "Epoch 48/50\n",
      "\u001b[1m83/83\u001b[0m \u001b[32m━━━━━━━━━━━━━━━━━━━━\u001b[0m\u001b[37m\u001b[0m \u001b[1m0s\u001b[0m 2ms/step - loss: 0.0093\n",
      "Epoch 49/50\n",
      "\u001b[1m83/83\u001b[0m \u001b[32m━━━━━━━━━━━━━━━━━━━━\u001b[0m\u001b[37m\u001b[0m \u001b[1m0s\u001b[0m 2ms/step - loss: 0.0093\n",
      "Epoch 50/50\n",
      "\u001b[1m83/83\u001b[0m \u001b[32m━━━━━━━━━━━━━━━━━━━━\u001b[0m\u001b[37m\u001b[0m \u001b[1m0s\u001b[0m 2ms/step - loss: 0.0098\n",
      "INFO:tensorflow:Assets written to: saved_model/assets\n"
     ]
    },
    {
     "name": "stderr",
     "output_type": "stream",
     "text": [
      "INFO:tensorflow:Assets written to: saved_model/assets\n"
     ]
    },
    {
     "name": "stdout",
     "output_type": "stream",
     "text": [
      "Saved artifact at 'saved_model'. The following endpoints are available:\n",
      "\n",
      "* Endpoint 'serve'\n",
      "  args_0 (POSITIONAL_ONLY): TensorSpec(shape=(None, 64, 1), dtype=tf.float32, name='keras_tensor')\n",
      "Output Type:\n",
      "  TensorSpec(shape=(None, 3), dtype=tf.float32, name=None)\n",
      "Captures:\n",
      "  5766023648: TensorSpec(shape=(), dtype=tf.resource, name=None)\n",
      "  5766024704: TensorSpec(shape=(), dtype=tf.resource, name=None)\n",
      "  5766023824: TensorSpec(shape=(), dtype=tf.resource, name=None)\n",
      "  5766023296: TensorSpec(shape=(), dtype=tf.resource, name=None)\n",
      "  5766025584: TensorSpec(shape=(), dtype=tf.resource, name=None)\n",
      "  5766022592: TensorSpec(shape=(), dtype=tf.resource, name=None)\n",
      "  5766024000: TensorSpec(shape=(), dtype=tf.resource, name=None)\n"
     ]
    },
    {
     "name": "stderr",
     "output_type": "stream",
     "text": [
      "WARNING: All log messages before absl::InitializeLog() is called are written to STDERR\n",
      "W0000 00:00:1744840034.253520 13300483 tf_tfl_flatbuffer_helpers.cc:390] Ignored output_format.\n",
      "W0000 00:00:1744840034.253572 13300483 tf_tfl_flatbuffer_helpers.cc:393] Ignored drop_control_dependency.\n",
      "2025-04-17 00:47:14.254111: I tensorflow/cc/saved_model/reader.cc:83] Reading SavedModel from: saved_model\n",
      "2025-04-17 00:47:14.255091: I tensorflow/cc/saved_model/reader.cc:51] Reading meta graph with tags { serve }\n",
      "2025-04-17 00:47:14.255108: I tensorflow/cc/saved_model/reader.cc:146] Reading SavedModel debug info (if present) from: saved_model\n",
      "2025-04-17 00:47:14.269542: I tensorflow/compiler/mlir/mlir_graph_optimization_pass.cc:388] MLIR V1 optimization pass is not enabled\n",
      "2025-04-17 00:47:14.270863: I tensorflow/cc/saved_model/loader.cc:234] Restoring SavedModel bundle.\n",
      "2025-04-17 00:47:14.322430: I tensorflow/cc/saved_model/loader.cc:218] Running initialization op on SavedModel bundle at path: saved_model\n",
      "2025-04-17 00:47:14.341414: I tensorflow/cc/saved_model/loader.cc:317] SavedModel load for tags { serve }; Status: success: OK. Took 87305 microseconds.\n",
      "2025-04-17 00:47:14.359309: I tensorflow/compiler/mlir/tensorflow/utils/dump_mlir_util.cc:268] disabling MLIR crash reproducer, set env var `MLIR_CRASH_REPRODUCER_DIRECTORY` to enable.\n"
     ]
    }
   ],
   "source": [
    "enc_df = compress_cnn_sz3(df_wind, wind_geo_dict)"
   ]
  },
  {
   "cell_type": "code",
   "execution_count": 43,
   "metadata": {},
   "outputs": [
    {
     "name": "stdout",
     "output_type": "stream",
     "text": [
      "Размер исходных данных: 257808 байт \n",
      "\n",
      "Размер сжатых данных: 12257 байт \n",
      "\n",
      "Коэффициент сжатия: 21.034\n"
     ]
    }
   ],
   "source": [
    "get_compress_info_cnn_sz3(df_wind, enc_df)"
   ]
  },
  {
   "cell_type": "code",
   "execution_count": 44,
   "metadata": {},
   "outputs": [
    {
     "name": "stderr",
     "output_type": "stream",
     "text": [
      "INFO: Created TensorFlow Lite XNNPACK delegate for CPU.\n"
     ]
    }
   ],
   "source": [
    "dec_df = decomress_cnn_sz3(enc_df, (5371,))\n",
    "dec_df = dec_df.sort_index(axis=1)"
   ]
  },
  {
   "cell_type": "code",
   "execution_count": 45,
   "metadata": {},
   "outputs": [
    {
     "name": "stdout",
     "output_type": "stream",
     "text": [
      "MSE: 0.005015 \n",
      "\n",
      "MAPE: 53.52 %\n"
     ]
    }
   ],
   "source": [
    "get_errors(df_wind, dec_df)"
   ]
  },
  {
   "cell_type": "code",
   "execution_count": null,
   "metadata": {},
   "outputs": [],
   "source": []
  }
 ],
 "metadata": {
  "kernelspec": {
   "display_name": "base",
   "language": "python",
   "name": "python3"
  },
  "language_info": {
   "codemirror_mode": {
    "name": "ipython",
    "version": 3
   },
   "file_extension": ".py",
   "mimetype": "text/x-python",
   "name": "python",
   "nbconvert_exporter": "python",
   "pygments_lexer": "ipython3",
   "version": "3.11.7"
  }
 },
 "nbformat": 4,
 "nbformat_minor": 2
}
